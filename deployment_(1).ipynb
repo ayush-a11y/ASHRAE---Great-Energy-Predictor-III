{
  "nbformat": 4,
  "nbformat_minor": 0,
  "metadata": {
    "colab": {
      "name": "deployment (1).ipynb",
      "provenance": [],
      "collapsed_sections": []
    },
    "kernelspec": {
      "display_name": "Python 3",
      "name": "python3"
    },
    "language_info": {
      "name": "python"
    }
  },
  "cells": [
    {
      "cell_type": "markdown",
      "metadata": {
        "id": "eFmCoNnMN4r-"
      },
      "source": [
        "# Deployment Of Ashrae energy Predictor III using streamlit"
      ]
    },
    {
      "cell_type": "markdown",
      "metadata": {
        "id": "z7TTyD34iTzX"
      },
      "source": [
        "Video of deployment\n",
        "\n",
        "https://drive.google.com/file/d/1QgrjxQjUb5rxAQ49prkhE-2u3FFn5g0T/view?usp=sharing"
      ]
    },
    {
      "cell_type": "code",
      "metadata": {
        "id": "PRllANYJM5og"
      },
      "source": [
        ""
      ],
      "execution_count": null,
      "outputs": []
    }
  ]
}