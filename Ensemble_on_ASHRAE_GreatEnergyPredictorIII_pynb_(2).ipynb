{
  "nbformat": 4,
  "nbformat_minor": 0,
  "metadata": {
    "colab": {
      "name": "Ensemble_on_ASHRAE_GreatEnergyPredictorIII_pynb_(2).ipynb",
      "provenance": [],
      "collapsed_sections": []
    },
    "kernelspec": {
      "name": "python3",
      "display_name": "Python 3"
    },
    "language_info": {
      "name": "python"
    }
  },
  "cells": [
    {
      "cell_type": "markdown",
      "metadata": {
        "id": "PwHu5McOUNgN"
      },
      "source": [
        "# **ASHRAE-Great Energy Predictor III**"
      ]
    },
    {
      "cell_type": "markdown",
      "metadata": {
        "id": "ep9w36c1UQoS"
      },
      "source": [
        "### Mount The Google Drive"
      ]
    },
    {
      "cell_type": "code",
      "metadata": {
        "id": "OGYk_iqsvRPf",
        "colab": {
          "base_uri": "https://localhost:8080/"
        },
        "outputId": "054af808-f956-4df5-f1ad-a83ba1a3dfcc"
      },
      "source": [
        "from google.colab import drive\n",
        "drive.mount('/gdrive')\n",
        "%cd /gdrive"
      ],
      "execution_count": null,
      "outputs": [
        {
          "output_type": "stream",
          "text": [
            "Mounted at /gdrive\n",
            "/gdrive\n"
          ],
          "name": "stdout"
        }
      ]
    },
    {
      "cell_type": "markdown",
      "metadata": {
        "id": "oVtWtFZTUUVz"
      },
      "source": [
        "### Importing Libraries"
      ]
    },
    {
      "cell_type": "code",
      "metadata": {
        "id": "c8NZNBVrcd7e"
      },
      "source": [
        "import pandas as pd\n",
        "import numpy as np"
      ],
      "execution_count": null,
      "outputs": []
    },
    {
      "cell_type": "markdown",
      "metadata": {
        "id": "SUKb5I_eUVnl"
      },
      "source": [
        "### Load The data"
      ]
    },
    {
      "cell_type": "code",
      "metadata": {
        "id": "udvZnJaicd7e"
      },
      "source": [
        "sample_submission_target = pd.read_csv('/gdrive/My Drive/case_study_data/submission.csv')\n",
        "sample_submission_stacked = pd.read_csv('/gdrive/My Drive/case_study_data/stacked_regression_submission.csv')\n",
        "sample_submission = pd.read_csv('/gdrive/My Drive/case_study_data/sample_submission.csv')"
      ],
      "execution_count": null,
      "outputs": []
    },
    {
      "cell_type": "code",
      "metadata": {
        "colab": {
          "base_uri": "https://localhost:8080/",
          "height": 204
        },
        "id": "MzhOg8dzD_iv",
        "outputId": "d3654e7c-44ad-4a79-c3dc-35754b292e81"
      },
      "source": [
        "sample_submission[\"meter_reading\"] =  0.5*sample_submission_target[\"meter_reading\"]+0.5*sample_submission_stacked[\"meter_reading\"]\n",
        "sample_submission.head()"
      ],
      "execution_count": null,
      "outputs": [
        {
          "output_type": "execute_result",
          "data": {
            "text/html": [
              "<div>\n",
              "<style scoped>\n",
              "    .dataframe tbody tr th:only-of-type {\n",
              "        vertical-align: middle;\n",
              "    }\n",
              "\n",
              "    .dataframe tbody tr th {\n",
              "        vertical-align: top;\n",
              "    }\n",
              "\n",
              "    .dataframe thead th {\n",
              "        text-align: right;\n",
              "    }\n",
              "</style>\n",
              "<table border=\"1\" class=\"dataframe\">\n",
              "  <thead>\n",
              "    <tr style=\"text-align: right;\">\n",
              "      <th></th>\n",
              "      <th>row_id</th>\n",
              "      <th>meter_reading</th>\n",
              "    </tr>\n",
              "  </thead>\n",
              "  <tbody>\n",
              "    <tr>\n",
              "      <th>0</th>\n",
              "      <td>0</td>\n",
              "      <td>64.481290</td>\n",
              "    </tr>\n",
              "    <tr>\n",
              "      <th>1</th>\n",
              "      <td>1</td>\n",
              "      <td>46.623091</td>\n",
              "    </tr>\n",
              "    <tr>\n",
              "      <th>2</th>\n",
              "      <td>2</td>\n",
              "      <td>8.713564</td>\n",
              "    </tr>\n",
              "    <tr>\n",
              "      <th>3</th>\n",
              "      <td>3</td>\n",
              "      <td>107.716259</td>\n",
              "    </tr>\n",
              "    <tr>\n",
              "      <th>4</th>\n",
              "      <td>4</td>\n",
              "      <td>653.844285</td>\n",
              "    </tr>\n",
              "  </tbody>\n",
              "</table>\n",
              "</div>"
            ],
            "text/plain": [
              "   row_id  meter_reading\n",
              "0       0      64.481290\n",
              "1       1      46.623091\n",
              "2       2       8.713564\n",
              "3       3     107.716259\n",
              "4       4     653.844285"
            ]
          },
          "metadata": {
            "tags": []
          },
          "execution_count": 5
        }
      ]
    },
    {
      "cell_type": "code",
      "metadata": {
        "colab": {
          "base_uri": "https://localhost:8080/"
        },
        "id": "mAhJbUKGEfqS",
        "outputId": "70e9afbd-20d2-459e-b73c-bd3b26d62a6f"
      },
      "source": [
        "sample_submission.shape"
      ],
      "execution_count": null,
      "outputs": [
        {
          "output_type": "execute_result",
          "data": {
            "text/plain": [
              "(41697600, 2)"
            ]
          },
          "metadata": {
            "tags": []
          },
          "execution_count": 6
        }
      ]
    },
    {
      "cell_type": "code",
      "metadata": {
        "id": "TxQdh5yrEiUS"
      },
      "source": [
        "sample_submission['meter_reading'] = np.clip(sample_submission['meter_reading'], a_min=0, a_max=None)\n",
        "sample_submission['meter_reading'] = sample_submission['meter_reading'].astype('float32')\n",
        "sample_submission['row_id'] = sample_submission['row_id'].astype('int32')"
      ],
      "execution_count": null,
      "outputs": []
    },
    {
      "cell_type": "code",
      "metadata": {
        "id": "X-HdvJdGEqcy"
      },
      "source": [
        "sample_submission.to_csv('/gdrive/My Drive/case_study_data/ensemble2_submission.csv',index=False)"
      ],
      "execution_count": null,
      "outputs": []
    },
    {
      "cell_type": "code",
      "metadata": {
        "id": "h8b2MprYFl1d",
        "colab": {
          "base_uri": "https://localhost:8080/",
          "height": 134
        },
        "outputId": "fcc2e7ca-4007-4836-edc2-a1ccefd30735"
      },
      "source": [
        "from IPython.display import Image\n",
        "Image(filename='/content/ensemble3.PNG')"
      ],
      "execution_count": null,
      "outputs": [
        {
          "output_type": "execute_result",
          "data": {
            "image/png": "[encoded data removed]",
            "text/plain": [
              "<IPython.core.display.Image object>"
            ]
          },
          "metadata": {
            "tags": []
          },
          "execution_count": 12
        }
      ]
    },
    {
      "cell_type": "code",
      "metadata": {
        "id": "zdChAkeNjBIU"
      },
      "source": [
        ""
      ],
      "execution_count": null,
      "outputs": []
    }
  ]
}