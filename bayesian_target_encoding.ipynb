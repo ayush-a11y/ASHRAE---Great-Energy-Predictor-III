{
  "nbformat": 4,
  "nbformat_minor": 0,
  "metadata": {
    "kernelspec": {
      "display_name": "Python 3",
      "language": "python",
      "name": "python3"
    },
    "language_info": {
      "name": "python",
      "version": "3.6.6",
      "mimetype": "text/x-python",
      "codemirror_mode": {
        "name": "ipython",
        "version": 3
      },
      "pygments_lexer": "ipython3",
      "nbconvert_exporter": "python",
      "file_extension": ".py"
    },
    "colab": {
      "name": "bayesian_target_encoding.ipynb",
      "provenance": []
    }
  },
  "cells": [
    {
      "cell_type": "code",
      "metadata": {
        "_cell_guid": "b1076dfc-b9ad-4769-8c92-a6c4dae69d19",
        "_uuid": "8f2839f25d086af736a60e9eeb907d3b93b6e0e5",
        "execution": {
          "iopub.status.busy": "2021-08-16T07:32:16.181744Z",
          "iopub.execute_input": "2021-08-16T07:32:16.182226Z",
          "iopub.status.idle": "2021-08-16T07:32:18.984843Z",
          "shell.execute_reply.started": "2021-08-16T07:32:16.182167Z",
          "shell.execute_reply": "2021-08-16T07:32:18.983977Z"
        },
        "trusted": true,
        "id": "fZemrqqSWRYE"
      },
      "source": [
        "import gc\n",
        "import numpy as np\n",
        "import pandas as pd \n",
        "from sklearn.linear_model import RidgeCV\n",
        "from sklearn.metrics import mean_squared_error"
      ],
      "execution_count": null,
      "outputs": []
    },
    {
      "cell_type": "code",
      "metadata": {
        "execution": {
          "iopub.status.busy": "2021-08-16T07:32:21.139789Z",
          "iopub.execute_input": "2021-08-16T07:32:21.140231Z",
          "iopub.status.idle": "2021-08-16T07:32:21.143533Z",
          "shell.execute_reply.started": "2021-08-16T07:32:21.140190Z",
          "shell.execute_reply": "2021-08-16T07:32:21.142899Z"
        },
        "trusted": true,
        "id": "wmGo40-5WRYG"
      },
      "source": [
        "PRIOR_PRECISION = 10"
      ],
      "execution_count": null,
      "outputs": []
    },
    {
      "cell_type": "code",
      "metadata": {
        "execution": {
          "iopub.status.busy": "2021-08-16T07:32:22.457858Z",
          "iopub.execute_input": "2021-08-16T07:32:22.458311Z",
          "iopub.status.idle": "2021-08-16T07:32:22.473662Z",
          "shell.execute_reply.started": "2021-08-16T07:32:22.458267Z",
          "shell.execute_reply": "2021-08-16T07:32:22.472970Z"
        },
        "trusted": true,
        "id": "98T3IoT4WRYH"
      },
      "source": [
        "class GaussianTargetEncoder():\n",
        "        \n",
        "    def __init__(self, group_cols, target_col=\"target\", prior_cols=None):\n",
        "        self.group_cols = group_cols\n",
        "        self.target_col = target_col\n",
        "        self.prior_cols = prior_cols\n",
        "\n",
        "    def _get_prior(self, df):\n",
        "        if self.prior_cols is None:\n",
        "            prior = np.full(len(df), df[self.target_col].mean())\n",
        "        else:\n",
        "            prior = df[self.prior_cols].mean(1)\n",
        "        return prior\n",
        "                    \n",
        "    def fit(self, df):\n",
        "        self.stats = df.assign(mu_prior=self._get_prior(df), y=df[self.target_col])\n",
        "        self.stats = self.stats.groupby(self.group_cols).agg(\n",
        "            n        = (\"y\", \"count\"),\n",
        "            mu_mle   = (\"y\", np.mean),\n",
        "            sig2_mle = (\"y\", np.var),\n",
        "            mu_prior = (\"mu_prior\", np.mean),\n",
        "        )        \n",
        "    \n",
        "    def transform(self, df, prior_precision=1000, stat_type=\"mean\"):\n",
        "        \n",
        "        precision = prior_precision + self.stats.n/self.stats.sig2_mle\n",
        "        \n",
        "        if stat_type == \"mean\":\n",
        "            numer = prior_precision*self.stats.mu_prior\\\n",
        "                    + self.stats.n/self.stats.sig2_mle*self.stats.mu_mle\n",
        "            denom = precision\n",
        "        elif stat_type == \"var\":\n",
        "            numer = 1.0\n",
        "            denom = precision\n",
        "        elif stat_type == \"precision\":\n",
        "            numer = precision\n",
        "            denom = 1.0\n",
        "        else: \n",
        "            raise ValueError(f\"stat_type={stat_type} not recognized.\")\n",
        "        \n",
        "        mapper = dict(zip(self.stats.index, numer / denom))\n",
        "        if isinstance(self.group_cols, str):\n",
        "            keys = df[self.group_cols].values.tolist()\n",
        "        elif len(self.group_cols) == 1:\n",
        "            keys = df[self.group_cols[0]].values.tolist()\n",
        "        else:\n",
        "            keys = zip(*[df[x] for x in self.group_cols])\n",
        "        \n",
        "        values = np.array([mapper.get(k) for k in keys]).astype(float)\n",
        "        \n",
        "        prior = self._get_prior(df)\n",
        "        values[~np.isfinite(values)] = prior[~np.isfinite(values)]\n",
        "        \n",
        "        return values\n",
        "    \n",
        "    def fit_transform(self, df, *args, **kwargs):\n",
        "        self.fit(df)\n",
        "        return self.transform(df, *args, **kwargs)"
      ],
      "execution_count": null,
      "outputs": []
    },
    {
      "cell_type": "code",
      "metadata": {
        "execution": {
          "iopub.status.busy": "2021-08-16T07:32:23.565702Z",
          "iopub.execute_input": "2021-08-16T07:32:23.566243Z",
          "iopub.status.idle": "2021-08-16T07:32:23.570642Z",
          "shell.execute_reply.started": "2021-08-16T07:32:23.566193Z",
          "shell.execute_reply": "2021-08-16T07:32:23.569877Z"
        },
        "trusted": true,
        "id": "adsAUfd6WRYI"
      },
      "source": [
        "def rmsle(x,y):\n",
        "    x = np.log1p(x)\n",
        "    y = np.log1p(y)\n",
        "    return np.sqrt(mean_squared_error(x, y))"
      ],
      "execution_count": null,
      "outputs": []
    },
    {
      "cell_type": "code",
      "metadata": {
        "execution": {
          "iopub.status.busy": "2021-08-16T07:32:24.560359Z",
          "iopub.execute_input": "2021-08-16T07:32:24.560694Z",
          "iopub.status.idle": "2021-08-16T07:33:02.931778Z",
          "shell.execute_reply.started": "2021-08-16T07:32:24.560636Z",
          "shell.execute_reply": "2021-08-16T07:33:02.931047Z"
        },
        "trusted": true,
        "id": "BezXinqjWRYJ"
      },
      "source": [
        "# load data\n",
        "train = pd.read_csv(\"/kaggle/input/ashrae-energy-prediction/train.csv\")\n",
        "test  = pd.read_csv(\"/kaggle/input/ashrae-energy-prediction/test.csv\")"
      ],
      "execution_count": null,
      "outputs": []
    },
    {
      "cell_type": "code",
      "metadata": {
        "execution": {
          "iopub.status.busy": "2021-08-16T07:33:08.569701Z",
          "iopub.execute_input": "2021-08-16T07:33:08.569995Z",
          "iopub.status.idle": "2021-08-16T07:33:08.601539Z",
          "shell.execute_reply.started": "2021-08-16T07:33:08.569951Z",
          "shell.execute_reply": "2021-08-16T07:33:08.600434Z"
        },
        "trusted": true,
        "id": "KV18KeCqWRYK",
        "outputId": "d632a557-5736-4587-a16f-d8aefa4dfa97"
      },
      "source": [
        "train.head()"
      ],
      "execution_count": null,
      "outputs": [
        {
          "output_type": "execute_result",
          "data": {
            "text/plain": [
              "   building_id  meter            timestamp  meter_reading\n",
              "0            0      0  2016-01-01 00:00:00            0.0\n",
              "1            1      0  2016-01-01 00:00:00            0.0\n",
              "2            2      0  2016-01-01 00:00:00            0.0\n",
              "3            3      0  2016-01-01 00:00:00            0.0\n",
              "4            4      0  2016-01-01 00:00:00            0.0"
            ],
            "text/html": [
              "<div>\n",
              "<style scoped>\n",
              "    .dataframe tbody tr th:only-of-type {\n",
              "        vertical-align: middle;\n",
              "    }\n",
              "\n",
              "    .dataframe tbody tr th {\n",
              "        vertical-align: top;\n",
              "    }\n",
              "\n",
              "    .dataframe thead th {\n",
              "        text-align: right;\n",
              "    }\n",
              "</style>\n",
              "<table border=\"1\" class=\"dataframe\">\n",
              "  <thead>\n",
              "    <tr style=\"text-align: right;\">\n",
              "      <th></th>\n",
              "      <th>building_id</th>\n",
              "      <th>meter</th>\n",
              "      <th>timestamp</th>\n",
              "      <th>meter_reading</th>\n",
              "    </tr>\n",
              "  </thead>\n",
              "  <tbody>\n",
              "    <tr>\n",
              "      <th>0</th>\n",
              "      <td>0</td>\n",
              "      <td>0</td>\n",
              "      <td>2016-01-01 00:00:00</td>\n",
              "      <td>0.0</td>\n",
              "    </tr>\n",
              "    <tr>\n",
              "      <th>1</th>\n",
              "      <td>1</td>\n",
              "      <td>0</td>\n",
              "      <td>2016-01-01 00:00:00</td>\n",
              "      <td>0.0</td>\n",
              "    </tr>\n",
              "    <tr>\n",
              "      <th>2</th>\n",
              "      <td>2</td>\n",
              "      <td>0</td>\n",
              "      <td>2016-01-01 00:00:00</td>\n",
              "      <td>0.0</td>\n",
              "    </tr>\n",
              "    <tr>\n",
              "      <th>3</th>\n",
              "      <td>3</td>\n",
              "      <td>0</td>\n",
              "      <td>2016-01-01 00:00:00</td>\n",
              "      <td>0.0</td>\n",
              "    </tr>\n",
              "    <tr>\n",
              "      <th>4</th>\n",
              "      <td>4</td>\n",
              "      <td>0</td>\n",
              "      <td>2016-01-01 00:00:00</td>\n",
              "      <td>0.0</td>\n",
              "    </tr>\n",
              "  </tbody>\n",
              "</table>\n",
              "</div>"
            ]
          },
          "metadata": {
            "tags": []
          },
          "execution_count": 7
        }
      ]
    },
    {
      "cell_type": "code",
      "metadata": {
        "execution": {
          "iopub.status.busy": "2021-08-16T07:33:15.112598Z",
          "iopub.execute_input": "2021-08-16T07:33:15.113100Z",
          "iopub.status.idle": "2021-08-16T07:33:16.205034Z",
          "shell.execute_reply.started": "2021-08-16T07:33:15.113036Z",
          "shell.execute_reply": "2021-08-16T07:33:16.204131Z"
        },
        "trusted": true,
        "id": "7IyksHXUWRYN"
      },
      "source": [
        "# sample for kernel\n",
        "train = train.sample(int(2.5e5)).reset_index(drop=True)"
      ],
      "execution_count": null,
      "outputs": []
    },
    {
      "cell_type": "code",
      "metadata": {
        "execution": {
          "iopub.status.busy": "2021-08-16T07:33:17.025866Z",
          "iopub.execute_input": "2021-08-16T07:33:17.026150Z",
          "iopub.status.idle": "2021-08-16T07:33:17.120242Z",
          "shell.execute_reply.started": "2021-08-16T07:33:17.026106Z",
          "shell.execute_reply": "2021-08-16T07:33:17.119372Z"
        },
        "trusted": true,
        "id": "CtPuBlf0WRYO"
      },
      "source": [
        "# create target\n",
        "train[\"target\"] = np.log1p(train.meter_reading)\n",
        "test[\"target\"] = train.target.mean()"
      ],
      "execution_count": null,
      "outputs": []
    },
    {
      "cell_type": "code",
      "metadata": {
        "execution": {
          "iopub.status.busy": "2021-08-16T07:33:18.057767Z",
          "iopub.execute_input": "2021-08-16T07:33:18.058060Z",
          "iopub.status.idle": "2021-08-16T07:33:36.487661Z",
          "shell.execute_reply.started": "2021-08-16T07:33:18.058016Z",
          "shell.execute_reply": "2021-08-16T07:33:36.486709Z"
        },
        "trusted": true,
        "id": "6XsPMl4CWRYR"
      },
      "source": [
        "# create time features\n",
        "def add_time_features(df):\n",
        "    df.timestamp = pd.to_datetime(df.timestamp)    \n",
        "    df[\"hour\"]    = df.timestamp.dt.hour\n",
        "    df[\"weekday\"] = df.timestamp.dt.weekday\n",
        "    df[\"month\"]   = df.timestamp.dt.month\n",
        "\n",
        "add_time_features(train)\n",
        "add_time_features(test)"
      ],
      "execution_count": null,
      "outputs": []
    },
    {
      "cell_type": "code",
      "metadata": {
        "execution": {
          "iopub.status.busy": "2021-08-16T07:35:00.632158Z",
          "iopub.execute_input": "2021-08-16T07:35:00.632444Z",
          "iopub.status.idle": "2021-08-16T07:35:00.639056Z",
          "shell.execute_reply.started": "2021-08-16T07:35:00.632399Z",
          "shell.execute_reply": "2021-08-16T07:35:00.638240Z"
        },
        "trusted": true,
        "id": "n5LhoXPiWRYS"
      },
      "source": [
        "# define groupings and corresponding priors\n",
        "groups_and_priors = {\n",
        "    \n",
        "    # singe encodings\n",
        "    (\"hour\",):        None,\n",
        "    (\"weekday\",):     None,\n",
        "    (\"month\",):       None,\n",
        "    (\"building_id\",): None,\n",
        "    (\"meter\",):       None,\n",
        "    \n",
        "    # second-order interactions\n",
        "    (\"meter\", \"hour\"):        [\"gte_meter\", \"gte_hour\"],\n",
        "    (\"meter\", \"weekday\"):     [\"gte_meter\", \"gte_weekday\"],\n",
        "    (\"meter\", \"month\"):       [\"gte_meter\", \"gte_month\"],\n",
        "    (\"meter\", \"building_id\"): [\"gte_meter\", \"gte_building_id\"],\n",
        "        \n",
        "    # higher-order interactions\n",
        "    (\"meter\", \"building_id\", \"hour\"):    [\"gte_meter_building_id\", \"gte_meter_hour\"],\n",
        "    (\"meter\", \"building_id\", \"weekday\"): [\"gte_meter_building_id\", \"gte_meter_weekday\"],\n",
        "    (\"meter\", \"building_id\", \"month\"):   [\"gte_meter_building_id\", \"gte_meter_month\"],\n",
        "}"
      ],
      "execution_count": null,
      "outputs": []
    },
    {
      "cell_type": "code",
      "metadata": {
        "execution": {
          "iopub.status.busy": "2021-08-16T07:35:06.620829Z",
          "iopub.execute_input": "2021-08-16T07:35:06.621117Z",
          "iopub.status.idle": "2021-08-16T07:38:38.407696Z",
          "shell.execute_reply.started": "2021-08-16T07:35:06.621074Z",
          "shell.execute_reply": "2021-08-16T07:38:38.406804Z"
        },
        "trusted": true,
        "id": "Qhp1ibZ4WRYU"
      },
      "source": [
        "features = []\n",
        "for group_cols, prior_cols in groups_and_priors.items():\n",
        "    features.append(f\"gte_{'_'.join(group_cols)}\")\n",
        "    gte = GaussianTargetEncoder(list(group_cols), \"target\", prior_cols)    \n",
        "    train[features[-1]] = gte.fit_transform(train, PRIOR_PRECISION)\n",
        "    test[features[-1]]  = gte.transform(test,  PRIOR_PRECISION)"
      ],
      "execution_count": null,
      "outputs": []
    },
    {
      "cell_type": "code",
      "metadata": {
        "execution": {
          "iopub.status.busy": "2021-08-16T07:41:04.080564Z",
          "iopub.execute_input": "2021-08-16T07:41:04.081030Z",
          "iopub.status.idle": "2021-08-16T07:41:13.226065Z",
          "shell.execute_reply.started": "2021-08-16T07:41:04.080974Z",
          "shell.execute_reply": "2021-08-16T07:41:13.225116Z"
        },
        "trusted": true,
        "id": "sHNp8O9XWRYU",
        "outputId": "5159320a-2a25-4514-cad5-c4d2ba1baea4"
      },
      "source": [
        "# clean up\n",
        "drop_cols = [\"hour\", \"weekday\", \"month\", \"building_id\"]\n",
        "train.drop(drop_cols, 1, inplace=True)\n",
        "test.drop(drop_cols, 1, inplace=True)\n",
        "del  gte\n",
        "gc.collect()"
      ],
      "execution_count": null,
      "outputs": [
        {
          "output_type": "execute_result",
          "data": {
            "text/plain": [
              "0"
            ]
          },
          "metadata": {
            "tags": []
          },
          "execution_count": 13
        }
      ]
    },
    {
      "cell_type": "code",
      "metadata": {
        "execution": {
          "iopub.status.busy": "2021-08-16T07:41:20.164250Z",
          "iopub.execute_input": "2021-08-16T07:41:20.164568Z",
          "iopub.status.idle": "2021-08-16T07:41:20.191753Z",
          "shell.execute_reply.started": "2021-08-16T07:41:20.164488Z",
          "shell.execute_reply": "2021-08-16T07:41:20.191070Z"
        },
        "trusted": true,
        "id": "N3yDao9JWRYV",
        "outputId": "e0f8ddfb-4ed5-4480-f079-b269f0acf0cc"
      },
      "source": [
        "train[features + [\"target\"]].head()"
      ],
      "execution_count": null,
      "outputs": [
        {
          "output_type": "execute_result",
          "data": {
            "text/plain": [
              "   gte_hour  gte_weekday  gte_month  gte_building_id  gte_meter  \\\n",
              "0  4.279481     4.186728   3.914672         5.973659   3.979259   \n",
              "1  3.985925     4.179150   4.358921         3.467740   3.979259   \n",
              "2  3.910819     4.188322   4.103846         4.739594   5.100058   \n",
              "3  4.032372     4.190462   4.223607         5.294614   3.979259   \n",
              "4  4.279481     4.202718   4.307225         5.273293   3.979259   \n",
              "\n",
              "   gte_meter_hour  gte_meter_weekday  gte_meter_month  gte_meter_building_id  \\\n",
              "0        4.081149           3.983891         3.702905               5.987308   \n",
              "1        3.856025           4.016674         4.191977               3.464227   \n",
              "2        4.861891           5.117617         4.812721               4.555381   \n",
              "3        3.894951           4.036276         4.133564               4.143291   \n",
              "4        4.081149           4.045135         4.142391               4.838701   \n",
              "\n",
              "   gte_meter_building_id_hour  gte_meter_building_id_weekday  \\\n",
              "0                    5.789034                       6.203096   \n",
              "1                    3.412267                       3.629965   \n",
              "2                    4.790171                       4.612680   \n",
              "3                    4.014112                       4.155154   \n",
              "4                    4.903856                       4.773715   \n",
              "\n",
              "   gte_meter_building_id_month    target  \n",
              "0                     6.434920  6.293992  \n",
              "1                     3.695555  3.673740  \n",
              "2                     4.451389  4.621536  \n",
              "3                     4.159478  3.962735  \n",
              "4                     4.708835  4.484132  "
            ],
            "text/html": [
              "<div>\n",
              "<style scoped>\n",
              "    .dataframe tbody tr th:only-of-type {\n",
              "        vertical-align: middle;\n",
              "    }\n",
              "\n",
              "    .dataframe tbody tr th {\n",
              "        vertical-align: top;\n",
              "    }\n",
              "\n",
              "    .dataframe thead th {\n",
              "        text-align: right;\n",
              "    }\n",
              "</style>\n",
              "<table border=\"1\" class=\"dataframe\">\n",
              "  <thead>\n",
              "    <tr style=\"text-align: right;\">\n",
              "      <th></th>\n",
              "      <th>gte_hour</th>\n",
              "      <th>gte_weekday</th>\n",
              "      <th>gte_month</th>\n",
              "      <th>gte_building_id</th>\n",
              "      <th>gte_meter</th>\n",
              "      <th>gte_meter_hour</th>\n",
              "      <th>gte_meter_weekday</th>\n",
              "      <th>gte_meter_month</th>\n",
              "      <th>gte_meter_building_id</th>\n",
              "      <th>gte_meter_building_id_hour</th>\n",
              "      <th>gte_meter_building_id_weekday</th>\n",
              "      <th>gte_meter_building_id_month</th>\n",
              "      <th>target</th>\n",
              "    </tr>\n",
              "  </thead>\n",
              "  <tbody>\n",
              "    <tr>\n",
              "      <th>0</th>\n",
              "      <td>4.279481</td>\n",
              "      <td>4.186728</td>\n",
              "      <td>3.914672</td>\n",
              "      <td>5.973659</td>\n",
              "      <td>3.979259</td>\n",
              "      <td>4.081149</td>\n",
              "      <td>3.983891</td>\n",
              "      <td>3.702905</td>\n",
              "      <td>5.987308</td>\n",
              "      <td>5.789034</td>\n",
              "      <td>6.203096</td>\n",
              "      <td>6.434920</td>\n",
              "      <td>6.293992</td>\n",
              "    </tr>\n",
              "    <tr>\n",
              "      <th>1</th>\n",
              "      <td>3.985925</td>\n",
              "      <td>4.179150</td>\n",
              "      <td>4.358921</td>\n",
              "      <td>3.467740</td>\n",
              "      <td>3.979259</td>\n",
              "      <td>3.856025</td>\n",
              "      <td>4.016674</td>\n",
              "      <td>4.191977</td>\n",
              "      <td>3.464227</td>\n",
              "      <td>3.412267</td>\n",
              "      <td>3.629965</td>\n",
              "      <td>3.695555</td>\n",
              "      <td>3.673740</td>\n",
              "    </tr>\n",
              "    <tr>\n",
              "      <th>2</th>\n",
              "      <td>3.910819</td>\n",
              "      <td>4.188322</td>\n",
              "      <td>4.103846</td>\n",
              "      <td>4.739594</td>\n",
              "      <td>5.100058</td>\n",
              "      <td>4.861891</td>\n",
              "      <td>5.117617</td>\n",
              "      <td>4.812721</td>\n",
              "      <td>4.555381</td>\n",
              "      <td>4.790171</td>\n",
              "      <td>4.612680</td>\n",
              "      <td>4.451389</td>\n",
              "      <td>4.621536</td>\n",
              "    </tr>\n",
              "    <tr>\n",
              "      <th>3</th>\n",
              "      <td>4.032372</td>\n",
              "      <td>4.190462</td>\n",
              "      <td>4.223607</td>\n",
              "      <td>5.294614</td>\n",
              "      <td>3.979259</td>\n",
              "      <td>3.894951</td>\n",
              "      <td>4.036276</td>\n",
              "      <td>4.133564</td>\n",
              "      <td>4.143291</td>\n",
              "      <td>4.014112</td>\n",
              "      <td>4.155154</td>\n",
              "      <td>4.159478</td>\n",
              "      <td>3.962735</td>\n",
              "    </tr>\n",
              "    <tr>\n",
              "      <th>4</th>\n",
              "      <td>4.279481</td>\n",
              "      <td>4.202718</td>\n",
              "      <td>4.307225</td>\n",
              "      <td>5.273293</td>\n",
              "      <td>3.979259</td>\n",
              "      <td>4.081149</td>\n",
              "      <td>4.045135</td>\n",
              "      <td>4.142391</td>\n",
              "      <td>4.838701</td>\n",
              "      <td>4.903856</td>\n",
              "      <td>4.773715</td>\n",
              "      <td>4.708835</td>\n",
              "      <td>4.484132</td>\n",
              "    </tr>\n",
              "  </tbody>\n",
              "</table>\n",
              "</div>"
            ]
          },
          "metadata": {
            "tags": []
          },
          "execution_count": 14
        }
      ]
    },
    {
      "cell_type": "code",
      "metadata": {
        "execution": {
          "iopub.status.busy": "2021-08-16T07:41:26.111468Z",
          "iopub.execute_input": "2021-08-16T07:41:26.111833Z",
          "iopub.status.idle": "2021-08-16T07:41:27.622688Z",
          "shell.execute_reply.started": "2021-08-16T07:41:26.111776Z",
          "shell.execute_reply": "2021-08-16T07:41:27.621663Z"
        },
        "trusted": true,
        "id": "BaWbu4xEWRYW",
        "outputId": "4c34df63-1132-4784-d058-0d985c81903d"
      },
      "source": [
        "test[features].head()"
      ],
      "execution_count": null,
      "outputs": [
        {
          "output_type": "execute_result",
          "data": {
            "text/plain": [
              "   gte_hour  gte_weekday  gte_month  gte_building_id  gte_meter  \\\n",
              "0  3.985925     4.026394   3.914672         3.768381   3.979259   \n",
              "1  3.985925     4.026394   3.914672         3.272380   3.979259   \n",
              "2  3.985925     4.026394   3.914672         2.391197   3.979259   \n",
              "3  3.985925     4.026394   3.914672         3.721726   3.979259   \n",
              "4  3.985925     4.026394   3.914672         4.221420   3.979259   \n",
              "\n",
              "   gte_meter_hour  gte_meter_weekday  gte_meter_month  gte_meter_building_id  \\\n",
              "0        3.856025           3.855434         3.702905               3.664109   \n",
              "1        3.856025           3.855434         3.702905               3.097681   \n",
              "2        3.856025           3.855434         3.702905               2.196912   \n",
              "3        3.856025           3.855434         3.702905               3.583131   \n",
              "4        3.856025           3.855434         3.702905               4.194746   \n",
              "\n",
              "   gte_meter_building_id_hour  gte_meter_building_id_weekday  \\\n",
              "0                    3.716186                       3.711787   \n",
              "1                    3.557044                       3.457391   \n",
              "2                    2.702483                       2.557964   \n",
              "3                    3.609893                       3.679853   \n",
              "4                    7.395076                       4.025722   \n",
              "\n",
              "   gte_meter_building_id_month  \n",
              "0                     3.683507  \n",
              "1                     3.400293  \n",
              "2                     2.949909  \n",
              "3                     3.643018  \n",
              "4                     3.948826  "
            ],
            "text/html": [
              "<div>\n",
              "<style scoped>\n",
              "    .dataframe tbody tr th:only-of-type {\n",
              "        vertical-align: middle;\n",
              "    }\n",
              "\n",
              "    .dataframe tbody tr th {\n",
              "        vertical-align: top;\n",
              "    }\n",
              "\n",
              "    .dataframe thead th {\n",
              "        text-align: right;\n",
              "    }\n",
              "</style>\n",
              "<table border=\"1\" class=\"dataframe\">\n",
              "  <thead>\n",
              "    <tr style=\"text-align: right;\">\n",
              "      <th></th>\n",
              "      <th>gte_hour</th>\n",
              "      <th>gte_weekday</th>\n",
              "      <th>gte_month</th>\n",
              "      <th>gte_building_id</th>\n",
              "      <th>gte_meter</th>\n",
              "      <th>gte_meter_hour</th>\n",
              "      <th>gte_meter_weekday</th>\n",
              "      <th>gte_meter_month</th>\n",
              "      <th>gte_meter_building_id</th>\n",
              "      <th>gte_meter_building_id_hour</th>\n",
              "      <th>gte_meter_building_id_weekday</th>\n",
              "      <th>gte_meter_building_id_month</th>\n",
              "    </tr>\n",
              "  </thead>\n",
              "  <tbody>\n",
              "    <tr>\n",
              "      <th>0</th>\n",
              "      <td>3.985925</td>\n",
              "      <td>4.026394</td>\n",
              "      <td>3.914672</td>\n",
              "      <td>3.768381</td>\n",
              "      <td>3.979259</td>\n",
              "      <td>3.856025</td>\n",
              "      <td>3.855434</td>\n",
              "      <td>3.702905</td>\n",
              "      <td>3.664109</td>\n",
              "      <td>3.716186</td>\n",
              "      <td>3.711787</td>\n",
              "      <td>3.683507</td>\n",
              "    </tr>\n",
              "    <tr>\n",
              "      <th>1</th>\n",
              "      <td>3.985925</td>\n",
              "      <td>4.026394</td>\n",
              "      <td>3.914672</td>\n",
              "      <td>3.272380</td>\n",
              "      <td>3.979259</td>\n",
              "      <td>3.856025</td>\n",
              "      <td>3.855434</td>\n",
              "      <td>3.702905</td>\n",
              "      <td>3.097681</td>\n",
              "      <td>3.557044</td>\n",
              "      <td>3.457391</td>\n",
              "      <td>3.400293</td>\n",
              "    </tr>\n",
              "    <tr>\n",
              "      <th>2</th>\n",
              "      <td>3.985925</td>\n",
              "      <td>4.026394</td>\n",
              "      <td>3.914672</td>\n",
              "      <td>2.391197</td>\n",
              "      <td>3.979259</td>\n",
              "      <td>3.856025</td>\n",
              "      <td>3.855434</td>\n",
              "      <td>3.702905</td>\n",
              "      <td>2.196912</td>\n",
              "      <td>2.702483</td>\n",
              "      <td>2.557964</td>\n",
              "      <td>2.949909</td>\n",
              "    </tr>\n",
              "    <tr>\n",
              "      <th>3</th>\n",
              "      <td>3.985925</td>\n",
              "      <td>4.026394</td>\n",
              "      <td>3.914672</td>\n",
              "      <td>3.721726</td>\n",
              "      <td>3.979259</td>\n",
              "      <td>3.856025</td>\n",
              "      <td>3.855434</td>\n",
              "      <td>3.702905</td>\n",
              "      <td>3.583131</td>\n",
              "      <td>3.609893</td>\n",
              "      <td>3.679853</td>\n",
              "      <td>3.643018</td>\n",
              "    </tr>\n",
              "    <tr>\n",
              "      <th>4</th>\n",
              "      <td>3.985925</td>\n",
              "      <td>4.026394</td>\n",
              "      <td>3.914672</td>\n",
              "      <td>4.221420</td>\n",
              "      <td>3.979259</td>\n",
              "      <td>3.856025</td>\n",
              "      <td>3.855434</td>\n",
              "      <td>3.702905</td>\n",
              "      <td>4.194746</td>\n",
              "      <td>7.395076</td>\n",
              "      <td>4.025722</td>\n",
              "      <td>3.948826</td>\n",
              "    </tr>\n",
              "  </tbody>\n",
              "</table>\n",
              "</div>"
            ]
          },
          "metadata": {
            "tags": []
          },
          "execution_count": 15
        }
      ]
    },
    {
      "cell_type": "code",
      "metadata": {
        "execution": {
          "iopub.status.busy": "2021-08-16T07:41:31.731385Z",
          "iopub.execute_input": "2021-08-16T07:41:31.731708Z",
          "iopub.status.idle": "2021-08-16T07:41:43.322074Z",
          "shell.execute_reply.started": "2021-08-16T07:41:31.731660Z",
          "shell.execute_reply": "2021-08-16T07:41:43.321036Z"
        },
        "trusted": true,
        "id": "YysOapV-WRYW",
        "outputId": "f1e1d6f5-418a-4a40-b93a-aec1b6bd3abc"
      },
      "source": [
        "train_preds = np.zeros(len(train))\n",
        "test_preds = np.zeros(len(test))\n",
        "\n",
        "for m in range(4):\n",
        "    \n",
        "    print(f\"Meter {m}\", end=\"\") \n",
        "    \n",
        "    # instantiate model\n",
        "    model = RidgeCV(\n",
        "        alphas=np.logspace(-10, 1, 25), \n",
        "        normalize=True,\n",
        "    )    \n",
        "    \n",
        "    # fit model\n",
        "    model.fit(\n",
        "        X=train.loc[train.meter==m, features].values, \n",
        "        y=train.loc[train.meter==m, \"target\"].values\n",
        "    )\n",
        "\n",
        "    # make predictions \n",
        "    train_preds[train.meter==m] = model.predict(train.loc[train.meter==m, features].values)\n",
        "    test_preds[test.meter==m]   = model.predict(test.loc[test.meter==m, features].values)\n",
        "    \n",
        "    # transform predictions\n",
        "    train_preds[train_preds < 0] = 0\n",
        "    train_preds[train.meter==m] = np.expm1(train_preds[train.meter==m])\n",
        "    \n",
        "    test_preds[test_preds < 0] = 0 \n",
        "    test_preds[test.meter==m] = np.expm1(test_preds[test.meter==m])\n",
        "    \n",
        "    # evaluate model\n",
        "    meter_rmsle = rmsle(\n",
        "        train_preds[train.meter==m],\n",
        "        train.loc[train.meter==m, \"meter_reading\"].values\n",
        "    )\n",
        "    \n",
        "    print(f\", rmsle={meter_rmsle:0.5f}\")\n",
        "\n",
        "print(f\"Overall rmsle={rmsle(train_preds, train.meter_reading.values):0.5f}\")\n",
        "del train, train_preds, test\n",
        "gc.collect()"
      ],
      "execution_count": null,
      "outputs": [
        {
          "output_type": "stream",
          "text": [
            "Meter 0, rmsle=0.78556\n",
            "Meter 1, rmsle=1.34620\n",
            "Meter 2, rmsle=1.44684\n",
            "Meter 3, rmsle=1.43229\n",
            "Overall rmsle=1.07343\n"
          ],
          "name": "stdout"
        },
        {
          "output_type": "execute_result",
          "data": {
            "text/plain": [
              "0"
            ]
          },
          "metadata": {
            "tags": []
          },
          "execution_count": 16
        }
      ]
    },
    {
      "cell_type": "code",
      "metadata": {
        "execution": {
          "iopub.status.busy": "2021-08-16T07:41:50.011364Z",
          "iopub.execute_input": "2021-08-16T07:41:50.011692Z",
          "iopub.status.idle": "2021-08-16T07:44:32.818530Z",
          "shell.execute_reply.started": "2021-08-16T07:41:50.011643Z",
          "shell.execute_reply": "2021-08-16T07:44:32.817433Z"
        },
        "trusted": true,
        "id": "WFF2-8t4WRYX"
      },
      "source": [
        "# create submission\n",
        "subm  = pd.read_csv(\"/kaggle/input/ashrae-energy-prediction/sample_submission.csv\")\n",
        "subm[\"meter_reading\"] = test_preds\n",
        "subm.to_csv(f\"submission.csv\", index=False)"
      ],
      "execution_count": null,
      "outputs": []
    },
    {
      "cell_type": "code",
      "metadata": {
        "colab": {
          "base_uri": "https://localhost:8080/"
        },
        "id": "zqRzRD88WRYX",
        "outputId": "c0714da5-217f-415c-b8cf-2195f8f3b802"
      },
      "source": [
        "from prettytable import PrettyTable\n",
        "summary = PrettyTable()\n",
        "\n",
        "\n",
        "summary.field_names = [\"Model\", \"RMSE\", \"Meter-wise\"]\n",
        "summary.add_row([\"bayesian-target-encoding\",.785, \"Meter-0\"])\n",
        "summary.add_row([\"bayesian-target-encoding\",1.34, \"Meter-1\"])\n",
        "summary.add_row([\"bayesian-target-encoding\",1.44, \"Meter-2\"])\n",
        "summary.add_row([\"bayesian-target-encoding\",1.43, \"Meter-3\"])\n",
        "summary.add_row([\"bayesian-target-encoding\",1.43, \"Overall\"])\n",
        "print(summary)"
      ],
      "execution_count": null,
      "outputs": [
        {
          "output_type": "stream",
          "text": [
            "+--------------------------+-------+------------+\n",
            "|          Model           |  RMSE | Meter-wise |\n",
            "+--------------------------+-------+------------+\n",
            "| bayesian-target-encoding | 0.785 |  Meter-0   |\n",
            "| bayesian-target-encoding |  1.34 |  Meter-1   |\n",
            "| bayesian-target-encoding |  1.44 |  Meter-2   |\n",
            "| bayesian-target-encoding |  1.43 |  Meter-3   |\n",
            "| bayesian-target-encoding |  1.43 |  Overall   |\n",
            "+--------------------------+-------+------------+\n"
          ],
          "name": "stdout"
        }
      ]
    },
    {
      "cell_type": "code",
      "metadata": {
        "colab": {
          "base_uri": "https://localhost:8080/",
          "height": 150
        },
        "id": "YG5kpCDUYv4e",
        "outputId": "7b456981-88bd-4708-91ce-d3a776943704"
      },
      "source": [
        "from IPython.display import Image\n",
        "Image(filename='/content/Bayesian Encoding 2.PNG')"
      ],
      "execution_count": null,
      "outputs": [
        {
          "output_type": "execute_result",
          "data": {
            "image/png": "[encoded data removed]",
            "text/plain": [
              "<IPython.core.display.Image object>"
            ]
          },
          "metadata": {
            "tags": []
          },
          "execution_count": 2
        }
      ]
    },
    {
      "cell_type": "markdown",
      "metadata": {
        "id": "tKit-LgAY-W6"
      },
      "source": [
        "### Refrences\n",
        "1. https://www.kaggle.com/mmotoki/hierarchical-bayesian-target-encoding"
      ]
    },
   
    {
      "cell_type": "code",
      "metadata": {
        "id": "qbOCFhkvY7OS"
      },
      "source": [
        ""
      ],
      "execution_count": null,
      "outputs": []
    }
  ]
}
