{
  "nbformat": 4,
  "nbformat_minor": 0,
  "metadata": {
    "kernelspec": {
      "language": "python",
      "display_name": "Python 3",
      "name": "python3"
    },
    "language_info": {
      "name": "python",
      "version": "3.7.10",
      "mimetype": "text/x-python",
      "codemirror_mode": {
        "name": "ipython",
        "version": 3
      },
      "pygments_lexer": "ipython3",
      "nbconvert_exporter": "python",
      "file_extension": ".py"
    },
    "colab": {
      "name": "custom-stacked-regressor2 .ipynb",
      "provenance": [],
      "collapsed_sections": []
    }
  },
  "cells": [
    {
      "cell_type": "markdown",
      "metadata": {
        "id": "5z0J86q6fnVp"
      },
      "source": [
        "Train data import and processing"
      ]
    },
    {
      "cell_type": "code",
      "metadata": {
        "execution": {
          "iopub.status.busy": "2021-08-19T16:05:55.886276Z",
          "iopub.execute_input": "2021-08-19T16:05:55.886732Z",
          "iopub.status.idle": "2021-08-19T16:05:58.621192Z",
          "shell.execute_reply.started": "2021-08-19T16:05:55.886636Z",
          "shell.execute_reply": "2021-08-19T16:05:58.620198Z"
        },
        "trusted": true,
        "id": "kxktKoKYfjSr",
        "outputId": "1a0d37a9-ec6b-4b04-81e6-8c8749f63052"
      },
      "source": [
        "import os, gc\n",
        "import datetime\n",
        "\n",
        "import numpy as np\n",
        "import pandas as pd\n",
        "\n",
        "import category_encoders\n",
        "\n",
        "from sklearn.impute import SimpleImputer\n",
        "from sklearn.metrics import mean_squared_error\n",
        "from sklearn.model_selection import KFold\n",
        "from sklearn.preprocessing import LabelEncoder\n",
        "\n",
        "\n",
        "from lightgbm import LGBMRegressor\n",
        "\n",
        "\n",
        "from xgboost import XGBRegressor\n",
        "import pickle\n",
        "import joblib\n",
        "from tqdm import tqdm\n",
        "import lightgbm as lgb\n",
        "\n",
        "from pandas.api.types import is_categorical_dtype\n",
        "from pandas.api.types import is_datetime64_any_dtype as is_datetime"
      ],
      "execution_count": null,
      "outputs": [
        {
          "output_type": "display_data",
          "data": {
            "text/plain": "<IPython.core.display.HTML object>",
            "text/html": "<style type='text/css'>\n.datatable table.frame { margin-bottom: 0; }\n.datatable table.frame thead { border-bottom: none; }\n.datatable table.frame tr.coltypes td {  color: #FFFFFF;  line-height: 6px;  padding: 0 0.5em;}\n.datatable .bool    { background: #DDDD99; }\n.datatable .object  { background: #565656; }\n.datatable .int     { background: #5D9E5D; }\n.datatable .float   { background: #4040CC; }\n.datatable .str     { background: #CC4040; }\n.datatable .time    { background: #40CC40; }\n.datatable .row_index {  background: var(--jp-border-color3);  border-right: 1px solid var(--jp-border-color0);  color: var(--jp-ui-font-color3);  font-size: 9px;}\n.datatable .frame tbody td { text-align: left; }\n.datatable .frame tr.coltypes .row_index {  background: var(--jp-border-color0);}\n.datatable th:nth-child(2) { padding-left: 12px; }\n.datatable .hellipsis {  color: var(--jp-cell-editor-border-color);}\n.datatable .vellipsis {  background: var(--jp-layout-color0);  color: var(--jp-cell-editor-border-color);}\n.datatable .na {  color: var(--jp-cell-editor-border-color);  font-size: 80%;}\n.datatable .sp {  opacity: 0.25;}\n.datatable .footer { font-size: 9px; }\n.datatable .frame_dimensions {  background: var(--jp-border-color3);  border-top: 1px solid var(--jp-border-color0);  color: var(--jp-ui-font-color3);  display: inline-block;  opacity: 0.6;  padding: 1px 10px 1px 5px;}\n</style>\n"
          },
          "metadata": {}
        }
      ]
    },
    {
      "cell_type": "code",
      "metadata": {
        "execution": {
          "iopub.status.busy": "2021-08-19T16:06:02.052536Z",
          "iopub.execute_input": "2021-08-19T16:06:02.052887Z",
          "iopub.status.idle": "2021-08-19T16:06:02.068105Z",
          "shell.execute_reply.started": "2021-08-19T16:06:02.052857Z",
          "shell.execute_reply": "2021-08-19T16:06:02.067033Z"
        },
        "trusted": true,
        "id": "U1kMQqZefjSy"
      },
      "source": [
        "# Memory optimization\n",
        "\n",
        "# Original code from https://www.kaggle.com/gemartin/load-data-reduce-memory-usage by @gemartin\n",
        "# Modified to support timestamp type, categorical type\n",
        "# Modified to add option to use float16\n",
        "def reduce_mem_usage(data, use_float16=False) -> pd.DataFrame:\n",
        "    start_mem = data.memory_usage().sum() / 1024**2\n",
        "    print('Memory usage of dataframe is {:.2f} MB'.format(start_mem))\n",
        "\n",
        "    for col in data.columns:\n",
        "        if is_datetime(data[col]) or is_categorical_dtype(data[col]):\n",
        "            continue\n",
        "        col_type = data[col].dtype\n",
        "\n",
        "        if col_type != object:\n",
        "            c_min = data[col].min()\n",
        "            c_max = data[col].max()\n",
        "            if str(col_type)[:3] == 'int':\n",
        "                if c_min > np.iinfo(np.int8).min and c_max < np.iinfo(np.int8).max:\n",
        "                    data[col] = data[col].astype(np.int8)\n",
        "                elif c_min > np.iinfo(np.int16).min and c_max < np.iinfo(np.int16).max:\n",
        "                    data[col] = data[col].astype(np.int16)\n",
        "                elif c_min > np.iinfo(np.int32).min and c_max < np.iinfo(np.int32).max:\n",
        "                    data[col] = data[col].astype(np.int32)\n",
        "                elif c_min > np.iinfo(np.int64).min and c_max < np.iinfo(np.int64).max:\n",
        "                    data[col] = data[col].astype(np.int64)\n",
        "            else:\n",
        "                if use_float16 and c_min > np.finfo(np.float16).min and c_max < np.finfo(np.float16).max:\n",
        "                    data[col] = data[col].astype(np.float16)\n",
        "                elif c_min > np.finfo(np.float32).min and c_max < np.finfo(np.float32).max:\n",
        "                    data[col] = data[col].astype(np.float32)\n",
        "                else:\n",
        "                    data[col] = data[col].astype(np.float64)\n",
        "        else:\n",
        "            data[col] = data[col].astype('category')\n",
        "\n",
        "    end_mem = data.memory_usage().sum() / 1024**2\n",
        "    print('Memory usage after optimization is: {:.2f} MB'.format(end_mem))\n",
        "    print('Decreased by {:.2f}%'.format(\n",
        "        100 * (start_mem - end_mem) / start_mem))\n",
        "\n",
        "    return data"
      ],
      "execution_count": null,
      "outputs": []
    },
    {
      "cell_type": "code",
      "metadata": {
        "execution": {
          "iopub.status.busy": "2021-08-19T16:06:05.219990Z",
          "iopub.execute_input": "2021-08-19T16:06:05.220502Z",
          "iopub.status.idle": "2021-08-19T16:06:20.185328Z",
          "shell.execute_reply.started": "2021-08-19T16:06:05.220469Z",
          "shell.execute_reply": "2021-08-19T16:06:20.184491Z"
        },
        "trusted": true,
        "id": "r-ilh56WfjSz"
      },
      "source": [
        "# Import train data\n",
        "train = pd.read_csv('../input/ashrae-energy-prediction/train.csv')\n",
        "weather_train = pd.read_csv('../input/ashrae-energy-prediction/weather_train.csv')\n",
        "\n",
        "# Import metadata\n",
        "metadata = pd.read_csv('../input/ashrae-energy-prediction/building_metadata.csv')"
      ],
      "execution_count": null,
      "outputs": []
    },
    {
      "cell_type": "code",
      "metadata": {
        "execution": {
          "iopub.status.busy": "2021-08-19T16:07:45.167914Z",
          "iopub.execute_input": "2021-08-19T16:07:45.168502Z",
          "iopub.status.idle": "2021-08-19T16:07:49.874124Z",
          "shell.execute_reply.started": "2021-08-19T16:07:45.168465Z",
          "shell.execute_reply": "2021-08-19T16:07:49.872946Z"
        },
        "trusted": true,
        "id": "1tbFhVahfjS1"
      },
      "source": [
        "# Remove outliers in train data\n",
        "train = train[train['building_id'] != 1099]\n",
        "train = train.query('not (building_id <= 104 & meter == 0 & timestamp <= \"2016-05-20\")')"
      ],
      "execution_count": null,
      "outputs": []
    },
    {
      "cell_type": "code",
      "metadata": {
        "execution": {
          "iopub.status.busy": "2021-08-19T16:09:53.651754Z",
          "iopub.execute_input": "2021-08-19T16:09:53.652217Z",
          "iopub.status.idle": "2021-08-19T16:09:53.672770Z",
          "shell.execute_reply.started": "2021-08-19T16:09:53.652176Z",
          "shell.execute_reply": "2021-08-19T16:09:53.671748Z"
        },
        "trusted": true,
        "id": "CZrA-op1fjS2"
      },
      "source": [
        "# Function for weather data processing\n",
        "def weather_data_parser(weather_data) -> pd.DataFrame:\n",
        "    time_format = '%Y-%m-%d %H:%M:%S'\n",
        "    start_date = datetime.datetime.strptime(weather_data['timestamp'].min(), time_format)\n",
        "    end_date = datetime.datetime.strptime(weather_data['timestamp'].max(), time_format)\n",
        "    total_hours = int(((end_date - start_date).total_seconds() + 3600) / 3600)\n",
        "    hours_list = [(end_date - datetime.timedelta(hours=x)).strftime(time_format) for x in range(total_hours)]\n",
        "\n",
        "    for site_id in range(16):\n",
        "        site_hours = np.array(weather_data[weather_data['site_id'] == site_id]['timestamp'])\n",
        "        new_rows = pd.DataFrame(np.setdiff1d(hours_list, site_hours), columns=['timestamp'])\n",
        "        new_rows['site_id'] = site_id\n",
        "        weather_data = pd.concat([weather_data, new_rows], sort=True)\n",
        "        weather_data = weather_data.reset_index(drop=True)           \n",
        "\n",
        "    weather_data['datetime'] = pd.to_datetime(weather_data['timestamp'])\n",
        "    weather_data['day'] = weather_data['datetime'].dt.day\n",
        "    weather_data['week'] = weather_data['datetime'].dt.week\n",
        "    weather_data['month'] = weather_data['datetime'].dt.month\n",
        "\n",
        "    weather_data = weather_data.set_index(['site_id', 'day', 'month'])\n",
        "\n",
        "    air_temperature_filler = pd.DataFrame(weather_data.groupby(['site_id','day','month'])['air_temperature'].median(), columns=['air_temperature'])\n",
        "    weather_data.update(air_temperature_filler, overwrite=False)\n",
        "\n",
        "    cloud_coverage_filler = weather_data.groupby(['site_id', 'day', 'month'])['cloud_coverage'].median()\n",
        "    cloud_coverage_filler = pd.DataFrame(cloud_coverage_filler.fillna(method='ffill'), columns=['cloud_coverage'])\n",
        "\n",
        "    weather_data.update(cloud_coverage_filler, overwrite=False)\n",
        "\n",
        "    due_temperature_filler = pd.DataFrame(weather_data.groupby(['site_id','day','month'])['dew_temperature'].median(), columns=['dew_temperature'])\n",
        "    weather_data.update(due_temperature_filler, overwrite=False)\n",
        "\n",
        "    sea_level_filler = weather_data.groupby(['site_id','day','month'])['sea_level_pressure'].median()\n",
        "    sea_level_filler = pd.DataFrame(sea_level_filler.fillna(method='ffill'), columns=['sea_level_pressure'])\n",
        "\n",
        "    weather_data.update(sea_level_filler, overwrite=False)\n",
        "\n",
        "    wind_direction_filler =  pd.DataFrame(weather_data.groupby(['site_id','day','month'])['wind_direction'].median(), columns=['wind_direction'])\n",
        "    weather_data.update(wind_direction_filler, overwrite=False)\n",
        "\n",
        "    wind_speed_filler =  pd.DataFrame(weather_data.groupby(['site_id','day','month'])['wind_speed'].median(), columns=['wind_speed'])\n",
        "    weather_data.update(wind_speed_filler, overwrite=False)\n",
        "\n",
        "    precip_depth_filler = weather_data.groupby(['site_id','day','month'])['precip_depth_1_hr'].median()\n",
        "    precip_depth_filler = pd.DataFrame(precip_depth_filler.fillna(method='ffill'), columns=['precip_depth_1_hr'])\n",
        "\n",
        "    weather_data.update(precip_depth_filler, overwrite=False)\n",
        "\n",
        "    weather_data = weather_data.reset_index()\n",
        "    weather_data = weather_data.drop(['datetime','day','week','month'], axis=1)\n",
        "\n",
        "    return weather_data"
      ],
      "execution_count": null,
      "outputs": []
    },
    {
      "cell_type": "code",
      "metadata": {
        "execution": {
          "iopub.status.busy": "2021-08-19T16:09:56.860238Z",
          "iopub.execute_input": "2021-08-19T16:09:56.860623Z",
          "iopub.status.idle": "2021-08-19T16:10:19.239435Z",
          "shell.execute_reply.started": "2021-08-19T16:09:56.860592Z",
          "shell.execute_reply": "2021-08-19T16:10:19.238366Z"
        },
        "trusted": true,
        "id": "Prh8YJb0fjS4",
        "outputId": "bfcaf42a-9251-4cb9-94c5-2cef08698df1"
      },
      "source": [
        "# Train weather data processing\n",
        "weather_train = weather_data_parser(weather_train)"
      ],
      "execution_count": null,
      "outputs": [
        {
          "name": "stderr",
          "text": "/opt/conda/lib/python3.7/site-packages/ipykernel_launcher.py:18: FutureWarning: Series.dt.weekofyear and Series.dt.week have been deprecated.  Please use Series.dt.isocalendar().week instead.\n",
          "output_type": "stream"
        }
      ]
    },
    {
      "cell_type": "code",
      "metadata": {
        "execution": {
          "iopub.status.busy": "2021-08-19T16:10:24.738145Z",
          "iopub.execute_input": "2021-08-19T16:10:24.738549Z",
          "iopub.status.idle": "2021-08-19T16:10:27.374173Z",
          "shell.execute_reply.started": "2021-08-19T16:10:24.738515Z",
          "shell.execute_reply": "2021-08-19T16:10:27.373182Z"
        },
        "trusted": true,
        "id": "GR5I0cr4fjS6",
        "outputId": "cc44d7be-fd93-437f-83c9-a91642023f46"
      },
      "source": [
        "# Memory optimization\n",
        "train = reduce_mem_usage(train, use_float16=True)\n",
        "weather_train = reduce_mem_usage(weather_train, use_float16=True)\n",
        "metadata = reduce_mem_usage(metadata, use_float16=True)"
      ],
      "execution_count": null,
      "outputs": [
        {
          "name": "stdout",
          "text": "Memory usage of dataframe is 757.31 MB\nMemory usage after optimization is: 322.18 MB\nDecreased by 57.46%\nMemory usage of dataframe is 9.65 MB\nMemory usage after optimization is: 2.60 MB\nDecreased by 73.08%\nMemory usage of dataframe is 0.07 MB\nMemory usage after optimization is: 0.02 MB\nDecreased by 73.88%\n",
          "output_type": "stream"
        }
      ]
    },
    {
      "cell_type": "code",
      "metadata": {
        "execution": {
          "iopub.status.busy": "2021-08-19T16:10:29.267398Z",
          "iopub.execute_input": "2021-08-19T16:10:29.267789Z",
          "iopub.status.idle": "2021-08-19T16:10:37.376191Z",
          "shell.execute_reply.started": "2021-08-19T16:10:29.267755Z",
          "shell.execute_reply": "2021-08-19T16:10:37.374994Z"
        },
        "trusted": true,
        "id": "NTxqtSuSfjS8",
        "outputId": "715fa456-1752-4d94-9ff2-a489d4511b49"
      },
      "source": [
        "# Merge train data \n",
        "train = train.merge(metadata, on='building_id', how='left')\n",
        "train = train.merge(weather_train, on=['site_id', 'timestamp'], how='left')\n",
        "\n",
        "del weather_train; gc.collect()"
      ],
      "execution_count": null,
      "outputs": [
        {
          "execution_count": 9,
          "output_type": "execute_result",
          "data": {
            "text/plain": "0"
          },
          "metadata": {}
        }
      ]
    },
    {
      "cell_type": "code",
      "metadata": {
        "execution": {
          "iopub.status.busy": "2021-08-19T16:10:39.215942Z",
          "iopub.execute_input": "2021-08-19T16:10:39.216332Z",
          "iopub.status.idle": "2021-08-19T16:10:39.224241Z",
          "shell.execute_reply.started": "2021-08-19T16:10:39.216294Z",
          "shell.execute_reply": "2021-08-19T16:10:39.223051Z"
        },
        "trusted": true,
        "id": "DE9PpBKYfjS-"
      },
      "source": [
        "# Function for train and test data processing\n",
        "def data_parser(data) -> pd.DataFrame:\n",
        "    data.sort_values('timestamp')\n",
        "    data.reset_index(drop=True)\n",
        "    \n",
        "    data['timestamp'] = pd.to_datetime(data['timestamp'], format='%Y-%m-%d %H:%M:%S')\n",
        "    data['weekday'] = data['timestamp'].dt.weekday\n",
        "    data['hour'] = data['timestamp'].dt.hour\n",
        "    \n",
        "    data['square_feet'] =  np.log1p(data['square_feet']) \n",
        "    \n",
        "    data = data.drop(['timestamp', 'sea_level_pressure',\n",
        "        'wind_direction', 'wind_speed', 'year_built', 'floor_count'], axis=1)\n",
        "    \n",
        "    gc.collect()\n",
        "    \n",
        "    encoder = LabelEncoder()\n",
        "    data['primary_use'] = encoder.fit_transform(data['primary_use'])\n",
        "    \n",
        "    return data\n"
      ],
      "execution_count": null,
      "outputs": []
    },
    {
      "cell_type": "code",
      "metadata": {
        "execution": {
          "iopub.status.busy": "2021-08-19T16:10:45.466506Z",
          "iopub.execute_input": "2021-08-19T16:10:45.466871Z",
          "iopub.status.idle": "2021-08-19T16:11:01.931214Z",
          "shell.execute_reply.started": "2021-08-19T16:10:45.466840Z",
          "shell.execute_reply": "2021-08-19T16:11:01.930265Z"
        },
        "trusted": true,
        "id": "w3dDdCT_fjTB"
      },
      "source": [
        "# Train data processing\n",
        "train = data_parser(train)"
      ],
      "execution_count": null,
      "outputs": []
    },
    {
      "cell_type": "code",
      "metadata": {
        "execution": {
          "iopub.status.busy": "2021-08-19T16:11:04.918881Z",
          "iopub.execute_input": "2021-08-19T16:11:04.919254Z",
          "iopub.status.idle": "2021-08-19T16:11:05.343813Z",
          "shell.execute_reply.started": "2021-08-19T16:11:04.919212Z",
          "shell.execute_reply": "2021-08-19T16:11:05.342754Z"
        },
        "trusted": true,
        "id": "m96i4NqAfjTC"
      },
      "source": [
        "train[\"meter_reading\"] = np.log1p(train['meter_reading'])"
      ],
      "execution_count": null,
      "outputs": []
    },
    {
      "cell_type": "code",
      "metadata": {
        "execution": {
          "iopub.status.busy": "2021-08-19T16:11:07.669313Z",
          "iopub.execute_input": "2021-08-19T16:11:07.669810Z",
          "iopub.status.idle": "2021-08-19T16:11:08.651009Z",
          "shell.execute_reply.started": "2021-08-19T16:11:07.669771Z",
          "shell.execute_reply": "2021-08-19T16:11:08.649943Z"
        },
        "trusted": true,
        "id": "p5pY4hvKfjTD"
      },
      "source": [
        "# Define target and predictors\n",
        "target = train['meter_reading']\n",
        "features = train.drop(['meter_reading'], axis = 1) \n"
      ],
      "execution_count": null,
      "outputs": []
    },
    {
      "cell_type": "code",
      "metadata": {
        "execution": {
          "iopub.status.busy": "2021-08-19T16:11:09.459220Z",
          "iopub.execute_input": "2021-08-19T16:11:09.459772Z",
          "iopub.status.idle": "2021-08-19T16:11:11.428494Z",
          "shell.execute_reply.started": "2021-08-19T16:11:09.459739Z",
          "shell.execute_reply": "2021-08-19T16:11:11.427701Z"
        },
        "trusted": true,
        "id": "zFTVeAZPfjTE"
      },
      "source": [
        "from sklearn.model_selection import train_test_split\n",
        "train_x, cv_x= train_test_split(train, test_size=0.20, shuffle=False)"
      ],
      "execution_count": null,
      "outputs": []
    },
    {
      "cell_type": "code",
      "metadata": {
        "execution": {
          "iopub.status.busy": "2021-08-19T16:11:16.041969Z",
          "iopub.execute_input": "2021-08-19T16:11:16.042510Z",
          "iopub.status.idle": "2021-08-19T16:11:16.046485Z",
          "shell.execute_reply.started": "2021-08-19T16:11:16.042475Z",
          "shell.execute_reply": "2021-08-19T16:11:16.045519Z"
        },
        "trusted": true,
        "id": "jqxPDL1JfjTF"
      },
      "source": [
        "y_cv=cv_x['meter_reading']"
      ],
      "execution_count": null,
      "outputs": []
    },
    {
      "cell_type": "code",
      "metadata": {
        "execution": {
          "iopub.status.busy": "2021-08-19T17:16:14.917701Z",
          "iopub.execute_input": "2021-08-19T17:16:14.918102Z",
          "iopub.status.idle": "2021-08-19T17:16:15.017967Z",
          "shell.execute_reply.started": "2021-08-19T17:16:14.918070Z",
          "shell.execute_reply": "2021-08-19T17:16:15.016835Z"
        },
        "trusted": true,
        "id": "Z5BZd-ESfjTF"
      },
      "source": [
        "cv_x.drop(\"meter_reading\", axis=1, inplace=True)"
      ],
      "execution_count": null,
      "outputs": []
    },
    {
      "cell_type": "code",
      "metadata": {
        "execution": {
          "iopub.status.busy": "2021-08-19T16:11:17.964268Z",
          "iopub.execute_input": "2021-08-19T16:11:17.964928Z",
          "iopub.status.idle": "2021-08-19T16:11:19.739653Z",
          "shell.execute_reply.started": "2021-08-19T16:11:17.964873Z",
          "shell.execute_reply": "2021-08-19T16:11:19.738609Z"
        },
        "trusted": true,
        "id": "4OHBGusgfjTG"
      },
      "source": [
        "from sklearn.model_selection import train_test_split\n",
        "X_train, X_test= train_test_split(train_x, test_size=0.50, shuffle=False)"
      ],
      "execution_count": null,
      "outputs": []
    },
    {
      "cell_type": "code",
      "metadata": {
        "execution": {
          "iopub.status.busy": "2021-08-19T16:11:28.846575Z",
          "iopub.execute_input": "2021-08-19T16:11:28.846942Z",
          "iopub.status.idle": "2021-08-19T16:11:29.088815Z",
          "shell.execute_reply.started": "2021-08-19T16:11:28.846911Z",
          "shell.execute_reply": "2021-08-19T16:11:29.087750Z"
        },
        "trusted": true,
        "id": "YWgkDeKHfjTG",
        "outputId": "0add0316-7da6-46ac-aa8b-884c48e50d04"
      },
      "source": [
        "y_test= X_test['meter_reading']\n",
        "X_test.drop(\"meter_reading\", axis=1, inplace=True)"
      ],
      "execution_count": null,
      "outputs": [
        {
          "name": "stderr",
          "text": "/opt/conda/lib/python3.7/site-packages/pandas/core/frame.py:4315: SettingWithCopyWarning: \nA value is trying to be set on a copy of a slice from a DataFrame\n\nSee the caveats in the documentation: https://pandas.pydata.org/pandas-docs/stable/user_guide/indexing.html#returning-a-view-versus-a-copy\n  errors=errors,\n",
          "output_type": "stream"
        }
      ]
    },
    {
      "cell_type": "code",
      "metadata": {
        "execution": {
          "iopub.status.busy": "2021-08-19T16:13:04.847422Z",
          "iopub.execute_input": "2021-08-19T16:13:04.847833Z",
          "iopub.status.idle": "2021-08-19T16:13:05.578199Z",
          "shell.execute_reply.started": "2021-08-19T16:13:04.847797Z",
          "shell.execute_reply": "2021-08-19T16:13:05.577473Z"
        },
        "trusted": true,
        "id": "YoXC0NTtfjTG",
        "outputId": "2dadb4f2-4459-49f2-cab7-84594aae2143"
      },
      "source": [
        "train.drop(\"meter_reading\", axis=1)"
      ],
      "execution_count": null,
      "outputs": [
        {
          "execution_count": 18,
          "output_type": "execute_result",
          "data": {
            "text/plain": "          building_id  meter  site_id  primary_use  square_feet  \\\n0                 105      0        1            0    10.832181   \n1                 106      0        1            0     8.589514   \n2                 106      3        1            0     8.589514   \n3                 107      0        1            0    11.487946   \n4                 108      0        1            0    11.309352   \n...               ...    ...      ...          ...          ...   \n19852417         1444      0       15            1     9.884305   \n19852418         1445      0       15            0     8.366138   \n19852419         1446      0       15            1     9.329545   \n19852420         1447      0       15            4    10.301458   \n19852421         1448      0       15            6    11.432496   \n\n          air_temperature  cloud_coverage  dew_temperature  precip_depth_1_hr  \\\n0                3.800781             0.0         2.400391                0.0   \n1                3.800781             0.0         2.400391                0.0   \n2                3.800781             0.0         2.400391                0.0   \n3                3.800781             0.0         2.400391                0.0   \n4                3.800781             0.0         2.400391                0.0   \n...                   ...             ...              ...                ...   \n19852417         1.700195             2.0        -5.601562               -1.0   \n19852418         1.700195             2.0        -5.601562               -1.0   \n19852419         1.700195             2.0        -5.601562               -1.0   \n19852420         1.700195             2.0        -5.601562               -1.0   \n19852421         1.700195             2.0        -5.601562               -1.0   \n\n          weekday  hour  \n0               4     0  \n1               4     0  \n2               4     0  \n3               4     0  \n4               4     0  \n...           ...   ...  \n19852417        5    23  \n19852418        5    23  \n19852419        5    23  \n19852420        5    23  \n19852421        5    23  \n\n[19852422 rows x 11 columns]",
            "text/html": "<div>\n<style scoped>\n    .dataframe tbody tr th:only-of-type {\n        vertical-align: middle;\n    }\n\n    .dataframe tbody tr th {\n        vertical-align: top;\n    }\n\n    .dataframe thead th {\n        text-align: right;\n    }\n</style>\n<table border=\"1\" class=\"dataframe\">\n  <thead>\n    <tr style=\"text-align: right;\">\n      <th></th>\n      <th>building_id</th>\n      <th>meter</th>\n      <th>site_id</th>\n      <th>primary_use</th>\n      <th>square_feet</th>\n      <th>air_temperature</th>\n      <th>cloud_coverage</th>\n      <th>dew_temperature</th>\n      <th>precip_depth_1_hr</th>\n      <th>weekday</th>\n      <th>hour</th>\n    </tr>\n  </thead>\n  <tbody>\n    <tr>\n      <th>0</th>\n      <td>105</td>\n      <td>0</td>\n      <td>1</td>\n      <td>0</td>\n      <td>10.832181</td>\n      <td>3.800781</td>\n      <td>0.0</td>\n      <td>2.400391</td>\n      <td>0.0</td>\n      <td>4</td>\n      <td>0</td>\n    </tr>\n    <tr>\n      <th>1</th>\n      <td>106</td>\n      <td>0</td>\n      <td>1</td>\n      <td>0</td>\n      <td>8.589514</td>\n      <td>3.800781</td>\n      <td>0.0</td>\n      <td>2.400391</td>\n      <td>0.0</td>\n      <td>4</td>\n      <td>0</td>\n    </tr>\n    <tr>\n      <th>2</th>\n      <td>106</td>\n      <td>3</td>\n      <td>1</td>\n      <td>0</td>\n      <td>8.589514</td>\n      <td>3.800781</td>\n      <td>0.0</td>\n      <td>2.400391</td>\n      <td>0.0</td>\n      <td>4</td>\n      <td>0</td>\n    </tr>\n    <tr>\n      <th>3</th>\n      <td>107</td>\n      <td>0</td>\n      <td>1</td>\n      <td>0</td>\n      <td>11.487946</td>\n      <td>3.800781</td>\n      <td>0.0</td>\n      <td>2.400391</td>\n      <td>0.0</td>\n      <td>4</td>\n      <td>0</td>\n    </tr>\n    <tr>\n      <th>4</th>\n      <td>108</td>\n      <td>0</td>\n      <td>1</td>\n      <td>0</td>\n      <td>11.309352</td>\n      <td>3.800781</td>\n      <td>0.0</td>\n      <td>2.400391</td>\n      <td>0.0</td>\n      <td>4</td>\n      <td>0</td>\n    </tr>\n    <tr>\n      <th>...</th>\n      <td>...</td>\n      <td>...</td>\n      <td>...</td>\n      <td>...</td>\n      <td>...</td>\n      <td>...</td>\n      <td>...</td>\n      <td>...</td>\n      <td>...</td>\n      <td>...</td>\n      <td>...</td>\n    </tr>\n    <tr>\n      <th>19852417</th>\n      <td>1444</td>\n      <td>0</td>\n      <td>15</td>\n      <td>1</td>\n      <td>9.884305</td>\n      <td>1.700195</td>\n      <td>2.0</td>\n      <td>-5.601562</td>\n      <td>-1.0</td>\n      <td>5</td>\n      <td>23</td>\n    </tr>\n    <tr>\n      <th>19852418</th>\n      <td>1445</td>\n      <td>0</td>\n      <td>15</td>\n      <td>0</td>\n      <td>8.366138</td>\n      <td>1.700195</td>\n      <td>2.0</td>\n      <td>-5.601562</td>\n      <td>-1.0</td>\n      <td>5</td>\n      <td>23</td>\n    </tr>\n    <tr>\n      <th>19852419</th>\n      <td>1446</td>\n      <td>0</td>\n      <td>15</td>\n      <td>1</td>\n      <td>9.329545</td>\n      <td>1.700195</td>\n      <td>2.0</td>\n      <td>-5.601562</td>\n      <td>-1.0</td>\n      <td>5</td>\n      <td>23</td>\n    </tr>\n    <tr>\n      <th>19852420</th>\n      <td>1447</td>\n      <td>0</td>\n      <td>15</td>\n      <td>4</td>\n      <td>10.301458</td>\n      <td>1.700195</td>\n      <td>2.0</td>\n      <td>-5.601562</td>\n      <td>-1.0</td>\n      <td>5</td>\n      <td>23</td>\n    </tr>\n    <tr>\n      <th>19852421</th>\n      <td>1448</td>\n      <td>0</td>\n      <td>15</td>\n      <td>6</td>\n      <td>11.432496</td>\n      <td>1.700195</td>\n      <td>2.0</td>\n      <td>-5.601562</td>\n      <td>-1.0</td>\n      <td>5</td>\n      <td>23</td>\n    </tr>\n  </tbody>\n</table>\n<p>19852422 rows × 11 columns</p>\n</div>"
          },
          "metadata": {}
        }
      ]
    },
    {
      "cell_type": "code",
      "metadata": {
        "execution": {
          "iopub.status.busy": "2021-08-19T16:13:10.002532Z",
          "iopub.execute_input": "2021-08-19T16:13:10.002901Z",
          "iopub.status.idle": "2021-08-19T16:13:23.904484Z",
          "shell.execute_reply.started": "2021-08-19T16:13:10.002872Z",
          "shell.execute_reply": "2021-08-19T16:13:23.903562Z"
        },
        "trusted": true,
        "id": "Gv8ErsxxfjTH",
        "outputId": "14bea4b4-503c-499b-8f9d-f97fc813e1ea"
      },
      "source": [
        "# Process categorical features\n",
        "categorical_features = ['building_id', 'site_id', 'meter', 'primary_use']\n",
        "\n",
        "encoder = category_encoders.CountEncoder(cols=categorical_features)\n",
        "encoder.fit(train)\n",
        "features = encoder.transform(train)\n",
        "\n",
        "features_size = features.shape[0]\n",
        "for feature in categorical_features:\n",
        "    train[feature] = train[feature] / features_size\n"
      ],
      "execution_count": null,
      "outputs": [
        {
          "name": "stderr",
          "text": "/opt/conda/lib/python3.7/site-packages/category_encoders/utils.py:21: FutureWarning: is_categorical is deprecated and will be removed in a future version.  Use is_categorical_dtype instead\n  elif pd.api.types.is_categorical(cols):\n",
          "output_type": "stream"
        }
      ]
    },
    {
      "cell_type": "code",
      "metadata": {
        "execution": {
          "iopub.status.busy": "2021-08-19T16:13:36.953725Z",
          "iopub.execute_input": "2021-08-19T16:13:36.954088Z",
          "iopub.status.idle": "2021-08-19T16:14:14.678779Z",
          "shell.execute_reply.started": "2021-08-19T16:13:36.954059Z",
          "shell.execute_reply": "2021-08-19T16:14:14.677542Z"
        },
        "trusted": true,
        "id": "0wbYq6eZfjTI"
      },
      "source": [
        "# Missing data imputation\n",
        "imputer = SimpleImputer(missing_values=np.nan, strategy='median')\n",
        "imputer.fit(train)\n",
        "train = imputer.transform(train)"
      ],
      "execution_count": null,
      "outputs": []
    },
    {
      "cell_type": "markdown",
      "metadata": {
        "id": "9FVltyUIfu8p"
      },
      "source": [
        "Custom stack models"
      ]
    },
    {
      "cell_type": "code",
      "metadata": {
        "execution": {
          "iopub.status.busy": "2021-08-19T16:14:42.798404Z",
          "iopub.execute_input": "2021-08-19T16:14:42.798802Z",
          "iopub.status.idle": "2021-08-19T16:14:42.809090Z",
          "shell.execute_reply.started": "2021-08-19T16:14:42.798770Z",
          "shell.execute_reply": "2021-08-19T16:14:42.808013Z"
        },
        "trusted": true,
        "id": "ag86WDKTfjTJ"
      },
      "source": [
        "def create_models(df, alpha):\n",
        " \n",
        " models_list = []\n",
        " for i in tqdm(range(alpha)):\n",
        "   #Sample rows from D1\n",
        "    df_tr=df.sample(n=3500000, replace=True) \n",
        "    y_tr= df_tr['meter_reading']\n",
        "    df_tr.drop('meter_reading', axis=1, inplace=True)\n",
        "\n",
        "    #train GBDT on D1\n",
        "    gb_trees = lgb.LGBMRegressor(n_estimators=500,objective='regression', n_jobs=-1)\n",
        "    models_list.append(gb_trees.fit(df_tr,y_tr))\n",
        "\n",
        " return models_list\n",
        "\n",
        "#Predict on D2 using above models\n",
        "def predict_base_models(models,data):\n",
        "  y_pred=[]\n",
        "  for i in tqdm(models):\n",
        "    y_hat=i.predict(data)\n",
        "    y_pred.append(y_hat)\n",
        "  \n",
        "  return y_pred\n",
        "\n",
        "#create dataset with the above predictions\n",
        "def create_dataset(predict_values):\n",
        "  pred_values=np.reshape(predict_values[0], (len(predict_values[0]),1))\n",
        "  for i in range(1,len(predict_values)):\n",
        "    pred= np.reshape(predict_values[i], (len(predict_values[i]),1))\n",
        "    pred_values= np.hstack((pred_values,pred))\n",
        "  \n",
        "  return pred_values\n"
      ],
      "execution_count": null,
      "outputs": []
    },
    {
      "cell_type": "markdown",
      "metadata": {
        "id": "oOKXRUlmfjTK"
      },
      "source": [
        "i tried with 50, 100, 150 but my ram collapsed after 7 hours then  i tried with 20, 30, 40  ram colapsed in create_dataset i tired only 10 , 20 lets see it worked or not"
      ]
    },
    {
      "cell_type": "code",
      "metadata": {
        "execution": {
          "iopub.status.busy": "2021-08-19T16:14:48.158055Z",
          "iopub.execute_input": "2021-08-19T16:14:48.158471Z",
          "iopub.status.idle": "2021-08-19T16:37:28.368033Z",
          "shell.execute_reply.started": "2021-08-19T16:14:48.158435Z",
          "shell.execute_reply": "2021-08-19T16:37:28.366952Z"
        },
        "trusted": true,
        "id": "-7BIjkhNfjTL",
        "outputId": "803b5fdd-631c-46fa-e368-3fbe36f3f9d8"
      },
      "source": [
        "aplha = [10, 20]\n",
        "list_of_models = []\n",
        "pred_y = []\n",
        "pred_data = []\n",
        "for i in aplha:\n",
        "    model_list= create_models(X_train,i)\n",
        "    list_of_models.append(model_list)\n",
        "    i = i+1"
      ],
      "execution_count": null,
      "outputs": [
        {
          "name": "stderr",
          "text": "100%|██████████| 10/10 [07:32<00:00, 45.22s/it]\n100%|██████████| 20/20 [15:07<00:00, 45.40s/it]\n",
          "output_type": "stream"
        }
      ]
    },
    {
      "cell_type": "code",
      "metadata": {
        "execution": {
          "iopub.status.busy": "2021-08-19T16:40:50.766478Z",
          "iopub.execute_input": "2021-08-19T16:40:50.766905Z",
          "iopub.status.idle": "2021-08-19T17:12:26.946249Z",
          "shell.execute_reply.started": "2021-08-19T16:40:50.766863Z",
          "shell.execute_reply": "2021-08-19T17:12:26.945449Z"
        },
        "trusted": true,
        "id": "HvDzjbxdfjTM",
        "outputId": "134efb7a-1306-49e8-a028-1adbc5f830b6"
      },
      "source": [
        "pred_y = []\n",
        "for i in range(len(list_of_models)):\n",
        "    y_pred=predict_base_models(list_of_models[i],X_test)\n",
        "    pred_y.append(y_pred)"
      ],
      "execution_count": null,
      "outputs": [
        {
          "name": "stderr",
          "text": "100%|██████████| 10/10 [10:41<00:00, 64.20s/it]\n100%|██████████| 20/20 [20:54<00:00, 62.71s/it]\n",
          "output_type": "stream"
        }
      ]
    },
    {
      "cell_type": "code",
      "metadata": {
        "execution": {
          "iopub.status.busy": "2021-08-19T17:12:33.627981Z",
          "iopub.execute_input": "2021-08-19T17:12:33.628384Z",
          "iopub.status.idle": "2021-08-19T17:12:41.539445Z",
          "shell.execute_reply.started": "2021-08-19T17:12:33.628324Z",
          "shell.execute_reply": "2021-08-19T17:12:41.538512Z"
        },
        "trusted": true,
        "id": "_aFV5bkhfjTN"
      },
      "source": [
        "pred_data = []\n",
        "for i in range(len(pred_y)):\n",
        "    pred_dataset=create_dataset(pred_y[i])\n",
        "    pred_data.append(pred_dataset)"
      ],
      "execution_count": null,
      "outputs": []
    },
    {
      "cell_type": "code",
      "metadata": {
        "execution": {
          "iopub.status.busy": "2021-08-19T17:16:20.348763Z",
          "iopub.execute_input": "2021-08-19T17:16:20.349117Z",
          "iopub.status.idle": "2021-08-19T17:36:06.835234Z",
          "shell.execute_reply.started": "2021-08-19T17:16:20.349088Z",
          "shell.execute_reply": "2021-08-19T17:36:06.834131Z"
        },
        "trusted": true,
        "id": "kJl0xCm6fjTN",
        "outputId": "cef8feaf-65b8-4784-be76-31bf932a02f0"
      },
      "source": [
        "import math\n",
        "all_models = []\n",
        "for i in range(2):\n",
        "    lgb_model=lgb.LGBMRegressor(boosting_type='gbdt', n_estimators=500, objective='regression',n_jobs=-1)\n",
        "    lgb_model.fit(pred_data[i],y_test)\n",
        "    all_models.append(lgb_model)\n",
        "    cv_pred= predict_base_models(list_of_models[i],cv_x)\n",
        "    pred_data_cv=create_dataset(cv_pred)\n",
        "    pred_stack_cv=lgb_model.predict(pred_data_cv)\n",
        "    print(\"CV rmse for stacking regressor with estimators:\",500,'and with model',i, 'is',math.sqrt(mean_squared_error(y_cv, pred_stack_cv)))"
      ],
      "execution_count": null,
      "outputs": [
        {
          "name": "stderr",
          "text": "100%|██████████| 10/10 [05:05<00:00, 30.55s/it]\n",
          "output_type": "stream"
        },
        {
          "name": "stdout",
          "text": "CV rmse for stacking regressor with estimators: 500 and with model 0 is 1.113075807957141\n",
          "output_type": "stream"
        },
        {
          "name": "stderr",
          "text": "100%|██████████| 20/20 [10:02<00:00, 30.11s/it]\n",
          "output_type": "stream"
        },
        {
          "name": "stdout",
          "text": "CV rmse for stacking regressor with estimators: 500 and with model 1 is 1.0999007143356803\n",
          "output_type": "stream"
        }
      ]
    },
    {
      "cell_type": "code",
      "metadata": {
        "execution": {
          "iopub.status.busy": "2021-08-19T17:36:30.611715Z",
          "iopub.execute_input": "2021-08-19T17:36:30.612073Z",
          "iopub.status.idle": "2021-08-19T17:36:30.616537Z",
          "shell.execute_reply.started": "2021-08-19T17:36:30.612041Z",
          "shell.execute_reply": "2021-08-19T17:36:30.615529Z"
        },
        "trusted": true,
        "id": "tGMiYNa2fjTN"
      },
      "source": [
        "lgb_model = all_models[1]"
      ],
      "execution_count": null,
      "outputs": []
    },
    {
      "cell_type": "code",
      "metadata": {
        "execution": {
          "iopub.status.busy": "2021-08-19T17:36:45.773565Z",
          "iopub.execute_input": "2021-08-19T17:36:45.774178Z",
          "iopub.status.idle": "2021-08-19T17:36:45.848055Z",
          "shell.execute_reply.started": "2021-08-19T17:36:45.774144Z",
          "shell.execute_reply": "2021-08-19T17:36:45.847174Z"
        },
        "trusted": true,
        "id": "lTO6IMw1fjTO",
        "outputId": "a012e000-0f96-40f1-ce48-2eab11e4e698"
      },
      "source": [
        "import pickle\n",
        "import joblib\n",
        "filename_reg='stacked_model.sav'\n",
        "joblib.dump(lgb_model,filename_reg)"
      ],
      "execution_count": null,
      "outputs": [
        {
          "execution_count": 29,
          "output_type": "execute_result",
          "data": {
            "text/plain": "['stacked_model.sav']"
          },
          "metadata": {}
        }
      ]
    },
    {
      "cell_type": "markdown",
      "metadata": {
        "id": "u4UAbX-L5H-r"
      },
      "source": [
        "## Test data import and processing"
      ]
    },
    {
      "cell_type": "code",
      "metadata": {
        "execution": {
          "iopub.status.busy": "2021-08-18T05:10:39.367680Z",
          "iopub.execute_input": "2021-08-18T05:10:39.368056Z",
          "iopub.status.idle": "2021-08-18T05:11:09.277334Z",
          "shell.execute_reply.started": "2021-08-18T05:10:39.367990Z",
          "shell.execute_reply": "2021-08-18T05:11:09.276457Z"
        },
        "trusted": true,
        "id": "rWfXQKll5H-r"
      },
      "source": [
        "# Import test data\n",
        "test = pd.read_csv(f'{PATH}test.csv')\n",
        "weather_test = pd.read_csv(f'{PATH}weather_test.csv')"
      ],
      "execution_count": null,
      "outputs": []
    },
    {
      "cell_type": "code",
      "metadata": {
        "execution": {
          "iopub.status.busy": "2021-08-18T05:11:11.597684Z",
          "iopub.execute_input": "2021-08-18T05:11:11.598069Z",
          "iopub.status.idle": "2021-08-18T05:11:12.611376Z",
          "shell.execute_reply.started": "2021-08-18T05:11:11.598003Z",
          "shell.execute_reply": "2021-08-18T05:11:12.610172Z"
        },
        "trusted": true,
        "id": "wl8uBbb15H-s"
      },
      "source": [
        "row_ids = test['row_id']\n",
        "test.drop('row_id', axis=1, inplace=True)"
      ],
      "execution_count": null,
      "outputs": []
    },
    {
      "cell_type": "code",
      "metadata": {
        "execution": {
          "iopub.status.busy": "2021-08-18T05:11:15.685209Z",
          "iopub.execute_input": "2021-08-18T05:11:15.685591Z",
          "iopub.status.idle": "2021-08-18T05:12:26.892144Z",
          "shell.execute_reply.started": "2021-08-18T05:11:15.685526Z",
          "shell.execute_reply": "2021-08-18T05:12:26.891054Z"
        },
        "trusted": true,
        "id": "YcpvtkHB5H-s"
      },
      "source": [
        "# Test weather data processing\n",
        "weather_test = weather_data_parser(weather_test)"
      ],
      "execution_count": null,
      "outputs": []
    },
    {
      "cell_type": "code",
      "metadata": {
        "execution": {
          "iopub.status.busy": "2021-08-18T05:12:29.289448Z",
          "iopub.execute_input": "2021-08-18T05:12:29.289859Z",
          "iopub.status.idle": "2021-08-18T05:12:33.849148Z",
          "shell.execute_reply.started": "2021-08-18T05:12:29.289788Z",
          "shell.execute_reply": "2021-08-18T05:12:33.848265Z"
        },
        "trusted": true,
        "id": "m7FYrqyg5H-s",
        "outputId": "ea0e220f-784d-40fa-c527-ffab15ec2b55"
      },
      "source": [
        "# Memory optimization\n",
        "test = reduce_mem_usage(test, use_float16=True)\n",
        "weather_test = reduce_mem_usage(weather_test, use_float16=True)"
      ],
      "execution_count": null,
      "outputs": [
        {
          "output_type": "stream",
          "text": [
            "Memory usage of dataframe is 954.38 MB\n",
            "Memory usage after optimization is: 199.59 MB\n",
            "Decreased by 79.09%\n",
            "Memory usage of dataframe is 19.25 MB\n",
            "Memory usage after optimization is: 5.30 MB\n",
            "Decreased by 72.45%\n"
          ],
          "name": "stdout"
        }
      ]
    },
    {
      "cell_type": "code",
      "metadata": {
        "execution": {
          "iopub.status.busy": "2021-08-18T05:12:36.700525Z",
          "iopub.execute_input": "2021-08-18T05:12:36.700897Z",
          "iopub.status.idle": "2021-08-18T05:12:49.060284Z",
          "shell.execute_reply.started": "2021-08-18T05:12:36.700831Z",
          "shell.execute_reply": "2021-08-18T05:12:49.059320Z"
        },
        "trusted": true,
        "id": "I5racfCm5H-s",
        "outputId": "0bdaee96-0022-42e0-d2e7-0830e7e7aae2"
      },
      "source": [
        "\n",
        "# Merge test data\n",
        "test = test.merge(metadata, on='building_id', how='left')\n",
        "test = test.merge(weather_test, on=['site_id', 'timestamp'], how='left')\n",
        "\n",
        "del metadata; gc.collect()"
      ],
      "execution_count": null,
      "outputs": [
        {
          "output_type": "execute_result",
          "data": {
            "text/plain": [
              "0"
            ]
          },
          "metadata": {
            "tags": []
          },
          "execution_count": 25
        }
      ]
    },
    {
      "cell_type": "code",
      "metadata": {
        "execution": {
          "iopub.status.busy": "2021-08-18T05:13:12.424692Z",
          "iopub.execute_input": "2021-08-18T05:13:12.425356Z",
          "iopub.status.idle": "2021-08-18T05:13:38.272634Z",
          "shell.execute_reply.started": "2021-08-18T05:13:12.425000Z",
          "shell.execute_reply": "2021-08-18T05:13:38.271577Z"
        },
        "trusted": true,
        "id": "7kbcOxde5H-t"
      },
      "source": [
        "# Test data processing\n",
        "test = data_parser(test)\n",
        "\n",
        "\n"
      ],
      "execution_count": null,
      "outputs": []
    },
    {
      "cell_type": "code",
      "metadata": {
        "execution": {
          "iopub.status.busy": "2021-08-18T05:13:42.293102Z",
          "iopub.execute_input": "2021-08-18T05:13:42.293598Z",
          "iopub.status.idle": "2021-08-18T05:14:07.654325Z",
          "shell.execute_reply.started": "2021-08-18T05:13:42.293535Z",
          "shell.execute_reply": "2021-08-18T05:14:07.653499Z"
        },
        "trusted": true,
        "id": "Q_E9XzPP5H-u"
      },
      "source": [
        "test = encoder.transform(test)\n",
        "for feature in categorical_features:\n",
        "    test[feature] = test[feature] / features_size"
      ],
      "execution_count": null,
      "outputs": []
    },
    {
      "cell_type": "code",
      "metadata": {
        "execution": {
          "iopub.status.busy": "2021-08-18T05:14:10.534195Z",
          "iopub.execute_input": "2021-08-18T05:14:10.534533Z",
          "iopub.status.idle": "2021-08-18T05:14:21.265221Z",
          "shell.execute_reply.started": "2021-08-18T05:14:10.534474Z",
          "shell.execute_reply": "2021-08-18T05:14:21.264341Z"
        },
        "trusted": true,
        "id": "qh0XS0u65H-u"
      },
      "source": [
        "\n",
        "test = imputer.transform(test)"
      ],
      "execution_count": null,
      "outputs": []
    },
    {
      "cell_type": "markdown",
      "metadata": {
        "id": "W6WPO93q5H-u"
      },
      "source": [
        "## Make predictions and create submission file"
      ]
    },
    {
      "cell_type": "code",
      "metadata": {
        "execution": {
          "iopub.status.busy": "2021-08-18T05:47:56.247678Z",
          "iopub.execute_input": "2021-08-18T05:47:56.248029Z",
          "iopub.status.idle": "2021-08-18T05:47:56.266281Z",
          "shell.execute_reply.started": "2021-08-18T05:47:56.247968Z",
          "shell.execute_reply": "2021-08-18T05:47:56.265275Z"
        },
        "trusted": true,
        "id": "zN3pt6EO5H-v"
      },
      "source": [
        "y_pred = lgb_model.predict(np.array(test))"
      ],
      "execution_count": null,
      "outputs": []
    },
    {
      "cell_type": "code",
      "metadata": {
        "id": "nQCZ5rkP5H-w"
      },
      "source": [
        "sample_submission = pd.read_csv(\"/kaggle/input/ashrae-energy-prediction/sample_submission.csv\")\n",
        "sample_submission[\"meter_reading\"] =  np.expm1(y_pred)\n",
        "sample_submission.to_csv(\"./custom_regressor2_submission\", index=False)"
      ],
      "execution_count": null,
      "outputs": []
    },
    {
      "cell_type": "code",
      "metadata": {
        "colab": {
          "base_uri": "https://localhost:8080/"
        },
        "id": "Out5nHYK5H-w",
        "outputId": "d11337d8-8c17-4345-c124-dbe4a4602d86"
      },
      "source": [
        "from prettytable import PrettyTable\n",
        "summary = PrettyTable()\n",
        "\n",
        "\n",
        "summary.field_names = [\"Model\",\"RMSE\"]\n",
        "summary.add_row([\"Model_0\",1.11])\n",
        "summary.add_row([\"Model_1\",1.09])\n",
        "\n",
        "print(summary)"
      ],
      "execution_count": 1,
      "outputs": [
        {
          "output_type": "stream",
          "text": [
            "+---------+------+\n",
            "|  Model  | RMSE |\n",
            "+---------+------+\n",
            "| Model_0 | 1.11 |\n",
            "| Model_1 | 1.09 |\n",
            "+---------+------+\n"
          ],
          "name": "stdout"
        }
      ]
    },
    {
      "cell_type": "code",
      "metadata": {
        "colab": {
          "base_uri": "https://localhost:8080/",
          "height": 142
        },
        "id": "ijZ7INid5-JM",
        "outputId": "6841b1d0-f786-4507-f614-b22a36bd5887"
      },
      "source": [
        "from IPython.display import Image\n",
        "Image(filename='/content/custom regressor2.PNG')"
      ],
      "execution_count": 2,
      "outputs": [
        {
          "output_type": "execute_result",
          "data": {
            "image/png": "[encoded data removed]",
            "text/plain": [
              "<IPython.core.display.Image object>"
            ]
          },
          "metadata": {},
          "execution_count": 2
        }
      ]
    },
    {
      "cell_type": "markdown",
      "metadata": {
        "id": "X_Bk7vlG6G_P"
      },
      "source": [
        "Summary\n",
        "1. I impute weather data with mean and median\n",
        "2. I imput the the remaining missing values with SimpleImputer with median\n",
        "3. Very basic FE because of the ram problem and also i seen in the lightgb gbdt that raw features are the most important fetaures \n",
        "4. Remove outlier\n",
        "5. Do standardisation on train and test\n",
        "6. Build the custom stacked regressor models with sampling with replacement with hyperparameter tuning\n",
        "7. This file run on kaggle notebook please don't try to run on the google colab because of the limited ram\n"
      ]
    },
    {
      "cell_type": "markdown",
      "metadata": {
        "id": "fqQF9oaq6Pog"
      },
      "source": [
        "Refrences\n",
        "\n",
        "1. https://www.kaggle.com/aitude/ashrae-missing-weather-data-handling"
      ]
    },
    {
      "cell_type": "code",
      "metadata": {
        "id": "ExRV679D6D2t"
      },
      "source": [
        ""
      ],
      "execution_count": null,
      "outputs": []
    }
  ]
}