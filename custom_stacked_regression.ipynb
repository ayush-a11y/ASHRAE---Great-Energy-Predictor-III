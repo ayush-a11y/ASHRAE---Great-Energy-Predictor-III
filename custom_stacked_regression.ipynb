{
  "nbformat": 4,
  "nbformat_minor": 0,
  "metadata": {
    "kernelspec": {
      "language": "python",
      "display_name": "Python 3",
      "name": "python3"
    },
    "language_info": {
      "name": "python",
      "version": "3.6.6",
      "mimetype": "text/x-python",
      "codemirror_mode": {
        "name": "ipython",
        "version": 3
      },
      "pygments_lexer": "ipython3",
      "nbconvert_exporter": "python",
      "file_extension": ".py"
    },
    "colab": {
      "name": "custom-stacked-regression.ipynb",
      "provenance": []
    }
  },
  "cells": [
    {
      "cell_type": "markdown",
      "metadata": {
        "id": "jr2AtDJ-5H-P"
      },
      "source": [
        "## Train data import and processing"
      ]
    },
    {
      "cell_type": "code",
      "metadata": {
        "execution": {
          "iopub.status.busy": "2021-08-18T05:05:50.199779Z",
          "iopub.execute_input": "2021-08-18T05:05:50.200257Z",
          "iopub.status.idle": "2021-08-18T05:05:50.210202Z",
          "shell.execute_reply.started": "2021-08-18T05:05:50.200197Z",
          "shell.execute_reply": "2021-08-18T05:05:50.208715Z"
        },
        "trusted": true,
        "id": "9bK5QTFH5H-Q"
      },
      "source": [
        "import os, gc\n",
        "import datetime\n",
        "\n",
        "import numpy as np\n",
        "import pandas as pd\n",
        "\n",
        "import category_encoders\n",
        "\n",
        "from sklearn.impute import SimpleImputer\n",
        "from sklearn.metrics import mean_squared_error\n",
        "from sklearn.model_selection import KFold\n",
        "from sklearn.preprocessing import LabelEncoder\n",
        "\n",
        "\n",
        "from lightgbm import LGBMRegressor\n",
        "\n",
        "\n",
        "from xgboost import XGBRegressor\n",
        "import pickle\n",
        "import joblib\n",
        "from tqdm import tqdm\n",
        "import lightgbm as lgb\n",
        "\n",
        "from pandas.api.types import is_categorical_dtype\n",
        "from pandas.api.types import is_datetime64_any_dtype as is_datetime"
      ],
      "execution_count": null,
      "outputs": []
    },
    {
      "cell_type": "code",
      "metadata": {
        "execution": {
          "iopub.status.busy": "2021-08-18T05:05:53.370299Z",
          "iopub.execute_input": "2021-08-18T05:05:53.370847Z",
          "iopub.status.idle": "2021-08-18T05:05:53.396047Z",
          "shell.execute_reply.started": "2021-08-18T05:05:53.370759Z",
          "shell.execute_reply": "2021-08-18T05:05:53.394539Z"
        },
        "trusted": true,
        "id": "6pZhCWqu5H-R"
      },
      "source": [
        "# Memory optimization\n",
        "\n",
        "# Original code from https://www.kaggle.com/gemartin/load-data-reduce-memory-usage by @gemartin\n",
        "# Modified to support timestamp type, categorical type\n",
        "# Modified to add option to use float16\n",
        "def reduce_mem_usage(data, use_float16=False) -> pd.DataFrame:\n",
        "    start_mem = data.memory_usage().sum() / 1024**2\n",
        "    print('Memory usage of dataframe is {:.2f} MB'.format(start_mem))\n",
        "\n",
        "    for col in data.columns:\n",
        "        if is_datetime(data[col]) or is_categorical_dtype(data[col]):\n",
        "            continue\n",
        "        col_type = data[col].dtype\n",
        "\n",
        "        if col_type != object:\n",
        "            c_min = data[col].min()\n",
        "            c_max = data[col].max()\n",
        "            if str(col_type)[:3] == 'int':\n",
        "                if c_min > np.iinfo(np.int8).min and c_max < np.iinfo(np.int8).max:\n",
        "                    data[col] = data[col].astype(np.int8)\n",
        "                elif c_min > np.iinfo(np.int16).min and c_max < np.iinfo(np.int16).max:\n",
        "                    data[col] = data[col].astype(np.int16)\n",
        "                elif c_min > np.iinfo(np.int32).min and c_max < np.iinfo(np.int32).max:\n",
        "                    data[col] = data[col].astype(np.int32)\n",
        "                elif c_min > np.iinfo(np.int64).min and c_max < np.iinfo(np.int64).max:\n",
        "                    data[col] = data[col].astype(np.int64)\n",
        "            else:\n",
        "                if use_float16 and c_min > np.finfo(np.float16).min and c_max < np.finfo(np.float16).max:\n",
        "                    data[col] = data[col].astype(np.float16)\n",
        "                elif c_min > np.finfo(np.float32).min and c_max < np.finfo(np.float32).max:\n",
        "                    data[col] = data[col].astype(np.float32)\n",
        "                else:\n",
        "                    data[col] = data[col].astype(np.float64)\n",
        "        else:\n",
        "            data[col] = data[col].astype('category')\n",
        "\n",
        "    end_mem = data.memory_usage().sum() / 1024**2\n",
        "    print('Memory usage after optimization is: {:.2f} MB'.format(end_mem))\n",
        "    print('Decreased by {:.2f}%'.format(\n",
        "        100 * (start_mem - end_mem) / start_mem))\n",
        "\n",
        "    return data"
      ],
      "execution_count": null,
      "outputs": []
    },
    {
      "cell_type": "code",
      "metadata": {
        "execution": {
          "iopub.status.busy": "2021-08-18T05:05:56.667676Z",
          "iopub.execute_input": "2021-08-18T05:05:56.668043Z",
          "iopub.status.idle": "2021-08-18T05:05:56.673208Z",
          "shell.execute_reply.started": "2021-08-18T05:05:56.667990Z",
          "shell.execute_reply": "2021-08-18T05:05:56.671632Z"
        },
        "trusted": true,
        "id": "QdEoUInZ5H-T"
      },
      "source": [
        "# Path to data \n",
        "PATH = '../input/ashrae-energy-prediction/'"
      ],
      "execution_count": null,
      "outputs": []
    },
    {
      "cell_type": "code",
      "metadata": {
        "execution": {
          "iopub.status.busy": "2021-08-18T05:05:59.519915Z",
          "iopub.execute_input": "2021-08-18T05:05:59.520303Z",
          "iopub.status.idle": "2021-08-18T05:06:14.948046Z",
          "shell.execute_reply.started": "2021-08-18T05:05:59.520248Z",
          "shell.execute_reply": "2021-08-18T05:06:14.947096Z"
        },
        "trusted": true,
        "id": "e8f-XX5w5H-U"
      },
      "source": [
        "# Import train data\n",
        "train = pd.read_csv(f'{PATH}train.csv')\n",
        "weather_train = pd.read_csv(f'{PATH}weather_train.csv')\n",
        "\n",
        "# Import metadata\n",
        "metadata = pd.read_csv(f'{PATH}building_metadata.csv')"
      ],
      "execution_count": null,
      "outputs": []
    },
    {
      "cell_type": "code",
      "metadata": {
        "execution": {
          "iopub.status.busy": "2021-08-18T05:06:19.835943Z",
          "iopub.execute_input": "2021-08-18T05:06:19.836315Z",
          "iopub.status.idle": "2021-08-18T05:06:24.374258Z",
          "shell.execute_reply.started": "2021-08-18T05:06:19.836260Z",
          "shell.execute_reply": "2021-08-18T05:06:24.373064Z"
        },
        "trusted": true,
        "id": "yX5l2Y_15H-W"
      },
      "source": [
        "# Remove outliers in train data\n",
        "train = train[train['building_id'] != 1099]\n",
        "train = train.query('not (building_id <= 104 & meter == 0 & timestamp <= \"2016-05-20\")')"
      ],
      "execution_count": null,
      "outputs": []
    },
    {
      "cell_type": "code",
      "metadata": {
        "execution": {
          "iopub.status.busy": "2021-08-18T05:06:27.358333Z",
          "iopub.execute_input": "2021-08-18T05:06:27.358640Z",
          "iopub.status.idle": "2021-08-18T05:06:27.382285Z",
          "shell.execute_reply.started": "2021-08-18T05:06:27.358588Z",
          "shell.execute_reply": "2021-08-18T05:06:27.381566Z"
        },
        "trusted": true,
        "id": "is_Cd8Px5H-X"
      },
      "source": [
        "# Function for weather data processing\n",
        "def weather_data_parser(weather_data) -> pd.DataFrame:\n",
        "    time_format = '%Y-%m-%d %H:%M:%S'\n",
        "    start_date = datetime.datetime.strptime(weather_data['timestamp'].min(), time_format)\n",
        "    end_date = datetime.datetime.strptime(weather_data['timestamp'].max(), time_format)\n",
        "    total_hours = int(((end_date - start_date).total_seconds() + 3600) / 3600)\n",
        "    hours_list = [(end_date - datetime.timedelta(hours=x)).strftime(time_format) for x in range(total_hours)]\n",
        "\n",
        "    for site_id in range(16):\n",
        "        site_hours = np.array(weather_data[weather_data['site_id'] == site_id]['timestamp'])\n",
        "        new_rows = pd.DataFrame(np.setdiff1d(hours_list, site_hours), columns=['timestamp'])\n",
        "        new_rows['site_id'] = site_id\n",
        "        weather_data = pd.concat([weather_data, new_rows], sort=True)\n",
        "        weather_data = weather_data.reset_index(drop=True)           \n",
        "\n",
        "    weather_data['datetime'] = pd.to_datetime(weather_data['timestamp'])\n",
        "    weather_data['day'] = weather_data['datetime'].dt.day\n",
        "    weather_data['week'] = weather_data['datetime'].dt.week\n",
        "    weather_data['month'] = weather_data['datetime'].dt.month\n",
        "\n",
        "    weather_data = weather_data.set_index(['site_id', 'day', 'month'])\n",
        "\n",
        "    air_temperature_filler = pd.DataFrame(weather_data.groupby(['site_id','day','month'])['air_temperature'].median(), columns=['air_temperature'])\n",
        "    weather_data.update(air_temperature_filler, overwrite=False)\n",
        "\n",
        "    cloud_coverage_filler = weather_data.groupby(['site_id', 'day', 'month'])['cloud_coverage'].median()\n",
        "    cloud_coverage_filler = pd.DataFrame(cloud_coverage_filler.fillna(method='ffill'), columns=['cloud_coverage'])\n",
        "\n",
        "    weather_data.update(cloud_coverage_filler, overwrite=False)\n",
        "\n",
        "    due_temperature_filler = pd.DataFrame(weather_data.groupby(['site_id','day','month'])['dew_temperature'].median(), columns=['dew_temperature'])\n",
        "    weather_data.update(due_temperature_filler, overwrite=False)\n",
        "\n",
        "    sea_level_filler = weather_data.groupby(['site_id','day','month'])['sea_level_pressure'].median()\n",
        "    sea_level_filler = pd.DataFrame(sea_level_filler.fillna(method='ffill'), columns=['sea_level_pressure'])\n",
        "\n",
        "    weather_data.update(sea_level_filler, overwrite=False)\n",
        "\n",
        "    wind_direction_filler =  pd.DataFrame(weather_data.groupby(['site_id','day','month'])['wind_direction'].median(), columns=['wind_direction'])\n",
        "    weather_data.update(wind_direction_filler, overwrite=False)\n",
        "\n",
        "    wind_speed_filler =  pd.DataFrame(weather_data.groupby(['site_id','day','month'])['wind_speed'].median(), columns=['wind_speed'])\n",
        "    weather_data.update(wind_speed_filler, overwrite=False)\n",
        "\n",
        "    precip_depth_filler = weather_data.groupby(['site_id','day','month'])['precip_depth_1_hr'].median()\n",
        "    precip_depth_filler = pd.DataFrame(precip_depth_filler.fillna(method='ffill'), columns=['precip_depth_1_hr'])\n",
        "\n",
        "    weather_data.update(precip_depth_filler, overwrite=False)\n",
        "\n",
        "    weather_data = weather_data.reset_index()\n",
        "    weather_data = weather_data.drop(['datetime','day','week','month'], axis=1)\n",
        "\n",
        "    return weather_data"
      ],
      "execution_count": null,
      "outputs": []
    },
    {
      "cell_type": "code",
      "metadata": {
        "execution": {
          "iopub.status.busy": "2021-08-18T05:06:33.079229Z",
          "iopub.execute_input": "2021-08-18T05:06:33.079672Z",
          "iopub.status.idle": "2021-08-18T05:06:54.164260Z",
          "shell.execute_reply.started": "2021-08-18T05:06:33.079604Z",
          "shell.execute_reply": "2021-08-18T05:06:54.163377Z"
        },
        "trusted": true,
        "id": "xiWVCDVu5H-e"
      },
      "source": [
        "# Train weather data processing\n",
        "weather_train = weather_data_parser(weather_train)"
      ],
      "execution_count": null,
      "outputs": []
    },
    {
      "cell_type": "code",
      "metadata": {
        "execution": {
          "iopub.status.busy": "2021-08-18T05:06:59.661838Z",
          "iopub.execute_input": "2021-08-18T05:06:59.662300Z",
          "iopub.status.idle": "2021-08-18T05:07:02.007205Z",
          "shell.execute_reply.started": "2021-08-18T05:06:59.662230Z",
          "shell.execute_reply": "2021-08-18T05:07:02.006350Z"
        },
        "trusted": true,
        "id": "iVmi9bax5H-f",
        "outputId": "c3a92d86-e5f8-4681-8701-f2977eab6b63"
      },
      "source": [
        "# Memory optimization\n",
        "train = reduce_mem_usage(train, use_float16=True)\n",
        "weather_train = reduce_mem_usage(weather_train, use_float16=True)\n",
        "metadata = reduce_mem_usage(metadata, use_float16=True)"
      ],
      "execution_count": null,
      "outputs": [
        {
          "output_type": "stream",
          "text": [
            "Memory usage of dataframe is 757.31 MB\n",
            "Memory usage after optimization is: 322.24 MB\n",
            "Decreased by 57.45%\n",
            "Memory usage of dataframe is 9.65 MB\n",
            "Memory usage after optimization is: 2.66 MB\n",
            "Decreased by 72.46%\n",
            "Memory usage of dataframe is 0.07 MB\n",
            "Memory usage after optimization is: 0.02 MB\n",
            "Decreased by 73.76%\n"
          ],
          "name": "stdout"
        }
      ]
    },
    {
      "cell_type": "code",
      "metadata": {
        "execution": {
          "iopub.status.busy": "2021-08-18T05:07:05.826107Z",
          "iopub.execute_input": "2021-08-18T05:07:05.826467Z",
          "iopub.status.idle": "2021-08-18T05:07:12.044198Z",
          "shell.execute_reply.started": "2021-08-18T05:07:05.826412Z",
          "shell.execute_reply": "2021-08-18T05:07:12.043300Z"
        },
        "trusted": true,
        "id": "u_HD-6l85H-g",
        "outputId": "fa9b0bd2-f363-4b1c-8bdb-1501a019ee73"
      },
      "source": [
        "# Merge train data \n",
        "train = train.merge(metadata, on='building_id', how='left')\n",
        "train = train.merge(weather_train, on=['site_id', 'timestamp'], how='left')\n",
        "\n",
        "del weather_train; gc.collect()"
      ],
      "execution_count": null,
      "outputs": [
        {
          "output_type": "execute_result",
          "data": {
            "text/plain": [
              "0"
            ]
          },
          "metadata": {
            "tags": []
          },
          "execution_count": 10
        }
      ]
    },
    {
      "cell_type": "code",
      "metadata": {
        "execution": {
          "iopub.status.busy": "2021-08-18T05:07:15.685935Z",
          "iopub.execute_input": "2021-08-18T05:07:15.686320Z",
          "iopub.status.idle": "2021-08-18T05:07:15.696182Z",
          "shell.execute_reply.started": "2021-08-18T05:07:15.686263Z",
          "shell.execute_reply": "2021-08-18T05:07:15.694884Z"
        },
        "trusted": true,
        "id": "i7WBkzdL5H-h"
      },
      "source": [
        "# Function for train and test data processing\n",
        "def data_parser(data) -> pd.DataFrame:\n",
        "    data.sort_values('timestamp')\n",
        "    data.reset_index(drop=True)\n",
        "    \n",
        "    data['timestamp'] = pd.to_datetime(data['timestamp'], format='%Y-%m-%d %H:%M:%S')\n",
        "    data['weekday'] = data['timestamp'].dt.weekday\n",
        "    data['hour'] = data['timestamp'].dt.hour\n",
        "    \n",
        "    data['square_feet'] =  np.log1p(data['square_feet']) \n",
        "    \n",
        "    data = data.drop(['timestamp', 'sea_level_pressure',\n",
        "        'wind_direction', 'wind_speed', 'year_built', 'floor_count'], axis=1)\n",
        "    \n",
        "    gc.collect()\n",
        "    \n",
        "    encoder = LabelEncoder()\n",
        "    data['primary_use'] = encoder.fit_transform(data['primary_use'])\n",
        "    \n",
        "    return data\n"
      ],
      "execution_count": null,
      "outputs": []
    },
    {
      "cell_type": "code",
      "metadata": {
        "execution": {
          "iopub.status.busy": "2021-08-18T05:07:17.373116Z",
          "iopub.execute_input": "2021-08-18T05:07:17.373486Z",
          "iopub.status.idle": "2021-08-18T05:07:29.223932Z",
          "shell.execute_reply.started": "2021-08-18T05:07:17.373427Z",
          "shell.execute_reply": "2021-08-18T05:07:29.223256Z"
        },
        "trusted": true,
        "id": "xxyx5oAN5H-i"
      },
      "source": [
        "# Train data processing\n",
        "train = data_parser(train)"
      ],
      "execution_count": null,
      "outputs": []
    },
    {
      "cell_type": "code",
      "metadata": {
        "execution": {
          "iopub.status.busy": "2021-08-18T05:07:31.395325Z",
          "iopub.execute_input": "2021-08-18T05:07:31.395779Z",
          "iopub.status.idle": "2021-08-18T05:07:31.789826Z",
          "shell.execute_reply.started": "2021-08-18T05:07:31.395725Z",
          "shell.execute_reply": "2021-08-18T05:07:31.789134Z"
        },
        "trusted": true,
        "id": "wI8jhhS55H-j"
      },
      "source": [
        "train[\"meter_reading\"] = np.log1p(train['meter_reading'])"
      ],
      "execution_count": null,
      "outputs": []
    },
    {
      "cell_type": "code",
      "metadata": {
        "execution": {
          "iopub.status.busy": "2021-08-18T05:07:35.622563Z",
          "iopub.execute_input": "2021-08-18T05:07:35.623037Z",
          "iopub.status.idle": "2021-08-18T05:07:37.058729Z",
          "shell.execute_reply.started": "2021-08-18T05:07:35.622977Z",
          "shell.execute_reply": "2021-08-18T05:07:37.057995Z"
        },
        "trusted": true,
        "id": "SVnO97di5H-j"
      },
      "source": [
        "from sklearn.model_selection import train_test_split\n",
        "train_x, cv_x= train_test_split(train, test_size=0.20, shuffle=False)"
      ],
      "execution_count": null,
      "outputs": []
    },
    {
      "cell_type": "code",
      "metadata": {
        "execution": {
          "iopub.status.busy": "2021-08-18T05:07:45.349932Z",
          "iopub.execute_input": "2021-08-18T05:07:45.350526Z",
          "iopub.status.idle": "2021-08-18T05:07:45.356251Z",
          "shell.execute_reply.started": "2021-08-18T05:07:45.350459Z",
          "shell.execute_reply": "2021-08-18T05:07:45.355123Z"
        },
        "trusted": true,
        "id": "YLWBLRJ85H-j"
      },
      "source": [
        "y_cv=cv_x['meter_reading']"
      ],
      "execution_count": null,
      "outputs": []
    },
    {
      "cell_type": "code",
      "metadata": {
        "execution": {
          "iopub.status.busy": "2021-08-18T05:35:54.232386Z",
          "iopub.execute_input": "2021-08-18T05:35:54.232957Z",
          "iopub.status.idle": "2021-08-18T05:35:54.631864Z",
          "shell.execute_reply.started": "2021-08-18T05:35:54.232874Z",
          "shell.execute_reply": "2021-08-18T05:35:54.630377Z"
        },
        "trusted": true,
        "id": "WdHtQ7zQ5H-p"
      },
      "source": [
        "cv_x.drop(\"meter_reading\", axis=1, inplace=True)"
      ],
      "execution_count": null,
      "outputs": []
    },
    {
      "cell_type": "code",
      "metadata": {
        "execution": {
          "iopub.status.busy": "2021-08-18T05:07:48.376788Z",
          "iopub.execute_input": "2021-08-18T05:07:48.377158Z",
          "iopub.status.idle": "2021-08-18T05:07:49.287904Z",
          "shell.execute_reply.started": "2021-08-18T05:07:48.377095Z",
          "shell.execute_reply": "2021-08-18T05:07:49.286909Z"
        },
        "trusted": true,
        "id": "BoQ5M3wC5H-k"
      },
      "source": [
        "from sklearn.model_selection import train_test_split\n",
        "X_train, X_test= train_test_split(train_x, test_size=0.50, shuffle=False)"
      ],
      "execution_count": null,
      "outputs": []
    },
    {
      "cell_type": "code",
      "metadata": {
        "execution": {
          "iopub.status.busy": "2021-08-18T05:07:52.204459Z",
          "iopub.execute_input": "2021-08-18T05:07:52.204793Z",
          "iopub.status.idle": "2021-08-18T05:07:52.429629Z",
          "shell.execute_reply.started": "2021-08-18T05:07:52.204735Z",
          "shell.execute_reply": "2021-08-18T05:07:52.428919Z"
        },
        "trusted": true,
        "id": "xTFx5_Sz5H-k",
        "outputId": "6e5e80cf-da55-42cc-8cb3-f94012437620"
      },
      "source": [
        "y_test= X_test['meter_reading']\n",
        "X_test.drop(\"meter_reading\", axis=1, inplace=True)"
      ],
      "execution_count": null,
      "outputs": [
        {
          "output_type": "stream",
          "text": [
            "/opt/conda/lib/python3.6/site-packages/pandas/core/frame.py:4117: SettingWithCopyWarning: \n",
            "A value is trying to be set on a copy of a slice from a DataFrame\n",
            "\n",
            "See the caveats in the documentation: http://pandas.pydata.org/pandas-docs/stable/user_guide/indexing.html#returning-a-view-versus-a-copy\n",
            "  errors=errors,\n"
          ],
          "name": "stderr"
        }
      ]
    },
    {
      "cell_type": "code",
      "metadata": {
        "execution": {
          "iopub.status.busy": "2021-08-18T05:09:36.750576Z",
          "iopub.execute_input": "2021-08-18T05:09:36.750918Z",
          "iopub.status.idle": "2021-08-18T05:09:37.323764Z",
          "shell.execute_reply.started": "2021-08-18T05:09:36.750876Z",
          "shell.execute_reply": "2021-08-18T05:09:37.322747Z"
        },
        "trusted": true,
        "id": "HDHejbBa5H-l"
      },
      "source": [
        "target = train[\"meter_reading\"]\n",
        "train = train.drop(\"meter_reading\", axis=1)"
      ],
      "execution_count": null,
      "outputs": []
    },
    {
      "cell_type": "code",
      "metadata": {
        "execution": {
          "iopub.status.busy": "2021-08-17T17:52:28.295484Z",
          "iopub.execute_input": "2021-08-17T17:52:28.295869Z",
          "iopub.status.idle": "2021-08-17T17:52:28.304089Z",
          "shell.execute_reply.started": "2021-08-17T17:52:28.295813Z",
          "shell.execute_reply": "2021-08-17T17:52:28.30277Z"
        },
        "trusted": true,
        "id": "MC-8evZh5H-l"
      },
      "source": [
        "train.columns"
      ],
      "execution_count": null,
      "outputs": []
    },
    {
      "cell_type": "code",
      "metadata": {
        "execution": {
          "iopub.status.busy": "2021-08-18T05:09:42.515884Z",
          "iopub.execute_input": "2021-08-18T05:09:42.516246Z",
          "iopub.status.idle": "2021-08-18T05:09:55.774986Z",
          "shell.execute_reply.started": "2021-08-18T05:09:42.516193Z",
          "shell.execute_reply": "2021-08-18T05:09:55.773953Z"
        },
        "trusted": true,
        "id": "2r8rrRup5H-m"
      },
      "source": [
        "# Process categorical features\n",
        "categorical_features = ['building_id', 'site_id', 'meter', 'primary_use']\n",
        "\n",
        "encoder = category_encoders.CountEncoder(cols=categorical_features)\n",
        "encoder.fit(train)\n",
        "train = encoder.transform(train)\n",
        "\n",
        "features_size = train.shape[0]\n",
        "for feature in categorical_features:\n",
        "    train[feature] = train[feature] / features_size"
      ],
      "execution_count": null,
      "outputs": []
    },
    {
      "cell_type": "code",
      "metadata": {
        "execution": {
          "iopub.status.busy": "2021-08-18T05:10:05.959484Z",
          "iopub.execute_input": "2021-08-18T05:10:05.959841Z",
          "iopub.status.idle": "2021-08-18T05:10:36.559077Z",
          "shell.execute_reply.started": "2021-08-18T05:10:05.959790Z",
          "shell.execute_reply": "2021-08-18T05:10:36.558136Z"
        },
        "trusted": true,
        "id": "aZjdwDkK5H-m"
      },
      "source": [
        "# Missing data imputation\n",
        "imputer = SimpleImputer(missing_values=np.nan, strategy='median')\n",
        "imputer.fit(train)\n",
        "train = imputer.transform(train)"
      ],
      "execution_count": null,
      "outputs": []
    },
    {
      "cell_type": "markdown",
      "metadata": {
        "id": "YjDEzbq95Nxo"
      },
      "source": [
        "Custom stacked Models"
      ]
    },
    {
      "cell_type": "code",
      "metadata": {
        "execution": {
          "iopub.status.busy": "2021-08-18T05:16:02.797661Z",
          "iopub.execute_input": "2021-08-18T05:16:02.798086Z",
          "iopub.status.idle": "2021-08-18T05:16:02.807390Z",
          "shell.execute_reply.started": "2021-08-18T05:16:02.798026Z",
          "shell.execute_reply": "2021-08-18T05:16:02.806024Z"
        },
        "trusted": true,
        "id": "XjyBjRP_5H-n"
      },
      "source": [
        "def create_10_models(df):\n",
        " \"\"\"\n",
        " train 10 models with 10 different samples\n",
        " \"\"\"\n",
        " models_list = []\n",
        " for i in tqdm(range(10)):\n",
        "   #Sample rows from D1\n",
        "    df_tr=df.sample(n=3500000, replace=True) \n",
        "    y_tr= df_tr['meter_reading']\n",
        "    df_tr.drop('meter_reading', axis=1, inplace=True)\n",
        "\n",
        "    #train GBDT on D1\n",
        "    gb_trees = lgb.LGBMRegressor(n_estimators=500,objective='regression', n_jobs=-1)\n",
        "    models_list.append(gb_trees.fit(df_tr,y_tr))\n",
        "\n",
        " return models_list\n"
      ],
      "execution_count": null,
      "outputs": []
    },
    {
      "cell_type": "code",
      "metadata": {
        "execution": {
          "iopub.status.busy": "2021-08-18T05:16:06.377338Z",
          "iopub.execute_input": "2021-08-18T05:16:06.377685Z",
          "iopub.status.idle": "2021-08-18T05:24:54.937570Z",
          "shell.execute_reply.started": "2021-08-18T05:16:06.377634Z",
          "shell.execute_reply": "2021-08-18T05:24:54.936577Z"
        },
        "trusted": true,
        "id": "kxL7Vi3s5H-n",
        "outputId": "f614a10c-95fb-4685-86d0-aa084aebe6fb"
      },
      "source": [
        "model_list= create_10_models(X_train)"
      ],
      "execution_count": null,
      "outputs": [
        {
          "output_type": "stream",
          "text": [
            "100%|██████████| 10/10 [08:48<00:00, 52.85s/it]\n"
          ],
          "name": "stderr"
        }
      ]
    },
    {
      "cell_type": "code",
      "metadata": {
        "execution": {
          "iopub.status.busy": "2021-08-18T05:25:08.980595Z",
          "iopub.execute_input": "2021-08-18T05:25:08.981206Z",
          "iopub.status.idle": "2021-08-18T05:25:08.987603Z",
          "shell.execute_reply.started": "2021-08-18T05:25:08.981130Z",
          "shell.execute_reply": "2021-08-18T05:25:08.986796Z"
        },
        "trusted": true,
        "id": "T07yk3Mo5H-o"
      },
      "source": [
        "#Predict on D2 using above models\n",
        "def predict_base_models(models,data):\n",
        "  y_pred=[]\n",
        "  for i in tqdm(models):\n",
        "    y_hat=i.predict(data)\n",
        "    y_pred.append(y_hat)\n",
        "  \n",
        "  return y_pred"
      ],
      "execution_count": null,
      "outputs": []
    },
    {
      "cell_type": "code",
      "metadata": {
        "execution": {
          "iopub.status.busy": "2021-08-18T05:25:11.751889Z",
          "iopub.execute_input": "2021-08-18T05:25:11.752501Z",
          "iopub.status.idle": "2021-08-18T05:35:48.589285Z",
          "shell.execute_reply.started": "2021-08-18T05:25:11.752435Z",
          "shell.execute_reply": "2021-08-18T05:35:48.588577Z"
        },
        "trusted": true,
        "id": "0_4YAWlL5H-o",
        "outputId": "7cab8013-ecaa-4e6e-dd6f-3b1fae3ac1ab"
      },
      "source": [
        "y_pred=predict_base_models(model_list,X_test)"
      ],
      "execution_count": null,
      "outputs": [
        {
          "output_type": "stream",
          "text": [
            "100%|██████████| 10/10 [10:36<00:00, 63.68s/it]\n"
          ],
          "name": "stderr"
        }
      ]
    },
    {
      "cell_type": "code",
      "metadata": {
        "execution": {
          "iopub.status.busy": "2021-08-18T05:35:51.415913Z",
          "iopub.execute_input": "2021-08-18T05:35:51.416204Z",
          "iopub.status.idle": "2021-08-18T05:35:51.423957Z",
          "shell.execute_reply.started": "2021-08-18T05:35:51.416167Z",
          "shell.execute_reply": "2021-08-18T05:35:51.422722Z"
        },
        "trusted": true,
        "id": "3xFK-R6i5H-o"
      },
      "source": [
        "#create dataset with the above predictions\n",
        "def create_dataset(predict_values):\n",
        "  pred_values=np.reshape(predict_values[0], (len(predict_values[0]),1))\n",
        "  for i in range(1,len(predict_values)):\n",
        "    pred= np.reshape(predict_values[i], (len(predict_values[i]),1))\n",
        "    pred_values= np.hstack((pred_values,pred))\n",
        "  \n",
        "  return pred_values"
      ],
      "execution_count": null,
      "outputs": []
    },
    {
      "cell_type": "code",
      "metadata": {
        "execution": {
          "iopub.status.busy": "2021-08-18T05:35:57.447382Z",
          "iopub.execute_input": "2021-08-18T05:35:57.447787Z",
          "iopub.status.idle": "2021-08-18T05:43:06.794514Z",
          "shell.execute_reply.started": "2021-08-18T05:35:57.447729Z",
          "shell.execute_reply": "2021-08-18T05:43:06.793746Z"
        },
        "trusted": true,
        "id": "oZTI78x45H-q",
        "outputId": "97569d69-cf2d-4996-e8fd-8929f6b3dbb2"
      },
      "source": [
        "import math\n",
        "pred_dataset=create_dataset(y_pred)\n",
        "lgb_model=lgb.LGBMRegressor(boosting_type='gbdt', n_estimators=500, objective='regression',n_jobs=-1)\n",
        "lgb_model.fit(pred_dataset,y_test)\n",
        "cv_pred= predict_base_models(model_list,cv_x)\n",
        "pred_data_cv=create_dataset(cv_pred)\n",
        "pred_stack_cv=lgb_model.predict(pred_data_cv)\n",
        "print(\"CV rmse for stacking regressor with estimators:\",500,'is',math.sqrt(mean_squared_error(y_cv, pred_stack_cv)))"
      ],
      "execution_count": null,
      "outputs": [
        {
          "output_type": "stream",
          "text": [
            "100%|██████████| 10/10 [05:09<00:00, 30.97s/it]\n"
          ],
          "name": "stderr"
        },
        {
          "output_type": "stream",
          "text": [
            "CV rmse for stacking regressor with estimators: 500 is 1.1201837266051247\n"
          ],
          "name": "stdout"
        }
      ]
    },
    {
      "cell_type": "code",
      "metadata": {
        "execution": {
          "iopub.status.busy": "2021-08-18T05:43:11.707545Z",
          "iopub.execute_input": "2021-08-18T05:43:11.708052Z",
          "iopub.status.idle": "2021-08-18T05:43:11.782090Z",
          "shell.execute_reply.started": "2021-08-18T05:43:11.707990Z",
          "shell.execute_reply": "2021-08-18T05:43:11.781287Z"
        },
        "trusted": true,
        "id": "HW_a0d6z5H-q",
        "outputId": "c6050091-683e-48aa-ebe3-4a7fe2905418"
      },
      "source": [
        "import pickle\n",
        "import joblib\n",
        "filename_reg='lgb_model.sav'\n",
        "joblib.dump(lgb_model,filename_reg)"
      ],
      "execution_count": null,
      "outputs": [
        {
          "output_type": "execute_result",
          "data": {
            "text/plain": [
              "['lgb_model.sav']"
            ]
          },
          "metadata": {
            "tags": []
          },
          "execution_count": 36
        }
      ]
    },
    {
      "cell_type": "markdown",
      "metadata": {
        "id": "u4UAbX-L5H-r"
      },
      "source": [
        "## Test data import and processing"
      ]
    },
    {
      "cell_type": "code",
      "metadata": {
        "execution": {
          "iopub.status.busy": "2021-08-18T05:10:39.367680Z",
          "iopub.execute_input": "2021-08-18T05:10:39.368056Z",
          "iopub.status.idle": "2021-08-18T05:11:09.277334Z",
          "shell.execute_reply.started": "2021-08-18T05:10:39.367990Z",
          "shell.execute_reply": "2021-08-18T05:11:09.276457Z"
        },
        "trusted": true,
        "id": "rWfXQKll5H-r"
      },
      "source": [
        "# Import test data\n",
        "test = pd.read_csv(f'{PATH}test.csv')\n",
        "weather_test = pd.read_csv(f'{PATH}weather_test.csv')"
      ],
      "execution_count": null,
      "outputs": []
    },
    {
      "cell_type": "code",
      "metadata": {
        "execution": {
          "iopub.status.busy": "2021-08-18T05:11:11.597684Z",
          "iopub.execute_input": "2021-08-18T05:11:11.598069Z",
          "iopub.status.idle": "2021-08-18T05:11:12.611376Z",
          "shell.execute_reply.started": "2021-08-18T05:11:11.598003Z",
          "shell.execute_reply": "2021-08-18T05:11:12.610172Z"
        },
        "trusted": true,
        "id": "wl8uBbb15H-s"
      },
      "source": [
        "row_ids = test['row_id']\n",
        "test.drop('row_id', axis=1, inplace=True)"
      ],
      "execution_count": null,
      "outputs": []
    },
    {
      "cell_type": "code",
      "metadata": {
        "execution": {
          "iopub.status.busy": "2021-08-18T05:11:15.685209Z",
          "iopub.execute_input": "2021-08-18T05:11:15.685591Z",
          "iopub.status.idle": "2021-08-18T05:12:26.892144Z",
          "shell.execute_reply.started": "2021-08-18T05:11:15.685526Z",
          "shell.execute_reply": "2021-08-18T05:12:26.891054Z"
        },
        "trusted": true,
        "id": "YcpvtkHB5H-s"
      },
      "source": [
        "# Test weather data processing\n",
        "weather_test = weather_data_parser(weather_test)"
      ],
      "execution_count": null,
      "outputs": []
    },
    {
      "cell_type": "code",
      "metadata": {
        "execution": {
          "iopub.status.busy": "2021-08-18T05:12:29.289448Z",
          "iopub.execute_input": "2021-08-18T05:12:29.289859Z",
          "iopub.status.idle": "2021-08-18T05:12:33.849148Z",
          "shell.execute_reply.started": "2021-08-18T05:12:29.289788Z",
          "shell.execute_reply": "2021-08-18T05:12:33.848265Z"
        },
        "trusted": true,
        "id": "m7FYrqyg5H-s",
        "outputId": "ea0e220f-784d-40fa-c527-ffab15ec2b55"
      },
      "source": [
        "# Memory optimization\n",
        "test = reduce_mem_usage(test, use_float16=True)\n",
        "weather_test = reduce_mem_usage(weather_test, use_float16=True)"
      ],
      "execution_count": null,
      "outputs": [
        {
          "output_type": "stream",
          "text": [
            "Memory usage of dataframe is 954.38 MB\n",
            "Memory usage after optimization is: 199.59 MB\n",
            "Decreased by 79.09%\n",
            "Memory usage of dataframe is 19.25 MB\n",
            "Memory usage after optimization is: 5.30 MB\n",
            "Decreased by 72.45%\n"
          ],
          "name": "stdout"
        }
      ]
    },
    {
      "cell_type": "code",
      "metadata": {
        "execution": {
          "iopub.status.busy": "2021-08-18T05:12:36.700525Z",
          "iopub.execute_input": "2021-08-18T05:12:36.700897Z",
          "iopub.status.idle": "2021-08-18T05:12:49.060284Z",
          "shell.execute_reply.started": "2021-08-18T05:12:36.700831Z",
          "shell.execute_reply": "2021-08-18T05:12:49.059320Z"
        },
        "trusted": true,
        "id": "I5racfCm5H-s",
        "outputId": "0bdaee96-0022-42e0-d2e7-0830e7e7aae2"
      },
      "source": [
        "\n",
        "# Merge test data\n",
        "test = test.merge(metadata, on='building_id', how='left')\n",
        "test = test.merge(weather_test, on=['site_id', 'timestamp'], how='left')\n",
        "\n",
        "del metadata; gc.collect()"
      ],
      "execution_count": null,
      "outputs": [
        {
          "output_type": "execute_result",
          "data": {
            "text/plain": [
              "0"
            ]
          },
          "metadata": {
            "tags": []
          },
          "execution_count": 25
        }
      ]
    },
    {
      "cell_type": "code",
      "metadata": {
        "execution": {
          "iopub.status.busy": "2021-08-18T05:13:12.424692Z",
          "iopub.execute_input": "2021-08-18T05:13:12.425356Z",
          "iopub.status.idle": "2021-08-18T05:13:38.272634Z",
          "shell.execute_reply.started": "2021-08-18T05:13:12.425000Z",
          "shell.execute_reply": "2021-08-18T05:13:38.271577Z"
        },
        "trusted": true,
        "id": "7kbcOxde5H-t"
      },
      "source": [
        "# Test data processing\n",
        "test = data_parser(test)\n",
        "\n",
        "\n"
      ],
      "execution_count": null,
      "outputs": []
    },
    {
      "cell_type": "code",
      "metadata": {
        "execution": {
          "iopub.status.busy": "2021-08-18T05:13:42.293102Z",
          "iopub.execute_input": "2021-08-18T05:13:42.293598Z",
          "iopub.status.idle": "2021-08-18T05:14:07.654325Z",
          "shell.execute_reply.started": "2021-08-18T05:13:42.293535Z",
          "shell.execute_reply": "2021-08-18T05:14:07.653499Z"
        },
        "trusted": true,
        "id": "Q_E9XzPP5H-u"
      },
      "source": [
        "test = encoder.transform(test)\n",
        "for feature in categorical_features:\n",
        "    test[feature] = test[feature] / features_size"
      ],
      "execution_count": null,
      "outputs": []
    },
    {
      "cell_type": "code",
      "metadata": {
        "execution": {
          "iopub.status.busy": "2021-08-18T05:14:10.534195Z",
          "iopub.execute_input": "2021-08-18T05:14:10.534533Z",
          "iopub.status.idle": "2021-08-18T05:14:21.265221Z",
          "shell.execute_reply.started": "2021-08-18T05:14:10.534474Z",
          "shell.execute_reply": "2021-08-18T05:14:21.264341Z"
        },
        "trusted": true,
        "id": "qh0XS0u65H-u"
      },
      "source": [
        "\n",
        "test = imputer.transform(test)"
      ],
      "execution_count": null,
      "outputs": []
    },
    {
      "cell_type": "markdown",
      "metadata": {
        "id": "W6WPO93q5H-u"
      },
      "source": [
        "## Make predictions and create submission file"
      ]
    },
    {
      "cell_type": "code",
      "metadata": {
        "execution": {
          "iopub.status.busy": "2021-08-18T05:47:56.247678Z",
          "iopub.execute_input": "2021-08-18T05:47:56.248029Z",
          "iopub.status.idle": "2021-08-18T05:47:56.266281Z",
          "shell.execute_reply.started": "2021-08-18T05:47:56.247968Z",
          "shell.execute_reply": "2021-08-18T05:47:56.265275Z"
        },
        "trusted": true,
        "id": "zN3pt6EO5H-v"
      },
      "source": [
        "y_pred = lgb_model.predict(test)"
      ],
      "execution_count": null,
      "outputs": []
    },
    {
      "cell_type": "code",
      "metadata": {
        "id": "nQCZ5rkP5H-w"
      },
      "source": [
        "sample_submission = pd.read_csv(\"/kaggle/input/ashrae-energy-prediction/sample_submission.csv\")\n",
        "sample_submission[\"meter_reading\"] =  np.expm1(y_pred)\n",
        "sample_submission.to_csv(\"./custom_stacked_submission.csv\", index=False)"
      ],
      "execution_count": null,
      "outputs": []
    },
    {
      "cell_type": "code",
      "metadata": {
        "colab": {
          "base_uri": "https://localhost:8080/"
        },
        "id": "Out5nHYK5H-w",
        "outputId": "5feb5462-b23d-4641-d02e-ae4bad43d344"
      },
      "source": [
        "from prettytable import PrettyTable\n",
        "summary = PrettyTable()\n",
        "\n",
        "\n",
        "summary.field_names = [\"Model\",\"RMSE\"]\n",
        "summary.add_row([\"Custom_Stacked_Regression\",1.12])\n",
        "\n",
        "print(summary)"
      ],
      "execution_count": 1,
      "outputs": [
        {
          "output_type": "stream",
          "text": [
            "+---------------------------+------+\n",
            "|           Model           | RMSE |\n",
            "+---------------------------+------+\n",
            "| Custom_Stacked_Regression | 1.12 |\n",
            "+---------------------------+------+\n"
          ],
          "name": "stdout"
        }
      ]
    },
    {
      "cell_type": "code",
      "metadata": {
        "colab": {
          "base_uri": "https://localhost:8080/",
          "height": 156
        },
        "id": "ijZ7INid5-JM",
        "outputId": "0734e161-51e2-4153-d8b2-5e7f8bd53abf"
      },
      "source": [
        "from IPython.display import Image\n",
        "Image(filename='/content/custom_stacked_regressor.PNG')"
      ],
      "execution_count": 3,
      "outputs": [
        {
          "output_type": "execute_result",
          "data": {
            "image/png": "[encoded data removed]",
            "text/plain": [
              "<IPython.core.display.Image object>"
            ]
          },
          "metadata": {
            "tags": []
          },
          "execution_count": 3
        }
      ]
    },
    {
      "cell_type": "markdown",
      "metadata": {
        "id": "X_Bk7vlG6G_P"
      },
      "source": [
        "Summary\n",
        "1. I impute weather data with mean and median\n",
        "2. I imput the the remaining missing values with SimpleImputer with median\n",
        "3. Very basic FE because of the ram problem and also i seen in the lightgb gbdt that raw features are the most important fetaures \n",
        "4. Remove outlier\n",
        "5. Do standardisation on train and test\n",
        "6. Build the custom stacked regressor models with sampling with replacement\n",
        "7. This file run on kaggle notebook please don't try to run on the google colab because of the limited ram\n"
      ]
    },
    {
      "cell_type": "markdown",
      "metadata": {
        "id": "fqQF9oaq6Pog"
      },
      "source": [
        "Refrences\n",
        "\n",
        "1. https://www.kaggle.com/aitude/ashrae-missing-weather-data-handling"
      ]
    },
    {
      "cell_type": "code",
      "metadata": {
        "id": "ExRV679D6D2t"
      },
      "source": [
        ""
      ],
      "execution_count": null,
      "outputs": []
    }
  ]
}