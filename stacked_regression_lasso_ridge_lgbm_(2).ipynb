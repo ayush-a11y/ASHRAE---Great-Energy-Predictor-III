{
  "nbformat": 4,
  "nbformat_minor": 0,
  "metadata": {
    "kernelspec": {
      "language": "python",
      "display_name": "Python 3",
      "name": "python3"
    },
    "language_info": {
      "name": "python",
      "version": "3.6.6",
      "mimetype": "text/x-python",
      "codemirror_mode": {
        "name": "ipython",
        "version": 3
      },
      "pygments_lexer": "ipython3",
      "nbconvert_exporter": "python",
      "file_extension": ".py"
    },
    "colab": {
      "name": "stacked_regression_lasso_ridge_lgbm_(2).ipynb",
      "provenance": [],
      "collapsed_sections": []
    }
  },
  "cells": [
    {
      "cell_type": "markdown",
      "metadata": {
        "id": "Wk7Nzi8Vd5dz"
      },
      "source": [
        "## Train data import and processing"
      ]
    },
    {
      "cell_type": "code",
      "metadata": {
        "execution": {
          "iopub.status.busy": "2021-08-16T09:11:06.217645Z",
          "iopub.execute_input": "2021-08-16T09:11:06.218071Z",
          "iopub.status.idle": "2021-08-16T09:11:06.226243Z",
          "shell.execute_reply.started": "2021-08-16T09:11:06.218028Z",
          "shell.execute_reply": "2021-08-16T09:11:06.224895Z"
        },
        "trusted": true,
        "id": "aIcEd783d5d5"
      },
      "source": [
        "import os, gc\n",
        "import datetime\n",
        "\n",
        "import numpy as np\n",
        "import pandas as pd\n",
        "\n",
        "import category_encoders\n",
        "\n",
        "from sklearn.impute import SimpleImputer\n",
        "from sklearn.metrics import mean_squared_error\n",
        "from sklearn.model_selection import KFold\n",
        "from sklearn.preprocessing import LabelEncoder\n",
        "\n",
        "from sklearn.linear_model import Lasso\n",
        "from sklearn.linear_model import Ridge\n",
        "\n",
        "from lightgbm import LGBMRegressor\n",
        "\n",
        "from mlxtend.regressor import StackingRegressor\n",
        "\n",
        "from pandas.api.types import is_categorical_dtype\n",
        "from pandas.api.types import is_datetime64_any_dtype as is_datetime"
      ],
      "execution_count": null,
      "outputs": []
    },
    {
      "cell_type": "code",
      "metadata": {
        "execution": {
          "iopub.status.busy": "2021-08-16T09:11:09.945245Z",
          "iopub.execute_input": "2021-08-16T09:11:09.945542Z",
          "iopub.status.idle": "2021-08-16T09:11:09.965266Z",
          "shell.execute_reply.started": "2021-08-16T09:11:09.945498Z",
          "shell.execute_reply": "2021-08-16T09:11:09.964281Z"
        },
        "trusted": true,
        "id": "Yx2c9zfnd5eu"
      },
      "source": [
        "# Memory optimization\n",
        "\n",
        "# Original code from https://www.kaggle.com/gemartin/load-data-reduce-memory-usage by @gemartin\n",
        "# Modified to support timestamp type, categorical type\n",
        "# Modified to add option to use float16\n",
        "def reduce_mem_usage(data, use_float16=False) -> pd.DataFrame:\n",
        "    start_mem = data.memory_usage().sum() / 1024**2\n",
        "    print('Memory usage of dataframe is {:.2f} MB'.format(start_mem))\n",
        "\n",
        "    for col in data.columns:\n",
        "        if is_datetime(data[col]) or is_categorical_dtype(data[col]):\n",
        "            continue\n",
        "        col_type = data[col].dtype\n",
        "\n",
        "        if col_type != object:\n",
        "            c_min = data[col].min()\n",
        "            c_max = data[col].max()\n",
        "            if str(col_type)[:3] == 'int':\n",
        "                if c_min > np.iinfo(np.int8).min and c_max < np.iinfo(np.int8).max:\n",
        "                    data[col] = data[col].astype(np.int8)\n",
        "                elif c_min > np.iinfo(np.int16).min and c_max < np.iinfo(np.int16).max:\n",
        "                    data[col] = data[col].astype(np.int16)\n",
        "                elif c_min > np.iinfo(np.int32).min and c_max < np.iinfo(np.int32).max:\n",
        "                    data[col] = data[col].astype(np.int32)\n",
        "                elif c_min > np.iinfo(np.int64).min and c_max < np.iinfo(np.int64).max:\n",
        "                    data[col] = data[col].astype(np.int64)\n",
        "            else:\n",
        "                if use_float16 and c_min > np.finfo(np.float16).min and c_max < np.finfo(np.float16).max:\n",
        "                    data[col] = data[col].astype(np.float16)\n",
        "                elif c_min > np.finfo(np.float32).min and c_max < np.finfo(np.float32).max:\n",
        "                    data[col] = data[col].astype(np.float32)\n",
        "                else:\n",
        "                    data[col] = data[col].astype(np.float64)\n",
        "        else:\n",
        "            data[col] = data[col].astype('category')\n",
        "\n",
        "    end_mem = data.memory_usage().sum() / 1024**2\n",
        "    print('Memory usage after optimization is: {:.2f} MB'.format(end_mem))\n",
        "    print('Decreased by {:.2f}%'.format(\n",
        "        100 * (start_mem - end_mem) / start_mem))\n",
        "\n",
        "    return data"
      ],
      "execution_count": null,
      "outputs": []
    },
    {
      "cell_type": "code",
      "metadata": {
        "execution": {
          "iopub.status.busy": "2021-08-16T09:11:12.420648Z",
          "iopub.execute_input": "2021-08-16T09:11:12.420951Z",
          "iopub.status.idle": "2021-08-16T09:11:12.424629Z",
          "shell.execute_reply.started": "2021-08-16T09:11:12.420906Z",
          "shell.execute_reply": "2021-08-16T09:11:12.424001Z"
        },
        "trusted": true,
        "id": "BSUDRbvNd5ev"
      },
      "source": [
        "# Path to data \n",
        "PATH = '../input/ashrae-energy-prediction/'"
      ],
      "execution_count": null,
      "outputs": []
    },
    {
      "cell_type": "code",
      "metadata": {
        "execution": {
          "iopub.status.busy": "2021-08-16T09:11:35.702328Z",
          "iopub.execute_input": "2021-08-16T09:11:35.702865Z",
          "iopub.status.idle": "2021-08-16T09:11:51.325842Z",
          "shell.execute_reply.started": "2021-08-16T09:11:35.702793Z",
          "shell.execute_reply": "2021-08-16T09:11:51.325142Z"
        },
        "trusted": true,
        "id": "CyOwlvtbd5ew"
      },
      "source": [
        "# Import train data\n",
        "train = pd.read_csv(f'{PATH}train.csv')\n",
        "weather_train = pd.read_csv(f'{PATH}weather_train.csv')\n",
        "\n",
        "# Import metadata\n",
        "metadata = pd.read_csv(f'{PATH}building_metadata.csv')"
      ],
      "execution_count": null,
      "outputs": []
    },
    {
      "cell_type": "code",
      "metadata": {
        "execution": {
          "iopub.status.busy": "2021-08-16T09:12:03.134841Z",
          "iopub.execute_input": "2021-08-16T09:12:03.135210Z",
          "iopub.status.idle": "2021-08-16T09:12:07.535241Z",
          "shell.execute_reply.started": "2021-08-16T09:12:03.135128Z",
          "shell.execute_reply": "2021-08-16T09:12:07.534294Z"
        },
        "trusted": true,
        "id": "E7lfpgqyd5ey"
      },
      "source": [
        "# Remove outliers in train data\n",
        "train = train[train['building_id'] != 1099]\n",
        "train = train.query('not (building_id <= 104 & meter == 0 & timestamp <= \"2016-05-20\")')"
      ],
      "execution_count": null,
      "outputs": []
    },
    {
      "cell_type": "code",
      "metadata": {
        "execution": {
          "iopub.status.busy": "2021-08-16T09:12:26.779300Z",
          "iopub.execute_input": "2021-08-16T09:12:26.779635Z",
          "iopub.status.idle": "2021-08-16T09:12:26.803153Z",
          "shell.execute_reply.started": "2021-08-16T09:12:26.779588Z",
          "shell.execute_reply": "2021-08-16T09:12:26.802092Z"
        },
        "trusted": true,
        "id": "9jgr7qm9d5ez"
      },
      "source": [
        "# Function for weather data processing\n",
        "#https://www.kaggle.com/aitude/ashrae-missing-weather-data-handling\n",
        "def weather_data_parser(weather_data) -> pd.DataFrame:\n",
        "    time_format = '%Y-%m-%d %H:%M:%S'\n",
        "    start_date = datetime.datetime.strptime(weather_data['timestamp'].min(), time_format)\n",
        "    end_date = datetime.datetime.strptime(weather_data['timestamp'].max(), time_format)\n",
        "    total_hours = int(((end_date - start_date).total_seconds() + 3600) / 3600)\n",
        "    hours_list = [(end_date - datetime.timedelta(hours=x)).strftime(time_format) for x in range(total_hours)]\n",
        "\n",
        "    for site_id in range(16):\n",
        "        site_hours = np.array(weather_data[weather_data['site_id'] == site_id]['timestamp'])\n",
        "        new_rows = pd.DataFrame(np.setdiff1d(hours_list, site_hours), columns=['timestamp'])\n",
        "        new_rows['site_id'] = site_id\n",
        "        weather_data = pd.concat([weather_data, new_rows], sort=True)\n",
        "        weather_data = weather_data.reset_index(drop=True)           \n",
        "\n",
        "    weather_data['datetime'] = pd.to_datetime(weather_data['timestamp'])\n",
        "    weather_data['day'] = weather_data['datetime'].dt.day\n",
        "    weather_data['week'] = weather_data['datetime'].dt.week\n",
        "    weather_data['month'] = weather_data['datetime'].dt.month\n",
        "\n",
        "    weather_data = weather_data.set_index(['site_id', 'day', 'month'])\n",
        "\n",
        "    air_temperature_filler = pd.DataFrame(weather_data.groupby(['site_id','day','month'])['air_temperature'].median(), columns=['air_temperature'])\n",
        "    weather_data.update(air_temperature_filler, overwrite=False)\n",
        "\n",
        "    cloud_coverage_filler = weather_data.groupby(['site_id', 'day', 'month'])['cloud_coverage'].median()\n",
        "    cloud_coverage_filler = pd.DataFrame(cloud_coverage_filler.fillna(method='ffill'), columns=['cloud_coverage'])\n",
        "\n",
        "    weather_data.update(cloud_coverage_filler, overwrite=False)\n",
        "\n",
        "    due_temperature_filler = pd.DataFrame(weather_data.groupby(['site_id','day','month'])['dew_temperature'].median(), columns=['dew_temperature'])\n",
        "    weather_data.update(due_temperature_filler, overwrite=False)\n",
        "\n",
        "    sea_level_filler = weather_data.groupby(['site_id','day','month'])['sea_level_pressure'].median()\n",
        "    sea_level_filler = pd.DataFrame(sea_level_filler.fillna(method='ffill'), columns=['sea_level_pressure'])\n",
        "\n",
        "    weather_data.update(sea_level_filler, overwrite=False)\n",
        "\n",
        "    wind_direction_filler =  pd.DataFrame(weather_data.groupby(['site_id','day','month'])['wind_direction'].median(), columns=['wind_direction'])\n",
        "    weather_data.update(wind_direction_filler, overwrite=False)\n",
        "\n",
        "    wind_speed_filler =  pd.DataFrame(weather_data.groupby(['site_id','day','month'])['wind_speed'].median(), columns=['wind_speed'])\n",
        "    weather_data.update(wind_speed_filler, overwrite=False)\n",
        "\n",
        "    precip_depth_filler = weather_data.groupby(['site_id','day','month'])['precip_depth_1_hr'].median()\n",
        "    precip_depth_filler = pd.DataFrame(precip_depth_filler.fillna(method='ffill'), columns=['precip_depth_1_hr'])\n",
        "\n",
        "    weather_data.update(precip_depth_filler, overwrite=False)\n",
        "\n",
        "    weather_data = weather_data.reset_index()\n",
        "    weather_data = weather_data.drop(['datetime','day','week','month'], axis=1)\n",
        "\n",
        "    return weather_data"
      ],
      "execution_count": null,
      "outputs": []
    },
    {
      "cell_type": "code",
      "metadata": {
        "execution": {
          "iopub.status.busy": "2021-08-16T09:12:28.827059Z",
          "iopub.execute_input": "2021-08-16T09:12:28.827402Z",
          "iopub.status.idle": "2021-08-16T09:12:50.070607Z",
          "shell.execute_reply.started": "2021-08-16T09:12:28.827357Z",
          "shell.execute_reply": "2021-08-16T09:12:50.069643Z"
        },
        "trusted": true,
        "id": "aF5vCBchd5e2"
      },
      "source": [
        "# Train weather data processing\n",
        "weather_train = weather_data_parser(weather_train)"
      ],
      "execution_count": null,
      "outputs": []
    },
    {
      "cell_type": "code",
      "metadata": {
        "execution": {
          "iopub.status.busy": "2021-08-16T09:12:58.189252Z",
          "iopub.execute_input": "2021-08-16T09:12:58.189589Z",
          "iopub.status.idle": "2021-08-16T09:13:00.224668Z",
          "shell.execute_reply.started": "2021-08-16T09:12:58.189531Z",
          "shell.execute_reply": "2021-08-16T09:13:00.223792Z"
        },
        "trusted": true,
        "id": "IVbOpxvOd5e3",
        "outputId": "3d1ae1d3-f278-4944-90a2-cf2949b895ea"
      },
      "source": [
        "# Memory optimization\n",
        "train = reduce_mem_usage(train, use_float16=True)\n",
        "weather_train = reduce_mem_usage(weather_train, use_float16=True)\n",
        "metadata = reduce_mem_usage(metadata, use_float16=True)"
      ],
      "execution_count": null,
      "outputs": [
        {
          "output_type": "stream",
          "text": [
            "Memory usage of dataframe is 757.31 MB\n",
            "Memory usage after optimization is: 322.24 MB\n",
            "Decreased by 57.45%\n",
            "Memory usage of dataframe is 9.65 MB\n",
            "Memory usage after optimization is: 2.66 MB\n",
            "Decreased by 72.46%\n",
            "Memory usage of dataframe is 0.07 MB\n",
            "Memory usage after optimization is: 0.02 MB\n",
            "Decreased by 73.76%\n"
          ],
          "name": "stdout"
        }
      ]
    },
    {
      "cell_type": "code",
      "metadata": {
        "execution": {
          "iopub.status.busy": "2021-08-16T09:15:34.769086Z",
          "iopub.execute_input": "2021-08-16T09:15:34.769467Z",
          "iopub.status.idle": "2021-08-16T09:15:41.152999Z",
          "shell.execute_reply.started": "2021-08-16T09:15:34.769399Z",
          "shell.execute_reply": "2021-08-16T09:15:41.152066Z"
        },
        "trusted": true,
        "id": "m8nbFovqd5e5",
        "outputId": "ef17f602-cc96-4743-a6bf-7821faa51e89"
      },
      "source": [
        "# Merge train data \n",
        "train = train.merge(metadata, on='building_id', how='left')\n",
        "train = train.merge(weather_train, on=['site_id', 'timestamp'], how='left')\n",
        "\n",
        "del weather_train; gc.collect()"
      ],
      "execution_count": null,
      "outputs": [
        {
          "output_type": "execute_result",
          "data": {
            "text/plain": [
              "0"
            ]
          },
          "metadata": {
            "tags": []
          },
          "execution_count": 41
        }
      ]
    },
    {
      "cell_type": "code",
      "metadata": {
        "execution": {
          "iopub.status.busy": "2021-08-16T09:17:29.433531Z",
          "iopub.execute_input": "2021-08-16T09:17:29.433864Z",
          "iopub.status.idle": "2021-08-16T09:17:29.442150Z",
          "shell.execute_reply.started": "2021-08-16T09:17:29.433816Z",
          "shell.execute_reply": "2021-08-16T09:17:29.441479Z"
        },
        "trusted": true,
        "id": "qSdqPeTId5e7"
      },
      "source": [
        "# Function for train and test data processing\n",
        "def data_parser(data) -> pd.DataFrame:\n",
        "    data.sort_values('timestamp')\n",
        "    data.reset_index(drop=True)\n",
        "    \n",
        "    data['timestamp'] = pd.to_datetime(data['timestamp'], format='%Y-%m-%d %H:%M:%S')\n",
        "    data['weekday'] = data['timestamp'].dt.weekday\n",
        "    data['hour'] = data['timestamp'].dt.hour\n",
        "    \n",
        "    data['square_feet'] =  np.log1p(data['square_feet']) \n",
        "    \n",
        "    data = data.drop(['timestamp', 'sea_level_pressure',\n",
        "        'wind_direction', 'wind_speed', 'year_built', 'floor_count'], axis=1)\n",
        "    \n",
        "    gc.collect()\n",
        "    \n",
        "    encoder = LabelEncoder()\n",
        "    data['primary_use'] = encoder.fit_transform(data['primary_use'])\n",
        "    \n",
        "    return data"
      ],
      "execution_count": null,
      "outputs": []
    },
    {
      "cell_type": "code",
      "metadata": {
        "execution": {
          "iopub.status.busy": "2021-08-16T09:17:38.655213Z",
          "iopub.execute_input": "2021-08-16T09:17:38.655652Z",
          "iopub.status.idle": "2021-08-16T09:17:50.360970Z",
          "shell.execute_reply.started": "2021-08-16T09:17:38.655595Z",
          "shell.execute_reply": "2021-08-16T09:17:50.360228Z"
        },
        "trusted": true,
        "id": "Nd2WPWXVd5e8"
      },
      "source": [
        "# Train data processing\n",
        "train = data_parser(train)"
      ],
      "execution_count": null,
      "outputs": []
    },
    {
      "cell_type": "code",
      "metadata": {
        "execution": {
          "iopub.status.busy": "2021-08-16T09:17:55.650922Z",
          "iopub.execute_input": "2021-08-16T09:17:55.651398Z",
          "iopub.status.idle": "2021-08-16T09:17:56.908886Z",
          "shell.execute_reply.started": "2021-08-16T09:17:55.651337Z",
          "shell.execute_reply": "2021-08-16T09:17:56.907845Z"
        },
        "trusted": true,
        "id": "X-Vksn83d5e9",
        "outputId": "d81bde27-5d8b-4400-9fbd-46c15597abc7"
      },
      "source": [
        "# Define target and predictors\n",
        "target = np.log1p(train['meter_reading'])\n",
        "features = train.drop(['meter_reading'], axis = 1) \n",
        "\n",
        "del train; gc.collect()"
      ],
      "execution_count": null,
      "outputs": [
        {
          "output_type": "execute_result",
          "data": {
            "text/plain": [
              "0"
            ]
          },
          "metadata": {
            "tags": []
          },
          "execution_count": 44
        }
      ]
    },
    {
      "cell_type": "code",
      "metadata": {
        "execution": {
          "iopub.status.busy": "2021-08-16T09:18:00.048421Z",
          "iopub.execute_input": "2021-08-16T09:18:00.048940Z",
          "iopub.status.idle": "2021-08-16T09:18:13.195258Z",
          "shell.execute_reply.started": "2021-08-16T09:18:00.048892Z",
          "shell.execute_reply": "2021-08-16T09:18:13.194367Z"
        },
        "trusted": true,
        "id": "BacRgaazd5e9"
      },
      "source": [
        "# Process categorical features\n",
        "categorical_features = ['building_id', 'site_id', 'meter', 'primary_use']\n",
        "\n",
        "encoder = category_encoders.CountEncoder(cols=categorical_features)\n",
        "encoder.fit(features)\n",
        "features = encoder.transform(features)\n",
        "\n",
        "features_size = features.shape[0]\n",
        "for feature in categorical_features:\n",
        "    features[feature] = features[feature] / features_size"
      ],
      "execution_count": null,
      "outputs": []
    },
    {
      "cell_type": "code",
      "metadata": {
        "execution": {
          "iopub.status.busy": "2021-08-16T09:18:27.944265Z",
          "iopub.execute_input": "2021-08-16T09:18:27.944634Z",
          "iopub.status.idle": "2021-08-16T09:18:59.417200Z",
          "shell.execute_reply.started": "2021-08-16T09:18:27.944571Z",
          "shell.execute_reply": "2021-08-16T09:18:59.416247Z"
        },
        "trusted": true,
        "id": "GN62jqtDd5e-"
      },
      "source": [
        "# Missing data imputation\n",
        "imputer = SimpleImputer(missing_values=np.nan, strategy='median')\n",
        "imputer.fit(features)\n",
        "features = imputer.transform(features)"
      ],
      "execution_count": null,
      "outputs": []
    },
    {
      "cell_type": "markdown",
      "metadata": {
        "id": "v_sHAYdld5e-"
      },
      "source": [
        "## Model training \n",
        "\n",
        "As a simple example we will create meta-regressor by stacking together regularized Ridge and Lasso regression models with LightGBM regressor. In this example there is minimum hyperparameters tuning and just three regressors are stacked together for simplicity."
      ]
    },
    {
      "cell_type": "code",
      "metadata": {
        "execution": {
          "iopub.status.busy": "2021-08-16T09:19:04.994427Z",
          "iopub.execute_input": "2021-08-16T09:19:04.994751Z",
          "iopub.status.idle": "2021-08-16T09:19:04.999939Z",
          "shell.execute_reply.started": "2021-08-16T09:19:04.994705Z",
          "shell.execute_reply": "2021-08-16T09:19:04.999274Z"
        },
        "trusted": true,
        "id": "irC6yiazd5e_"
      },
      "source": [
        "# Regressors\n",
        "#http://rasbt.github.io/mlxtend/user_guide/regressor/StackingRegressor/\n",
        "lightgbm = LGBMRegressor(objective='regression', learning_rate=0.05, num_leaves=1024,\n",
        "    feature_fraction=0.8, bagging_fraction=0.9, bagging_freq=5) \n",
        "\n",
        "ridge = Ridge(alpha=0.3)\n",
        "lasso = Lasso(alpha=0.3)"
      ],
      "execution_count": null,
      "outputs": []
    },
    {
      "cell_type": "code",
      "metadata": {
        "execution": {
          "iopub.status.busy": "2021-08-16T09:19:59.243755Z",
          "iopub.execute_input": "2021-08-16T09:19:59.244159Z",
          "iopub.status.idle": "2021-08-16T09:38:44.981860Z",
          "shell.execute_reply.started": "2021-08-16T09:19:59.244049Z",
          "shell.execute_reply": "2021-08-16T09:38:44.981022Z"
        },
        "trusted": true,
        "id": "RfA-bvsQd5e_",
        "outputId": "432050d6-c779-4726-d119-c40afd509853"
      },
      "source": [
        "kfold = KFold(n_splits=2, shuffle=False)\n",
        "\n",
        "models = []\n",
        "\n",
        "for idx, (train_idx, val_idx) in enumerate(kfold.split(features)):\n",
        "    \n",
        "    train_features, train_target = features[train_idx], target[train_idx]\n",
        "    val_features, val_target = features[val_idx], target[val_idx]\n",
        "    \n",
        "    model = StackingRegressor(regressors=(lightgbm, ridge, lasso),\n",
        "        meta_regressor=lightgbm, use_features_in_secondary=True)\n",
        "\n",
        "    model.fit(np.array(train_features), np.array(train_target))\n",
        "    import pickle\n",
        "    import joblib\n",
        "    filename_reg='stacked_reg.sav'\n",
        "    joblib.dump(model,filename_reg)\n",
        "    models.append(model)\n",
        "\n",
        "    print('RMSE: {:.4f} of fold: {}'.format(\n",
        "        np.sqrt(mean_squared_error(val_target, model.predict(np.array(val_features)))), idx))\n",
        "\n",
        "    del train_features, train_target, val_features, val_target; gc.collect()\n",
        "\n",
        "del features, target; gc.collect()"
      ],
      "execution_count": null,
      "outputs": [
        {
          "output_type": "stream",
          "text": [
            "RMSE: 1.1669 of fold: 0\n",
            "RMSE: 1.1831 of fold: 1\n"
          ],
          "name": "stdout"
        },
        {
          "output_type": "execute_result",
          "data": {
            "text/plain": [
              "0"
            ]
          },
          "metadata": {
            "tags": []
          },
          "execution_count": 48
        }
      ]
    },
    {
      "cell_type": "code",
      "metadata": {
        "execution": {
          "iopub.status.busy": "2021-08-16T10:07:30.060705Z",
          "iopub.execute_input": "2021-08-16T10:07:30.061039Z",
          "iopub.status.idle": "2021-08-16T10:07:30.810896Z",
          "shell.execute_reply.started": "2021-08-16T10:07:30.060990Z",
          "shell.execute_reply": "2021-08-16T10:07:30.810078Z"
        },
        "trusted": true,
        "id": "4gUJKF0Ed5e_",
        "outputId": "a3f0cb1e-7eff-4515-e735-ec8be552b599"
      },
      "source": [
        "import pickle\n",
        "import joblib\n",
        "filename_reg='stacked_reg.sav'\n",
        "joblib.dump(model,filename_reg)"
      ],
      "execution_count": null,
      "outputs": [
        {
          "output_type": "execute_result",
          "data": {
            "text/plain": [
              "['stacked_reg.sav']"
            ]
          },
          "metadata": {
            "tags": []
          },
          "execution_count": 60
        }
      ]
    },
    {
      "cell_type": "markdown",
      "metadata": {
        "id": "EE4bijfid5fA"
      },
      "source": [
        "## Test data import and processing"
      ]
    },
    {
      "cell_type": "code",
      "metadata": {
        "execution": {
          "iopub.status.busy": "2021-08-16T08:10:40.213560Z",
          "iopub.execute_input": "2021-08-16T08:10:40.214046Z",
          "iopub.status.idle": "2021-08-16T08:11:13.157579Z",
          "shell.execute_reply.started": "2021-08-16T08:10:40.214000Z",
          "shell.execute_reply": "2021-08-16T08:11:13.156675Z"
        },
        "trusted": true,
        "id": "NQxEFreLd5fA"
      },
      "source": [
        "# Import test data\n",
        "test = pd.read_csv(f'{PATH}test.csv')\n",
        "weather_test = pd.read_csv(f'{PATH}weather_test.csv')"
      ],
      "execution_count": null,
      "outputs": []
    },
    {
      "cell_type": "code",
      "metadata": {
        "execution": {
          "iopub.status.busy": "2021-08-16T08:11:29.383226Z",
          "iopub.execute_input": "2021-08-16T08:11:29.383518Z",
          "iopub.status.idle": "2021-08-16T08:11:30.233660Z",
          "shell.execute_reply.started": "2021-08-16T08:11:29.383474Z",
          "shell.execute_reply": "2021-08-16T08:11:30.232586Z"
        },
        "trusted": true,
        "id": "IkAFBlT8d5fB"
      },
      "source": [
        "row_ids = test['row_id']\n",
        "test.drop('row_id', axis=1, inplace=True)"
      ],
      "execution_count": null,
      "outputs": []
    },
    {
      "cell_type": "code",
      "metadata": {
        "execution": {
          "iopub.status.busy": "2021-08-16T08:11:31.945708Z",
          "iopub.execute_input": "2021-08-16T08:11:31.946003Z",
          "iopub.status.idle": "2021-08-16T08:12:44.148718Z",
          "shell.execute_reply.started": "2021-08-16T08:11:31.945958Z",
          "shell.execute_reply": "2021-08-16T08:12:44.147704Z"
        },
        "trusted": true,
        "id": "dak8HdCPd5fB"
      },
      "source": [
        "# Test weather data processing\n",
        "weather_test = weather_data_parser(weather_test)"
      ],
      "execution_count": null,
      "outputs": []
    },
    {
      "cell_type": "code",
      "metadata": {
        "execution": {
          "iopub.status.busy": "2021-08-16T08:13:39.347430Z",
          "iopub.execute_input": "2021-08-16T08:13:39.347736Z",
          "iopub.status.idle": "2021-08-16T08:13:44.021014Z",
          "shell.execute_reply.started": "2021-08-16T08:13:39.347691Z",
          "shell.execute_reply": "2021-08-16T08:13:44.019956Z"
        },
        "trusted": true,
        "id": "-8P6rcgwd5fB",
        "outputId": "2fa81e8f-6c79-4bc4-eaee-018ed73ced3a"
      },
      "source": [
        "# Memory optimization\n",
        "test = reduce_mem_usage(test, use_float16=True)\n",
        "weather_test = reduce_mem_usage(weather_test, use_float16=True)"
      ],
      "execution_count": null,
      "outputs": [
        {
          "output_type": "stream",
          "text": [
            "Memory usage of dataframe is 954.38 MB\n",
            "Memory usage after optimization is: 199.59 MB\n",
            "Decreased by 79.09%\n",
            "Memory usage of dataframe is 19.25 MB\n",
            "Memory usage after optimization is: 5.30 MB\n",
            "Decreased by 72.45%\n"
          ],
          "name": "stdout"
        }
      ]
    },
    {
      "cell_type": "code",
      "metadata": {
        "execution": {
          "iopub.status.busy": "2021-08-16T08:13:47.422215Z",
          "iopub.execute_input": "2021-08-16T08:13:47.422544Z",
          "iopub.status.idle": "2021-08-16T08:13:59.602324Z",
          "shell.execute_reply.started": "2021-08-16T08:13:47.422490Z",
          "shell.execute_reply": "2021-08-16T08:13:59.601379Z"
        },
        "trusted": true,
        "id": "HpV3lexhd5fC",
        "outputId": "b51faf3e-c94d-4274-92f8-964251910d3f"
      },
      "source": [
        "# Merge test data\n",
        "test = test.merge(metadata, on='building_id', how='left')\n",
        "test = test.merge(weather_test, on=['site_id', 'timestamp'], how='left')\n",
        "\n",
        "del metadata; gc.collect()"
      ],
      "execution_count": null,
      "outputs": [
        {
          "output_type": "execute_result",
          "data": {
            "text/plain": [
              "0"
            ]
          },
          "metadata": {
            "tags": []
          },
          "execution_count": 21
        }
      ]
    },
    {
      "cell_type": "code",
      "metadata": {
        "execution": {
          "iopub.status.busy": "2021-08-16T08:14:04.524830Z",
          "iopub.execute_input": "2021-08-16T08:14:04.525197Z",
          "iopub.status.idle": "2021-08-16T08:15:02.585460Z",
          "shell.execute_reply.started": "2021-08-16T08:14:04.525142Z",
          "shell.execute_reply": "2021-08-16T08:15:02.584343Z"
        },
        "trusted": true,
        "id": "R4_wKQlsd5fC"
      },
      "source": [
        "# Test data processing\n",
        "test = data_parser(test)\n",
        "\n",
        "test = encoder.transform(test)\n",
        "for feature in categorical_features:\n",
        "    test[feature] = test[feature] / features_size\n",
        "\n",
        "test = imputer.transform(test)"
      ],
      "execution_count": null,
      "outputs": []
    },
    {
      "cell_type": "markdown",
      "metadata": {
        "id": "ktzY1RMwd5fC"
      },
      "source": [
        "## Make predictions and create submission file"
      ]
    },
    {
      "cell_type": "code",
      "metadata": {
        "execution": {
          "iopub.status.busy": "2021-08-16T08:15:11.323438Z",
          "iopub.execute_input": "2021-08-16T08:15:11.323741Z",
          "iopub.status.idle": "2021-08-16T08:31:57.598682Z",
          "shell.execute_reply.started": "2021-08-16T08:15:11.323697Z",
          "shell.execute_reply": "2021-08-16T08:31:57.597667Z"
        },
        "trusted": true,
        "id": "KCsxkAJVd5fD",
        "outputId": "26286d9c-5247-4523-f2f8-682634c68d51"
      },
      "source": [
        "# Make predictions\n",
        "predictions = 0\n",
        "for model in models:\n",
        "    predictions += np.expm1(model.predict(np.array(test))) / len(models)\n",
        "    del model; gc.collect()\n",
        "\n",
        "del test, models; gc.collect()"
      ],
      "execution_count": null,
      "outputs": [
        {
          "output_type": "execute_result",
          "data": {
            "text/plain": [
              "0"
            ]
          },
          "metadata": {
            "tags": []
          },
          "execution_count": 23
        }
      ]
    },
    {
      "cell_type": "code",
      "metadata": {
        "execution": {
          "iopub.status.busy": "2021-08-16T08:32:29.455392Z",
          "iopub.execute_input": "2021-08-16T08:32:29.455765Z",
          "iopub.status.idle": "2021-08-16T08:36:32.316871Z",
          "shell.execute_reply.started": "2021-08-16T08:32:29.455696Z",
          "shell.execute_reply": "2021-08-16T08:36:32.315922Z"
        },
        "trusted": true,
        "id": "lgMD6-GQd5fD"
      },
      "source": [
        "# Create submission file\n",
        "submission = pd.DataFrame({\n",
        "    'row_id': row_ids,\n",
        "    'meter_reading': np.clip(predictions, 0, a_max=None)\n",
        "})\n",
        "submission.to_csv('stacked_regression_submission.csv', index=False, float_format='%.4f')"
      ],
      "execution_count": null,
      "outputs": []
    },
    {
      "cell_type": "code",
      "metadata": {
        "colab": {
          "base_uri": "https://localhost:8080/"
        },
        "id": "SEJ-UfztWq3T",
        "outputId": "acc81505-ae9e-452a-d3ec-3cec2af01187"
      },
      "source": [
        "from prettytable import PrettyTable\n",
        "summary = PrettyTable()\n",
        "\n",
        "\n",
        "summary.field_names = [\"Model\",\"RMSE\",\"Fold\"]\n",
        "summary.add_row([\"Stacked Regression\",1.16, 0])\n",
        "summary.add_row([\"Stacked Regression\",1.18, 1])\n",
        "print(summary)"
      ],
      "execution_count": null,
      "outputs": [
        {
          "output_type": "stream",
          "text": [
            "+--------------------+------+------+\n",
            "|       Model        | RMSE | Fold |\n",
            "+--------------------+------+------+\n",
            "| Stacked Regression | 1.16 |  0   |\n",
            "| Stacked Regression | 1.18 |  1   |\n",
            "+--------------------+------+------+\n"
          ],
          "name": "stdout"
        }
      ]
    },
    {
      "cell_type": "code",
      "metadata": {
        "colab": {
          "base_uri": "https://localhost:8080/",
          "height": 149
        },
        "id": "bgqIBg75d5fD",
        "outputId": "c9d48697-776f-4333-e1bd-c44445d2ebd7"
      },
      "source": [
        "from IPython.display import Image\n",
        "Image(filename='stacked_regressor2.PNG')"
      ],
      "execution_count": null,
      "outputs": [
        {
          "output_type": "execute_result",
          "data": {
            "image/png": "[encoded data removed]",
            "text/plain": [
              "<IPython.core.display.Image object>"
            ]
          },
          "metadata": {
            "tags": []
          },
          "execution_count": 1
        }
      ]
    },
    {
      "cell_type": "markdown",
      "metadata": {
        "id": "o20cjqV4e5mo"
      },
      "source": [
        "Summary\n",
        "1. I impute weather data with mean and median\n",
        "2. I imput the the remaining missing values with SimpleImputer with median\n",
        "3. Very basic FE because of the ram problem and also i seen in the lightgb gbdt that raw features are the most important fetaures \n",
        "4. Remove outlier\n",
        "5. Do standardisation on train and test\n",
        "6. This file run on kaggle notebook please don't try to run on the google colab because of the limited ram\n"
      ]
    },
    {
      "cell_type": "markdown",
      "metadata": {
        "id": "AIsIKXZtgUkY"
      },
      "source": [
        "Refrences\n",
        "1. http://rasbt.github.io/mlxtend/user_guide/regressor/StackingRegressor/\n",
        "2. https://www.kaggle.com/aitude/ashrae-missing-weather-data-handling\n",
        "3. https://contrib.scikit-learn.org/category_encoders/count.html"
      ]
    },
    {
      "cell_type": "code",
      "metadata": {
        "id": "hBRQ854reiq3"
      },
      "source": [
        ""
      ],
      "execution_count": null,
      "outputs": []
    }
  ]
}