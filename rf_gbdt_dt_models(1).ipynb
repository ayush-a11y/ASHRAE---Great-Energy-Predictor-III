{
  "nbformat": 4,
  "nbformat_minor": 0,
  "metadata": {
    "kernelspec": {
      "language": "python",
      "display_name": "Python 3",
      "name": "python3"
    },
    "language_info": {
      "name": "python",
      "version": "3.7.10",
      "mimetype": "text/x-python",
      "codemirror_mode": {
        "name": "ipython",
        "version": 3
      },
      "pygments_lexer": "ipython3",
      "nbconvert_exporter": "python",
      "file_extension": ".py"
    },
    "colab": {
      "name": "rf-gbdt-dt-models(1).ipynb",
      "provenance": []
    }
  },
  "cells": [
    {
      "cell_type": "markdown",
      "metadata": {
        "id": "COCn34IATFFM"
      },
      "source": [
        "# **ASHRAE-Great Energy Predictor III**"
      ]
    },
    {
      "cell_type": "markdown",
      "metadata": {
        "id": "dONktzv7TG_L"
      },
      "source": [
        "### Importing Libraries"
      ]
    },
    {
      "cell_type": "code",
      "metadata": {
        "execution": {
          "iopub.status.busy": "2021-08-16T10:54:59.101473Z",
          "iopub.execute_input": "2021-08-16T10:54:59.101824Z",
          "iopub.status.idle": "2021-08-16T10:54:59.322202Z",
          "shell.execute_reply.started": "2021-08-16T10:54:59.101792Z",
          "shell.execute_reply": "2021-08-16T10:54:59.321397Z"
        },
        "trusted": true,
        "id": "kWpjydXqS-hZ"
      },
      "source": [
        "import pandas as pd\n",
        "import numpy as np\n",
        "import matplotlib.pyplot as plt\n",
        "import seaborn as sns\n",
        "import math\n",
        "import timeit\n",
        "from sklearn.model_selection import train_test_split\n",
        "from sklearn.preprocessing import normalize\n",
        "from sklearn.metrics import confusion_matrix, f1_score\n",
        "from sklearn.tree import DecisionTreeClassifier\n",
        "from sklearn.model_selection import RandomizedSearchCV\n",
        "from sklearn.ensemble import RandomForestClassifier\n",
        "from sklearn.calibration import CalibratedClassifierCV\n",
        "from xgboost import XGBClassifier\n",
        "from sklearn.tree import DecisionTreeRegressor\n",
        "from sklearn.ensemble import RandomForestRegressor\n",
        "from xgboost import XGBRegressor\n",
        "import pickle\n",
        "import joblib\n",
        "import category_encoders\n",
        "\n",
        "from sklearn.impute import SimpleImputer\n",
        "from tqdm import tqdm\n",
        "from sklearn.metrics import mean_squared_error\n",
        "from sklearn.ensemble import AdaBoostRegressor\n",
        "import lightgbm as lgb\n",
        "from sklearn.preprocessing import LabelEncoder\n",
        "from sklearn.model_selection import KFold\n",
        "import datetime\n",
        "import gc\n",
        "from pandas.api.types import is_categorical_dtype\n",
        "from pandas.api.types import is_datetime64_any_dtype as is_datetime"
      ],
      "execution_count": null,
      "outputs": []
    },
    {
      "cell_type": "code",
      "metadata": {
        "execution": {
          "iopub.status.busy": "2021-08-16T10:51:45.733688Z",
          "iopub.execute_input": "2021-08-16T10:51:45.734022Z",
          "iopub.status.idle": "2021-08-16T10:51:45.747344Z",
          "shell.execute_reply.started": "2021-08-16T10:51:45.733994Z",
          "shell.execute_reply": "2021-08-16T10:51:45.745959Z"
        },
        "trusted": true,
        "id": "y6l2CCvUS-hf"
      },
      "source": [
        "# Memory optimization\n",
        "\n",
        "# Original code from https://www.kaggle.com/gemartin/load-data-reduce-memory-usage by @gemartin\n",
        "# Modified to support timestamp type, categorical type\n",
        "# Modified to add option to use float16\n",
        "def reduce_mem_usage(data, use_float16=False) -> pd.DataFrame:\n",
        "    start_mem = data.memory_usage().sum() / 1024**2\n",
        "    print('Memory usage of dataframe is {:.2f} MB'.format(start_mem))\n",
        "\n",
        "    for col in data.columns:\n",
        "        if is_datetime(data[col]) or is_categorical_dtype(data[col]):\n",
        "            continue\n",
        "        col_type = data[col].dtype\n",
        "\n",
        "        if col_type != object:\n",
        "            c_min = data[col].min()\n",
        "            c_max = data[col].max()\n",
        "            if str(col_type)[:3] == 'int':\n",
        "                if c_min > np.iinfo(np.int8).min and c_max < np.iinfo(np.int8).max:\n",
        "                    data[col] = data[col].astype(np.int8)\n",
        "                elif c_min > np.iinfo(np.int16).min and c_max < np.iinfo(np.int16).max:\n",
        "                    data[col] = data[col].astype(np.int16)\n",
        "                elif c_min > np.iinfo(np.int32).min and c_max < np.iinfo(np.int32).max:\n",
        "                    data[col] = data[col].astype(np.int32)\n",
        "                elif c_min > np.iinfo(np.int64).min and c_max < np.iinfo(np.int64).max:\n",
        "                    data[col] = data[col].astype(np.int64)\n",
        "            else:\n",
        "                if use_float16 and c_min > np.finfo(np.float16).min and c_max < np.finfo(np.float16).max:\n",
        "                    data[col] = data[col].astype(np.float16)\n",
        "                elif c_min > np.finfo(np.float32).min and c_max < np.finfo(np.float32).max:\n",
        "                    data[col] = data[col].astype(np.float32)\n",
        "                else:\n",
        "                    data[col] = data[col].astype(np.float64)\n",
        "        else:\n",
        "            data[col] = data[col].astype('category')\n",
        "\n",
        "    end_mem = data.memory_usage().sum() / 1024**2\n",
        "    print('Memory usage after optimization is: {:.2f} MB'.format(end_mem))\n",
        "    print('Decreased by {:.2f}%'.format(\n",
        "        100 * (start_mem - end_mem) / start_mem))\n",
        "\n",
        "    return data"
      ],
      "execution_count": null,
      "outputs": []
    },
    {
      "cell_type": "code",
      "metadata": {
        "execution": {
          "iopub.status.busy": "2021-08-16T10:52:07.453019Z",
          "iopub.execute_input": "2021-08-16T10:52:07.453389Z",
          "iopub.status.idle": "2021-08-16T10:52:07.457516Z",
          "shell.execute_reply.started": "2021-08-16T10:52:07.453356Z",
          "shell.execute_reply": "2021-08-16T10:52:07.456038Z"
        },
        "trusted": true,
        "id": "qgHdaj4AS-hh"
      },
      "source": [
        "# Path to data \n",
        "PATH = '../input/ashrae-energy-prediction/'"
      ],
      "execution_count": null,
      "outputs": []
    },
    {
      "cell_type": "code",
      "metadata": {
        "execution": {
          "iopub.status.busy": "2021-08-16T10:52:13.385454Z",
          "iopub.execute_input": "2021-08-16T10:52:13.385798Z",
          "iopub.status.idle": "2021-08-16T10:52:26.976793Z",
          "shell.execute_reply.started": "2021-08-16T10:52:13.385769Z",
          "shell.execute_reply": "2021-08-16T10:52:26.975892Z"
        },
        "trusted": true,
        "id": "fhUHAI2KS-hi"
      },
      "source": [
        "# Import train data\n",
        "train = pd.read_csv(f'{PATH}train.csv')\n",
        "weather_train = pd.read_csv(f'{PATH}weather_train.csv')\n",
        "\n",
        "# Import metadata\n",
        "metadata = pd.read_csv(f'{PATH}building_metadata.csv')"
      ],
      "execution_count": null,
      "outputs": []
    },
    {
      "cell_type": "code",
      "metadata": {
        "execution": {
          "iopub.status.busy": "2021-08-16T10:52:26.978325Z",
          "iopub.execute_input": "2021-08-16T10:52:26.978703Z",
          "iopub.status.idle": "2021-08-16T10:52:29.873703Z",
          "shell.execute_reply.started": "2021-08-16T10:52:26.978654Z",
          "shell.execute_reply": "2021-08-16T10:52:29.872668Z"
        },
        "trusted": true,
        "id": "fbT-L6pNS-hj"
      },
      "source": [
        "# Remove outliers in train data\n",
        "train = train[train['building_id'] != 1099]\n",
        "train = train.query('not (building_id <= 104 & meter == 0 & timestamp <= \"2016-05-20\")')"
      ],
      "execution_count": null,
      "outputs": []
    },
    {
      "cell_type": "code",
      "metadata": {
        "execution": {
          "iopub.status.busy": "2021-08-16T10:52:55.087981Z",
          "iopub.execute_input": "2021-08-16T10:52:55.088344Z",
          "iopub.status.idle": "2021-08-16T10:52:55.105417Z",
          "shell.execute_reply.started": "2021-08-16T10:52:55.088309Z",
          "shell.execute_reply": "2021-08-16T10:52:55.104491Z"
        },
        "trusted": true,
        "id": "CEUuyVuKS-hk"
      },
      "source": [
        "# Function for weather data processing\n",
        "def weather_data_parser(weather_data) -> pd.DataFrame:\n",
        "    time_format = '%Y-%m-%d %H:%M:%S'\n",
        "    start_date = datetime.datetime.strptime(weather_data['timestamp'].min(), time_format)\n",
        "    end_date = datetime.datetime.strptime(weather_data['timestamp'].max(), time_format)\n",
        "    total_hours = int(((end_date - start_date).total_seconds() + 3600) / 3600)\n",
        "    hours_list = [(end_date - datetime.timedelta(hours=x)).strftime(time_format) for x in range(total_hours)]\n",
        "\n",
        "    for site_id in range(16):\n",
        "        site_hours = np.array(weather_data[weather_data['site_id'] == site_id]['timestamp'])\n",
        "        new_rows = pd.DataFrame(np.setdiff1d(hours_list, site_hours), columns=['timestamp'])\n",
        "        new_rows['site_id'] = site_id\n",
        "        weather_data = pd.concat([weather_data, new_rows], sort=True)\n",
        "        weather_data = weather_data.reset_index(drop=True)           \n",
        "\n",
        "    weather_data['datetime'] = pd.to_datetime(weather_data['timestamp'])\n",
        "    weather_data['day'] = weather_data['datetime'].dt.day\n",
        "    weather_data['week'] = weather_data['datetime'].dt.week\n",
        "    weather_data['month'] = weather_data['datetime'].dt.month\n",
        "\n",
        "    weather_data = weather_data.set_index(['site_id', 'day', 'month'])\n",
        "\n",
        "    air_temperature_filler = pd.DataFrame(weather_data.groupby(['site_id','day','month'])['air_temperature'].median(), columns=['air_temperature'])\n",
        "    weather_data.update(air_temperature_filler, overwrite=False)\n",
        "\n",
        "    cloud_coverage_filler = weather_data.groupby(['site_id', 'day', 'month'])['cloud_coverage'].median()\n",
        "    cloud_coverage_filler = pd.DataFrame(cloud_coverage_filler.fillna(method='ffill'), columns=['cloud_coverage'])\n",
        "\n",
        "    weather_data.update(cloud_coverage_filler, overwrite=False)\n",
        "\n",
        "    due_temperature_filler = pd.DataFrame(weather_data.groupby(['site_id','day','month'])['dew_temperature'].median(), columns=['dew_temperature'])\n",
        "    weather_data.update(due_temperature_filler, overwrite=False)\n",
        "\n",
        "    sea_level_filler = weather_data.groupby(['site_id','day','month'])['sea_level_pressure'].median()\n",
        "    sea_level_filler = pd.DataFrame(sea_level_filler.fillna(method='ffill'), columns=['sea_level_pressure'])\n",
        "\n",
        "    weather_data.update(sea_level_filler, overwrite=False)\n",
        "\n",
        "    wind_direction_filler =  pd.DataFrame(weather_data.groupby(['site_id','day','month'])['wind_direction'].median(), columns=['wind_direction'])\n",
        "    weather_data.update(wind_direction_filler, overwrite=False)\n",
        "\n",
        "    wind_speed_filler =  pd.DataFrame(weather_data.groupby(['site_id','day','month'])['wind_speed'].median(), columns=['wind_speed'])\n",
        "    weather_data.update(wind_speed_filler, overwrite=False)\n",
        "\n",
        "    precip_depth_filler = weather_data.groupby(['site_id','day','month'])['precip_depth_1_hr'].median()\n",
        "    precip_depth_filler = pd.DataFrame(precip_depth_filler.fillna(method='ffill'), columns=['precip_depth_1_hr'])\n",
        "\n",
        "    weather_data.update(precip_depth_filler, overwrite=False)\n",
        "\n",
        "    weather_data = weather_data.reset_index()\n",
        "    weather_data = weather_data.drop(['datetime','day','week','month'], axis=1)\n",
        "\n",
        "    return weather_data"
      ],
      "execution_count": null,
      "outputs": []
    },
    {
      "cell_type": "code",
      "metadata": {
        "execution": {
          "iopub.status.busy": "2021-08-16T10:53:02.671378Z",
          "iopub.execute_input": "2021-08-16T10:53:02.671853Z",
          "iopub.status.idle": "2021-08-16T10:53:23.905158Z",
          "shell.execute_reply.started": "2021-08-16T10:53:02.671822Z",
          "shell.execute_reply": "2021-08-16T10:53:23.904282Z"
        },
        "trusted": true,
        "id": "4soeI-mCS-ho",
        "outputId": "6f725522-970e-4317-b55e-6f76fe2da4d7"
      },
      "source": [
        "# Train weather data processing\n",
        "weather_train = weather_data_parser(weather_train)"
      ],
      "execution_count": null,
      "outputs": [
        {
          "output_type": "stream",
          "text": [
            "/opt/conda/lib/python3.7/site-packages/ipykernel_launcher.py:18: FutureWarning: Series.dt.weekofyear and Series.dt.week have been deprecated.  Please use Series.dt.isocalendar().week instead.\n"
          ],
          "name": "stderr"
        }
      ]
    },
    {
      "cell_type": "code",
      "metadata": {
        "execution": {
          "iopub.status.busy": "2021-08-16T10:53:23.906456Z",
          "iopub.execute_input": "2021-08-16T10:53:23.906708Z",
          "iopub.status.idle": "2021-08-16T10:53:26.085051Z",
          "shell.execute_reply.started": "2021-08-16T10:53:23.906683Z",
          "shell.execute_reply": "2021-08-16T10:53:26.084077Z"
        },
        "trusted": true,
        "id": "QpiN6YAaS-hs",
        "outputId": "0ab20f79-26a1-415b-ff20-6c6c6fbc4b1b"
      },
      "source": [
        "# Memory optimization\n",
        "train = reduce_mem_usage(train, use_float16=True)\n",
        "weather_train = reduce_mem_usage(weather_train, use_float16=True)\n",
        "metadata = reduce_mem_usage(metadata, use_float16=True)"
      ],
      "execution_count": null,
      "outputs": [
        {
          "output_type": "stream",
          "text": [
            "Memory usage of dataframe is 757.31 MB\n",
            "Memory usage after optimization is: 322.18 MB\n",
            "Decreased by 57.46%\n",
            "Memory usage of dataframe is 9.65 MB\n",
            "Memory usage after optimization is: 2.60 MB\n",
            "Decreased by 73.08%\n",
            "Memory usage of dataframe is 0.07 MB\n",
            "Memory usage after optimization is: 0.02 MB\n",
            "Decreased by 73.88%\n"
          ],
          "name": "stdout"
        }
      ]
    },
    {
      "cell_type": "code",
      "metadata": {
        "execution": {
          "iopub.status.busy": "2021-08-16T10:53:31.529058Z",
          "iopub.execute_input": "2021-08-16T10:53:31.529442Z",
          "iopub.status.idle": "2021-08-16T10:53:38.700868Z",
          "shell.execute_reply.started": "2021-08-16T10:53:31.529408Z",
          "shell.execute_reply": "2021-08-16T10:53:38.699878Z"
        },
        "trusted": true,
        "id": "8gCijL0XS-hu",
        "outputId": "a379cf12-998b-453e-b506-2f4884e0f832"
      },
      "source": [
        "# Merge train data \n",
        "train = train.merge(metadata, on='building_id', how='left')\n",
        "train = train.merge(weather_train, on=['site_id', 'timestamp'], how='left')\n",
        "\n",
        "del weather_train; gc.collect()"
      ],
      "execution_count": null,
      "outputs": [
        {
          "output_type": "execute_result",
          "data": {
            "text/plain": [
              "0"
            ]
          },
          "metadata": {
            "tags": []
          },
          "execution_count": 11
        }
      ]
    },
    {
      "cell_type": "code",
      "metadata": {
        "execution": {
          "iopub.status.busy": "2021-08-16T10:53:53.233610Z",
          "iopub.execute_input": "2021-08-16T10:53:53.234115Z",
          "iopub.status.idle": "2021-08-16T10:53:53.241286Z",
          "shell.execute_reply.started": "2021-08-16T10:53:53.234069Z",
          "shell.execute_reply": "2021-08-16T10:53:53.240394Z"
        },
        "trusted": true,
        "id": "EjP8FzDJS-hw"
      },
      "source": [
        "# Function for train and test data processing\n",
        "def data_parser(data) -> pd.DataFrame:\n",
        "    data.sort_values('timestamp')\n",
        "    data.reset_index(drop=True)\n",
        "    \n",
        "    data['timestamp'] = pd.to_datetime(data['timestamp'], format='%Y-%m-%d %H:%M:%S')\n",
        "    data['weekday'] = data['timestamp'].dt.weekday\n",
        "    data['hour'] = data['timestamp'].dt.hour\n",
        "    \n",
        "    data['square_feet'] =  np.log1p(data['square_feet']) \n",
        "    \n",
        "    data = data.drop(['timestamp', 'sea_level_pressure',\n",
        "        'wind_direction', 'wind_speed', 'year_built', 'floor_count'], axis=1)\n",
        "    \n",
        "    gc.collect()\n",
        "    encoder = LabelEncoder()\n",
        "    data['primary_use'] = encoder.fit_transform(data['primary_use'])\n",
        "    \n",
        "    return data"
      ],
      "execution_count": null,
      "outputs": []
    },
    {
      "cell_type": "code",
      "metadata": {
        "execution": {
          "iopub.status.busy": "2021-08-16T10:54:07.863302Z",
          "iopub.execute_input": "2021-08-16T10:54:07.863824Z",
          "iopub.status.idle": "2021-08-16T10:54:20.734882Z",
          "shell.execute_reply.started": "2021-08-16T10:54:07.863781Z",
          "shell.execute_reply": "2021-08-16T10:54:20.734039Z"
        },
        "trusted": true,
        "id": "I7Her9ySS-hx"
      },
      "source": [
        "# Train data processing\n",
        "train = data_parser(train)"
      ],
      "execution_count": null,
      "outputs": []
    },
    {
      "cell_type": "code",
      "metadata": {
        "execution": {
          "iopub.status.busy": "2021-08-16T10:54:23.943508Z",
          "iopub.execute_input": "2021-08-16T10:54:23.944034Z",
          "iopub.status.idle": "2021-08-16T10:54:25.250880Z",
          "shell.execute_reply.started": "2021-08-16T10:54:23.943988Z",
          "shell.execute_reply": "2021-08-16T10:54:25.249823Z"
        },
        "trusted": true,
        "id": "6_MMSvoFS-hx",
        "outputId": "c23c1c39-8009-464f-fe9e-f18796c6d1fa"
      },
      "source": [
        "# Define target and predictors\n",
        "target = np.log1p(train['meter_reading'])\n",
        "features = train.drop(['meter_reading'], axis = 1) \n",
        "\n",
        "del train; gc.collect()"
      ],
      "execution_count": null,
      "outputs": [
        {
          "output_type": "execute_result",
          "data": {
            "text/plain": [
              "22"
            ]
          },
          "metadata": {
            "tags": []
          },
          "execution_count": 15
        }
      ]
    },
    {
      "cell_type": "code",
      "metadata": {
        "execution": {
          "iopub.status.busy": "2021-08-16T10:55:06.219970Z",
          "iopub.execute_input": "2021-08-16T10:55:06.220314Z",
          "iopub.status.idle": "2021-08-16T10:55:15.109882Z",
          "shell.execute_reply.started": "2021-08-16T10:55:06.220283Z",
          "shell.execute_reply": "2021-08-16T10:55:15.109069Z"
        },
        "trusted": true,
        "id": "ln-BEAu0S-hy",
        "outputId": "f0fecfeb-8a84-4b49-df2e-b8f77497adb9"
      },
      "source": [
        "# Process categorical features\n",
        "categorical_features = ['building_id', 'site_id', 'meter', 'primary_use']\n",
        "\n",
        "encoder = category_encoders.CountEncoder(cols=categorical_features)\n",
        "encoder.fit(features)\n",
        "features = encoder.transform(features)\n",
        "\n",
        "features_size = features.shape[0]\n",
        "for feature in categorical_features:\n",
        "    features[feature] = features[feature] / features_size"
      ],
      "execution_count": null,
      "outputs": [
        {
          "output_type": "stream",
          "text": [
            "/opt/conda/lib/python3.7/site-packages/category_encoders/utils.py:21: FutureWarning: is_categorical is deprecated and will be removed in a future version.  Use is_categorical_dtype instead\n",
            "  elif pd.api.types.is_categorical(cols):\n"
          ],
          "name": "stderr"
        }
      ]
    },
    {
      "cell_type": "code",
      "metadata": {
        "execution": {
          "iopub.status.busy": "2021-08-16T10:55:33.663461Z",
          "iopub.execute_input": "2021-08-16T10:55:33.663788Z",
          "iopub.status.idle": "2021-08-16T10:56:04.496775Z",
          "shell.execute_reply.started": "2021-08-16T10:55:33.663761Z",
          "shell.execute_reply": "2021-08-16T10:56:04.496054Z"
        },
        "trusted": true,
        "id": "uqUI7gSfS-hz"
      },
      "source": [
        "# Missing data imputation\n",
        "imputer = SimpleImputer(missing_values=np.nan, strategy='median')\n",
        "imputer.fit(features)\n",
        "features = imputer.transform(features)"
      ],
      "execution_count": null,
      "outputs": []
    },
    {
      "cell_type": "code",
      "metadata": {
        "execution": {
          "iopub.status.busy": "2021-08-16T10:57:10.741393Z",
          "iopub.execute_input": "2021-08-16T10:57:10.741748Z",
          "iopub.status.idle": "2021-08-16T10:57:10.748276Z",
          "shell.execute_reply.started": "2021-08-16T10:57:10.741719Z",
          "shell.execute_reply": "2021-08-16T10:57:10.747251Z"
        },
        "trusted": true,
        "id": "CkyFLl9RS-hz",
        "outputId": "6f65032e-4521-4c8b-ee93-615d29cb19b9"
      },
      "source": [
        "type(features)"
      ],
      "execution_count": null,
      "outputs": [
        {
          "output_type": "execute_result",
          "data": {
            "text/plain": [
              "numpy.ndarray"
            ]
          },
          "metadata": {
            "tags": []
          },
          "execution_count": 20
        }
      ]
    },
    {
      "cell_type": "code",
      "metadata": {
        "execution": {
          "iopub.status.busy": "2021-08-16T10:57:33.579712Z",
          "iopub.execute_input": "2021-08-16T10:57:33.580029Z",
          "iopub.status.idle": "2021-08-16T10:57:34.339542Z",
          "shell.execute_reply.started": "2021-08-16T10:57:33.580000Z",
          "shell.execute_reply": "2021-08-16T10:57:34.338673Z"
        },
        "trusted": true,
        "id": "JNkvFzBuS-hz"
      },
      "source": [
        "X_train, X_cv= train_test_split(features, test_size=0.20, shuffle=False)"
      ],
      "execution_count": null,
      "outputs": []
    },
    {
      "cell_type": "code",
      "metadata": {
        "execution": {
          "iopub.status.busy": "2021-08-16T10:58:27.129777Z",
          "iopub.execute_input": "2021-08-16T10:58:27.130105Z",
          "iopub.status.idle": "2021-08-16T10:58:27.409001Z",
          "shell.execute_reply.started": "2021-08-16T10:58:27.130077Z",
          "shell.execute_reply": "2021-08-16T10:58:27.407969Z"
        },
        "trusted": true,
        "id": "RIgCDYiWS-h0"
      },
      "source": [
        "y_train, y_cv= train_test_split(target, test_size=0.20, shuffle=False)"
      ],
      "execution_count": null,
      "outputs": []
    },
    {
      "cell_type": "code",
      "metadata": {
        "execution": {
          "iopub.status.busy": "2021-08-16T11:19:20.326832Z",
          "iopub.execute_input": "2021-08-16T11:19:20.327190Z",
          "iopub.status.idle": "2021-08-16T11:19:47.763092Z",
          "shell.execute_reply.started": "2021-08-16T11:19:20.327155Z",
          "shell.execute_reply": "2021-08-16T11:19:47.762141Z"
        },
        "trusted": true,
        "id": "jdypNQ0US-h0"
      },
      "source": [
        "# Import test data\n",
        "test = pd.read_csv(f'{PATH}test.csv')\n",
        "weather_test = pd.read_csv(f'{PATH}weather_test.csv')"
      ],
      "execution_count": null,
      "outputs": []
    },
    {
      "cell_type": "code",
      "metadata": {
        "execution": {
          "iopub.status.busy": "2021-08-16T11:19:49.056203Z",
          "iopub.execute_input": "2021-08-16T11:19:49.056785Z",
          "iopub.status.idle": "2021-08-16T11:19:49.801088Z",
          "shell.execute_reply.started": "2021-08-16T11:19:49.056755Z",
          "shell.execute_reply": "2021-08-16T11:19:49.800386Z"
        },
        "trusted": true,
        "id": "WIdLXjZHS-h0"
      },
      "source": [
        "row_ids = test['row_id']\n",
        "test.drop('row_id', axis=1, inplace=True)"
      ],
      "execution_count": null,
      "outputs": []
    },
    {
      "cell_type": "code",
      "metadata": {
        "execution": {
          "iopub.status.busy": "2021-08-16T11:19:51.557609Z",
          "iopub.execute_input": "2021-08-16T11:19:51.558082Z",
          "iopub.status.idle": "2021-08-16T11:21:04.121481Z",
          "shell.execute_reply.started": "2021-08-16T11:19:51.558051Z",
          "shell.execute_reply": "2021-08-16T11:21:04.120406Z"
        },
        "trusted": true,
        "id": "um4dg51wS-h0",
        "outputId": "5b1a6869-59cf-4408-9b4d-7f77731759ad"
      },
      "source": [
        "# Test weather data processing\n",
        "weather_test = weather_data_parser(weather_test)\n"
      ],
      "execution_count": null,
      "outputs": [
        {
          "output_type": "stream",
          "text": [
            "/opt/conda/lib/python3.7/site-packages/ipykernel_launcher.py:18: FutureWarning: Series.dt.weekofyear and Series.dt.week have been deprecated.  Please use Series.dt.isocalendar().week instead.\n"
          ],
          "name": "stderr"
        }
      ]
    },
    {
      "cell_type": "code",
      "metadata": {
        "execution": {
          "iopub.status.busy": "2021-08-16T11:21:30.004775Z",
          "iopub.execute_input": "2021-08-16T11:21:30.005151Z",
          "iopub.status.idle": "2021-08-16T11:21:34.403201Z",
          "shell.execute_reply.started": "2021-08-16T11:21:30.005115Z",
          "shell.execute_reply": "2021-08-16T11:21:34.401991Z"
        },
        "trusted": true,
        "id": "2jallzJYS-h1",
        "outputId": "c85d85e7-0f71-4be3-ee11-9d7b8788f8cc"
      },
      "source": [
        "# Memory optimization\n",
        "test = reduce_mem_usage(test, use_float16=True)\n",
        "weather_test = reduce_mem_usage(weather_test, use_float16=True)"
      ],
      "execution_count": null,
      "outputs": [
        {
          "output_type": "stream",
          "text": [
            "Memory usage of dataframe is 954.38 MB\n",
            "Memory usage after optimization is: 199.47 MB\n",
            "Decreased by 79.10%\n",
            "Memory usage of dataframe is 19.25 MB\n",
            "Memory usage after optimization is: 5.18 MB\n",
            "Decreased by 73.08%\n"
          ],
          "name": "stdout"
        }
      ]
    },
    {
      "cell_type": "code",
      "metadata": {
        "execution": {
          "iopub.status.busy": "2021-08-16T11:21:39.107000Z",
          "iopub.execute_input": "2021-08-16T11:21:39.107366Z",
          "iopub.status.idle": "2021-08-16T11:21:53.316988Z",
          "shell.execute_reply.started": "2021-08-16T11:21:39.107330Z",
          "shell.execute_reply": "2021-08-16T11:21:53.316282Z"
        },
        "trusted": true,
        "id": "FbGQ-z1QS-h2",
        "outputId": "d5367c1f-510b-4c0b-aa4a-f1b14ff735e6"
      },
      "source": [
        "# Merge test data\n",
        "test = test.merge(metadata, on='building_id', how='left')\n",
        "test = test.merge(weather_test, on=['site_id', 'timestamp'], how='left')\n",
        "\n",
        "del metadata; gc.collect()"
      ],
      "execution_count": null,
      "outputs": [
        {
          "output_type": "execute_result",
          "data": {
            "text/plain": [
              "44"
            ]
          },
          "metadata": {
            "tags": []
          },
          "execution_count": 32
        }
      ]
    },
    {
      "cell_type": "code",
      "metadata": {
        "execution": {
          "iopub.status.busy": "2021-08-16T11:21:57.439189Z",
          "iopub.execute_input": "2021-08-16T11:21:57.439735Z",
          "iopub.status.idle": "2021-08-16T11:22:51.713979Z",
          "shell.execute_reply.started": "2021-08-16T11:21:57.439690Z",
          "shell.execute_reply": "2021-08-16T11:22:51.712907Z"
        },
        "trusted": true,
        "id": "-D473AU2S-h4"
      },
      "source": [
        "# Test data processing\n",
        "test = data_parser(test)\n",
        "\n",
        "test = encoder.transform(test)\n",
        "for feature in categorical_features:\n",
        "    test[feature] = test[feature] / features_size\n",
        "\n",
        "test = imputer.transform(test)"
      ],
      "execution_count": null,
      "outputs": []
    },
    {
      "cell_type": "markdown",
      "metadata": {
        "id": "3QGjMF4NS-h5"
      },
      "source": [
        "Random Forest"
      ]
    },
    {
      "cell_type": "code",
      "metadata": {
        "execution": {
          "iopub.status.busy": "2021-08-16T10:59:16.548973Z",
          "iopub.execute_input": "2021-08-16T10:59:16.549340Z",
          "iopub.status.idle": "2021-08-16T11:08:05.251944Z",
          "shell.execute_reply.started": "2021-08-16T10:59:16.549302Z",
          "shell.execute_reply": "2021-08-16T11:08:05.250887Z"
        },
        "trusted": true,
        "id": "4YY8dZIPS-h6",
        "outputId": "cf294504-b024-4ab4-8ca7-09cf8f4e318d"
      },
      "source": [
        "cv_error_array=[]\n",
        "lgb_estimators=[75,150,500]\n",
        "for i in lgb_estimators:\n",
        "    rf_reg=lgb.LGBMRegressor(boosting_type='rf', n_estimators=i, n_jobs=-1,objective='rmse',subsample=0.8,feature_fraction=0.8,bagging_freq=1)\n",
        "    rf_reg.fit(X_train,y_train)\n",
        "    pred_rf_reg=rf_reg.predict(X_cv)\n",
        "    cv_error_array.append(math.sqrt(mean_squared_error(y_cv, pred_rf_reg)))\n",
        "    print(\"rmse for estimators:\", i,'is',math.sqrt(mean_squared_error(y_cv, pred_rf_reg)))"
      ],
      "execution_count": null,
      "outputs": [
        {
          "output_type": "stream",
          "text": [
            "rmse for estimators: 75 is 1.7053545141610957\n",
            "[LightGBM] [Warning] feature_fraction is set=0.8, colsample_bytree=1.0 will be ignored. Current value: feature_fraction=0.8\n",
            "[LightGBM] [Warning] bagging_freq is set=1, subsample_freq=0 will be ignored. Current value: bagging_freq=1\n",
            "rmse for estimators: 150 is 1.6920181010172193\n",
            "[LightGBM] [Warning] feature_fraction is set=0.8, colsample_bytree=1.0 will be ignored. Current value: feature_fraction=0.8\n",
            "[LightGBM] [Warning] bagging_freq is set=1, subsample_freq=0 will be ignored. Current value: bagging_freq=1\n",
            "rmse for estimators: 500 is 1.6836384519757122\n"
          ],
          "name": "stdout"
        }
      ]
    },
    {
      "cell_type": "code",
      "metadata": {
        "execution": {
          "iopub.status.busy": "2021-08-16T11:09:13.811522Z",
          "iopub.execute_input": "2021-08-16T11:09:13.811890Z",
          "iopub.status.idle": "2021-08-16T11:09:13.986216Z",
          "shell.execute_reply.started": "2021-08-16T11:09:13.811860Z",
          "shell.execute_reply": "2021-08-16T11:09:13.985248Z"
        },
        "trusted": true,
        "id": "eCfV2LgSS-h7",
        "outputId": "b3536901-0db7-40eb-b07a-5badccb1edf9"
      },
      "source": [
        "best_alpha = np.argmin(cv_error_array)\n",
        "fig, ax = plt.subplots()\n",
        "ax.plot(lgb_estimators, cv_error_array,c='g')\n",
        "for i, txt in enumerate(np.round(cv_error_array,3)):\n",
        "  ax.annotate((lgb_estimators[i],np.round(txt,3)), (lgb_estimators[i],cv_error_array[i]))\n",
        "plt.grid()\n",
        "plt.title(\"Cross Validation Error for each alpha\")\n",
        "plt.xlabel(\"Estimator i's\")\n",
        "plt.ylabel(\"plt.show() Error measure\")\n",
        "plt.show()"
      ],
      "execution_count": null,
      "outputs": [
        {
          "output_type": "display_data",
          "data": {
            "text/plain": [
              "<Figure size 432x288 with 1 Axes>"
            ],
            "image/png": "[encoded data removed]"
          },
          "metadata": {
            "tags": [],
            "needs_background": "light"
          }
        }
      ]
    },
    {
      "cell_type": "code",
      "metadata": {
        "execution": {
          "iopub.status.busy": "2021-08-16T11:23:01.974232Z",
          "iopub.execute_input": "2021-08-16T11:23:01.974582Z",
          "iopub.status.idle": "2021-08-16T11:31:10.276962Z",
          "shell.execute_reply.started": "2021-08-16T11:23:01.974554Z",
          "shell.execute_reply": "2021-08-16T11:31:10.275837Z"
        },
        "trusted": true,
        "id": "Hhi1w75jS-h7",
        "outputId": "0f616cc0-cff6-4ea0-b967-dbef2157f5b9"
      },
      "source": [
        "rf_reg=lgb.LGBMRegressor(boosting_type='rf', n_estimators=lgb_estimators[best_alpha], n_jobs=-1,objective='rmse',subsample=0.8,feature_fraction=0.8,bagging_freq=1)\n",
        "rf_reg.fit(X_train,y_train)\n",
        "pred_reg_lgb_cv=rf_reg.predict(X_cv)\n",
        "pred_reg_lgb_tr=rf_reg.predict(X_train)\n",
        "print(\"Train rmse for estimators:\", lgb_estimators[best_alpha],'is',math.sqrt(mean_squared_error(y_train, pred_reg_lgb_tr)))\n",
        "print(\"CV rmse for estimators:\", lgb_estimators[best_alpha],'is',math.sqrt(mean_squared_error(y_cv, pred_reg_lgb_cv)))"
      ],
      "execution_count": null,
      "outputs": [
        {
          "output_type": "stream",
          "text": [
            "[LightGBM] [Warning] feature_fraction is set=0.8, colsample_bytree=1.0 will be ignored. Current value: feature_fraction=0.8\n",
            "[LightGBM] [Warning] bagging_freq is set=1, subsample_freq=0 will be ignored. Current value: bagging_freq=1\n",
            "Train rmse for estimators: 500 is 1.7031784524136562\n",
            "CV rmse for estimators: 500 is 1.6836384519757122\n"
          ],
          "name": "stdout"
        }
      ]
    },
    {
      "cell_type": "code",
      "metadata": {
        "execution": {
          "iopub.status.busy": "2021-08-16T11:41:21.435258Z",
          "iopub.execute_input": "2021-08-16T11:41:21.435630Z",
          "iopub.status.idle": "2021-08-16T11:41:21.514467Z",
          "shell.execute_reply.started": "2021-08-16T11:41:21.435597Z",
          "shell.execute_reply": "2021-08-16T11:41:21.513610Z"
        },
        "trusted": true,
        "id": "dgjo4mNpS-h8",
        "outputId": "dd741cc6-ec35-4713-d1bf-a922135b5d26"
      },
      "source": [
        "filename_reg='rf_reg.sav'\n",
        "joblib.dump(rf_reg,filename_reg)"
      ],
      "execution_count": null,
      "outputs": [
        {
          "output_type": "execute_result",
          "data": {
            "text/plain": [
              "['rf_reg.sav']"
            ]
          },
          "metadata": {
            "tags": []
          },
          "execution_count": 37
        }
      ]
    },
    {
      "cell_type": "code",
      "metadata": {
        "execution": {
          "iopub.status.busy": "2021-08-16T11:32:54.073669Z",
          "iopub.execute_input": "2021-08-16T11:32:54.074038Z",
          "iopub.status.idle": "2021-08-16T11:38:33.683106Z",
          "shell.execute_reply.started": "2021-08-16T11:32:54.074000Z",
          "shell.execute_reply": "2021-08-16T11:38:33.682260Z"
        },
        "trusted": true,
        "id": "7712mwAXS-h9"
      },
      "source": [
        "y_pred = rf_reg.predict(test)"
      ],
      "execution_count": null,
      "outputs": []
    },
    {
      "cell_type": "code",
      "metadata": {
        "execution": {
          "iopub.status.busy": "2021-08-16T11:54:47.753638Z",
          "iopub.execute_input": "2021-08-16T11:54:47.753972Z",
          "iopub.status.idle": "2021-08-16T11:56:33.623610Z",
          "shell.execute_reply.started": "2021-08-16T11:54:47.753936Z",
          "shell.execute_reply": "2021-08-16T11:56:33.622512Z"
        },
        "trusted": true,
        "id": "MN1pUMXpS-h9"
      },
      "source": [
        "sample_submission = pd.read_csv(\"/kaggle/input/ashrae-energy-prediction/sample_submission.csv\")\n",
        "sample_submission[\"meter_reading\"] =  np.expm1(y_pred)\n",
        "sample_submission.to_csv(\"./rf_submission.csv\", index=False)"
      ],
      "execution_count": null,
      "outputs": []
    },
    {
      "cell_type": "markdown",
      "metadata": {
        "id": "OdB_8T2CS-h9"
      },
      "source": [
        "GBDT"
      ]
    },
    {
      "cell_type": "code",
      "metadata": {
        "execution": {
          "iopub.status.busy": "2021-08-16T11:46:52.798439Z",
          "iopub.execute_input": "2021-08-16T11:46:52.798754Z",
          "iopub.status.idle": "2021-08-16T11:52:03.349019Z",
          "shell.execute_reply.started": "2021-08-16T11:46:52.798726Z",
          "shell.execute_reply": "2021-08-16T11:52:03.347983Z"
        },
        "trusted": true,
        "id": "vS2L9VJOS-h-",
        "outputId": "78ab2316-0011-47c4-b45e-1c17eb8a5bd0"
      },
      "source": [
        "import lightgbm as lgb\n",
        "lgb_estimators=[75,150,500]\n",
        "cv_error_array=[]\n",
        "for i in lgb_estimators:\n",
        "    lgb_reg=lgb.LGBMRegressor(boosting_type='gbdt', n_estimators=i,objective='rmse', n_jobs=-1)\n",
        "    lgb_reg.fit(X_train,y_train)\n",
        "    pred_reg_lgb=lgb_reg.predict(X_cv)\n",
        "    cv_error_array.append(math.sqrt(mean_squared_error(y_cv, pred_reg_lgb)))\n",
        "    print(\"rmse for estimators:\", i,'is',math.sqrt(mean_squared_error(y_cv, pred_reg_lgb)))"
      ],
      "execution_count": null,
      "outputs": [
        {
          "output_type": "stream",
          "text": [
            "rmse for estimators: 75 is 1.3117684956117592\n",
            "rmse for estimators: 150 is 1.2229845100192143\n",
            "rmse for estimators: 500 is 1.1127266930612176\n"
          ],
          "name": "stdout"
        }
      ]
    },
    {
      "cell_type": "code",
      "metadata": {
        "execution": {
          "iopub.status.busy": "2021-08-16T11:56:52.346951Z",
          "iopub.execute_input": "2021-08-16T11:56:52.347540Z",
          "iopub.status.idle": "2021-08-16T11:56:52.510467Z",
          "shell.execute_reply.started": "2021-08-16T11:56:52.347507Z",
          "shell.execute_reply": "2021-08-16T11:56:52.509320Z"
        },
        "trusted": true,
        "id": "689mmfipS-h-",
        "outputId": "5aac10c4-030c-4e4b-8971-12e7e58d0484"
      },
      "source": [
        "best_alpha = np.argmin(cv_error_array)\n",
        "fig, ax = plt.subplots()\n",
        "ax.plot(lgb_estimators, cv_error_array,c='g')\n",
        "for i, txt in enumerate(np.round(cv_error_array,3)):\n",
        "  ax.annotate((lgb_estimators[i],np.round(txt,3)), (lgb_estimators[i],cv_error_array[i]))\n",
        "plt.grid()\n",
        "plt.title(\"Cross Validation Error for each alpha\")\n",
        "plt.xlabel(\"Estimator i's\")\n",
        "plt.ylabel(\"plt.show() Error measure\")\n",
        "plt.show()"
      ],
      "execution_count": null,
      "outputs": [
        {
          "output_type": "display_data",
          "data": {
            "text/plain": [
              "<Figure size 432x288 with 1 Axes>"
            ],
            "image/png": "[encoded data removed]"
          },
          "metadata": {
            "tags": [],
            "needs_background": "light"
          }
        }
      ]
    },
    {
      "cell_type": "code",
      "metadata": {
        "execution": {
          "iopub.status.busy": "2021-08-16T11:57:11.449686Z",
          "iopub.execute_input": "2021-08-16T11:57:11.450022Z",
          "iopub.status.idle": "2021-08-16T12:02:36.030020Z",
          "shell.execute_reply.started": "2021-08-16T11:57:11.449991Z",
          "shell.execute_reply": "2021-08-16T12:02:36.028945Z"
        },
        "trusted": true,
        "id": "_HHHyqOCS-h_",
        "outputId": "47907ce1-11b1-46d3-c90a-43d45dcb26d9"
      },
      "source": [
        "lgb_reg=lgb.LGBMRegressor(boosting_type='gbdt', n_estimators=lgb_estimators[best_alpha], objective='rmse',n_jobs=-1)\n",
        "lgb_reg.fit(X_train,y_train)\n",
        "pred_reg_lgb_cv=lgb_reg.predict(X_cv)\n",
        "pred_reg_lgb_tr=lgb_reg.predict(X_train)\n",
        "print(\"Train rmse for estimators:\", lgb_estimators[best_alpha],'is',math.sqrt(mean_squared_error(y_train, pred_reg_lgb_tr)))\n",
        "print(\"CV rmse for estimators:\", lgb_estimators[best_alpha],'is',math.sqrt(mean_squared_error(y_cv, pred_reg_lgb_cv)))"
      ],
      "execution_count": null,
      "outputs": [
        {
          "output_type": "stream",
          "text": [
            "Train rmse for estimators: 500 is 1.0429949011063055\n",
            "CV rmse for estimators: 500 is 1.1127266930612176\n"
          ],
          "name": "stdout"
        }
      ]
    },
    {
      "cell_type": "code",
      "metadata": {
        "execution": {
          "iopub.status.busy": "2021-08-16T12:03:04.648684Z",
          "iopub.execute_input": "2021-08-16T12:03:04.649034Z",
          "iopub.status.idle": "2021-08-16T12:03:04.722063Z",
          "shell.execute_reply.started": "2021-08-16T12:03:04.649003Z",
          "shell.execute_reply": "2021-08-16T12:03:04.721067Z"
        },
        "trusted": true,
        "id": "qGwBut1ES-h_",
        "outputId": "0a7be065-781e-4e84-9daa-b05114dfb010"
      },
      "source": [
        "filename_reg='lgb_reg.sav'\n",
        "joblib.dump(lgb_reg,filename_reg)"
      ],
      "execution_count": null,
      "outputs": [
        {
          "output_type": "execute_result",
          "data": {
            "text/plain": [
              "['lgb_reg.sav']"
            ]
          },
          "metadata": {
            "tags": []
          },
          "execution_count": 45
        }
      ]
    },
    {
      "cell_type": "code",
      "metadata": {
        "execution": {
          "iopub.status.busy": "2021-08-16T12:03:11.634933Z",
          "iopub.execute_input": "2021-08-16T12:03:11.635315Z",
          "iopub.status.idle": "2021-08-16T12:08:50.053181Z",
          "shell.execute_reply.started": "2021-08-16T12:03:11.635259Z",
          "shell.execute_reply": "2021-08-16T12:08:50.052335Z"
        },
        "trusted": true,
        "id": "b79JshOaS-h_"
      },
      "source": [
        "y_pred = lgb_reg.predict(test)"
      ],
      "execution_count": null,
      "outputs": []
    },
    {
      "cell_type": "code",
      "metadata": {
        "execution": {
          "iopub.status.busy": "2021-08-16T12:09:06.946985Z",
          "iopub.execute_input": "2021-08-16T12:09:06.947465Z",
          "iopub.status.idle": "2021-08-16T12:10:51.774299Z",
          "shell.execute_reply.started": "2021-08-16T12:09:06.947434Z",
          "shell.execute_reply": "2021-08-16T12:10:51.773541Z"
        },
        "trusted": true,
        "id": "gb4jYiUpS-h_"
      },
      "source": [
        "sample_submission = pd.read_csv(\"/kaggle/input/ashrae-energy-prediction/sample_submission.csv\")\n",
        "sample_submission[\"meter_reading\"] =  np.expm1(y_pred)\n",
        "sample_submission.to_csv(\"./gbdt_submission.csv\", index=False)"
      ],
      "execution_count": null,
      "outputs": []
    },
    {
      "cell_type": "markdown",
      "metadata": {
        "id": "PdmU9oyHS-h_"
      },
      "source": [
        "Decision Tree"
      ]
    },
    {
      "cell_type": "code",
      "metadata": {
        "execution": {
          "iopub.status.busy": "2021-08-16T12:11:07.318351Z",
          "iopub.execute_input": "2021-08-16T12:11:07.318867Z",
          "iopub.status.idle": "2021-08-16T12:16:42.713724Z",
          "shell.execute_reply.started": "2021-08-16T12:11:07.318834Z",
          "shell.execute_reply": "2021-08-16T12:16:42.712765Z"
        },
        "trusted": true,
        "id": "NV-ALsICS-iA",
        "outputId": "21eb91fd-9f1d-405e-d001-555e3b832b6a"
      },
      "source": [
        "cv_error_array=[]\n",
        "depth=[3,5,7,9,11]\n",
        "for i in depth:\n",
        "  dt_reg=DecisionTreeRegressor(max_depth=i)\n",
        "  dt_reg.fit(X_train,y_train)\n",
        "  pred_d_reg=dt_reg.predict(X_cv)\n",
        "  cv_error_array.append(math.sqrt(mean_squared_error(y_cv, pred_d_reg)))\n",
        "  print(\"rmse for max_depth:\", i,'is',math.sqrt(mean_squared_error(y_cv, pred_d_reg)))"
      ],
      "execution_count": null,
      "outputs": [
        {
          "output_type": "stream",
          "text": [
            "rmse for max_depth: 3 is 1.8388807800814189\n",
            "rmse for max_depth: 5 is 1.7838711978785249\n",
            "rmse for max_depth: 7 is 1.6881468329193146\n",
            "rmse for max_depth: 9 is 1.5734313590601616\n",
            "rmse for max_depth: 11 is 1.4593513318163778\n"
          ],
          "name": "stdout"
        }
      ]
    },
    {
      "cell_type": "code",
      "metadata": {
        "execution": {
          "iopub.status.busy": "2021-08-16T12:17:02.628687Z",
          "iopub.execute_input": "2021-08-16T12:17:02.629052Z",
          "iopub.status.idle": "2021-08-16T12:17:02.809895Z",
          "shell.execute_reply.started": "2021-08-16T12:17:02.629017Z",
          "shell.execute_reply": "2021-08-16T12:17:02.808891Z"
        },
        "trusted": true,
        "id": "1D1qXoC2S-iA",
        "outputId": "39e0ceea-af4f-4718-a08b-77c16398cf22"
      },
      "source": [
        "#this plottig is taken from the personalised cancer diagnosis case study\n",
        "best_alpha = np.argmin(cv_error_array)\n",
        "fig, ax = plt.subplots()\n",
        "ax.plot(depth, cv_error_array,c='g')\n",
        "for i, txt in enumerate(np.round(cv_error_array,3)):\n",
        "  ax.annotate((depth[i],np.round(txt,3)), (depth[i],cv_error_array[i]))\n",
        "plt.grid()\n",
        "plt.title(\"Cross Validation Error for each alpha\")\n",
        "plt.xlabel(\"Depth i's\")\n",
        "plt.ylabel(\"plt.show() Error measure\")\n",
        "plt.show()"
      ],
      "execution_count": null,
      "outputs": [
        {
          "output_type": "display_data",
          "data": {
            "text/plain": [
              "<Figure size 432x288 with 1 Axes>"
            ],
            "image/png": "[encoded data removed]"
          },
          "metadata": {
            "tags": [],
            "needs_background": "light"
          }
        }
      ]
    },
    {
      "cell_type": "code",
      "metadata": {
        "execution": {
          "iopub.status.busy": "2021-08-16T12:17:09.811398Z",
          "iopub.execute_input": "2021-08-16T12:17:09.811882Z",
          "iopub.status.idle": "2021-08-16T12:18:54.295176Z",
          "shell.execute_reply.started": "2021-08-16T12:17:09.811851Z",
          "shell.execute_reply": "2021-08-16T12:18:54.294126Z"
        },
        "trusted": true,
        "id": "XwdBUWMhS-iA",
        "outputId": "9be9971b-3681-41d1-9cde-db870cde4954"
      },
      "source": [
        "dt_reg=DecisionTreeRegressor(max_depth=depth[best_alpha],random_state=5)\n",
        "dt_reg.fit(X_train,y_train)\n",
        "pred_d_reg_tr=dt_reg.predict(X_train)\n",
        "pred_d_reg_cv=dt_reg.predict(X_cv)\n",
        "print(\"Train rmse for max_depth:\", depth[best_alpha],'is',math.sqrt(mean_squared_error(y_train, pred_d_reg_tr)))\n",
        "print(\"CV rmse for max_depth:\", depth[best_alpha],'is',math.sqrt(mean_squared_error(y_cv, pred_d_reg_cv)))"
      ],
      "execution_count": null,
      "outputs": [
        {
          "output_type": "stream",
          "text": [
            "Train rmse for max_depth: 11 is 1.4159019883735708\n",
            "CV rmse for max_depth: 11 is 1.459295804322201\n"
          ],
          "name": "stdout"
        }
      ]
    },
    {
      "cell_type": "code",
      "metadata": {
        "execution": {
          "iopub.status.busy": "2021-08-16T12:19:58.582550Z",
          "iopub.execute_input": "2021-08-16T12:19:58.582914Z",
          "iopub.status.idle": "2021-08-16T12:19:58.591574Z",
          "shell.execute_reply.started": "2021-08-16T12:19:58.582883Z",
          "shell.execute_reply": "2021-08-16T12:19:58.590428Z"
        },
        "trusted": true,
        "id": "DVgTdMafS-iB",
        "outputId": "95fb216e-40a7-4610-f087-8d351db4122a"
      },
      "source": [
        "filename_reg='dt_reg.sav'\n",
        "joblib.dump(dt_reg,filename_reg)"
      ],
      "execution_count": null,
      "outputs": [
        {
          "output_type": "execute_result",
          "data": {
            "text/plain": [
              "['dt_reg.sav']"
            ]
          },
          "metadata": {
            "tags": []
          },
          "execution_count": 51
        }
      ]
    },
    {
      "cell_type": "code",
      "metadata": {
        "execution": {
          "iopub.status.busy": "2021-08-16T12:20:07.126889Z",
          "iopub.execute_input": "2021-08-16T12:20:07.127221Z",
          "iopub.status.idle": "2021-08-16T12:20:10.802550Z",
          "shell.execute_reply.started": "2021-08-16T12:20:07.127194Z",
          "shell.execute_reply": "2021-08-16T12:20:10.801514Z"
        },
        "trusted": true,
        "id": "CqbyjEqpS-iB"
      },
      "source": [
        "y_pred = dt_reg.predict(test)"
      ],
      "execution_count": null,
      "outputs": []
    },
    {
      "cell_type": "code",
      "metadata": {
        "execution": {
          "iopub.status.busy": "2021-08-16T12:21:39.662876Z",
          "iopub.execute_input": "2021-08-16T12:21:39.663299Z",
          "iopub.status.idle": "2021-08-16T12:23:23.795867Z",
          "shell.execute_reply.started": "2021-08-16T12:21:39.663240Z",
          "shell.execute_reply": "2021-08-16T12:23:23.794835Z"
        },
        "trusted": true,
        "id": "6pP7np23S-iB"
      },
      "source": [
        "sample_submission = pd.read_csv(\"/kaggle/input/ashrae-energy-prediction/sample_submission.csv\")\n",
        "sample_submission[\"meter_reading\"] =  np.expm1(y_pred)\n",
        "sample_submission.to_csv(\"./dt_submission.csv\", index=False)"
      ],
      "execution_count": null,
      "outputs": []
    },
    {
      "cell_type": "code",
      "metadata": {
        "colab": {
          "base_uri": "https://localhost:8080/"
        },
        "id": "J_u_HeJ9S-iB",
        "outputId": "1fda8f62-47f7-4a24-f1ba-05320eece34d"
      },
      "source": [
        "from prettytable import PrettyTable\n",
        "summary = PrettyTable()\n",
        "\n",
        "\n",
        "summary.field_names = [\"Model\",\"RMSE\"]\n",
        "summary.add_row([\"LightGBM RF\",1.68])\n",
        "summary.add_row([\"LightGBM GBDT\",1.11])\n",
        "summary.add_row([\"DT\",1.45])\n",
        "print(summary)"
      ],
      "execution_count": 1,
      "outputs": [
        {
          "output_type": "stream",
          "text": [
            "+---------------+------+\n",
            "|     Model     | RMSE |\n",
            "+---------------+------+\n",
            "|  LightGBM RF  | 1.68 |\n",
            "| LightGBM GBDT | 1.11 |\n",
            "|       DT      | 1.45 |\n",
            "+---------------+------+\n"
          ],
          "name": "stdout"
        }
      ]
    },
    {
      "cell_type": "code",
      "metadata": {
        "colab": {
          "base_uri": "https://localhost:8080/",
          "height": 329
        },
        "id": "_pkNbKIxUSNN",
        "outputId": "1277b1e3-1178-42ad-d663-bbbb3e0a4fcf"
      },
      "source": [
        "from IPython.display import Image\n",
        "Image(filename='/content/RF_GBDT_DT_MODELS.PNG')"
      ],
      "execution_count": 2,
      "outputs": [
        {
          "output_type": "execute_result",
          "data": {
            "image/png": "[encoded data removed]",
            "text/plain": [
              "<IPython.core.display.Image object>"
            ]
          },
          "metadata": {
            "tags": []
          },
          "execution_count": 2
        }
      ]
    },
    {
      "cell_type": "code",
      "metadata": {
        "id": "YvrE3SA7UgVB"
      },
      "source": [
        ""
      ],
      "execution_count": null,
      "outputs": []
    },
    {
      "cell_type": "markdown",
      "metadata": {
        "id": "tDzellR2VY-v"
      },
      "source": [
        "Summary\n",
        "1. I impute weather data with mean and median\n",
        "2. I imput the the remaining missing values with SimpleImputer with median\n",
        "3. Very basic FE because of the ram problem and also i seen in the lightgb gbdt that raw features are the most important fetaures \n",
        "4. Remove outlier\n",
        "5. Do standardisation on train and test\n",
        "6. This file run on kaggle notebook please don't try to run on the google colab because of the limited ram\n"
      ]
    },
    {
      "cell_type": "markdown",
      "metadata": {
        "id": "S8hvqwFSXb3z"
      },
      "source": [
        "### Refrences\n",
        "1. https://www.kaggle.com/aitude/ashrae-missing-weather-data-handling\n",
        "2. https://contrib.scikit-learn.org/category_encoders/count.html"
      ]
    },
    {
      "cell_type": "code",
      "metadata": {
        "id": "Oc0uoXp-VZj8"
      },
      "source": [
        ""
      ],
      "execution_count": null,
      "outputs": []
    }
  ]
}