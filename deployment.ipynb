{
  "nbformat": 4,
  "nbformat_minor": 0,
  "metadata": {
    "colab": {
      "name": "deployment.ipynb",
      "provenance": [],
      "collapsed_sections": []
    },
    "kernelspec": {
      "display_name": "Python 3",
      "name": "python3"
    },
    "language_info": {
      "name": "python"
    }
  },
  "cells": [
    {
      "cell_type": "markdown",
      "metadata": {
        "id": "eFmCoNnMN4r-"
      },
      "source": [
        "# Deployment Of Ashrae energy Predictor III using streamlit"
      ]
    },
    {
      "cell_type": "markdown",
      "metadata": {
        "id": "z7TTyD34iTzX"
      },
      "source": [
        "Video of deployment\n",
        "\n",
        "https://drive.google.com/file/d/1UpSqahqQ7E3J-UigQJGGCo_UO2AWV98h/view"
      ]
    },
    {
      "cell_type": "code",
      "metadata": {
        "id": "PRllANYJM5og"
      },
      "source": [
        ""
      ],
      "execution_count": null,
      "outputs": []
    }
  ]
}