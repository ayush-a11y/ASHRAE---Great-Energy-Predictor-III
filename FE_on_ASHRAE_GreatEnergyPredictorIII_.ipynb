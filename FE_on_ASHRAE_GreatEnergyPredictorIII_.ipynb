{
  "nbformat": 4,
  "nbformat_minor": 0,
  "metadata": {
    "colab": {
      "name": "FE_on_ASHRAE_GreatEnergyPredictorIII_.ipynb",
      "provenance": [],
      "collapsed_sections": []
    },
    "kernelspec": {
      "display_name": "Python 3",
      "language": "python",
      "name": "python3"
    },
    "language_info": {
      "codemirror_mode": {
        "name": "ipython",
        "version": 3
      },
      "file_extension": ".py",
      "mimetype": "text/x-python",
      "name": "python",
      "nbconvert_exporter": "python",
      "pygments_lexer": "ipython3",
      "version": "3.8.3"
    }
  },
  "cells": [
    {
      "cell_type": "markdown",
      "metadata": {
        "id": "3JI7BlT_PTe3"
      },
      "source": [
        "# **ASHRAE-Great Energy Predictor III**"
      ]
    },
    {
      "cell_type": "markdown",
      "metadata": {
        "id": "a7JOUv4ePV1j"
      },
      "source": [
        "### Mount The Google Drive"
      ]
    },
    {
      "cell_type": "code",
      "metadata": {
        "colab": {
          "base_uri": "https://localhost:8080/"
        },
        "id": "ueOK5ucgnZDL",
        "outputId": "e046eb50-a9a8-48dd-feff-c6e3124bf383"
      },
      "source": [
        "from google.colab import drive\n",
        "drive.mount('/gdrive')\n",
        "%cd /gdrive"
      ],
      "execution_count": null,
      "outputs": [
        {
          "output_type": "stream",
          "text": [
            "Mounted at /gdrive\n",
            "/gdrive\n"
          ],
          "name": "stdout"
        }
      ]
    },
    {
      "cell_type": "markdown",
      "metadata": {
        "id": "P6-1BGVrPZqb"
      },
      "source": [
        "### Importing Libraries"
      ]
    },
    {
      "cell_type": "code",
      "metadata": {
        "id": "fZPS_CmsopZY"
      },
      "source": [
        "import pandas as pd\n",
        "import numpy as np\n",
        "import matplotlib.pyplot as plt\n",
        "import seaborn as sns\n",
        "import math\n",
        "import timeit\n",
        "from sklearn.model_selection import train_test_split\n",
        "from sklearn.preprocessing import normalize\n",
        "from sklearn.metrics import confusion_matrix, f1_score\n",
        "from sklearn.tree import DecisionTreeClassifier\n",
        "from sklearn.model_selection import RandomizedSearchCV\n",
        "from sklearn.ensemble import RandomForestClassifier\n",
        "from sklearn.calibration import CalibratedClassifierCV\n",
        "from xgboost import XGBClassifier\n",
        "from sklearn.tree import DecisionTreeRegressor\n",
        "from sklearn.ensemble import RandomForestRegressor\n",
        "from xgboost import XGBRegressor\n",
        "import pickle\n",
        "import joblib\n",
        "from tqdm import tqdm\n",
        "from sklearn.metrics import mean_squared_error\n",
        "from sklearn.ensemble import AdaBoostRegressor\n",
        "import lightgbm as lgb\n",
        "from sklearn.preprocessing import LabelEncoder\n",
        "from sklearn.model_selection import KFold\n",
        "import datetime\n",
        "import gc"
      ],
      "execution_count": null,
      "outputs": []
    },
    {
      "cell_type": "markdown",
      "metadata": {
        "id": "6-utfDK8PdAy"
      },
      "source": [
        "### Load The data"
      ]
    },
    {
      "cell_type": "code",
      "metadata": {
        "id": "qqT9mWQpopjV"
      },
      "source": [
        "train_data = pd.read_csv(\"/gdrive/My Drive/case_study_data/train.csv\")\n",
        "weather_train_data = pd.read_csv(\"/gdrive/My Drive/case_study_data/weather_train.csv\")\n",
        "building_data = pd.read_csv(\"/gdrive/My Drive/case_study_data/building_metadata.csv\")"
      ],
      "execution_count": null,
      "outputs": []
    },
    {
      "cell_type": "code",
      "metadata": {
        "id": "ZmdrBf-2opkw"
      },
      "source": [
        "#Loading the test data\n",
        "test_data= pd.read_csv('/gdrive/My Drive/case_study_data/test.csv')\n",
        "weather_test_data=pd.read_csv('/gdrive/My Drive/case_study_data/weather_test.csv')"
      ],
      "execution_count": null,
      "outputs": []
    },
    {
      "cell_type": "code",
      "metadata": {
        "colab": {
          "base_uri": "https://localhost:8080/",
          "height": 204
        },
        "id": "YBRsspCXopm6",
        "outputId": "9c0c3a2a-8423-4720-8e84-16e3db26f40a"
      },
      "source": [
        "train_data.head()"
      ],
      "execution_count": null,
      "outputs": [
        {
          "output_type": "execute_result",
          "data": {
            "text/html": [
              "<div>\n",
              "<style scoped>\n",
              "    .dataframe tbody tr th:only-of-type {\n",
              "        vertical-align: middle;\n",
              "    }\n",
              "\n",
              "    .dataframe tbody tr th {\n",
              "        vertical-align: top;\n",
              "    }\n",
              "\n",
              "    .dataframe thead th {\n",
              "        text-align: right;\n",
              "    }\n",
              "</style>\n",
              "<table border=\"1\" class=\"dataframe\">\n",
              "  <thead>\n",
              "    <tr style=\"text-align: right;\">\n",
              "      <th></th>\n",
              "      <th>building_id</th>\n",
              "      <th>meter</th>\n",
              "      <th>timestamp</th>\n",
              "      <th>meter_reading</th>\n",
              "    </tr>\n",
              "  </thead>\n",
              "  <tbody>\n",
              "    <tr>\n",
              "      <th>0</th>\n",
              "      <td>0</td>\n",
              "      <td>0</td>\n",
              "      <td>2016-01-01 00:00:00</td>\n",
              "      <td>0.0</td>\n",
              "    </tr>\n",
              "    <tr>\n",
              "      <th>1</th>\n",
              "      <td>1</td>\n",
              "      <td>0</td>\n",
              "      <td>2016-01-01 00:00:00</td>\n",
              "      <td>0.0</td>\n",
              "    </tr>\n",
              "    <tr>\n",
              "      <th>2</th>\n",
              "      <td>2</td>\n",
              "      <td>0</td>\n",
              "      <td>2016-01-01 00:00:00</td>\n",
              "      <td>0.0</td>\n",
              "    </tr>\n",
              "    <tr>\n",
              "      <th>3</th>\n",
              "      <td>3</td>\n",
              "      <td>0</td>\n",
              "      <td>2016-01-01 00:00:00</td>\n",
              "      <td>0.0</td>\n",
              "    </tr>\n",
              "    <tr>\n",
              "      <th>4</th>\n",
              "      <td>4</td>\n",
              "      <td>0</td>\n",
              "      <td>2016-01-01 00:00:00</td>\n",
              "      <td>0.0</td>\n",
              "    </tr>\n",
              "  </tbody>\n",
              "</table>\n",
              "</div>"
            ],
            "text/plain": [
              "   building_id  meter            timestamp  meter_reading\n",
              "0            0      0  2016-01-01 00:00:00            0.0\n",
              "1            1      0  2016-01-01 00:00:00            0.0\n",
              "2            2      0  2016-01-01 00:00:00            0.0\n",
              "3            3      0  2016-01-01 00:00:00            0.0\n",
              "4            4      0  2016-01-01 00:00:00            0.0"
            ]
          },
          "metadata": {
            "tags": []
          },
          "execution_count": 5
        }
      ]
    },
    {
      "cell_type": "code",
      "metadata": {
        "colab": {
          "base_uri": "https://localhost:8080/",
          "height": 204
        },
        "id": "W4Fjrpo8opol",
        "outputId": "5cdc68aa-b9e7-46ac-dfd3-44cd088dbc67"
      },
      "source": [
        "weather_train_data.head()"
      ],
      "execution_count": null,
      "outputs": [
        {
          "output_type": "execute_result",
          "data": {
            "text/html": [
              "<div>\n",
              "<style scoped>\n",
              "    .dataframe tbody tr th:only-of-type {\n",
              "        vertical-align: middle;\n",
              "    }\n",
              "\n",
              "    .dataframe tbody tr th {\n",
              "        vertical-align: top;\n",
              "    }\n",
              "\n",
              "    .dataframe thead th {\n",
              "        text-align: right;\n",
              "    }\n",
              "</style>\n",
              "<table border=\"1\" class=\"dataframe\">\n",
              "  <thead>\n",
              "    <tr style=\"text-align: right;\">\n",
              "      <th></th>\n",
              "      <th>site_id</th>\n",
              "      <th>timestamp</th>\n",
              "      <th>air_temperature</th>\n",
              "      <th>cloud_coverage</th>\n",
              "      <th>dew_temperature</th>\n",
              "      <th>precip_depth_1_hr</th>\n",
              "      <th>sea_level_pressure</th>\n",
              "      <th>wind_direction</th>\n",
              "      <th>wind_speed</th>\n",
              "    </tr>\n",
              "  </thead>\n",
              "  <tbody>\n",
              "    <tr>\n",
              "      <th>0</th>\n",
              "      <td>0</td>\n",
              "      <td>2016-01-01 00:00:00</td>\n",
              "      <td>25.0</td>\n",
              "      <td>6.0</td>\n",
              "      <td>20.0</td>\n",
              "      <td>NaN</td>\n",
              "      <td>1019.7</td>\n",
              "      <td>0.0</td>\n",
              "      <td>0.0</td>\n",
              "    </tr>\n",
              "    <tr>\n",
              "      <th>1</th>\n",
              "      <td>0</td>\n",
              "      <td>2016-01-01 01:00:00</td>\n",
              "      <td>24.4</td>\n",
              "      <td>NaN</td>\n",
              "      <td>21.1</td>\n",
              "      <td>-1.0</td>\n",
              "      <td>1020.2</td>\n",
              "      <td>70.0</td>\n",
              "      <td>1.5</td>\n",
              "    </tr>\n",
              "    <tr>\n",
              "      <th>2</th>\n",
              "      <td>0</td>\n",
              "      <td>2016-01-01 02:00:00</td>\n",
              "      <td>22.8</td>\n",
              "      <td>2.0</td>\n",
              "      <td>21.1</td>\n",
              "      <td>0.0</td>\n",
              "      <td>1020.2</td>\n",
              "      <td>0.0</td>\n",
              "      <td>0.0</td>\n",
              "    </tr>\n",
              "    <tr>\n",
              "      <th>3</th>\n",
              "      <td>0</td>\n",
              "      <td>2016-01-01 03:00:00</td>\n",
              "      <td>21.1</td>\n",
              "      <td>2.0</td>\n",
              "      <td>20.6</td>\n",
              "      <td>0.0</td>\n",
              "      <td>1020.1</td>\n",
              "      <td>0.0</td>\n",
              "      <td>0.0</td>\n",
              "    </tr>\n",
              "    <tr>\n",
              "      <th>4</th>\n",
              "      <td>0</td>\n",
              "      <td>2016-01-01 04:00:00</td>\n",
              "      <td>20.0</td>\n",
              "      <td>2.0</td>\n",
              "      <td>20.0</td>\n",
              "      <td>-1.0</td>\n",
              "      <td>1020.0</td>\n",
              "      <td>250.0</td>\n",
              "      <td>2.6</td>\n",
              "    </tr>\n",
              "  </tbody>\n",
              "</table>\n",
              "</div>"
            ],
            "text/plain": [
              "   site_id            timestamp  ...  wind_direction  wind_speed\n",
              "0        0  2016-01-01 00:00:00  ...             0.0         0.0\n",
              "1        0  2016-01-01 01:00:00  ...            70.0         1.5\n",
              "2        0  2016-01-01 02:00:00  ...             0.0         0.0\n",
              "3        0  2016-01-01 03:00:00  ...             0.0         0.0\n",
              "4        0  2016-01-01 04:00:00  ...           250.0         2.6\n",
              "\n",
              "[5 rows x 9 columns]"
            ]
          },
          "metadata": {
            "tags": []
          },
          "execution_count": 6
        }
      ]
    },
    {
      "cell_type": "code",
      "metadata": {
        "colab": {
          "base_uri": "https://localhost:8080/",
          "height": 204
        },
        "id": "8T_89iwSopq2",
        "outputId": "dd72d6f6-3040-44db-9a2b-0e7455a7d8ee"
      },
      "source": [
        "building_data.head()"
      ],
      "execution_count": null,
      "outputs": [
        {
          "output_type": "execute_result",
          "data": {
            "text/html": [
              "<div>\n",
              "<style scoped>\n",
              "    .dataframe tbody tr th:only-of-type {\n",
              "        vertical-align: middle;\n",
              "    }\n",
              "\n",
              "    .dataframe tbody tr th {\n",
              "        vertical-align: top;\n",
              "    }\n",
              "\n",
              "    .dataframe thead th {\n",
              "        text-align: right;\n",
              "    }\n",
              "</style>\n",
              "<table border=\"1\" class=\"dataframe\">\n",
              "  <thead>\n",
              "    <tr style=\"text-align: right;\">\n",
              "      <th></th>\n",
              "      <th>site_id</th>\n",
              "      <th>building_id</th>\n",
              "      <th>primary_use</th>\n",
              "      <th>square_feet</th>\n",
              "      <th>year_built</th>\n",
              "      <th>floor_count</th>\n",
              "    </tr>\n",
              "  </thead>\n",
              "  <tbody>\n",
              "    <tr>\n",
              "      <th>0</th>\n",
              "      <td>0</td>\n",
              "      <td>0</td>\n",
              "      <td>Education</td>\n",
              "      <td>7432</td>\n",
              "      <td>2008.0</td>\n",
              "      <td>NaN</td>\n",
              "    </tr>\n",
              "    <tr>\n",
              "      <th>1</th>\n",
              "      <td>0</td>\n",
              "      <td>1</td>\n",
              "      <td>Education</td>\n",
              "      <td>2720</td>\n",
              "      <td>2004.0</td>\n",
              "      <td>NaN</td>\n",
              "    </tr>\n",
              "    <tr>\n",
              "      <th>2</th>\n",
              "      <td>0</td>\n",
              "      <td>2</td>\n",
              "      <td>Education</td>\n",
              "      <td>5376</td>\n",
              "      <td>1991.0</td>\n",
              "      <td>NaN</td>\n",
              "    </tr>\n",
              "    <tr>\n",
              "      <th>3</th>\n",
              "      <td>0</td>\n",
              "      <td>3</td>\n",
              "      <td>Education</td>\n",
              "      <td>23685</td>\n",
              "      <td>2002.0</td>\n",
              "      <td>NaN</td>\n",
              "    </tr>\n",
              "    <tr>\n",
              "      <th>4</th>\n",
              "      <td>0</td>\n",
              "      <td>4</td>\n",
              "      <td>Education</td>\n",
              "      <td>116607</td>\n",
              "      <td>1975.0</td>\n",
              "      <td>NaN</td>\n",
              "    </tr>\n",
              "  </tbody>\n",
              "</table>\n",
              "</div>"
            ],
            "text/plain": [
              "   site_id  building_id primary_use  square_feet  year_built  floor_count\n",
              "0        0            0   Education         7432      2008.0          NaN\n",
              "1        0            1   Education         2720      2004.0          NaN\n",
              "2        0            2   Education         5376      1991.0          NaN\n",
              "3        0            3   Education        23685      2002.0          NaN\n",
              "4        0            4   Education       116607      1975.0          NaN"
            ]
          },
          "metadata": {
            "tags": []
          },
          "execution_count": 7
        }
      ]
    },
    {
      "cell_type": "code",
      "metadata": {
        "colab": {
          "base_uri": "https://localhost:8080/",
          "height": 204
        },
        "id": "KNl62RYbopuh",
        "outputId": "8a2cc55e-a237-49f4-c5d5-ea862ef5c1b1"
      },
      "source": [
        "test_data.head()"
      ],
      "execution_count": null,
      "outputs": [
        {
          "output_type": "execute_result",
          "data": {
            "text/html": [
              "<div>\n",
              "<style scoped>\n",
              "    .dataframe tbody tr th:only-of-type {\n",
              "        vertical-align: middle;\n",
              "    }\n",
              "\n",
              "    .dataframe tbody tr th {\n",
              "        vertical-align: top;\n",
              "    }\n",
              "\n",
              "    .dataframe thead th {\n",
              "        text-align: right;\n",
              "    }\n",
              "</style>\n",
              "<table border=\"1\" class=\"dataframe\">\n",
              "  <thead>\n",
              "    <tr style=\"text-align: right;\">\n",
              "      <th></th>\n",
              "      <th>row_id</th>\n",
              "      <th>building_id</th>\n",
              "      <th>meter</th>\n",
              "      <th>timestamp</th>\n",
              "    </tr>\n",
              "  </thead>\n",
              "  <tbody>\n",
              "    <tr>\n",
              "      <th>0</th>\n",
              "      <td>0</td>\n",
              "      <td>0</td>\n",
              "      <td>0</td>\n",
              "      <td>2017-01-01 00:00:00</td>\n",
              "    </tr>\n",
              "    <tr>\n",
              "      <th>1</th>\n",
              "      <td>1</td>\n",
              "      <td>1</td>\n",
              "      <td>0</td>\n",
              "      <td>2017-01-01 00:00:00</td>\n",
              "    </tr>\n",
              "    <tr>\n",
              "      <th>2</th>\n",
              "      <td>2</td>\n",
              "      <td>2</td>\n",
              "      <td>0</td>\n",
              "      <td>2017-01-01 00:00:00</td>\n",
              "    </tr>\n",
              "    <tr>\n",
              "      <th>3</th>\n",
              "      <td>3</td>\n",
              "      <td>3</td>\n",
              "      <td>0</td>\n",
              "      <td>2017-01-01 00:00:00</td>\n",
              "    </tr>\n",
              "    <tr>\n",
              "      <th>4</th>\n",
              "      <td>4</td>\n",
              "      <td>4</td>\n",
              "      <td>0</td>\n",
              "      <td>2017-01-01 00:00:00</td>\n",
              "    </tr>\n",
              "  </tbody>\n",
              "</table>\n",
              "</div>"
            ],
            "text/plain": [
              "   row_id  building_id  meter            timestamp\n",
              "0       0            0      0  2017-01-01 00:00:00\n",
              "1       1            1      0  2017-01-01 00:00:00\n",
              "2       2            2      0  2017-01-01 00:00:00\n",
              "3       3            3      0  2017-01-01 00:00:00\n",
              "4       4            4      0  2017-01-01 00:00:00"
            ]
          },
          "metadata": {
            "tags": []
          },
          "execution_count": 8
        }
      ]
    },
    {
      "cell_type": "code",
      "metadata": {
        "colab": {
          "base_uri": "https://localhost:8080/",
          "height": 204
        },
        "id": "3W5UDHEetDfg",
        "outputId": "39b91bc4-daf7-43bb-db1b-4a5370090a1b"
      },
      "source": [
        "weather_test_data.head()"
      ],
      "execution_count": null,
      "outputs": [
        {
          "output_type": "execute_result",
          "data": {
            "text/html": [
              "<div>\n",
              "<style scoped>\n",
              "    .dataframe tbody tr th:only-of-type {\n",
              "        vertical-align: middle;\n",
              "    }\n",
              "\n",
              "    .dataframe tbody tr th {\n",
              "        vertical-align: top;\n",
              "    }\n",
              "\n",
              "    .dataframe thead th {\n",
              "        text-align: right;\n",
              "    }\n",
              "</style>\n",
              "<table border=\"1\" class=\"dataframe\">\n",
              "  <thead>\n",
              "    <tr style=\"text-align: right;\">\n",
              "      <th></th>\n",
              "      <th>site_id</th>\n",
              "      <th>timestamp</th>\n",
              "      <th>air_temperature</th>\n",
              "      <th>cloud_coverage</th>\n",
              "      <th>dew_temperature</th>\n",
              "      <th>precip_depth_1_hr</th>\n",
              "      <th>sea_level_pressure</th>\n",
              "      <th>wind_direction</th>\n",
              "      <th>wind_speed</th>\n",
              "    </tr>\n",
              "  </thead>\n",
              "  <tbody>\n",
              "    <tr>\n",
              "      <th>0</th>\n",
              "      <td>0</td>\n",
              "      <td>2017-01-01 00:00:00</td>\n",
              "      <td>17.8</td>\n",
              "      <td>4.0</td>\n",
              "      <td>11.7</td>\n",
              "      <td>NaN</td>\n",
              "      <td>1021.4</td>\n",
              "      <td>100.0</td>\n",
              "      <td>3.6</td>\n",
              "    </tr>\n",
              "    <tr>\n",
              "      <th>1</th>\n",
              "      <td>0</td>\n",
              "      <td>2017-01-01 01:00:00</td>\n",
              "      <td>17.8</td>\n",
              "      <td>2.0</td>\n",
              "      <td>12.8</td>\n",
              "      <td>0.0</td>\n",
              "      <td>1022.0</td>\n",
              "      <td>130.0</td>\n",
              "      <td>3.1</td>\n",
              "    </tr>\n",
              "    <tr>\n",
              "      <th>2</th>\n",
              "      <td>0</td>\n",
              "      <td>2017-01-01 02:00:00</td>\n",
              "      <td>16.1</td>\n",
              "      <td>0.0</td>\n",
              "      <td>12.8</td>\n",
              "      <td>0.0</td>\n",
              "      <td>1021.9</td>\n",
              "      <td>140.0</td>\n",
              "      <td>3.1</td>\n",
              "    </tr>\n",
              "    <tr>\n",
              "      <th>3</th>\n",
              "      <td>0</td>\n",
              "      <td>2017-01-01 03:00:00</td>\n",
              "      <td>17.2</td>\n",
              "      <td>0.0</td>\n",
              "      <td>13.3</td>\n",
              "      <td>0.0</td>\n",
              "      <td>1022.2</td>\n",
              "      <td>140.0</td>\n",
              "      <td>3.1</td>\n",
              "    </tr>\n",
              "    <tr>\n",
              "      <th>4</th>\n",
              "      <td>0</td>\n",
              "      <td>2017-01-01 04:00:00</td>\n",
              "      <td>16.7</td>\n",
              "      <td>2.0</td>\n",
              "      <td>13.3</td>\n",
              "      <td>0.0</td>\n",
              "      <td>1022.3</td>\n",
              "      <td>130.0</td>\n",
              "      <td>2.6</td>\n",
              "    </tr>\n",
              "  </tbody>\n",
              "</table>\n",
              "</div>"
            ],
            "text/plain": [
              "   site_id            timestamp  ...  wind_direction  wind_speed\n",
              "0        0  2017-01-01 00:00:00  ...           100.0         3.6\n",
              "1        0  2017-01-01 01:00:00  ...           130.0         3.1\n",
              "2        0  2017-01-01 02:00:00  ...           140.0         3.1\n",
              "3        0  2017-01-01 03:00:00  ...           140.0         3.1\n",
              "4        0  2017-01-01 04:00:00  ...           130.0         2.6\n",
              "\n",
              "[5 rows x 9 columns]"
            ]
          },
          "metadata": {
            "tags": []
          },
          "execution_count": 9
        }
      ]
    },
    {
      "cell_type": "code",
      "metadata": {
        "colab": {
          "base_uri": "https://localhost:8080/"
        },
        "id": "FCM61WJBtLyp",
        "outputId": "1072b565-caae-4ab2-895f-6584ebb841e9"
      },
      "source": [
        "#Shapes of the dataframes\n",
        "\n",
        "print('Shape of train data:',train_data.shape)\n",
        "print('Shape of weather train data:', weather_train_data.shape)\n",
        "print('Shape of building meta data:', building_data.shape)\n",
        "print('Shape of test data:', test_data.shape)\n",
        "print('Shape of weather test data:', weather_test_data.shape)\n"
      ],
      "execution_count": null,
      "outputs": [
        {
          "output_type": "stream",
          "text": [
            "Shape of train data: (20216100, 4)\n",
            "Shape of weather train data: (139773, 9)\n",
            "Shape of building meta data: (1449, 6)\n",
            "Shape of test data: (41697600, 4)\n",
            "Shape of weather test data: (277243, 9)\n"
          ],
          "name": "stdout"
        }
      ]
    },
    {
      "cell_type": "code",
      "metadata": {
        "id": "CzVF7-ObtcG5"
      },
      "source": [
        "#https://www.kaggle.com/kernels/scriptcontent/3684066/download\n",
        "\n",
        "from pandas.api.types import is_datetime64_any_dtype as is_datetime\n",
        "from pandas.api.types import is_categorical_dtype\n",
        "\n",
        "def reduce_mem_usage(df, use_float16=False):\n",
        "    \"\"\" iterate through all the columns of a dataframe and modify the data type\n",
        "        to reduce memory usage.        \n",
        "    \"\"\"\n",
        "    start_mem = df.memory_usage().sum() / 1024**2\n",
        "    print('Memory usage of dataframe is {:.2f} MB'.format(start_mem))\n",
        "    \n",
        "    #iterating over every column and finding the type of the column\n",
        "    for col in df.columns:\n",
        "      if is_datetime(df[col]) or is_categorical_dtype(df[col]):\n",
        "            continue\n",
        "      col_type = df[col].dtype\n",
        "        \n",
        "        #If the columns is not object\n",
        "      if col_type != object:\n",
        "          #Get the minimum and maximum value\n",
        "            c_min = df[col].min()\n",
        "            c_max = df[col].max()\n",
        "            #If the type is int\n",
        "            if str(col_type)[:3] == 'int':\n",
        "              #If the min max values lies with thin the range of int8 type then assign the type as int8\n",
        "                if c_min > np.iinfo(np.int8).min and c_max < np.iinfo(np.int8).max:\n",
        "                    df[col] = df[col].astype(np.int8)\n",
        "              #If the min max values lies with thin the range of int16 type then assign the type as int16 \n",
        "                elif c_min > np.iinfo(np.int16).min and c_max < np.iinfo(np.int16).max:\n",
        "                    df[col] = df[col].astype(np.int16)\n",
        "              #If the min max values lies with thin the range of int32 type then assign the type as int32\n",
        "                elif c_min > np.iinfo(np.int32).min and c_max < np.iinfo(np.int32).max:\n",
        "                    df[col] = df[col].astype(np.int32)\n",
        "              #If the min max values lies with thin the range of int64 type then assign the type as int64\n",
        "                elif c_min > np.iinfo(np.int64).min and c_max < np.iinfo(np.int64).max:\n",
        "                    df[col] = df[col].astype(np.int64)  \n",
        "            else:\n",
        "              #If the min max values lies with thin the range of float16 type then assign the type as float16\n",
        "                if c_min > np.finfo(np.float16).min and c_max < np.finfo(np.float16).max:\n",
        "                    df[col] = df[col].astype(np.float16)\n",
        "              #If the min max values lies with thin the range of float32 type then assign the type as float32\n",
        "                elif c_min > np.finfo(np.float32).min and c_max < np.finfo(np.float32).max:\n",
        "                    df[col] = df[col].astype(np.float32)\n",
        "                else:\n",
        "                    df[col] = df[col].astype(np.float64)\n",
        "      else:\n",
        "            df[col] = df[col].astype('category')\n",
        "\n",
        "    end_mem = df.memory_usage().sum() / 1024**2\n",
        "    print('Memory usage after optimization is: {:.2f} MB'.format(end_mem))\n",
        "    print('Decreased by {:.1f}%'.format(100 * (start_mem - end_mem) / start_mem))\n",
        "    \n",
        "    return df\n"
      ],
      "execution_count": null,
      "outputs": []
    },
    {
      "cell_type": "code",
      "metadata": {
        "colab": {
          "base_uri": "https://localhost:8080/"
        },
        "id": "zeauuOHqtmhw",
        "outputId": "73135a6e-6cde-412d-a7ef-4ede7bc7bff3"
      },
      "source": [
        "train_data= reduce_mem_usage(train_data, use_float16=True)\n",
        "weather_train_data= reduce_mem_usage(weather_train_data, use_float16=True)"
      ],
      "execution_count": null,
      "outputs": [
        {
          "output_type": "stream",
          "text": [
            "Memory usage of dataframe is 616.95 MB\n",
            "Memory usage after optimization is: 173.90 MB\n",
            "Decreased by 71.8%\n",
            "Memory usage of dataframe is 9.60 MB\n",
            "Memory usage after optimization is: 2.65 MB\n",
            "Decreased by 72.4%\n"
          ],
          "name": "stdout"
        }
      ]
    },
    {
      "cell_type": "code",
      "metadata": {
        "colab": {
          "base_uri": "https://localhost:8080/"
        },
        "id": "cC4rcoY1txEX",
        "outputId": "939b7ffc-291f-4669-f6be-2b04b160ea7f"
      },
      "source": [
        "test_data= reduce_mem_usage(test_data)\n",
        "weather_test_data= reduce_mem_usage(weather_test_data)"
      ],
      "execution_count": null,
      "outputs": [
        {
          "output_type": "stream",
          "text": [
            "Memory usage of dataframe is 1272.51 MB\n",
            "Memory usage after optimization is: 358.65 MB\n",
            "Decreased by 71.8%\n",
            "Memory usage of dataframe is 19.04 MB\n",
            "Memory usage after optimization is: 5.25 MB\n",
            "Decreased by 72.4%\n"
          ],
          "name": "stdout"
        }
      ]
    },
    {
      "cell_type": "markdown",
      "metadata": {
        "id": "qPjDYeYHhtHS"
      },
      "source": [
        "I mergre data set first then filling missing values because i alreeady tried to fill missing values in weather data only, then i merge my data set so after this i check the missing perecentage of the merge data there are still missing values shown that i already filled in the weather data that's is why i first merge my data then impute the missing values"
      ]
    },
    {
      "cell_type": "markdown",
      "metadata": {
        "id": "vjyHxDb9Emoj"
      },
      "source": [
        "### Merge the data into train and test dataframe"
      ]
    },
    {
      "cell_type": "code",
      "metadata": {
        "id": "OyG-32U7Emoj"
      },
      "source": [
        "train_df= train_data.merge(building_data, on='building_id', how='left')"
      ],
      "execution_count": null,
      "outputs": []
    },
    {
      "cell_type": "code",
      "metadata": {
        "id": "saqykTEFEmoj"
      },
      "source": [
        "train_df=train_df.merge(weather_train_data, on=['site_id', 'timestamp'], how='left')"
      ],
      "execution_count": null,
      "outputs": []
    },
    {
      "cell_type": "code",
      "metadata": {
        "colab": {
          "base_uri": "https://localhost:8080/",
          "height": 394
        },
        "id": "VDCWRYVJEmoj",
        "outputId": "880064e0-0780-4a0d-8218-fb002b390a69"
      },
      "source": [
        "train_df.head()"
      ],
      "execution_count": null,
      "outputs": [
        {
          "output_type": "execute_result",
          "data": {
            "text/html": [
              "<div>\n",
              "<style scoped>\n",
              "    .dataframe tbody tr th:only-of-type {\n",
              "        vertical-align: middle;\n",
              "    }\n",
              "\n",
              "    .dataframe tbody tr th {\n",
              "        vertical-align: top;\n",
              "    }\n",
              "\n",
              "    .dataframe thead th {\n",
              "        text-align: right;\n",
              "    }\n",
              "</style>\n",
              "<table border=\"1\" class=\"dataframe\">\n",
              "  <thead>\n",
              "    <tr style=\"text-align: right;\">\n",
              "      <th></th>\n",
              "      <th>building_id</th>\n",
              "      <th>meter</th>\n",
              "      <th>timestamp</th>\n",
              "      <th>meter_reading</th>\n",
              "      <th>site_id</th>\n",
              "      <th>primary_use</th>\n",
              "      <th>square_feet</th>\n",
              "      <th>year_built</th>\n",
              "      <th>floor_count</th>\n",
              "      <th>air_temperature</th>\n",
              "      <th>cloud_coverage</th>\n",
              "      <th>dew_temperature</th>\n",
              "      <th>precip_depth_1_hr</th>\n",
              "      <th>sea_level_pressure</th>\n",
              "      <th>wind_direction</th>\n",
              "      <th>wind_speed</th>\n",
              "    </tr>\n",
              "  </thead>\n",
              "  <tbody>\n",
              "    <tr>\n",
              "      <th>0</th>\n",
              "      <td>0</td>\n",
              "      <td>0</td>\n",
              "      <td>2016-01-01 00:00:00</td>\n",
              "      <td>0.0</td>\n",
              "      <td>0</td>\n",
              "      <td>Education</td>\n",
              "      <td>7432</td>\n",
              "      <td>2008.0</td>\n",
              "      <td>NaN</td>\n",
              "      <td>25.0</td>\n",
              "      <td>6.0</td>\n",
              "      <td>20.0</td>\n",
              "      <td>NaN</td>\n",
              "      <td>1019.5</td>\n",
              "      <td>0.0</td>\n",
              "      <td>0.0</td>\n",
              "    </tr>\n",
              "    <tr>\n",
              "      <th>1</th>\n",
              "      <td>1</td>\n",
              "      <td>0</td>\n",
              "      <td>2016-01-01 00:00:00</td>\n",
              "      <td>0.0</td>\n",
              "      <td>0</td>\n",
              "      <td>Education</td>\n",
              "      <td>2720</td>\n",
              "      <td>2004.0</td>\n",
              "      <td>NaN</td>\n",
              "      <td>25.0</td>\n",
              "      <td>6.0</td>\n",
              "      <td>20.0</td>\n",
              "      <td>NaN</td>\n",
              "      <td>1019.5</td>\n",
              "      <td>0.0</td>\n",
              "      <td>0.0</td>\n",
              "    </tr>\n",
              "    <tr>\n",
              "      <th>2</th>\n",
              "      <td>2</td>\n",
              "      <td>0</td>\n",
              "      <td>2016-01-01 00:00:00</td>\n",
              "      <td>0.0</td>\n",
              "      <td>0</td>\n",
              "      <td>Education</td>\n",
              "      <td>5376</td>\n",
              "      <td>1991.0</td>\n",
              "      <td>NaN</td>\n",
              "      <td>25.0</td>\n",
              "      <td>6.0</td>\n",
              "      <td>20.0</td>\n",
              "      <td>NaN</td>\n",
              "      <td>1019.5</td>\n",
              "      <td>0.0</td>\n",
              "      <td>0.0</td>\n",
              "    </tr>\n",
              "    <tr>\n",
              "      <th>3</th>\n",
              "      <td>3</td>\n",
              "      <td>0</td>\n",
              "      <td>2016-01-01 00:00:00</td>\n",
              "      <td>0.0</td>\n",
              "      <td>0</td>\n",
              "      <td>Education</td>\n",
              "      <td>23685</td>\n",
              "      <td>2002.0</td>\n",
              "      <td>NaN</td>\n",
              "      <td>25.0</td>\n",
              "      <td>6.0</td>\n",
              "      <td>20.0</td>\n",
              "      <td>NaN</td>\n",
              "      <td>1019.5</td>\n",
              "      <td>0.0</td>\n",
              "      <td>0.0</td>\n",
              "    </tr>\n",
              "    <tr>\n",
              "      <th>4</th>\n",
              "      <td>4</td>\n",
              "      <td>0</td>\n",
              "      <td>2016-01-01 00:00:00</td>\n",
              "      <td>0.0</td>\n",
              "      <td>0</td>\n",
              "      <td>Education</td>\n",
              "      <td>116607</td>\n",
              "      <td>1975.0</td>\n",
              "      <td>NaN</td>\n",
              "      <td>25.0</td>\n",
              "      <td>6.0</td>\n",
              "      <td>20.0</td>\n",
              "      <td>NaN</td>\n",
              "      <td>1019.5</td>\n",
              "      <td>0.0</td>\n",
              "      <td>0.0</td>\n",
              "    </tr>\n",
              "  </tbody>\n",
              "</table>\n",
              "</div>"
            ],
            "text/plain": [
              "   building_id  meter  ... wind_direction  wind_speed\n",
              "0            0      0  ...            0.0         0.0\n",
              "1            1      0  ...            0.0         0.0\n",
              "2            2      0  ...            0.0         0.0\n",
              "3            3      0  ...            0.0         0.0\n",
              "4            4      0  ...            0.0         0.0\n",
              "\n",
              "[5 rows x 16 columns]"
            ]
          },
          "metadata": {
            "tags": []
          },
          "execution_count": 10
        }
      ]
    },
    {
      "cell_type": "code",
      "metadata": {
        "id": "rXx9oZjUEmok"
      },
      "source": [
        "test_df= test_data.merge(building_data, on='building_id', how='left')"
      ],
      "execution_count": null,
      "outputs": []
    },
    {
      "cell_type": "code",
      "metadata": {
        "id": "6fy7-nv-Emok"
      },
      "source": [
        "test_df=test_df.merge(weather_test_data, on=['site_id', 'timestamp'], how='left')"
      ],
      "execution_count": null,
      "outputs": []
    },
    {
      "cell_type": "code",
      "metadata": {
        "colab": {
          "base_uri": "https://localhost:8080/",
          "height": 394
        },
        "id": "2PD-2Wj0Emok",
        "outputId": "de58e8f4-3e88-4228-f630-400c7e5b6405"
      },
      "source": [
        "test_df.head()"
      ],
      "execution_count": null,
      "outputs": [
        {
          "output_type": "execute_result",
          "data": {
            "text/html": [
              "<div>\n",
              "<style scoped>\n",
              "    .dataframe tbody tr th:only-of-type {\n",
              "        vertical-align: middle;\n",
              "    }\n",
              "\n",
              "    .dataframe tbody tr th {\n",
              "        vertical-align: top;\n",
              "    }\n",
              "\n",
              "    .dataframe thead th {\n",
              "        text-align: right;\n",
              "    }\n",
              "</style>\n",
              "<table border=\"1\" class=\"dataframe\">\n",
              "  <thead>\n",
              "    <tr style=\"text-align: right;\">\n",
              "      <th></th>\n",
              "      <th>row_id</th>\n",
              "      <th>building_id</th>\n",
              "      <th>meter</th>\n",
              "      <th>timestamp</th>\n",
              "      <th>site_id</th>\n",
              "      <th>primary_use</th>\n",
              "      <th>square_feet</th>\n",
              "      <th>year_built</th>\n",
              "      <th>floor_count</th>\n",
              "      <th>air_temperature</th>\n",
              "      <th>cloud_coverage</th>\n",
              "      <th>dew_temperature</th>\n",
              "      <th>precip_depth_1_hr</th>\n",
              "      <th>sea_level_pressure</th>\n",
              "      <th>wind_direction</th>\n",
              "      <th>wind_speed</th>\n",
              "    </tr>\n",
              "  </thead>\n",
              "  <tbody>\n",
              "    <tr>\n",
              "      <th>0</th>\n",
              "      <td>0</td>\n",
              "      <td>0</td>\n",
              "      <td>0</td>\n",
              "      <td>2017-01-01 00:00:00</td>\n",
              "      <td>0</td>\n",
              "      <td>Education</td>\n",
              "      <td>7432</td>\n",
              "      <td>2008.0</td>\n",
              "      <td>NaN</td>\n",
              "      <td>17.796875</td>\n",
              "      <td>4.0</td>\n",
              "      <td>11.703125</td>\n",
              "      <td>NaN</td>\n",
              "      <td>1021.5</td>\n",
              "      <td>100.0</td>\n",
              "      <td>3.599609</td>\n",
              "    </tr>\n",
              "    <tr>\n",
              "      <th>1</th>\n",
              "      <td>1</td>\n",
              "      <td>1</td>\n",
              "      <td>0</td>\n",
              "      <td>2017-01-01 00:00:00</td>\n",
              "      <td>0</td>\n",
              "      <td>Education</td>\n",
              "      <td>2720</td>\n",
              "      <td>2004.0</td>\n",
              "      <td>NaN</td>\n",
              "      <td>17.796875</td>\n",
              "      <td>4.0</td>\n",
              "      <td>11.703125</td>\n",
              "      <td>NaN</td>\n",
              "      <td>1021.5</td>\n",
              "      <td>100.0</td>\n",
              "      <td>3.599609</td>\n",
              "    </tr>\n",
              "    <tr>\n",
              "      <th>2</th>\n",
              "      <td>2</td>\n",
              "      <td>2</td>\n",
              "      <td>0</td>\n",
              "      <td>2017-01-01 00:00:00</td>\n",
              "      <td>0</td>\n",
              "      <td>Education</td>\n",
              "      <td>5376</td>\n",
              "      <td>1991.0</td>\n",
              "      <td>NaN</td>\n",
              "      <td>17.796875</td>\n",
              "      <td>4.0</td>\n",
              "      <td>11.703125</td>\n",
              "      <td>NaN</td>\n",
              "      <td>1021.5</td>\n",
              "      <td>100.0</td>\n",
              "      <td>3.599609</td>\n",
              "    </tr>\n",
              "    <tr>\n",
              "      <th>3</th>\n",
              "      <td>3</td>\n",
              "      <td>3</td>\n",
              "      <td>0</td>\n",
              "      <td>2017-01-01 00:00:00</td>\n",
              "      <td>0</td>\n",
              "      <td>Education</td>\n",
              "      <td>23685</td>\n",
              "      <td>2002.0</td>\n",
              "      <td>NaN</td>\n",
              "      <td>17.796875</td>\n",
              "      <td>4.0</td>\n",
              "      <td>11.703125</td>\n",
              "      <td>NaN</td>\n",
              "      <td>1021.5</td>\n",
              "      <td>100.0</td>\n",
              "      <td>3.599609</td>\n",
              "    </tr>\n",
              "    <tr>\n",
              "      <th>4</th>\n",
              "      <td>4</td>\n",
              "      <td>4</td>\n",
              "      <td>0</td>\n",
              "      <td>2017-01-01 00:00:00</td>\n",
              "      <td>0</td>\n",
              "      <td>Education</td>\n",
              "      <td>116607</td>\n",
              "      <td>1975.0</td>\n",
              "      <td>NaN</td>\n",
              "      <td>17.796875</td>\n",
              "      <td>4.0</td>\n",
              "      <td>11.703125</td>\n",
              "      <td>NaN</td>\n",
              "      <td>1021.5</td>\n",
              "      <td>100.0</td>\n",
              "      <td>3.599609</td>\n",
              "    </tr>\n",
              "  </tbody>\n",
              "</table>\n",
              "</div>"
            ],
            "text/plain": [
              "   row_id  building_id  meter  ... sea_level_pressure  wind_direction wind_speed\n",
              "0       0            0      0  ...             1021.5           100.0   3.599609\n",
              "1       1            1      0  ...             1021.5           100.0   3.599609\n",
              "2       2            2      0  ...             1021.5           100.0   3.599609\n",
              "3       3            3      0  ...             1021.5           100.0   3.599609\n",
              "4       4            4      0  ...             1021.5           100.0   3.599609\n",
              "\n",
              "[5 rows x 16 columns]"
            ]
          },
          "metadata": {
            "tags": []
          },
          "execution_count": 19
        }
      ]
    },
    {
      "cell_type": "markdown",
      "metadata": {
        "id": "ttj3ocrHEeNI"
      },
      "source": [
        "Convert datetime varibales into pandas dataframe"
      ]
    },
    {
      "cell_type": "code",
      "metadata": {
        "id": "r_2dZoRA5Cb6"
      },
      "source": [
        "#https://www.analyticsvidhya.com/blog/2020/05/datetime-variables-python-pandas/\n",
        "#I will break the timestamp into hour of the day, day of the week and month of the year\n",
        "#https://stackoverflow.com/questions/33365055/attributeerror-can-only-use-dt-accessor-with-datetimelike-values\n",
        "def convert_timestamp_data(df):\n",
        "  df['timestamp']= pd.to_datetime(df['timestamp'])\n",
        "  df['hour']= np.uint8(df['timestamp'].dt.hour)\n",
        "  df['dayofweek']= np.uint8(df['timestamp'].dt.dayofweek)\n",
        "  df['month']= np.uint8(df['timestamp'].dt.month)\n",
        "  df['dayofyear']= np.uint16(df['timestamp'].dt.dayofyear)\n",
        "  df['day']= np.uint16(df['timestamp'].dt.day)\n",
        "  df['year']= np.uint16(df['timestamp'].dt.year)\n",
        "  return df\n",
        "\n",
        "train_df= convert_timestamp_data(train_df)\n",
        "test_df = convert_timestamp_data(test_df)\n"
      ],
      "execution_count": null,
      "outputs": []
    },
    {
      "cell_type": "code",
      "metadata": {
        "colab": {
          "base_uri": "https://localhost:8080/"
        },
        "id": "Lh1MQCs4NrMG",
        "outputId": "171bc60f-3b49-47e2-cc10-5cf4d8dfeb2a"
      },
      "source": [
        "train_df= reduce_mem_usage(train_df, use_float16=True)\n",
        "test_df= reduce_mem_usage(test_df, use_float16=True)"
      ],
      "execution_count": null,
      "outputs": [
        {
          "output_type": "stream",
          "text": [
            "Memory usage of dataframe is 1542.75 MB\n",
            "Memory usage after optimization is: 1022.20 MB\n",
            "Decreased by 33.7%\n",
            "Memory usage of dataframe is 3182.03 MB\n",
            "Memory usage after optimization is: 2108.35 MB\n",
            "Decreased by 33.7%\n"
          ],
          "name": "stdout"
        }
      ]
    },
    {
      "cell_type": "code",
      "metadata": {
        "colab": {
          "base_uri": "https://localhost:8080/",
          "height": 309
        },
        "id": "BqOW5XXYqOR-",
        "outputId": "5d724e71-6a47-4aff-fe12-8f680fce8991"
      },
      "source": [
        "train_df.head()"
      ],
      "execution_count": null,
      "outputs": [
        {
          "output_type": "execute_result",
          "data": {
            "text/html": [
              "<div>\n",
              "<style scoped>\n",
              "    .dataframe tbody tr th:only-of-type {\n",
              "        vertical-align: middle;\n",
              "    }\n",
              "\n",
              "    .dataframe tbody tr th {\n",
              "        vertical-align: top;\n",
              "    }\n",
              "\n",
              "    .dataframe thead th {\n",
              "        text-align: right;\n",
              "    }\n",
              "</style>\n",
              "<table border=\"1\" class=\"dataframe\">\n",
              "  <thead>\n",
              "    <tr style=\"text-align: right;\">\n",
              "      <th></th>\n",
              "      <th>building_id</th>\n",
              "      <th>meter</th>\n",
              "      <th>timestamp</th>\n",
              "      <th>meter_reading</th>\n",
              "      <th>site_id</th>\n",
              "      <th>primary_use</th>\n",
              "      <th>square_feet</th>\n",
              "      <th>year_built</th>\n",
              "      <th>floor_count</th>\n",
              "      <th>air_temperature</th>\n",
              "      <th>cloud_coverage</th>\n",
              "      <th>dew_temperature</th>\n",
              "      <th>precip_depth_1_hr</th>\n",
              "      <th>sea_level_pressure</th>\n",
              "      <th>wind_direction</th>\n",
              "      <th>wind_speed</th>\n",
              "      <th>hour</th>\n",
              "      <th>dayofweek</th>\n",
              "      <th>month</th>\n",
              "      <th>dayofyear</th>\n",
              "      <th>day</th>\n",
              "      <th>year</th>\n",
              "    </tr>\n",
              "  </thead>\n",
              "  <tbody>\n",
              "    <tr>\n",
              "      <th>0</th>\n",
              "      <td>0</td>\n",
              "      <td>0</td>\n",
              "      <td>2016-01-01</td>\n",
              "      <td>0.0</td>\n",
              "      <td>0</td>\n",
              "      <td>Education</td>\n",
              "      <td>7432</td>\n",
              "      <td>2008.0</td>\n",
              "      <td>NaN</td>\n",
              "      <td>25.0</td>\n",
              "      <td>6.0</td>\n",
              "      <td>20.0</td>\n",
              "      <td>NaN</td>\n",
              "      <td>1019.5</td>\n",
              "      <td>0.0</td>\n",
              "      <td>0.0</td>\n",
              "      <td>0.0</td>\n",
              "      <td>4.0</td>\n",
              "      <td>1.0</td>\n",
              "      <td>1.0</td>\n",
              "      <td>1.0</td>\n",
              "      <td>2016.0</td>\n",
              "    </tr>\n",
              "    <tr>\n",
              "      <th>1</th>\n",
              "      <td>1</td>\n",
              "      <td>0</td>\n",
              "      <td>2016-01-01</td>\n",
              "      <td>0.0</td>\n",
              "      <td>0</td>\n",
              "      <td>Education</td>\n",
              "      <td>2720</td>\n",
              "      <td>2004.0</td>\n",
              "      <td>NaN</td>\n",
              "      <td>25.0</td>\n",
              "      <td>6.0</td>\n",
              "      <td>20.0</td>\n",
              "      <td>NaN</td>\n",
              "      <td>1019.5</td>\n",
              "      <td>0.0</td>\n",
              "      <td>0.0</td>\n",
              "      <td>0.0</td>\n",
              "      <td>4.0</td>\n",
              "      <td>1.0</td>\n",
              "      <td>1.0</td>\n",
              "      <td>1.0</td>\n",
              "      <td>2016.0</td>\n",
              "    </tr>\n",
              "    <tr>\n",
              "      <th>2</th>\n",
              "      <td>2</td>\n",
              "      <td>0</td>\n",
              "      <td>2016-01-01</td>\n",
              "      <td>0.0</td>\n",
              "      <td>0</td>\n",
              "      <td>Education</td>\n",
              "      <td>5376</td>\n",
              "      <td>1991.0</td>\n",
              "      <td>NaN</td>\n",
              "      <td>25.0</td>\n",
              "      <td>6.0</td>\n",
              "      <td>20.0</td>\n",
              "      <td>NaN</td>\n",
              "      <td>1019.5</td>\n",
              "      <td>0.0</td>\n",
              "      <td>0.0</td>\n",
              "      <td>0.0</td>\n",
              "      <td>4.0</td>\n",
              "      <td>1.0</td>\n",
              "      <td>1.0</td>\n",
              "      <td>1.0</td>\n",
              "      <td>2016.0</td>\n",
              "    </tr>\n",
              "    <tr>\n",
              "      <th>3</th>\n",
              "      <td>3</td>\n",
              "      <td>0</td>\n",
              "      <td>2016-01-01</td>\n",
              "      <td>0.0</td>\n",
              "      <td>0</td>\n",
              "      <td>Education</td>\n",
              "      <td>23685</td>\n",
              "      <td>2002.0</td>\n",
              "      <td>NaN</td>\n",
              "      <td>25.0</td>\n",
              "      <td>6.0</td>\n",
              "      <td>20.0</td>\n",
              "      <td>NaN</td>\n",
              "      <td>1019.5</td>\n",
              "      <td>0.0</td>\n",
              "      <td>0.0</td>\n",
              "      <td>0.0</td>\n",
              "      <td>4.0</td>\n",
              "      <td>1.0</td>\n",
              "      <td>1.0</td>\n",
              "      <td>1.0</td>\n",
              "      <td>2016.0</td>\n",
              "    </tr>\n",
              "    <tr>\n",
              "      <th>4</th>\n",
              "      <td>4</td>\n",
              "      <td>0</td>\n",
              "      <td>2016-01-01</td>\n",
              "      <td>0.0</td>\n",
              "      <td>0</td>\n",
              "      <td>Education</td>\n",
              "      <td>116607</td>\n",
              "      <td>1975.0</td>\n",
              "      <td>NaN</td>\n",
              "      <td>25.0</td>\n",
              "      <td>6.0</td>\n",
              "      <td>20.0</td>\n",
              "      <td>NaN</td>\n",
              "      <td>1019.5</td>\n",
              "      <td>0.0</td>\n",
              "      <td>0.0</td>\n",
              "      <td>0.0</td>\n",
              "      <td>4.0</td>\n",
              "      <td>1.0</td>\n",
              "      <td>1.0</td>\n",
              "      <td>1.0</td>\n",
              "      <td>2016.0</td>\n",
              "    </tr>\n",
              "  </tbody>\n",
              "</table>\n",
              "</div>"
            ],
            "text/plain": [
              "   building_id  meter  timestamp  meter_reading  ...  month dayofyear  day    year\n",
              "0            0      0 2016-01-01            0.0  ...    1.0       1.0  1.0  2016.0\n",
              "1            1      0 2016-01-01            0.0  ...    1.0       1.0  1.0  2016.0\n",
              "2            2      0 2016-01-01            0.0  ...    1.0       1.0  1.0  2016.0\n",
              "3            3      0 2016-01-01            0.0  ...    1.0       1.0  1.0  2016.0\n",
              "4            4      0 2016-01-01            0.0  ...    1.0       1.0  1.0  2016.0\n",
              "\n",
              "[5 rows x 22 columns]"
            ]
          },
          "metadata": {
            "tags": []
          },
          "execution_count": 22
        }
      ]
    },
    {
      "cell_type": "markdown",
      "metadata": {
        "id": "IfdMTIwcFz_L"
      },
      "source": [
        "Handling Missing values"
      ]
    },
    {
      "cell_type": "markdown",
      "metadata": {
        "id": "c3ZspWSH1RDP"
      },
      "source": [
        "Before imputing the missing values check the percentage of missing vlauesin the merge train and test dataframe"
      ]
    },
    {
      "cell_type": "code",
      "metadata": {
        "id": "V8PrJKH71XGW"
      },
      "source": [
        "def missing_data_values(df):    \n",
        "    statitics = pd.DataFrame(df.isnull().sum()).reset_index()\n",
        "    statitics.columns=['COLUMN NAME',\"MISSING VALUES\"]\n",
        "    statitics['TOTAL ROWS'] = df.shape[0]\n",
        "    statitics['% MISSING'] = round((statitics['MISSING VALUES']/statitics['TOTAL ROWS'])*100,2)\n",
        "    return statitics"
      ],
      "execution_count": null,
      "outputs": []
    },
    {
      "cell_type": "code",
      "metadata": {
        "colab": {
          "base_uri": "https://localhost:8080/",
          "height": 731
        },
        "id": "MpUDCOIu1b2F",
        "outputId": "bfbcf41b-05ea-479b-f943-4fee38c4ffbf"
      },
      "source": [
        "missing_data_values(train_df)"
      ],
      "execution_count": null,
      "outputs": [
        {
          "output_type": "execute_result",
          "data": {
            "text/html": [
              "<div>\n",
              "<style scoped>\n",
              "    .dataframe tbody tr th:only-of-type {\n",
              "        vertical-align: middle;\n",
              "    }\n",
              "\n",
              "    .dataframe tbody tr th {\n",
              "        vertical-align: top;\n",
              "    }\n",
              "\n",
              "    .dataframe thead th {\n",
              "        text-align: right;\n",
              "    }\n",
              "</style>\n",
              "<table border=\"1\" class=\"dataframe\">\n",
              "  <thead>\n",
              "    <tr style=\"text-align: right;\">\n",
              "      <th></th>\n",
              "      <th>COLUMN NAME</th>\n",
              "      <th>MISSING VALUES</th>\n",
              "      <th>TOTAL ROWS</th>\n",
              "      <th>% MISSING</th>\n",
              "    </tr>\n",
              "  </thead>\n",
              "  <tbody>\n",
              "    <tr>\n",
              "      <th>0</th>\n",
              "      <td>building_id</td>\n",
              "      <td>0</td>\n",
              "      <td>20216100</td>\n",
              "      <td>0.00</td>\n",
              "    </tr>\n",
              "    <tr>\n",
              "      <th>1</th>\n",
              "      <td>meter</td>\n",
              "      <td>0</td>\n",
              "      <td>20216100</td>\n",
              "      <td>0.00</td>\n",
              "    </tr>\n",
              "    <tr>\n",
              "      <th>2</th>\n",
              "      <td>timestamp</td>\n",
              "      <td>0</td>\n",
              "      <td>20216100</td>\n",
              "      <td>0.00</td>\n",
              "    </tr>\n",
              "    <tr>\n",
              "      <th>3</th>\n",
              "      <td>meter_reading</td>\n",
              "      <td>0</td>\n",
              "      <td>20216100</td>\n",
              "      <td>0.00</td>\n",
              "    </tr>\n",
              "    <tr>\n",
              "      <th>4</th>\n",
              "      <td>site_id</td>\n",
              "      <td>0</td>\n",
              "      <td>20216100</td>\n",
              "      <td>0.00</td>\n",
              "    </tr>\n",
              "    <tr>\n",
              "      <th>5</th>\n",
              "      <td>primary_use</td>\n",
              "      <td>0</td>\n",
              "      <td>20216100</td>\n",
              "      <td>0.00</td>\n",
              "    </tr>\n",
              "    <tr>\n",
              "      <th>6</th>\n",
              "      <td>square_feet</td>\n",
              "      <td>0</td>\n",
              "      <td>20216100</td>\n",
              "      <td>0.00</td>\n",
              "    </tr>\n",
              "    <tr>\n",
              "      <th>7</th>\n",
              "      <td>year_built</td>\n",
              "      <td>12127645</td>\n",
              "      <td>20216100</td>\n",
              "      <td>59.99</td>\n",
              "    </tr>\n",
              "    <tr>\n",
              "      <th>8</th>\n",
              "      <td>floor_count</td>\n",
              "      <td>16709167</td>\n",
              "      <td>20216100</td>\n",
              "      <td>82.65</td>\n",
              "    </tr>\n",
              "    <tr>\n",
              "      <th>9</th>\n",
              "      <td>air_temperature</td>\n",
              "      <td>96658</td>\n",
              "      <td>20216100</td>\n",
              "      <td>0.48</td>\n",
              "    </tr>\n",
              "    <tr>\n",
              "      <th>10</th>\n",
              "      <td>cloud_coverage</td>\n",
              "      <td>8825365</td>\n",
              "      <td>20216100</td>\n",
              "      <td>43.66</td>\n",
              "    </tr>\n",
              "    <tr>\n",
              "      <th>11</th>\n",
              "      <td>dew_temperature</td>\n",
              "      <td>100140</td>\n",
              "      <td>20216100</td>\n",
              "      <td>0.50</td>\n",
              "    </tr>\n",
              "    <tr>\n",
              "      <th>12</th>\n",
              "      <td>precip_depth_1_hr</td>\n",
              "      <td>3749023</td>\n",
              "      <td>20216100</td>\n",
              "      <td>18.54</td>\n",
              "    </tr>\n",
              "    <tr>\n",
              "      <th>13</th>\n",
              "      <td>sea_level_pressure</td>\n",
              "      <td>1231669</td>\n",
              "      <td>20216100</td>\n",
              "      <td>6.09</td>\n",
              "    </tr>\n",
              "    <tr>\n",
              "      <th>14</th>\n",
              "      <td>wind_direction</td>\n",
              "      <td>1449048</td>\n",
              "      <td>20216100</td>\n",
              "      <td>7.17</td>\n",
              "    </tr>\n",
              "    <tr>\n",
              "      <th>15</th>\n",
              "      <td>wind_speed</td>\n",
              "      <td>143676</td>\n",
              "      <td>20216100</td>\n",
              "      <td>0.71</td>\n",
              "    </tr>\n",
              "    <tr>\n",
              "      <th>16</th>\n",
              "      <td>hour</td>\n",
              "      <td>0</td>\n",
              "      <td>20216100</td>\n",
              "      <td>0.00</td>\n",
              "    </tr>\n",
              "    <tr>\n",
              "      <th>17</th>\n",
              "      <td>dayofweek</td>\n",
              "      <td>0</td>\n",
              "      <td>20216100</td>\n",
              "      <td>0.00</td>\n",
              "    </tr>\n",
              "    <tr>\n",
              "      <th>18</th>\n",
              "      <td>month</td>\n",
              "      <td>0</td>\n",
              "      <td>20216100</td>\n",
              "      <td>0.00</td>\n",
              "    </tr>\n",
              "    <tr>\n",
              "      <th>19</th>\n",
              "      <td>dayofyear</td>\n",
              "      <td>0</td>\n",
              "      <td>20216100</td>\n",
              "      <td>0.00</td>\n",
              "    </tr>\n",
              "    <tr>\n",
              "      <th>20</th>\n",
              "      <td>day</td>\n",
              "      <td>0</td>\n",
              "      <td>20216100</td>\n",
              "      <td>0.00</td>\n",
              "    </tr>\n",
              "    <tr>\n",
              "      <th>21</th>\n",
              "      <td>year</td>\n",
              "      <td>0</td>\n",
              "      <td>20216100</td>\n",
              "      <td>0.00</td>\n",
              "    </tr>\n",
              "  </tbody>\n",
              "</table>\n",
              "</div>"
            ],
            "text/plain": [
              "           COLUMN NAME  MISSING VALUES  TOTAL ROWS  % MISSING\n",
              "0          building_id               0    20216100       0.00\n",
              "1                meter               0    20216100       0.00\n",
              "2            timestamp               0    20216100       0.00\n",
              "3        meter_reading               0    20216100       0.00\n",
              "4              site_id               0    20216100       0.00\n",
              "5          primary_use               0    20216100       0.00\n",
              "6          square_feet               0    20216100       0.00\n",
              "7           year_built        12127645    20216100      59.99\n",
              "8          floor_count        16709167    20216100      82.65\n",
              "9      air_temperature           96658    20216100       0.48\n",
              "10      cloud_coverage         8825365    20216100      43.66\n",
              "11     dew_temperature          100140    20216100       0.50\n",
              "12   precip_depth_1_hr         3749023    20216100      18.54\n",
              "13  sea_level_pressure         1231669    20216100       6.09\n",
              "14      wind_direction         1449048    20216100       7.17\n",
              "15          wind_speed          143676    20216100       0.71\n",
              "16                hour               0    20216100       0.00\n",
              "17           dayofweek               0    20216100       0.00\n",
              "18               month               0    20216100       0.00\n",
              "19           dayofyear               0    20216100       0.00\n",
              "20                 day               0    20216100       0.00\n",
              "21                year               0    20216100       0.00"
            ]
          },
          "metadata": {
            "tags": []
          },
          "execution_count": 15
        }
      ]
    },
    {
      "cell_type": "code",
      "metadata": {
        "colab": {
          "base_uri": "https://localhost:8080/",
          "height": 731
        },
        "id": "T5E3brcx1h3V",
        "outputId": "d2849a71-e534-4f8f-c1f4-8be97b175898"
      },
      "source": [
        "missing_data_values(test_df)"
      ],
      "execution_count": null,
      "outputs": [
        {
          "output_type": "execute_result",
          "data": {
            "text/html": [
              "<div>\n",
              "<style scoped>\n",
              "    .dataframe tbody tr th:only-of-type {\n",
              "        vertical-align: middle;\n",
              "    }\n",
              "\n",
              "    .dataframe tbody tr th {\n",
              "        vertical-align: top;\n",
              "    }\n",
              "\n",
              "    .dataframe thead th {\n",
              "        text-align: right;\n",
              "    }\n",
              "</style>\n",
              "<table border=\"1\" class=\"dataframe\">\n",
              "  <thead>\n",
              "    <tr style=\"text-align: right;\">\n",
              "      <th></th>\n",
              "      <th>COLUMN NAME</th>\n",
              "      <th>MISSING VALUES</th>\n",
              "      <th>TOTAL ROWS</th>\n",
              "      <th>% MISSING</th>\n",
              "    </tr>\n",
              "  </thead>\n",
              "  <tbody>\n",
              "    <tr>\n",
              "      <th>0</th>\n",
              "      <td>row_id</td>\n",
              "      <td>0</td>\n",
              "      <td>41697600</td>\n",
              "      <td>0.00</td>\n",
              "    </tr>\n",
              "    <tr>\n",
              "      <th>1</th>\n",
              "      <td>building_id</td>\n",
              "      <td>0</td>\n",
              "      <td>41697600</td>\n",
              "      <td>0.00</td>\n",
              "    </tr>\n",
              "    <tr>\n",
              "      <th>2</th>\n",
              "      <td>meter</td>\n",
              "      <td>0</td>\n",
              "      <td>41697600</td>\n",
              "      <td>0.00</td>\n",
              "    </tr>\n",
              "    <tr>\n",
              "      <th>3</th>\n",
              "      <td>timestamp</td>\n",
              "      <td>0</td>\n",
              "      <td>41697600</td>\n",
              "      <td>0.00</td>\n",
              "    </tr>\n",
              "    <tr>\n",
              "      <th>4</th>\n",
              "      <td>site_id</td>\n",
              "      <td>0</td>\n",
              "      <td>41697600</td>\n",
              "      <td>0.00</td>\n",
              "    </tr>\n",
              "    <tr>\n",
              "      <th>5</th>\n",
              "      <td>primary_use</td>\n",
              "      <td>0</td>\n",
              "      <td>41697600</td>\n",
              "      <td>0.00</td>\n",
              "    </tr>\n",
              "    <tr>\n",
              "      <th>6</th>\n",
              "      <td>square_feet</td>\n",
              "      <td>0</td>\n",
              "      <td>41697600</td>\n",
              "      <td>0.00</td>\n",
              "    </tr>\n",
              "    <tr>\n",
              "      <th>7</th>\n",
              "      <td>year_built</td>\n",
              "      <td>24598080</td>\n",
              "      <td>41697600</td>\n",
              "      <td>58.99</td>\n",
              "    </tr>\n",
              "    <tr>\n",
              "      <th>8</th>\n",
              "      <td>floor_count</td>\n",
              "      <td>34444320</td>\n",
              "      <td>41697600</td>\n",
              "      <td>82.61</td>\n",
              "    </tr>\n",
              "    <tr>\n",
              "      <th>9</th>\n",
              "      <td>air_temperature</td>\n",
              "      <td>221901</td>\n",
              "      <td>41697600</td>\n",
              "      <td>0.53</td>\n",
              "    </tr>\n",
              "    <tr>\n",
              "      <th>10</th>\n",
              "      <td>cloud_coverage</td>\n",
              "      <td>19542180</td>\n",
              "      <td>41697600</td>\n",
              "      <td>46.87</td>\n",
              "    </tr>\n",
              "    <tr>\n",
              "      <th>11</th>\n",
              "      <td>dew_temperature</td>\n",
              "      <td>260799</td>\n",
              "      <td>41697600</td>\n",
              "      <td>0.63</td>\n",
              "    </tr>\n",
              "    <tr>\n",
              "      <th>12</th>\n",
              "      <td>precip_depth_1_hr</td>\n",
              "      <td>7801563</td>\n",
              "      <td>41697600</td>\n",
              "      <td>18.71</td>\n",
              "    </tr>\n",
              "    <tr>\n",
              "      <th>13</th>\n",
              "      <td>sea_level_pressure</td>\n",
              "      <td>2516826</td>\n",
              "      <td>41697600</td>\n",
              "      <td>6.04</td>\n",
              "    </tr>\n",
              "    <tr>\n",
              "      <th>14</th>\n",
              "      <td>wind_direction</td>\n",
              "      <td>2978663</td>\n",
              "      <td>41697600</td>\n",
              "      <td>7.14</td>\n",
              "    </tr>\n",
              "    <tr>\n",
              "      <th>15</th>\n",
              "      <td>wind_speed</td>\n",
              "      <td>302089</td>\n",
              "      <td>41697600</td>\n",
              "      <td>0.72</td>\n",
              "    </tr>\n",
              "    <tr>\n",
              "      <th>16</th>\n",
              "      <td>hour</td>\n",
              "      <td>0</td>\n",
              "      <td>41697600</td>\n",
              "      <td>0.00</td>\n",
              "    </tr>\n",
              "    <tr>\n",
              "      <th>17</th>\n",
              "      <td>dayofweek</td>\n",
              "      <td>0</td>\n",
              "      <td>41697600</td>\n",
              "      <td>0.00</td>\n",
              "    </tr>\n",
              "    <tr>\n",
              "      <th>18</th>\n",
              "      <td>month</td>\n",
              "      <td>0</td>\n",
              "      <td>41697600</td>\n",
              "      <td>0.00</td>\n",
              "    </tr>\n",
              "    <tr>\n",
              "      <th>19</th>\n",
              "      <td>dayofyear</td>\n",
              "      <td>0</td>\n",
              "      <td>41697600</td>\n",
              "      <td>0.00</td>\n",
              "    </tr>\n",
              "    <tr>\n",
              "      <th>20</th>\n",
              "      <td>day</td>\n",
              "      <td>0</td>\n",
              "      <td>41697600</td>\n",
              "      <td>0.00</td>\n",
              "    </tr>\n",
              "    <tr>\n",
              "      <th>21</th>\n",
              "      <td>year</td>\n",
              "      <td>0</td>\n",
              "      <td>41697600</td>\n",
              "      <td>0.00</td>\n",
              "    </tr>\n",
              "  </tbody>\n",
              "</table>\n",
              "</div>"
            ],
            "text/plain": [
              "           COLUMN NAME  MISSING VALUES  TOTAL ROWS  % MISSING\n",
              "0               row_id               0    41697600       0.00\n",
              "1          building_id               0    41697600       0.00\n",
              "2                meter               0    41697600       0.00\n",
              "3            timestamp               0    41697600       0.00\n",
              "4              site_id               0    41697600       0.00\n",
              "5          primary_use               0    41697600       0.00\n",
              "6          square_feet               0    41697600       0.00\n",
              "7           year_built        24598080    41697600      58.99\n",
              "8          floor_count        34444320    41697600      82.61\n",
              "9      air_temperature          221901    41697600       0.53\n",
              "10      cloud_coverage        19542180    41697600      46.87\n",
              "11     dew_temperature          260799    41697600       0.63\n",
              "12   precip_depth_1_hr         7801563    41697600      18.71\n",
              "13  sea_level_pressure         2516826    41697600       6.04\n",
              "14      wind_direction         2978663    41697600       7.14\n",
              "15          wind_speed          302089    41697600       0.72\n",
              "16                hour               0    41697600       0.00\n",
              "17           dayofweek               0    41697600       0.00\n",
              "18               month               0    41697600       0.00\n",
              "19           dayofyear               0    41697600       0.00\n",
              "20                 day               0    41697600       0.00\n",
              "21                year               0    41697600       0.00"
            ]
          },
          "metadata": {
            "tags": []
          },
          "execution_count": 16
        }
      ]
    },
    {
      "cell_type": "markdown",
      "metadata": {
        "id": "Gwn65VOx1Ecy"
      },
      "source": [
        "Filling Missign values in train and test data of weather data "
      ]
    },
    {
      "cell_type": "markdown",
      "metadata": {
        "id": "Gn7ieIPBAJit"
      },
      "source": [
        "why i taken consideration of site_id, day, month is because this csv has hourly weather information for 16 sites in 2016. So this should have 140,544 records (16 x 24 x 366, 2016 is a leap year). But this csv has 139773 records so 771 hours of data is missing. that's why i have to add day month feature in my waether dataset of both train and test set which is shown above"
      ]
    },
    {
      "cell_type": "code",
      "metadata": {
        "id": "8MtvpxJQ_8Oa"
      },
      "source": [
        "#https://www.kaggle.com/aitude/ashrae-missing-weather-data-handling\n",
        "def filling_nan_values(df):\n",
        "  air_temp_df=df.groupby(['site_id', 'day', 'month'])['air_temperature'].transform('mean')\n",
        "  df['air_temperature'].fillna(air_temp_df, inplace=True)\n",
        "\n",
        "  dew_temp_df=df.groupby(['site_id', 'day', 'month'])['dew_temperature'].transform('mean')\n",
        "  df['dew_temperature'].fillna(dew_temp_df, inplace=True)\n",
        "\n",
        "  cloud_df=df.groupby(['site_id', 'day', 'month'])['cloud_coverage'].transform('mean')\n",
        "  df['cloud_coverage'].fillna(cloud_df, inplace=True)\n",
        "\n",
        "  sea_level_df=df.groupby(['site_id', 'day', 'month'])['sea_level_pressure'].transform('mean')\n",
        "  df['sea_level_pressure'].fillna(sea_level_df, inplace=True)\n",
        "\n",
        "  precip_df=df.groupby(['site_id', 'day', 'month'])['precip_depth_1_hr'].transform('mean')\n",
        "  df['precip_depth_1_hr'].fillna(precip_df, inplace=True)\n",
        "\n",
        "  wind_dir_df=df.groupby(['site_id', 'day', 'month'])['wind_direction'].transform('mean')\n",
        "  df['wind_direction'].fillna(wind_dir_df, inplace=True)\n",
        "\n",
        "  wind_speed_df=df.groupby(['site_id', 'day', 'month'])['wind_speed'].transform('mean')\n",
        "  df['wind_speed'].fillna(wind_speed_df, inplace=True)\n",
        "\n",
        "\n",
        "  return df"
      ],
      "execution_count": null,
      "outputs": []
    },
    {
      "cell_type": "code",
      "metadata": {
        "id": "djgqd4kl_8Oa"
      },
      "source": [
        "train_df= filling_nan_values(train_df)"
      ],
      "execution_count": null,
      "outputs": []
    },
    {
      "cell_type": "code",
      "metadata": {
        "id": "e6Ns1res_8Oa"
      },
      "source": [
        "train_df['cloud_coverage'].fillna(train_df['cloud_coverage'].median(), inplace=True)\n",
        "train_df['sea_level_pressure'].fillna(train_df['sea_level_pressure'].median(), inplace=True)\n",
        "train_df['precip_depth_1_hr'].fillna(train_df['precip_depth_1_hr'].median(), inplace=True)"
      ],
      "execution_count": null,
      "outputs": []
    },
    {
      "cell_type": "code",
      "metadata": {
        "id": "MIsfKaCH_8Oa"
      },
      "source": [
        "test_df= filling_nan_values(test_df)"
      ],
      "execution_count": null,
      "outputs": []
    },
    {
      "cell_type": "code",
      "metadata": {
        "id": "LrinFTDV_8Oa"
      },
      "source": [
        "test_df['cloud_coverage'].fillna(test_df['cloud_coverage'].median(), inplace=True)\n",
        "test_df['sea_level_pressure'].fillna(test_df['sea_level_pressure'].median(), inplace=True)\n",
        "test_df['precip_depth_1_hr'].fillna(test_df['precip_depth_1_hr'].median(), inplace=True)"
      ],
      "execution_count": null,
      "outputs": []
    },
    {
      "cell_type": "markdown",
      "metadata": {
        "id": "VMI9l2bjA8mr"
      },
      "source": [
        "After imputing only miisng values of weather train and test data the no of missing values becomes zero as shown below"
      ]
    },
    {
      "cell_type": "code",
      "metadata": {
        "colab": {
          "base_uri": "https://localhost:8080/",
          "height": 731
        },
        "id": "LfyOCxrz_8Oa",
        "outputId": "ecead417-b643-4362-ce3a-c75ae8ca308d"
      },
      "source": [
        "missing_data_values(train_df)"
      ],
      "execution_count": null,
      "outputs": [
        {
          "output_type": "execute_result",
          "data": {
            "text/html": [
              "<div>\n",
              "<style scoped>\n",
              "    .dataframe tbody tr th:only-of-type {\n",
              "        vertical-align: middle;\n",
              "    }\n",
              "\n",
              "    .dataframe tbody tr th {\n",
              "        vertical-align: top;\n",
              "    }\n",
              "\n",
              "    .dataframe thead th {\n",
              "        text-align: right;\n",
              "    }\n",
              "</style>\n",
              "<table border=\"1\" class=\"dataframe\">\n",
              "  <thead>\n",
              "    <tr style=\"text-align: right;\">\n",
              "      <th></th>\n",
              "      <th>COLUMN NAME</th>\n",
              "      <th>MISSING VALUES</th>\n",
              "      <th>TOTAL ROWS</th>\n",
              "      <th>% MISSING</th>\n",
              "    </tr>\n",
              "  </thead>\n",
              "  <tbody>\n",
              "    <tr>\n",
              "      <th>0</th>\n",
              "      <td>building_id</td>\n",
              "      <td>0</td>\n",
              "      <td>20216100</td>\n",
              "      <td>0.00</td>\n",
              "    </tr>\n",
              "    <tr>\n",
              "      <th>1</th>\n",
              "      <td>meter</td>\n",
              "      <td>0</td>\n",
              "      <td>20216100</td>\n",
              "      <td>0.00</td>\n",
              "    </tr>\n",
              "    <tr>\n",
              "      <th>2</th>\n",
              "      <td>timestamp</td>\n",
              "      <td>0</td>\n",
              "      <td>20216100</td>\n",
              "      <td>0.00</td>\n",
              "    </tr>\n",
              "    <tr>\n",
              "      <th>3</th>\n",
              "      <td>meter_reading</td>\n",
              "      <td>0</td>\n",
              "      <td>20216100</td>\n",
              "      <td>0.00</td>\n",
              "    </tr>\n",
              "    <tr>\n",
              "      <th>4</th>\n",
              "      <td>site_id</td>\n",
              "      <td>0</td>\n",
              "      <td>20216100</td>\n",
              "      <td>0.00</td>\n",
              "    </tr>\n",
              "    <tr>\n",
              "      <th>5</th>\n",
              "      <td>primary_use</td>\n",
              "      <td>0</td>\n",
              "      <td>20216100</td>\n",
              "      <td>0.00</td>\n",
              "    </tr>\n",
              "    <tr>\n",
              "      <th>6</th>\n",
              "      <td>square_feet</td>\n",
              "      <td>0</td>\n",
              "      <td>20216100</td>\n",
              "      <td>0.00</td>\n",
              "    </tr>\n",
              "    <tr>\n",
              "      <th>7</th>\n",
              "      <td>year_built</td>\n",
              "      <td>12127645</td>\n",
              "      <td>20216100</td>\n",
              "      <td>59.99</td>\n",
              "    </tr>\n",
              "    <tr>\n",
              "      <th>8</th>\n",
              "      <td>floor_count</td>\n",
              "      <td>16709167</td>\n",
              "      <td>20216100</td>\n",
              "      <td>82.65</td>\n",
              "    </tr>\n",
              "    <tr>\n",
              "      <th>9</th>\n",
              "      <td>air_temperature</td>\n",
              "      <td>0</td>\n",
              "      <td>20216100</td>\n",
              "      <td>0.00</td>\n",
              "    </tr>\n",
              "    <tr>\n",
              "      <th>10</th>\n",
              "      <td>cloud_coverage</td>\n",
              "      <td>0</td>\n",
              "      <td>20216100</td>\n",
              "      <td>0.00</td>\n",
              "    </tr>\n",
              "    <tr>\n",
              "      <th>11</th>\n",
              "      <td>dew_temperature</td>\n",
              "      <td>0</td>\n",
              "      <td>20216100</td>\n",
              "      <td>0.00</td>\n",
              "    </tr>\n",
              "    <tr>\n",
              "      <th>12</th>\n",
              "      <td>precip_depth_1_hr</td>\n",
              "      <td>0</td>\n",
              "      <td>20216100</td>\n",
              "      <td>0.00</td>\n",
              "    </tr>\n",
              "    <tr>\n",
              "      <th>13</th>\n",
              "      <td>sea_level_pressure</td>\n",
              "      <td>0</td>\n",
              "      <td>20216100</td>\n",
              "      <td>0.00</td>\n",
              "    </tr>\n",
              "    <tr>\n",
              "      <th>14</th>\n",
              "      <td>wind_direction</td>\n",
              "      <td>0</td>\n",
              "      <td>20216100</td>\n",
              "      <td>0.00</td>\n",
              "    </tr>\n",
              "    <tr>\n",
              "      <th>15</th>\n",
              "      <td>wind_speed</td>\n",
              "      <td>0</td>\n",
              "      <td>20216100</td>\n",
              "      <td>0.00</td>\n",
              "    </tr>\n",
              "    <tr>\n",
              "      <th>16</th>\n",
              "      <td>hour</td>\n",
              "      <td>0</td>\n",
              "      <td>20216100</td>\n",
              "      <td>0.00</td>\n",
              "    </tr>\n",
              "    <tr>\n",
              "      <th>17</th>\n",
              "      <td>dayofweek</td>\n",
              "      <td>0</td>\n",
              "      <td>20216100</td>\n",
              "      <td>0.00</td>\n",
              "    </tr>\n",
              "    <tr>\n",
              "      <th>18</th>\n",
              "      <td>month</td>\n",
              "      <td>0</td>\n",
              "      <td>20216100</td>\n",
              "      <td>0.00</td>\n",
              "    </tr>\n",
              "    <tr>\n",
              "      <th>19</th>\n",
              "      <td>dayofyear</td>\n",
              "      <td>0</td>\n",
              "      <td>20216100</td>\n",
              "      <td>0.00</td>\n",
              "    </tr>\n",
              "    <tr>\n",
              "      <th>20</th>\n",
              "      <td>day</td>\n",
              "      <td>0</td>\n",
              "      <td>20216100</td>\n",
              "      <td>0.00</td>\n",
              "    </tr>\n",
              "    <tr>\n",
              "      <th>21</th>\n",
              "      <td>year</td>\n",
              "      <td>0</td>\n",
              "      <td>20216100</td>\n",
              "      <td>0.00</td>\n",
              "    </tr>\n",
              "  </tbody>\n",
              "</table>\n",
              "</div>"
            ],
            "text/plain": [
              "           COLUMN NAME  MISSING VALUES  TOTAL ROWS  % MISSING\n",
              "0          building_id               0    20216100       0.00\n",
              "1                meter               0    20216100       0.00\n",
              "2            timestamp               0    20216100       0.00\n",
              "3        meter_reading               0    20216100       0.00\n",
              "4              site_id               0    20216100       0.00\n",
              "5          primary_use               0    20216100       0.00\n",
              "6          square_feet               0    20216100       0.00\n",
              "7           year_built        12127645    20216100      59.99\n",
              "8          floor_count        16709167    20216100      82.65\n",
              "9      air_temperature               0    20216100       0.00\n",
              "10      cloud_coverage               0    20216100       0.00\n",
              "11     dew_temperature               0    20216100       0.00\n",
              "12   precip_depth_1_hr               0    20216100       0.00\n",
              "13  sea_level_pressure               0    20216100       0.00\n",
              "14      wind_direction               0    20216100       0.00\n",
              "15          wind_speed               0    20216100       0.00\n",
              "16                hour               0    20216100       0.00\n",
              "17           dayofweek               0    20216100       0.00\n",
              "18               month               0    20216100       0.00\n",
              "19           dayofyear               0    20216100       0.00\n",
              "20                 day               0    20216100       0.00\n",
              "21                year               0    20216100       0.00"
            ]
          },
          "metadata": {
            "tags": []
          },
          "execution_count": 22
        }
      ]
    },
    {
      "cell_type": "code",
      "metadata": {
        "colab": {
          "base_uri": "https://localhost:8080/",
          "height": 731
        },
        "id": "pD4jwlHj_8Ob",
        "outputId": "b9eb0176-1090-4934-ea8c-bce821f05a3e"
      },
      "source": [
        "missing_data_values(test_df)"
      ],
      "execution_count": null,
      "outputs": [
        {
          "output_type": "execute_result",
          "data": {
            "text/html": [
              "<div>\n",
              "<style scoped>\n",
              "    .dataframe tbody tr th:only-of-type {\n",
              "        vertical-align: middle;\n",
              "    }\n",
              "\n",
              "    .dataframe tbody tr th {\n",
              "        vertical-align: top;\n",
              "    }\n",
              "\n",
              "    .dataframe thead th {\n",
              "        text-align: right;\n",
              "    }\n",
              "</style>\n",
              "<table border=\"1\" class=\"dataframe\">\n",
              "  <thead>\n",
              "    <tr style=\"text-align: right;\">\n",
              "      <th></th>\n",
              "      <th>COLUMN NAME</th>\n",
              "      <th>MISSING VALUES</th>\n",
              "      <th>TOTAL ROWS</th>\n",
              "      <th>% MISSING</th>\n",
              "    </tr>\n",
              "  </thead>\n",
              "  <tbody>\n",
              "    <tr>\n",
              "      <th>0</th>\n",
              "      <td>row_id</td>\n",
              "      <td>0</td>\n",
              "      <td>41697600</td>\n",
              "      <td>0.00</td>\n",
              "    </tr>\n",
              "    <tr>\n",
              "      <th>1</th>\n",
              "      <td>building_id</td>\n",
              "      <td>0</td>\n",
              "      <td>41697600</td>\n",
              "      <td>0.00</td>\n",
              "    </tr>\n",
              "    <tr>\n",
              "      <th>2</th>\n",
              "      <td>meter</td>\n",
              "      <td>0</td>\n",
              "      <td>41697600</td>\n",
              "      <td>0.00</td>\n",
              "    </tr>\n",
              "    <tr>\n",
              "      <th>3</th>\n",
              "      <td>timestamp</td>\n",
              "      <td>0</td>\n",
              "      <td>41697600</td>\n",
              "      <td>0.00</td>\n",
              "    </tr>\n",
              "    <tr>\n",
              "      <th>4</th>\n",
              "      <td>site_id</td>\n",
              "      <td>0</td>\n",
              "      <td>41697600</td>\n",
              "      <td>0.00</td>\n",
              "    </tr>\n",
              "    <tr>\n",
              "      <th>5</th>\n",
              "      <td>primary_use</td>\n",
              "      <td>0</td>\n",
              "      <td>41697600</td>\n",
              "      <td>0.00</td>\n",
              "    </tr>\n",
              "    <tr>\n",
              "      <th>6</th>\n",
              "      <td>square_feet</td>\n",
              "      <td>0</td>\n",
              "      <td>41697600</td>\n",
              "      <td>0.00</td>\n",
              "    </tr>\n",
              "    <tr>\n",
              "      <th>7</th>\n",
              "      <td>year_built</td>\n",
              "      <td>24598080</td>\n",
              "      <td>41697600</td>\n",
              "      <td>58.99</td>\n",
              "    </tr>\n",
              "    <tr>\n",
              "      <th>8</th>\n",
              "      <td>floor_count</td>\n",
              "      <td>34444320</td>\n",
              "      <td>41697600</td>\n",
              "      <td>82.61</td>\n",
              "    </tr>\n",
              "    <tr>\n",
              "      <th>9</th>\n",
              "      <td>air_temperature</td>\n",
              "      <td>0</td>\n",
              "      <td>41697600</td>\n",
              "      <td>0.00</td>\n",
              "    </tr>\n",
              "    <tr>\n",
              "      <th>10</th>\n",
              "      <td>cloud_coverage</td>\n",
              "      <td>0</td>\n",
              "      <td>41697600</td>\n",
              "      <td>0.00</td>\n",
              "    </tr>\n",
              "    <tr>\n",
              "      <th>11</th>\n",
              "      <td>dew_temperature</td>\n",
              "      <td>0</td>\n",
              "      <td>41697600</td>\n",
              "      <td>0.00</td>\n",
              "    </tr>\n",
              "    <tr>\n",
              "      <th>12</th>\n",
              "      <td>precip_depth_1_hr</td>\n",
              "      <td>0</td>\n",
              "      <td>41697600</td>\n",
              "      <td>0.00</td>\n",
              "    </tr>\n",
              "    <tr>\n",
              "      <th>13</th>\n",
              "      <td>sea_level_pressure</td>\n",
              "      <td>0</td>\n",
              "      <td>41697600</td>\n",
              "      <td>0.00</td>\n",
              "    </tr>\n",
              "    <tr>\n",
              "      <th>14</th>\n",
              "      <td>wind_direction</td>\n",
              "      <td>0</td>\n",
              "      <td>41697600</td>\n",
              "      <td>0.00</td>\n",
              "    </tr>\n",
              "    <tr>\n",
              "      <th>15</th>\n",
              "      <td>wind_speed</td>\n",
              "      <td>0</td>\n",
              "      <td>41697600</td>\n",
              "      <td>0.00</td>\n",
              "    </tr>\n",
              "    <tr>\n",
              "      <th>16</th>\n",
              "      <td>hour</td>\n",
              "      <td>0</td>\n",
              "      <td>41697600</td>\n",
              "      <td>0.00</td>\n",
              "    </tr>\n",
              "    <tr>\n",
              "      <th>17</th>\n",
              "      <td>dayofweek</td>\n",
              "      <td>0</td>\n",
              "      <td>41697600</td>\n",
              "      <td>0.00</td>\n",
              "    </tr>\n",
              "    <tr>\n",
              "      <th>18</th>\n",
              "      <td>month</td>\n",
              "      <td>0</td>\n",
              "      <td>41697600</td>\n",
              "      <td>0.00</td>\n",
              "    </tr>\n",
              "    <tr>\n",
              "      <th>19</th>\n",
              "      <td>dayofyear</td>\n",
              "      <td>0</td>\n",
              "      <td>41697600</td>\n",
              "      <td>0.00</td>\n",
              "    </tr>\n",
              "    <tr>\n",
              "      <th>20</th>\n",
              "      <td>day</td>\n",
              "      <td>0</td>\n",
              "      <td>41697600</td>\n",
              "      <td>0.00</td>\n",
              "    </tr>\n",
              "    <tr>\n",
              "      <th>21</th>\n",
              "      <td>year</td>\n",
              "      <td>0</td>\n",
              "      <td>41697600</td>\n",
              "      <td>0.00</td>\n",
              "    </tr>\n",
              "  </tbody>\n",
              "</table>\n",
              "</div>"
            ],
            "text/plain": [
              "           COLUMN NAME  MISSING VALUES  TOTAL ROWS  % MISSING\n",
              "0               row_id               0    41697600       0.00\n",
              "1          building_id               0    41697600       0.00\n",
              "2                meter               0    41697600       0.00\n",
              "3            timestamp               0    41697600       0.00\n",
              "4              site_id               0    41697600       0.00\n",
              "5          primary_use               0    41697600       0.00\n",
              "6          square_feet               0    41697600       0.00\n",
              "7           year_built        24598080    41697600      58.99\n",
              "8          floor_count        34444320    41697600      82.61\n",
              "9      air_temperature               0    41697600       0.00\n",
              "10      cloud_coverage               0    41697600       0.00\n",
              "11     dew_temperature               0    41697600       0.00\n",
              "12   precip_depth_1_hr               0    41697600       0.00\n",
              "13  sea_level_pressure               0    41697600       0.00\n",
              "14      wind_direction               0    41697600       0.00\n",
              "15          wind_speed               0    41697600       0.00\n",
              "16                hour               0    41697600       0.00\n",
              "17           dayofweek               0    41697600       0.00\n",
              "18               month               0    41697600       0.00\n",
              "19           dayofyear               0    41697600       0.00\n",
              "20                 day               0    41697600       0.00\n",
              "21                year               0    41697600       0.00"
            ]
          },
          "metadata": {
            "tags": []
          },
          "execution_count": 22
        }
      ]
    },
    {
      "cell_type": "markdown",
      "metadata": {
        "id": "N1TrrgQdjg3-"
      },
      "source": [
        "As you can see above two outputs the missing values are now becomes zero of the weather data for both train and test in my merge dataset now i fill the remaining missing values"
      ]
    },
    {
      "cell_type": "markdown",
      "metadata": {
        "id": "x2lHupBbjzoN"
      },
      "source": [
        "But as you can see in the above two outputs of missing data that the floor_count has greather than 80% missing values and year_built has greater than 58% of missing values so i have to drop it because more than 50% of my data is missing in these two feature but i drp the year_built and fill missing values of floor_count now you can raise another quetion why you try to imputing missing values for floor_count it is better to fill mssing vlues for year_built feature because it is have much less precentage of missing values than floor_count"
      ]
    },
    {
      "cell_type": "markdown",
      "metadata": {
        "id": "yoQY7g5gk4vq"
      },
      "source": [
        "And the answer is because floor_Count have a positive corelation with my actual target varial that is meter readind it might me useful to have in my dataset while on the other hand there is no positive relation of year_built with my target varaibale so i drop the year_built feature"
      ]
    },
    {
      "cell_type": "markdown",
      "metadata": {
        "id": "uG-xZcBMlS8Q"
      },
      "source": [
        "I shown below the correlation plot of my train_df"
      ]
    },
    {
      "cell_type": "code",
      "metadata": {
        "colab": {
          "base_uri": "https://localhost:8080/",
          "height": 1000
        },
        "id": "6xVE1AqxlbFN",
        "outputId": "2eab1322-43a9-4733-e0df-8978890bd9db"
      },
      "source": [
        "#https://heartbeat.fritz.ai/seaborn-heatmaps-13-ways-to-customize-correlation-matrix-visualizations-f1c49c816f07\n",
        "#Correlation Matrix\n",
        "plt.figure(figsize=(18,18))\n",
        "sns.heatmap(train_df.corr(), annot=True, fmt='.1g', vmin=-1, vmax=1, center=0, square=True, cmap='coolwarm')\n",
        "plt.title('Correlation Matrix')"
      ],
      "execution_count": null,
      "outputs": [
        {
          "output_type": "execute_result",
          "data": {
            "text/plain": [
              "Text(0.5, 1.0, 'Correlation Matrix')"
            ]
          },
          "metadata": {
            "tags": []
          },
          "execution_count": 23
        },
        {
          "output_type": "display_data",
          "data": {
            "image/png": "[encoded data removed]",
            "text/plain": [
              "<Figure size 1296x1296 with 2 Axes>"
            ]
          },
          "metadata": {
            "tags": [],
            "needs_background": "light"
          }
        }
      ]
    },
    {
      "cell_type": "markdown",
      "metadata": {
        "id": "fclvFHKImLWZ"
      },
      "source": [
        "As you can see there is postive relation between the floor_count with meter reading and meter both"
      ]
    },
    {
      "cell_type": "markdown",
      "metadata": {
        "id": "6kOzksC2md59"
      },
      "source": [
        "I filling this floor_count feature with model based imputation \n",
        "### Regression imputation\n",
        "Mean, median or mode imputation only look at the distribution of the values of the variable with missing entries. If we know there is a correlation between the missing value and other variables, we can often get better guesses by regressing the missing variable on other variables.\n"
      ]
    },
    {
      "cell_type": "markdown",
      "metadata": {
        "id": "Yeyo4NNygt-8"
      },
      "source": [
        "Regression based Imputation on train data"
      ]
    },
    {
      "cell_type": "code",
      "metadata": {
        "id": "nZezSPBon9Ky"
      },
      "source": [
        "df_floor_meter = train_df.dropna(axis=0, subset=[\"floor_count\", \"meter\"])\n",
        "df_floor_meter = df_floor_meter.loc[:, [\"floor_count\", \"meter\"]]\n"
      ],
      "execution_count": null,
      "outputs": []
    },
    {
      "cell_type": "code",
      "metadata": {
        "colab": {
          "base_uri": "https://localhost:8080/",
          "height": 204
        },
        "id": "0Yq4AfHQp9WV",
        "outputId": "6eaeb5c7-2b06-4277-9b0a-660726b4b40e"
      },
      "source": [
        "df_floor_meter.head()"
      ],
      "execution_count": null,
      "outputs": [
        {
          "output_type": "execute_result",
          "data": {
            "text/html": [
              "<div>\n",
              "<style scoped>\n",
              "    .dataframe tbody tr th:only-of-type {\n",
              "        vertical-align: middle;\n",
              "    }\n",
              "\n",
              "    .dataframe tbody tr th {\n",
              "        vertical-align: top;\n",
              "    }\n",
              "\n",
              "    .dataframe thead th {\n",
              "        text-align: right;\n",
              "    }\n",
              "</style>\n",
              "<table border=\"1\" class=\"dataframe\">\n",
              "  <thead>\n",
              "    <tr style=\"text-align: right;\">\n",
              "      <th></th>\n",
              "      <th>floor_count</th>\n",
              "      <th>meter</th>\n",
              "    </tr>\n",
              "  </thead>\n",
              "  <tbody>\n",
              "    <tr>\n",
              "      <th>103</th>\n",
              "      <td>5.0</td>\n",
              "      <td>0</td>\n",
              "    </tr>\n",
              "    <tr>\n",
              "      <th>104</th>\n",
              "      <td>4.0</td>\n",
              "      <td>0</td>\n",
              "    </tr>\n",
              "    <tr>\n",
              "      <th>105</th>\n",
              "      <td>4.0</td>\n",
              "      <td>3</td>\n",
              "    </tr>\n",
              "    <tr>\n",
              "      <th>106</th>\n",
              "      <td>10.0</td>\n",
              "      <td>0</td>\n",
              "    </tr>\n",
              "    <tr>\n",
              "      <th>107</th>\n",
              "      <td>5.0</td>\n",
              "      <td>0</td>\n",
              "    </tr>\n",
              "  </tbody>\n",
              "</table>\n",
              "</div>"
            ],
            "text/plain": [
              "     floor_count  meter\n",
              "103          5.0      0\n",
              "104          4.0      0\n",
              "105          4.0      3\n",
              "106         10.0      0\n",
              "107          5.0      0"
            ]
          },
          "metadata": {
            "tags": []
          },
          "execution_count": 24
        }
      ]
    },
    {
      "cell_type": "code",
      "metadata": {
        "colab": {
          "base_uri": "https://localhost:8080/"
        },
        "id": "RvvupWCxqmP3",
        "outputId": "2fc21d50-d3f1-4cc9-a7c1-cfb8363fcf09"
      },
      "source": [
        "df_floor_meter.shape"
      ],
      "execution_count": null,
      "outputs": [
        {
          "output_type": "execute_result",
          "data": {
            "text/plain": [
              "(3506933, 2)"
            ]
          },
          "metadata": {
            "tags": []
          },
          "execution_count": 25
        }
      ]
    },
    {
      "cell_type": "code",
      "metadata": {
        "id": "gDGhrnFNqpFN"
      },
      "source": [
        "missing_floor_count = train_df[\"floor_count\"].isnull()\n",
        "floor_meter_df = pd.DataFrame(train_df[\"meter\"][missing_floor_count])"
      ],
      "execution_count": null,
      "outputs": []
    },
    {
      "cell_type": "code",
      "metadata": {
        "colab": {
          "base_uri": "https://localhost:8080/"
        },
        "id": "kTYw-0MS2SQd",
        "outputId": "d509429c-f2cc-4c1d-a291-441f872ab100"
      },
      "source": [
        "len(missing_floor_count)"
      ],
      "execution_count": null,
      "outputs": [
        {
          "output_type": "execute_result",
          "data": {
            "text/plain": [
              "20216100"
            ]
          },
          "metadata": {
            "tags": []
          },
          "execution_count": 27
        }
      ]
    },
    {
      "cell_type": "code",
      "metadata": {
        "colab": {
          "base_uri": "https://localhost:8080/",
          "height": 204
        },
        "id": "JaCzUH7UqpIK",
        "outputId": "3c7eda6e-f5b6-4839-f86f-5a9141b1d22b"
      },
      "source": [
        "floor_meter_df.head()"
      ],
      "execution_count": null,
      "outputs": [
        {
          "output_type": "execute_result",
          "data": {
            "text/html": [
              "<div>\n",
              "<style scoped>\n",
              "    .dataframe tbody tr th:only-of-type {\n",
              "        vertical-align: middle;\n",
              "    }\n",
              "\n",
              "    .dataframe tbody tr th {\n",
              "        vertical-align: top;\n",
              "    }\n",
              "\n",
              "    .dataframe thead th {\n",
              "        text-align: right;\n",
              "    }\n",
              "</style>\n",
              "<table border=\"1\" class=\"dataframe\">\n",
              "  <thead>\n",
              "    <tr style=\"text-align: right;\">\n",
              "      <th></th>\n",
              "      <th>meter</th>\n",
              "    </tr>\n",
              "  </thead>\n",
              "  <tbody>\n",
              "    <tr>\n",
              "      <th>0</th>\n",
              "      <td>0</td>\n",
              "    </tr>\n",
              "    <tr>\n",
              "      <th>1</th>\n",
              "      <td>0</td>\n",
              "    </tr>\n",
              "    <tr>\n",
              "      <th>2</th>\n",
              "      <td>0</td>\n",
              "    </tr>\n",
              "    <tr>\n",
              "      <th>3</th>\n",
              "      <td>0</td>\n",
              "    </tr>\n",
              "    <tr>\n",
              "      <th>4</th>\n",
              "      <td>0</td>\n",
              "    </tr>\n",
              "  </tbody>\n",
              "</table>\n",
              "</div>"
            ],
            "text/plain": [
              "   meter\n",
              "0      0\n",
              "1      0\n",
              "2      0\n",
              "3      0\n",
              "4      0"
            ]
          },
          "metadata": {
            "tags": []
          },
          "execution_count": 28
        }
      ]
    },
    {
      "cell_type": "code",
      "metadata": {
        "colab": {
          "base_uri": "https://localhost:8080/"
        },
        "id": "ZGAXefyI2Vou",
        "outputId": "fd7969ea-5311-4b99-d530-b697b1a2e81f"
      },
      "source": [
        "floor_meter_df.shape"
      ],
      "execution_count": null,
      "outputs": [
        {
          "output_type": "execute_result",
          "data": {
            "text/plain": [
              "(16709167, 1)"
            ]
          },
          "metadata": {
            "tags": []
          },
          "execution_count": 29
        }
      ]
    },
    {
      "cell_type": "code",
      "metadata": {
        "id": "0ODCM8xPqpM4"
      },
      "source": [
        "X = df_floor_meter[\"meter\"]\n",
        "y = df_floor_meter[\"floor_count\"]"
      ],
      "execution_count": null,
      "outputs": []
    },
    {
      "cell_type": "code",
      "metadata": {
        "colab": {
          "base_uri": "https://localhost:8080/"
        },
        "id": "wzWgx19yqpRz",
        "outputId": "2ee4e3b1-8ffa-4782-dca0-251b4b16482a"
      },
      "source": [
        "X.shape, y.shape"
      ],
      "execution_count": null,
      "outputs": [
        {
          "output_type": "execute_result",
          "data": {
            "text/plain": [
              "((3506933,), (3506933,))"
            ]
          },
          "metadata": {
            "tags": []
          },
          "execution_count": 31
        }
      ]
    },
    {
      "cell_type": "code",
      "metadata": {
        "id": "tLR8VT4HreAr"
      },
      "source": [
        "from sklearn.model_selection import train_test_split\n",
        "X_train, X_test, y_train, y_test = train_test_split(X, y, test_size=0.2, random_state=101)"
      ],
      "execution_count": null,
      "outputs": []
    },
    {
      "cell_type": "code",
      "metadata": {
        "colab": {
          "base_uri": "https://localhost:8080/"
        },
        "id": "LM1eBEM-reDA",
        "outputId": "3bdba4df-6a2d-4041-b7c0-d872e7e6d69e"
      },
      "source": [
        "X_train.shape, X_test.shape, y_train.shape, y_test.shape"
      ],
      "execution_count": null,
      "outputs": [
        {
          "output_type": "execute_result",
          "data": {
            "text/plain": [
              "((2805546,), (701387,), (2805546,), (701387,))"
            ]
          },
          "metadata": {
            "tags": []
          },
          "execution_count": 33
        }
      ]
    },
    {
      "cell_type": "code",
      "metadata": {
        "id": "WGGrkdcdtSYp"
      },
      "source": [
        "X_train_array = np.array(X_train)\n",
        "y_train_array = np.array(y_train)"
      ],
      "execution_count": null,
      "outputs": []
    },
    {
      "cell_type": "code",
      "metadata": {
        "id": "X6XY2tNQsoUY"
      },
      "source": [
        "X_train_reshape = X_train_array.reshape(-1,1)\n",
        "y_train_reshape = y_train_array.reshape(-1,1)"
      ],
      "execution_count": null,
      "outputs": []
    },
    {
      "cell_type": "code",
      "metadata": {
        "id": "07EX_iL0reGs"
      },
      "source": [
        "from sklearn.linear_model import LinearRegression\n",
        "lm = LinearRegression().fit(X_train_reshape, y_train_reshape)\n",
        "floor_pred = lm.predict(floor_meter_df)"
      ],
      "execution_count": null,
      "outputs": []
    },
    {
      "cell_type": "code",
      "metadata": {
        "colab": {
          "base_uri": "https://localhost:8080/"
        },
        "id": "0Vcpe74gr7H3",
        "outputId": "edaa0e0f-cced-400c-90a7-515873478460"
      },
      "source": [
        "type(floor_pred)"
      ],
      "execution_count": null,
      "outputs": [
        {
          "output_type": "execute_result",
          "data": {
            "text/plain": [
              "numpy.ndarray"
            ]
          },
          "metadata": {
            "tags": []
          },
          "execution_count": 37
        }
      ]
    },
    {
      "cell_type": "code",
      "metadata": {
        "colab": {
          "base_uri": "https://localhost:8080/"
        },
        "id": "l8rmwTPvr7LL",
        "outputId": "fad5742c-683e-4094-c2bd-740f95c61672"
      },
      "source": [
        "len(floor_pred)"
      ],
      "execution_count": null,
      "outputs": [
        {
          "output_type": "execute_result",
          "data": {
            "text/plain": [
              "16709167"
            ]
          },
          "metadata": {
            "tags": []
          },
          "execution_count": 38
        }
      ]
    },
    {
      "cell_type": "code",
      "metadata": {
        "colab": {
          "base_uri": "https://localhost:8080/"
        },
        "id": "PpW9Ffu05bCt",
        "outputId": "c4c1c55f-8490-43e4-afd5-b5e4f1e7a2ae"
      },
      "source": [
        "floor_pred"
      ],
      "execution_count": null,
      "outputs": [
        {
          "output_type": "execute_result",
          "data": {
            "text/plain": [
              "array([[3.91261756],\n",
              "       [3.91261756],\n",
              "       [3.91261756],\n",
              "       ...,\n",
              "       [3.91261756],\n",
              "       [3.91261756],\n",
              "       [3.91261756]])"
            ]
          },
          "metadata": {
            "tags": []
          },
          "execution_count": 39
        }
      ]
    },
    {
      "cell_type": "code",
      "metadata": {
        "id": "nejyEt2D5yVA"
      },
      "source": [
        "floor_pred_flatten = (floor_pred).flatten()"
      ],
      "execution_count": null,
      "outputs": []
    },
    {
      "cell_type": "code",
      "metadata": {
        "id": "bUH9D-SV4bSV"
      },
      "source": [
        "floor_pred_dash = pd.Series(floor_pred_flatten) "
      ],
      "execution_count": null,
      "outputs": []
    },
    {
      "cell_type": "code",
      "metadata": {
        "colab": {
          "base_uri": "https://localhost:8080/"
        },
        "id": "m88VJkW5I5gN",
        "outputId": "e2242221-2619-453c-ccdd-8b7f8850bdb5"
      },
      "source": [
        "len(floor_pred_dash)"
      ],
      "execution_count": null,
      "outputs": [
        {
          "output_type": "execute_result",
          "data": {
            "text/plain": [
              "16709167"
            ]
          },
          "metadata": {
            "tags": []
          },
          "execution_count": 42
        }
      ]
    },
    {
      "cell_type": "code",
      "metadata": {
        "id": "xZ-2VmCj4L33"
      },
      "source": [
        "train_df.floor_count = floor_pred_dash"
      ],
      "execution_count": null,
      "outputs": []
    },
    {
      "cell_type": "code",
      "metadata": {
        "id": "fWDOnvShLH5J"
      },
      "source": [
        "train_df['floor_count'].fillna(train_df['floor_count'].median(), inplace=True)"
      ],
      "execution_count": null,
      "outputs": []
    },
    {
      "cell_type": "code",
      "metadata": {
        "colab": {
          "base_uri": "https://localhost:8080/",
          "height": 731
        },
        "id": "3jYKUlraLNDN",
        "outputId": "2a9b69ca-e273-48ca-d525-e428e320ba7d"
      },
      "source": [
        "missing_data_values(train_df)"
      ],
      "execution_count": null,
      "outputs": [
        {
          "output_type": "execute_result",
          "data": {
            "text/html": [
              "<div>\n",
              "<style scoped>\n",
              "    .dataframe tbody tr th:only-of-type {\n",
              "        vertical-align: middle;\n",
              "    }\n",
              "\n",
              "    .dataframe tbody tr th {\n",
              "        vertical-align: top;\n",
              "    }\n",
              "\n",
              "    .dataframe thead th {\n",
              "        text-align: right;\n",
              "    }\n",
              "</style>\n",
              "<table border=\"1\" class=\"dataframe\">\n",
              "  <thead>\n",
              "    <tr style=\"text-align: right;\">\n",
              "      <th></th>\n",
              "      <th>COLUMN NAME</th>\n",
              "      <th>MISSING VALUES</th>\n",
              "      <th>TOTAL ROWS</th>\n",
              "      <th>% MISSING</th>\n",
              "    </tr>\n",
              "  </thead>\n",
              "  <tbody>\n",
              "    <tr>\n",
              "      <th>0</th>\n",
              "      <td>building_id</td>\n",
              "      <td>0</td>\n",
              "      <td>20216100</td>\n",
              "      <td>0.00</td>\n",
              "    </tr>\n",
              "    <tr>\n",
              "      <th>1</th>\n",
              "      <td>meter</td>\n",
              "      <td>0</td>\n",
              "      <td>20216100</td>\n",
              "      <td>0.00</td>\n",
              "    </tr>\n",
              "    <tr>\n",
              "      <th>2</th>\n",
              "      <td>timestamp</td>\n",
              "      <td>0</td>\n",
              "      <td>20216100</td>\n",
              "      <td>0.00</td>\n",
              "    </tr>\n",
              "    <tr>\n",
              "      <th>3</th>\n",
              "      <td>meter_reading</td>\n",
              "      <td>0</td>\n",
              "      <td>20216100</td>\n",
              "      <td>0.00</td>\n",
              "    </tr>\n",
              "    <tr>\n",
              "      <th>4</th>\n",
              "      <td>site_id</td>\n",
              "      <td>0</td>\n",
              "      <td>20216100</td>\n",
              "      <td>0.00</td>\n",
              "    </tr>\n",
              "    <tr>\n",
              "      <th>5</th>\n",
              "      <td>primary_use</td>\n",
              "      <td>0</td>\n",
              "      <td>20216100</td>\n",
              "      <td>0.00</td>\n",
              "    </tr>\n",
              "    <tr>\n",
              "      <th>6</th>\n",
              "      <td>square_feet</td>\n",
              "      <td>0</td>\n",
              "      <td>20216100</td>\n",
              "      <td>0.00</td>\n",
              "    </tr>\n",
              "    <tr>\n",
              "      <th>7</th>\n",
              "      <td>year_built</td>\n",
              "      <td>12127645</td>\n",
              "      <td>20216100</td>\n",
              "      <td>59.99</td>\n",
              "    </tr>\n",
              "    <tr>\n",
              "      <th>8</th>\n",
              "      <td>floor_count</td>\n",
              "      <td>0</td>\n",
              "      <td>20216100</td>\n",
              "      <td>0.00</td>\n",
              "    </tr>\n",
              "    <tr>\n",
              "      <th>9</th>\n",
              "      <td>air_temperature</td>\n",
              "      <td>0</td>\n",
              "      <td>20216100</td>\n",
              "      <td>0.00</td>\n",
              "    </tr>\n",
              "    <tr>\n",
              "      <th>10</th>\n",
              "      <td>cloud_coverage</td>\n",
              "      <td>0</td>\n",
              "      <td>20216100</td>\n",
              "      <td>0.00</td>\n",
              "    </tr>\n",
              "    <tr>\n",
              "      <th>11</th>\n",
              "      <td>dew_temperature</td>\n",
              "      <td>0</td>\n",
              "      <td>20216100</td>\n",
              "      <td>0.00</td>\n",
              "    </tr>\n",
              "    <tr>\n",
              "      <th>12</th>\n",
              "      <td>precip_depth_1_hr</td>\n",
              "      <td>0</td>\n",
              "      <td>20216100</td>\n",
              "      <td>0.00</td>\n",
              "    </tr>\n",
              "    <tr>\n",
              "      <th>13</th>\n",
              "      <td>sea_level_pressure</td>\n",
              "      <td>0</td>\n",
              "      <td>20216100</td>\n",
              "      <td>0.00</td>\n",
              "    </tr>\n",
              "    <tr>\n",
              "      <th>14</th>\n",
              "      <td>wind_direction</td>\n",
              "      <td>0</td>\n",
              "      <td>20216100</td>\n",
              "      <td>0.00</td>\n",
              "    </tr>\n",
              "    <tr>\n",
              "      <th>15</th>\n",
              "      <td>wind_speed</td>\n",
              "      <td>0</td>\n",
              "      <td>20216100</td>\n",
              "      <td>0.00</td>\n",
              "    </tr>\n",
              "    <tr>\n",
              "      <th>16</th>\n",
              "      <td>hour</td>\n",
              "      <td>0</td>\n",
              "      <td>20216100</td>\n",
              "      <td>0.00</td>\n",
              "    </tr>\n",
              "    <tr>\n",
              "      <th>17</th>\n",
              "      <td>dayofweek</td>\n",
              "      <td>0</td>\n",
              "      <td>20216100</td>\n",
              "      <td>0.00</td>\n",
              "    </tr>\n",
              "    <tr>\n",
              "      <th>18</th>\n",
              "      <td>month</td>\n",
              "      <td>0</td>\n",
              "      <td>20216100</td>\n",
              "      <td>0.00</td>\n",
              "    </tr>\n",
              "    <tr>\n",
              "      <th>19</th>\n",
              "      <td>dayofyear</td>\n",
              "      <td>0</td>\n",
              "      <td>20216100</td>\n",
              "      <td>0.00</td>\n",
              "    </tr>\n",
              "    <tr>\n",
              "      <th>20</th>\n",
              "      <td>day</td>\n",
              "      <td>0</td>\n",
              "      <td>20216100</td>\n",
              "      <td>0.00</td>\n",
              "    </tr>\n",
              "    <tr>\n",
              "      <th>21</th>\n",
              "      <td>year</td>\n",
              "      <td>0</td>\n",
              "      <td>20216100</td>\n",
              "      <td>0.00</td>\n",
              "    </tr>\n",
              "  </tbody>\n",
              "</table>\n",
              "</div>"
            ],
            "text/plain": [
              "           COLUMN NAME  MISSING VALUES  TOTAL ROWS  % MISSING\n",
              "0          building_id               0    20216100       0.00\n",
              "1                meter               0    20216100       0.00\n",
              "2            timestamp               0    20216100       0.00\n",
              "3        meter_reading               0    20216100       0.00\n",
              "4              site_id               0    20216100       0.00\n",
              "5          primary_use               0    20216100       0.00\n",
              "6          square_feet               0    20216100       0.00\n",
              "7           year_built        12127645    20216100      59.99\n",
              "8          floor_count               0    20216100       0.00\n",
              "9      air_temperature               0    20216100       0.00\n",
              "10      cloud_coverage               0    20216100       0.00\n",
              "11     dew_temperature               0    20216100       0.00\n",
              "12   precip_depth_1_hr               0    20216100       0.00\n",
              "13  sea_level_pressure               0    20216100       0.00\n",
              "14      wind_direction               0    20216100       0.00\n",
              "15          wind_speed               0    20216100       0.00\n",
              "16                hour               0    20216100       0.00\n",
              "17           dayofweek               0    20216100       0.00\n",
              "18               month               0    20216100       0.00\n",
              "19           dayofyear               0    20216100       0.00\n",
              "20                 day               0    20216100       0.00\n",
              "21                year               0    20216100       0.00"
            ]
          },
          "metadata": {
            "tags": []
          },
          "execution_count": 48
        }
      ]
    },
    {
      "cell_type": "markdown",
      "metadata": {
        "id": "GS56Tkk6QIxy"
      },
      "source": [
        "Test data imputation with meter for floor count"
      ]
    },
    {
      "cell_type": "code",
      "metadata": {
        "id": "IS3YMj5nUA6y"
      },
      "source": [
        "df_floor_meter = test_df.dropna(axis=0, subset=[\"floor_count\", \"meter\"])\n",
        "df_floor_meter = df_floor_meter.loc[:, [\"floor_count\", \"meter\"]]\n"
      ],
      "execution_count": null,
      "outputs": []
    },
    {
      "cell_type": "code",
      "metadata": {
        "colab": {
          "base_uri": "https://localhost:8080/",
          "height": 204
        },
        "id": "Ij-oQ69iUA6z",
        "outputId": "d1ad520d-cbc9-4292-c6fc-2da8db5fb40a"
      },
      "source": [
        "df_floor_meter.head()"
      ],
      "execution_count": null,
      "outputs": [
        {
          "output_type": "execute_result",
          "data": {
            "text/html": [
              "<div>\n",
              "<style scoped>\n",
              "    .dataframe tbody tr th:only-of-type {\n",
              "        vertical-align: middle;\n",
              "    }\n",
              "\n",
              "    .dataframe tbody tr th {\n",
              "        vertical-align: top;\n",
              "    }\n",
              "\n",
              "    .dataframe thead th {\n",
              "        text-align: right;\n",
              "    }\n",
              "</style>\n",
              "<table border=\"1\" class=\"dataframe\">\n",
              "  <thead>\n",
              "    <tr style=\"text-align: right;\">\n",
              "      <th></th>\n",
              "      <th>floor_count</th>\n",
              "      <th>meter</th>\n",
              "    </tr>\n",
              "  </thead>\n",
              "  <tbody>\n",
              "    <tr>\n",
              "      <th>2260080</th>\n",
              "      <td>5.0</td>\n",
              "      <td>0</td>\n",
              "    </tr>\n",
              "    <tr>\n",
              "      <th>2260081</th>\n",
              "      <td>4.0</td>\n",
              "      <td>0</td>\n",
              "    </tr>\n",
              "    <tr>\n",
              "      <th>2260082</th>\n",
              "      <td>4.0</td>\n",
              "      <td>3</td>\n",
              "    </tr>\n",
              "    <tr>\n",
              "      <th>2260083</th>\n",
              "      <td>10.0</td>\n",
              "      <td>0</td>\n",
              "    </tr>\n",
              "    <tr>\n",
              "      <th>2260084</th>\n",
              "      <td>5.0</td>\n",
              "      <td>0</td>\n",
              "    </tr>\n",
              "  </tbody>\n",
              "</table>\n",
              "</div>"
            ],
            "text/plain": [
              "         floor_count  meter\n",
              "2260080          5.0      0\n",
              "2260081          4.0      0\n",
              "2260082          4.0      3\n",
              "2260083         10.0      0\n",
              "2260084          5.0      0"
            ]
          },
          "metadata": {
            "tags": []
          },
          "execution_count": 50
        }
      ]
    },
    {
      "cell_type": "code",
      "metadata": {
        "colab": {
          "base_uri": "https://localhost:8080/"
        },
        "id": "jZbWY3gxUA6z",
        "outputId": "d1a39189-791c-4a02-de84-cb5a41472856"
      },
      "source": [
        "df_floor_meter.shape"
      ],
      "execution_count": null,
      "outputs": [
        {
          "output_type": "execute_result",
          "data": {
            "text/plain": [
              "(7253280, 2)"
            ]
          },
          "metadata": {
            "tags": []
          },
          "execution_count": 51
        }
      ]
    },
    {
      "cell_type": "code",
      "metadata": {
        "id": "NBJ774tWUA6z"
      },
      "source": [
        "missing_floor_count = test_df[\"floor_count\"].isnull()\n",
        "floor_meter_df = pd.DataFrame(test_df[\"meter\"][missing_floor_count])"
      ],
      "execution_count": null,
      "outputs": []
    },
    {
      "cell_type": "code",
      "metadata": {
        "colab": {
          "base_uri": "https://localhost:8080/"
        },
        "id": "5a4ngnpuUA6z",
        "outputId": "aba4bcbf-ca70-4e8c-9956-b59f0de6ece0"
      },
      "source": [
        "len(missing_floor_count)"
      ],
      "execution_count": null,
      "outputs": [
        {
          "output_type": "execute_result",
          "data": {
            "text/plain": [
              "41697600"
            ]
          },
          "metadata": {
            "tags": []
          },
          "execution_count": 53
        }
      ]
    },
    {
      "cell_type": "code",
      "metadata": {
        "colab": {
          "base_uri": "https://localhost:8080/",
          "height": 204
        },
        "id": "JOQ9xIhxUA6z",
        "outputId": "66da3d31-ed09-4a9d-8018-7fc55f2ae9c0"
      },
      "source": [
        "floor_meter_df.head()"
      ],
      "execution_count": null,
      "outputs": [
        {
          "output_type": "execute_result",
          "data": {
            "text/html": [
              "<div>\n",
              "<style scoped>\n",
              "    .dataframe tbody tr th:only-of-type {\n",
              "        vertical-align: middle;\n",
              "    }\n",
              "\n",
              "    .dataframe tbody tr th {\n",
              "        vertical-align: top;\n",
              "    }\n",
              "\n",
              "    .dataframe thead th {\n",
              "        text-align: right;\n",
              "    }\n",
              "</style>\n",
              "<table border=\"1\" class=\"dataframe\">\n",
              "  <thead>\n",
              "    <tr style=\"text-align: right;\">\n",
              "      <th></th>\n",
              "      <th>meter</th>\n",
              "    </tr>\n",
              "  </thead>\n",
              "  <tbody>\n",
              "    <tr>\n",
              "      <th>0</th>\n",
              "      <td>0</td>\n",
              "    </tr>\n",
              "    <tr>\n",
              "      <th>1</th>\n",
              "      <td>0</td>\n",
              "    </tr>\n",
              "    <tr>\n",
              "      <th>2</th>\n",
              "      <td>0</td>\n",
              "    </tr>\n",
              "    <tr>\n",
              "      <th>3</th>\n",
              "      <td>0</td>\n",
              "    </tr>\n",
              "    <tr>\n",
              "      <th>4</th>\n",
              "      <td>0</td>\n",
              "    </tr>\n",
              "  </tbody>\n",
              "</table>\n",
              "</div>"
            ],
            "text/plain": [
              "   meter\n",
              "0      0\n",
              "1      0\n",
              "2      0\n",
              "3      0\n",
              "4      0"
            ]
          },
          "metadata": {
            "tags": []
          },
          "execution_count": 54
        }
      ]
    },
    {
      "cell_type": "code",
      "metadata": {
        "colab": {
          "base_uri": "https://localhost:8080/"
        },
        "id": "iivHsi2yUA60",
        "outputId": "0969a315-64ae-4a73-dfe2-f90b149d29d5"
      },
      "source": [
        "floor_meter_df.shape"
      ],
      "execution_count": null,
      "outputs": [
        {
          "output_type": "execute_result",
          "data": {
            "text/plain": [
              "(34444320, 1)"
            ]
          },
          "metadata": {
            "tags": []
          },
          "execution_count": 55
        }
      ]
    },
    {
      "cell_type": "code",
      "metadata": {
        "id": "-Qrkr6eXUA60"
      },
      "source": [
        "X = df_floor_meter[\"meter\"]\n",
        "y = df_floor_meter[\"floor_count\"]"
      ],
      "execution_count": null,
      "outputs": []
    },
    {
      "cell_type": "code",
      "metadata": {
        "colab": {
          "base_uri": "https://localhost:8080/"
        },
        "id": "0FFSgPUGUA60",
        "outputId": "4cd1ab5c-2b41-41cd-cb26-cfe3f4e52954"
      },
      "source": [
        "X.shape, y.shape"
      ],
      "execution_count": null,
      "outputs": [
        {
          "output_type": "execute_result",
          "data": {
            "text/plain": [
              "((7253280,), (7253280,))"
            ]
          },
          "metadata": {
            "tags": []
          },
          "execution_count": 57
        }
      ]
    },
    {
      "cell_type": "code",
      "metadata": {
        "id": "ZuHRrnYDUA60"
      },
      "source": [
        "from sklearn.model_selection import train_test_split\n",
        "X_train, X_test, y_train, y_test = train_test_split(X, y, test_size=0.2, random_state=101)"
      ],
      "execution_count": null,
      "outputs": []
    },
    {
      "cell_type": "code",
      "metadata": {
        "colab": {
          "base_uri": "https://localhost:8080/"
        },
        "id": "ezG08hU9UA60",
        "outputId": "d3f05279-da5e-417d-a38c-aa11129e8479"
      },
      "source": [
        "X_train.shape, X_test.shape, y_train.shape, y_test.shape"
      ],
      "execution_count": null,
      "outputs": [
        {
          "output_type": "execute_result",
          "data": {
            "text/plain": [
              "((5802624,), (1450656,), (5802624,), (1450656,))"
            ]
          },
          "metadata": {
            "tags": []
          },
          "execution_count": 59
        }
      ]
    },
    {
      "cell_type": "code",
      "metadata": {
        "id": "c_QdKopSUA60"
      },
      "source": [
        "X_train_array = np.array(X_train)\n",
        "y_train_array = np.array(y_train)"
      ],
      "execution_count": null,
      "outputs": []
    },
    {
      "cell_type": "code",
      "metadata": {
        "id": "jS6gqtTpUA60"
      },
      "source": [
        "X_train_reshape = X_train_array.reshape(-1,1)\n",
        "y_train_reshape = y_train_array.reshape(-1,1)"
      ],
      "execution_count": null,
      "outputs": []
    },
    {
      "cell_type": "code",
      "metadata": {
        "id": "WTK8DB5SUA61"
      },
      "source": [
        "from sklearn.linear_model import LinearRegression\n",
        "lm = LinearRegression().fit(X_train_reshape, y_train_reshape)\n",
        "floor_pred = lm.predict(floor_meter_df)"
      ],
      "execution_count": null,
      "outputs": []
    },
    {
      "cell_type": "code",
      "metadata": {
        "colab": {
          "base_uri": "https://localhost:8080/"
        },
        "id": "VquRhMdgUA61",
        "outputId": "0b94480d-7823-4b47-dc73-4870c36fcd74"
      },
      "source": [
        "type(floor_pred)"
      ],
      "execution_count": null,
      "outputs": [
        {
          "output_type": "execute_result",
          "data": {
            "text/plain": [
              "numpy.ndarray"
            ]
          },
          "metadata": {
            "tags": []
          },
          "execution_count": 63
        }
      ]
    },
    {
      "cell_type": "code",
      "metadata": {
        "colab": {
          "base_uri": "https://localhost:8080/"
        },
        "id": "1mHTZfIqUA61",
        "outputId": "ba6c2bf7-305f-478c-cbbe-a850e2de14d6"
      },
      "source": [
        "len(floor_pred)"
      ],
      "execution_count": null,
      "outputs": [
        {
          "output_type": "execute_result",
          "data": {
            "text/plain": [
              "34444320"
            ]
          },
          "metadata": {
            "tags": []
          },
          "execution_count": 64
        }
      ]
    },
    {
      "cell_type": "code",
      "metadata": {
        "colab": {
          "base_uri": "https://localhost:8080/"
        },
        "id": "WHpDsSkBUA61",
        "outputId": "0f2d71a7-cc68-458b-8be5-6b6cc96e7d25"
      },
      "source": [
        "floor_pred"
      ],
      "execution_count": null,
      "outputs": [
        {
          "output_type": "execute_result",
          "data": {
            "text/plain": [
              "array([[3.8494514],\n",
              "       [3.8494514],\n",
              "       [3.8494514],\n",
              "       ...,\n",
              "       [3.8494514],\n",
              "       [3.8494514],\n",
              "       [3.8494514]])"
            ]
          },
          "metadata": {
            "tags": []
          },
          "execution_count": 65
        }
      ]
    },
    {
      "cell_type": "code",
      "metadata": {
        "id": "Ypm3bihbUA62"
      },
      "source": [
        "floor_pred_flatten = (floor_pred).flatten()"
      ],
      "execution_count": null,
      "outputs": []
    },
    {
      "cell_type": "code",
      "metadata": {
        "id": "SNSsnf8IUA63"
      },
      "source": [
        "floor_pred_dash = pd.Series(floor_pred_flatten) "
      ],
      "execution_count": null,
      "outputs": []
    },
    {
      "cell_type": "code",
      "metadata": {
        "colab": {
          "base_uri": "https://localhost:8080/"
        },
        "id": "Y5DcGzS8UA63",
        "outputId": "52c966e5-5e08-43d8-f9c8-bd61355f4565"
      },
      "source": [
        "len(floor_pred_dash)"
      ],
      "execution_count": null,
      "outputs": [
        {
          "output_type": "execute_result",
          "data": {
            "text/plain": [
              "34444320"
            ]
          },
          "metadata": {
            "tags": []
          },
          "execution_count": 68
        }
      ]
    },
    {
      "cell_type": "code",
      "metadata": {
        "id": "fcf2DWSZUA63"
      },
      "source": [
        "test_df.floor_count = floor_pred_dash"
      ],
      "execution_count": null,
      "outputs": []
    },
    {
      "cell_type": "code",
      "metadata": {
        "id": "7SuJStaVUA64"
      },
      "source": [
        "test_df['floor_count'].fillna(test_df['floor_count'].median(), inplace=True)"
      ],
      "execution_count": null,
      "outputs": []
    },
    {
      "cell_type": "code",
      "metadata": {
        "colab": {
          "base_uri": "https://localhost:8080/",
          "height": 731
        },
        "id": "YUDHLmBnUA64",
        "outputId": "74be4aeb-877e-48ee-cf0f-dd8c1254fdfb"
      },
      "source": [
        "missing_data_values(test_df)"
      ],
      "execution_count": null,
      "outputs": [
        {
          "output_type": "execute_result",
          "data": {
            "text/html": [
              "<div>\n",
              "<style scoped>\n",
              "    .dataframe tbody tr th:only-of-type {\n",
              "        vertical-align: middle;\n",
              "    }\n",
              "\n",
              "    .dataframe tbody tr th {\n",
              "        vertical-align: top;\n",
              "    }\n",
              "\n",
              "    .dataframe thead th {\n",
              "        text-align: right;\n",
              "    }\n",
              "</style>\n",
              "<table border=\"1\" class=\"dataframe\">\n",
              "  <thead>\n",
              "    <tr style=\"text-align: right;\">\n",
              "      <th></th>\n",
              "      <th>COLUMN NAME</th>\n",
              "      <th>MISSING VALUES</th>\n",
              "      <th>TOTAL ROWS</th>\n",
              "      <th>% MISSING</th>\n",
              "    </tr>\n",
              "  </thead>\n",
              "  <tbody>\n",
              "    <tr>\n",
              "      <th>0</th>\n",
              "      <td>row_id</td>\n",
              "      <td>0</td>\n",
              "      <td>41697600</td>\n",
              "      <td>0.00</td>\n",
              "    </tr>\n",
              "    <tr>\n",
              "      <th>1</th>\n",
              "      <td>building_id</td>\n",
              "      <td>0</td>\n",
              "      <td>41697600</td>\n",
              "      <td>0.00</td>\n",
              "    </tr>\n",
              "    <tr>\n",
              "      <th>2</th>\n",
              "      <td>meter</td>\n",
              "      <td>0</td>\n",
              "      <td>41697600</td>\n",
              "      <td>0.00</td>\n",
              "    </tr>\n",
              "    <tr>\n",
              "      <th>3</th>\n",
              "      <td>timestamp</td>\n",
              "      <td>0</td>\n",
              "      <td>41697600</td>\n",
              "      <td>0.00</td>\n",
              "    </tr>\n",
              "    <tr>\n",
              "      <th>4</th>\n",
              "      <td>site_id</td>\n",
              "      <td>0</td>\n",
              "      <td>41697600</td>\n",
              "      <td>0.00</td>\n",
              "    </tr>\n",
              "    <tr>\n",
              "      <th>5</th>\n",
              "      <td>primary_use</td>\n",
              "      <td>0</td>\n",
              "      <td>41697600</td>\n",
              "      <td>0.00</td>\n",
              "    </tr>\n",
              "    <tr>\n",
              "      <th>6</th>\n",
              "      <td>square_feet</td>\n",
              "      <td>0</td>\n",
              "      <td>41697600</td>\n",
              "      <td>0.00</td>\n",
              "    </tr>\n",
              "    <tr>\n",
              "      <th>7</th>\n",
              "      <td>year_built</td>\n",
              "      <td>24598080</td>\n",
              "      <td>41697600</td>\n",
              "      <td>58.99</td>\n",
              "    </tr>\n",
              "    <tr>\n",
              "      <th>8</th>\n",
              "      <td>floor_count</td>\n",
              "      <td>0</td>\n",
              "      <td>41697600</td>\n",
              "      <td>0.00</td>\n",
              "    </tr>\n",
              "    <tr>\n",
              "      <th>9</th>\n",
              "      <td>air_temperature</td>\n",
              "      <td>0</td>\n",
              "      <td>41697600</td>\n",
              "      <td>0.00</td>\n",
              "    </tr>\n",
              "    <tr>\n",
              "      <th>10</th>\n",
              "      <td>cloud_coverage</td>\n",
              "      <td>0</td>\n",
              "      <td>41697600</td>\n",
              "      <td>0.00</td>\n",
              "    </tr>\n",
              "    <tr>\n",
              "      <th>11</th>\n",
              "      <td>dew_temperature</td>\n",
              "      <td>0</td>\n",
              "      <td>41697600</td>\n",
              "      <td>0.00</td>\n",
              "    </tr>\n",
              "    <tr>\n",
              "      <th>12</th>\n",
              "      <td>precip_depth_1_hr</td>\n",
              "      <td>0</td>\n",
              "      <td>41697600</td>\n",
              "      <td>0.00</td>\n",
              "    </tr>\n",
              "    <tr>\n",
              "      <th>13</th>\n",
              "      <td>sea_level_pressure</td>\n",
              "      <td>0</td>\n",
              "      <td>41697600</td>\n",
              "      <td>0.00</td>\n",
              "    </tr>\n",
              "    <tr>\n",
              "      <th>14</th>\n",
              "      <td>wind_direction</td>\n",
              "      <td>0</td>\n",
              "      <td>41697600</td>\n",
              "      <td>0.00</td>\n",
              "    </tr>\n",
              "    <tr>\n",
              "      <th>15</th>\n",
              "      <td>wind_speed</td>\n",
              "      <td>0</td>\n",
              "      <td>41697600</td>\n",
              "      <td>0.00</td>\n",
              "    </tr>\n",
              "    <tr>\n",
              "      <th>16</th>\n",
              "      <td>hour</td>\n",
              "      <td>0</td>\n",
              "      <td>41697600</td>\n",
              "      <td>0.00</td>\n",
              "    </tr>\n",
              "    <tr>\n",
              "      <th>17</th>\n",
              "      <td>dayofweek</td>\n",
              "      <td>0</td>\n",
              "      <td>41697600</td>\n",
              "      <td>0.00</td>\n",
              "    </tr>\n",
              "    <tr>\n",
              "      <th>18</th>\n",
              "      <td>month</td>\n",
              "      <td>0</td>\n",
              "      <td>41697600</td>\n",
              "      <td>0.00</td>\n",
              "    </tr>\n",
              "    <tr>\n",
              "      <th>19</th>\n",
              "      <td>dayofyear</td>\n",
              "      <td>0</td>\n",
              "      <td>41697600</td>\n",
              "      <td>0.00</td>\n",
              "    </tr>\n",
              "    <tr>\n",
              "      <th>20</th>\n",
              "      <td>day</td>\n",
              "      <td>0</td>\n",
              "      <td>41697600</td>\n",
              "      <td>0.00</td>\n",
              "    </tr>\n",
              "    <tr>\n",
              "      <th>21</th>\n",
              "      <td>year</td>\n",
              "      <td>0</td>\n",
              "      <td>41697600</td>\n",
              "      <td>0.00</td>\n",
              "    </tr>\n",
              "  </tbody>\n",
              "</table>\n",
              "</div>"
            ],
            "text/plain": [
              "           COLUMN NAME  MISSING VALUES  TOTAL ROWS  % MISSING\n",
              "0               row_id               0    41697600       0.00\n",
              "1          building_id               0    41697600       0.00\n",
              "2                meter               0    41697600       0.00\n",
              "3            timestamp               0    41697600       0.00\n",
              "4              site_id               0    41697600       0.00\n",
              "5          primary_use               0    41697600       0.00\n",
              "6          square_feet               0    41697600       0.00\n",
              "7           year_built        24598080    41697600      58.99\n",
              "8          floor_count               0    41697600       0.00\n",
              "9      air_temperature               0    41697600       0.00\n",
              "10      cloud_coverage               0    41697600       0.00\n",
              "11     dew_temperature               0    41697600       0.00\n",
              "12   precip_depth_1_hr               0    41697600       0.00\n",
              "13  sea_level_pressure               0    41697600       0.00\n",
              "14      wind_direction               0    41697600       0.00\n",
              "15          wind_speed               0    41697600       0.00\n",
              "16                hour               0    41697600       0.00\n",
              "17           dayofweek               0    41697600       0.00\n",
              "18               month               0    41697600       0.00\n",
              "19           dayofyear               0    41697600       0.00\n",
              "20                 day               0    41697600       0.00\n",
              "21                year               0    41697600       0.00"
            ]
          },
          "metadata": {
            "tags": []
          },
          "execution_count": 71
        }
      ]
    },
    {
      "cell_type": "markdown",
      "metadata": {
        "id": "oGRcHQWWIgqZ"
      },
      "source": [
        "As you can see the floor_count fetaure for both train and test is now become zero i drop the built year feature because there is no positive relation with the target variable"
      ]
    },
    {
      "cell_type": "markdown",
      "metadata": {
        "id": "ts5yURoVA1yy"
      },
      "source": [
        "remove outliers"
      ]
    },
    {
      "cell_type": "markdown",
      "metadata": {
        "id": "e0mFi6T9CZfW"
      },
      "source": [
        "first remove the building id == 1099 as seen in the eda it is an outlier"
      ]
    },
    {
      "cell_type": "code",
      "metadata": {
        "colab": {
          "base_uri": "https://localhost:8080/"
        },
        "id": "eOXgCgP2Fljs",
        "outputId": "fe7752df-68be-4346-c166-006bfd9ca374"
      },
      "source": [
        "building_1099_index = list(train_df[train_df.building_id == 1099].index)\n",
        "len(building_1099_index)"
      ],
      "execution_count": null,
      "outputs": [
        {
          "output_type": "execute_result",
          "data": {
            "text/plain": [
              "17566"
            ]
          },
          "metadata": {
            "tags": []
          },
          "execution_count": 72
        }
      ]
    },
    {
      "cell_type": "code",
      "metadata": {
        "id": "k0objikJHWi8"
      },
      "source": [
        "train_df.drop(building_1099_index, axis=0, inplace=True)"
      ],
      "execution_count": null,
      "outputs": []
    },
    {
      "cell_type": "markdown",
      "metadata": {
        "id": "RGLwIxOwIEno"
      },
      "source": [
        "remove 0 meter reading "
      ]
    },
    {
      "cell_type": "code",
      "metadata": {
        "id": "333XSDG9h-PR"
      },
      "source": [
        "train_df.meter_reading =  np.log1p(train_df.meter_reading)"
      ],
      "execution_count": null,
      "outputs": []
    },
    {
      "cell_type": "code",
      "metadata": {
        "id": "CsQYbyxSH6Ty"
      },
      "source": [
        "zero_meter_readings= list(train_df[train_df['meter_reading']==0.0].index)\n",
        "train_df.drop(zero_meter_readings, axis=0, inplace=True)"
      ],
      "execution_count": null,
      "outputs": []
    },
    {
      "cell_type": "code",
      "metadata": {
        "colab": {
          "base_uri": "https://localhost:8080/"
        },
        "id": "wsfh6Xm9IUrN",
        "outputId": "2d02ad33-141c-4abe-9ecd-bd20c19cc39b"
      },
      "source": [
        "train_df.isnull().sum() * 100 / train_df.shape[0]"
      ],
      "execution_count": null,
      "outputs": [
        {
          "output_type": "execute_result",
          "data": {
            "text/plain": [
              "building_id            0.00000\n",
              "meter                  0.00000\n",
              "timestamp              0.00000\n",
              "meter_reading          0.00000\n",
              "site_id                0.00000\n",
              "primary_use            0.00000\n",
              "square_feet            0.00000\n",
              "year_built            60.11793\n",
              "floor_count            0.00000\n",
              "air_temperature        0.00000\n",
              "cloud_coverage         0.00000\n",
              "dew_temperature        0.00000\n",
              "precip_depth_1_hr      0.00000\n",
              "sea_level_pressure     0.00000\n",
              "wind_direction         0.00000\n",
              "wind_speed             0.00000\n",
              "hour                   0.00000\n",
              "dayofweek              0.00000\n",
              "month                  0.00000\n",
              "dayofyear              0.00000\n",
              "day                    0.00000\n",
              "year                   0.00000\n",
              "dtype: float64"
            ]
          },
          "metadata": {
            "tags": []
          },
          "execution_count": 76
        }
      ]
    },
    {
      "cell_type": "code",
      "metadata": {
        "colab": {
          "base_uri": "https://localhost:8080/"
        },
        "id": "DV6WZBvXItLz",
        "outputId": "a3193d61-81ca-4bc6-d40c-201d138089de"
      },
      "source": [
        "test_df.isnull().sum() * 100 / test_df.shape[0]"
      ],
      "execution_count": null,
      "outputs": [
        {
          "output_type": "execute_result",
          "data": {
            "text/plain": [
              "row_id                 0.000000\n",
              "building_id            0.000000\n",
              "meter                  0.000000\n",
              "timestamp              0.000000\n",
              "site_id                0.000000\n",
              "primary_use            0.000000\n",
              "square_feet            0.000000\n",
              "year_built            58.991597\n",
              "floor_count            0.000000\n",
              "air_temperature        0.000000\n",
              "cloud_coverage         0.000000\n",
              "dew_temperature        0.000000\n",
              "precip_depth_1_hr      0.000000\n",
              "sea_level_pressure     0.000000\n",
              "wind_direction         0.000000\n",
              "wind_speed             0.000000\n",
              "hour                   0.000000\n",
              "dayofweek              0.000000\n",
              "month                  0.000000\n",
              "dayofyear              0.000000\n",
              "day                    0.000000\n",
              "year                   0.000000\n",
              "dtype: float64"
            ]
          },
          "metadata": {
            "tags": []
          },
          "execution_count": 77
        }
      ]
    },
    {
      "cell_type": "markdown",
      "metadata": {
        "id": "48Gzy_glJUj-"
      },
      "source": [
        "As the year built have more than 50% values are missing, so we will drop these two columns."
      ]
    },
    {
      "cell_type": "code",
      "metadata": {
        "id": "Yq9in964bBfN"
      },
      "source": [
        "train_df.drop(['year_built'], axis=1,inplace=True)"
      ],
      "execution_count": null,
      "outputs": []
    },
    {
      "cell_type": "code",
      "metadata": {
        "id": "KqH8E3dhbBmk"
      },
      "source": [
        "test_df.drop(['year_built'], axis=1,inplace=True)"
      ],
      "execution_count": null,
      "outputs": []
    },
    {
      "cell_type": "code",
      "metadata": {
        "colab": {
          "base_uri": "https://localhost:8080/"
        },
        "id": "ypmDISzdJagL",
        "outputId": "6c085bfc-47fc-4dcf-e92a-3acff57abe0b"
      },
      "source": [
        "train_df.columns"
      ],
      "execution_count": null,
      "outputs": [
        {
          "output_type": "execute_result",
          "data": {
            "text/plain": [
              "Index(['building_id', 'meter', 'timestamp', 'meter_reading', 'site_id',\n",
              "       'primary_use', 'square_feet', 'floor_count', 'air_temperature',\n",
              "       'cloud_coverage', 'dew_temperature', 'precip_depth_1_hr',\n",
              "       'sea_level_pressure', 'wind_direction', 'wind_speed', 'hour',\n",
              "       'dayofweek', 'month', 'dayofyear', 'day', 'year'],\n",
              "      dtype='object')"
            ]
          },
          "metadata": {
            "tags": []
          },
          "execution_count": 80
        }
      ]
    },
    {
      "cell_type": "code",
      "metadata": {
        "colab": {
          "base_uri": "https://localhost:8080/"
        },
        "id": "ImDuf9-jJdBT",
        "outputId": "e102ce5a-1f06-46c3-c3e9-321af3a86298"
      },
      "source": [
        "test_df.columns"
      ],
      "execution_count": null,
      "outputs": [
        {
          "output_type": "execute_result",
          "data": {
            "text/plain": [
              "Index(['row_id', 'building_id', 'meter', 'timestamp', 'site_id', 'primary_use',\n",
              "       'square_feet', 'floor_count', 'air_temperature', 'cloud_coverage',\n",
              "       'dew_temperature', 'precip_depth_1_hr', 'sea_level_pressure',\n",
              "       'wind_direction', 'wind_speed', 'hour', 'dayofweek', 'month',\n",
              "       'dayofyear', 'day', 'year'],\n",
              "      dtype='object')"
            ]
          },
          "metadata": {
            "tags": []
          },
          "execution_count": 81
        }
      ]
    },
    {
      "cell_type": "markdown",
      "metadata": {
        "id": "m8q_pav1J7hU"
      },
      "source": [
        "Feature engineering"
      ]
    },
    {
      "cell_type": "markdown",
      "metadata": {
        "id": "0e6U-KVVVkZK"
      },
      "source": [
        "1. latitude dict fetaure is taken from the discussion  https://www.kaggle.com/c/ashrae-energy-prediction/discussion/124984 \n",
        "2.is holiday feature is common feature by reading the kaggle discussion that's why i taken it here  https://www.kaggle.com/c/ashrae-energy-prediction/discussion/116401\n",
        "3. I come up it realtive humidity feature is because there is very sttrong positive correlation between the dew temperature and air temperature as i shown it above in the correlqation matrix i want some feature that includes both the dew temperature and the air temperature into one \n",
        "4.I came up with another fetaure with can use floor count and sqaure feet there is also very strong positive correlation bertween them\n",
        "sqaure_feet * floor_count which tells me that square feet is most likely the ground floor area of the buiding not he total sqaure footage of the building\n",
        "i came up with the feature of square_footage = sqaure_feet*floor_count\n",
        "is basically gice the area of the buiding like length * width"
      ]
    },
    {
      "cell_type": "code",
      "metadata": {
        "id": "K7v_1U0QV0j3"
      },
      "source": [
        "\n",
        "def features_engineering(df):\n",
        "    \n",
        "    # Sort by timestamp\n",
        "    df.sort_values(\"timestamp\")\n",
        "    df.reset_index(drop=True)\n",
        "\n",
        "    \"\"\"\n",
        "    \"It is supposed to calculate the solar horizontal radiation coming into the building\"\n",
        "    \"\"\"\n",
        "    \n",
        "    latitude_dict = {0 :28.5383,\n",
        "                    1 :50.9097,\n",
        "                    2 :33.4255,\n",
        "                    3 :38.9072,\n",
        "                    4 :37.8715,\n",
        "                    5 :50.9097,\n",
        "                    6 :40.7128,\n",
        "                    7 :45.4215,\n",
        "                    8 :28.5383,\n",
        "                    9 :30.2672,\n",
        "                    10 :40.10677,\n",
        "                    11 :45.4215,\n",
        "                    12 :53.3498,\n",
        "                    13 :44.9375,\n",
        "                    14 :38.0293,\n",
        "                    15: 40.7128}\n",
        "\n",
        "    df['latitude'] = df['site_id'].map(latitude_dict)\n",
        "    df['solarHour'] = (df['hour']-12)*15 # to be removed\n",
        "    df['solarDec'] = -23.45*np.cos(np.deg2rad(360*(df['day']+10)/365)) # to be removed\n",
        "    df['horizsolar'] = np.cos(np.deg2rad(df['solarHour']))*np.cos(np.deg2rad(df['solarDec']))*np.cos(np.deg2rad(df['latitude'])) + np.sin(np.deg2rad(df['solarDec']))*np.sin(np.deg2rad(df['latitude']))\n",
        "    df['horizsolar'] = df['horizsolar'].apply(lambda x: 0 if x <0 else x)\n",
        "    \n",
        "    # Add more features\n",
        "    holidays = [\"2016-01-01\", \"2016-01-18\", \"2016-02-15\", \"2016-05-30\", \"2016-07-04\",\n",
        "                    \"2016-09-05\", \"2016-10-10\", \"2016-11-11\", \"2016-11-24\", \"2016-12-26\",\n",
        "                    \"2017-01-02\", \"2017-01-16\", \"2017-02-20\", \"2017-05-29\", \"2017-07-04\",\n",
        "                    \"2017-09-04\", \"2017-10-09\", \"2017-11-10\", \"2017-11-23\", \"2017-12-25\",\n",
        "                    \"2018-01-01\", \"2018-01-15\", \"2018-02-19\", \"2018-05-28\", \"2018-07-04\",\n",
        "                    \"2018-09-03\", \"2018-10-08\", \"2018-11-12\", \"2018-11-22\", \"2018-12-25\",\n",
        "                    \"2019-01-01\"]\n",
        "    df[\"is_holiday\"] = (df.timestamp.isin(holidays)).astype(int)\n",
        "    df['square_feet'] =  np.log1p(df['square_feet'])\n",
        "    df[\"sqaure_footage\"] = df.square_feet * df.floor_count\n",
        "\n",
        "    df['relative_humidity']= 100*((np.exp((17.67*df['dew_temperature'])/\n",
        "                                            (243.5+df['dew_temperature'])))/(np.exp((17.67*df['air_temperature'])/\n",
        "                                                                                          (243.5+df['air_temperature']))))\n",
        "    \n",
        "    # Remove Unused Columns\n",
        "    drop = [\"timestamp\",\"sea_level_pressure\", \"wind_direction\", \"wind_speed\"]\n",
        "    df = df.drop(drop, axis=1)\n",
        "    gc.collect()\n",
        "    \n",
        "    # Encode Categorical Data\n",
        "    le = LabelEncoder()\n",
        "    df[\"primary_use\"] = le.fit_transform(df[\"primary_use\"])\n",
        "    \n",
        "    return df"
      ],
      "execution_count": null,
      "outputs": []
    },
    {
      "cell_type": "code",
      "metadata": {
        "colab": {
          "base_uri": "https://localhost:8080/"
        },
        "id": "psg_ejEiZO2D",
        "outputId": "3e591838-1935-4c76-e233-967da46423cd"
      },
      "source": [
        "train_df.columns"
      ],
      "execution_count": null,
      "outputs": [
        {
          "output_type": "execute_result",
          "data": {
            "text/plain": [
              "Index(['index', 'building_id', 'meter', 'meter_reading', 'site_id',\n",
              "       'primary_use', 'square_feet', 'floor_count', 'air_temperature',\n",
              "       'cloud_coverage', 'dew_temperature', 'precip_depth_1_hr', 'hour',\n",
              "       'dayofweek', 'month', 'dayofyear', 'day', 'year', 'latitude',\n",
              "       'solarHour', 'solarDec', 'horizsolar', 'is_holiday',\n",
              "       'relative_humidity'],\n",
              "      dtype='object')"
            ]
          },
          "metadata": {
            "tags": []
          },
          "execution_count": 92
        }
      ]
    },
    {
      "cell_type": "code",
      "metadata": {
        "colab": {
          "base_uri": "https://localhost:8080/",
          "height": 224
        },
        "id": "fpEw_cwCZaVb",
        "outputId": "d0daf426-7440-4461-cd35-88cd73b549be"
      },
      "source": [
        "train_df.head()"
      ],
      "execution_count": null,
      "outputs": [
        {
          "output_type": "execute_result",
          "data": {
            "text/html": [
              "<div>\n",
              "<style scoped>\n",
              "    .dataframe tbody tr th:only-of-type {\n",
              "        vertical-align: middle;\n",
              "    }\n",
              "\n",
              "    .dataframe tbody tr th {\n",
              "        vertical-align: top;\n",
              "    }\n",
              "\n",
              "    .dataframe thead th {\n",
              "        text-align: right;\n",
              "    }\n",
              "</style>\n",
              "<table border=\"1\" class=\"dataframe\">\n",
              "  <thead>\n",
              "    <tr style=\"text-align: right;\">\n",
              "      <th></th>\n",
              "      <th>building_id</th>\n",
              "      <th>meter</th>\n",
              "      <th>meter_reading</th>\n",
              "      <th>site_id</th>\n",
              "      <th>primary_use</th>\n",
              "      <th>square_feet</th>\n",
              "      <th>floor_count</th>\n",
              "      <th>air_temperature</th>\n",
              "      <th>cloud_coverage</th>\n",
              "      <th>dew_temperature</th>\n",
              "      <th>precip_depth_1_hr</th>\n",
              "      <th>hour</th>\n",
              "      <th>dayofweek</th>\n",
              "      <th>month</th>\n",
              "      <th>dayofyear</th>\n",
              "      <th>day</th>\n",
              "      <th>year</th>\n",
              "      <th>latitude</th>\n",
              "      <th>solarHour</th>\n",
              "      <th>solarDec</th>\n",
              "      <th>horizsolar</th>\n",
              "      <th>is_holiday</th>\n",
              "      <th>square_footage</th>\n",
              "      <th>relative_humidity</th>\n",
              "    </tr>\n",
              "  </thead>\n",
              "  <tbody>\n",
              "    <tr>\n",
              "      <th>45</th>\n",
              "      <td>46</td>\n",
              "      <td>0</td>\n",
              "      <td>3.993413</td>\n",
              "      <td>0</td>\n",
              "      <td>11</td>\n",
              "      <td>9.110078</td>\n",
              "      <td>3.912618</td>\n",
              "      <td>25.000000</td>\n",
              "      <td>6.0</td>\n",
              "      <td>20.000000</td>\n",
              "      <td>-0.17395</td>\n",
              "      <td>0.0</td>\n",
              "      <td>4.0</td>\n",
              "      <td>1.0</td>\n",
              "      <td>1.0</td>\n",
              "      <td>1.0</td>\n",
              "      <td>2016.0</td>\n",
              "      <td>28.5383</td>\n",
              "      <td>-180.0</td>\n",
              "      <td>-23.030845</td>\n",
              "      <td>0.0</td>\n",
              "      <td>0</td>\n",
              "      <td>35.644251</td>\n",
              "      <td>73.8125</td>\n",
              "    </tr>\n",
              "    <tr>\n",
              "      <th>72</th>\n",
              "      <td>74</td>\n",
              "      <td>0</td>\n",
              "      <td>3.784219</td>\n",
              "      <td>0</td>\n",
              "      <td>8</td>\n",
              "      <td>12.867830</td>\n",
              "      <td>3.912618</td>\n",
              "      <td>25.000000</td>\n",
              "      <td>6.0</td>\n",
              "      <td>20.000000</td>\n",
              "      <td>-0.17395</td>\n",
              "      <td>0.0</td>\n",
              "      <td>4.0</td>\n",
              "      <td>1.0</td>\n",
              "      <td>1.0</td>\n",
              "      <td>1.0</td>\n",
              "      <td>2016.0</td>\n",
              "      <td>28.5383</td>\n",
              "      <td>-180.0</td>\n",
              "      <td>-23.030845</td>\n",
              "      <td>0.0</td>\n",
              "      <td>0</td>\n",
              "      <td>50.346897</td>\n",
              "      <td>73.8125</td>\n",
              "    </tr>\n",
              "    <tr>\n",
              "      <th>91</th>\n",
              "      <td>93</td>\n",
              "      <td>0</td>\n",
              "      <td>3.978196</td>\n",
              "      <td>0</td>\n",
              "      <td>6</td>\n",
              "      <td>10.415443</td>\n",
              "      <td>3.912618</td>\n",
              "      <td>25.000000</td>\n",
              "      <td>6.0</td>\n",
              "      <td>20.000000</td>\n",
              "      <td>-0.17395</td>\n",
              "      <td>0.0</td>\n",
              "      <td>4.0</td>\n",
              "      <td>1.0</td>\n",
              "      <td>1.0</td>\n",
              "      <td>1.0</td>\n",
              "      <td>2016.0</td>\n",
              "      <td>28.5383</td>\n",
              "      <td>-180.0</td>\n",
              "      <td>-23.030845</td>\n",
              "      <td>0.0</td>\n",
              "      <td>0</td>\n",
              "      <td>40.751643</td>\n",
              "      <td>73.8125</td>\n",
              "    </tr>\n",
              "    <tr>\n",
              "      <th>103</th>\n",
              "      <td>105</td>\n",
              "      <td>0</td>\n",
              "      <td>3.190624</td>\n",
              "      <td>1</td>\n",
              "      <td>0</td>\n",
              "      <td>10.832181</td>\n",
              "      <td>3.912618</td>\n",
              "      <td>3.800781</td>\n",
              "      <td>0.0</td>\n",
              "      <td>2.400391</td>\n",
              "      <td>0.00000</td>\n",
              "      <td>0.0</td>\n",
              "      <td>4.0</td>\n",
              "      <td>1.0</td>\n",
              "      <td>1.0</td>\n",
              "      <td>1.0</td>\n",
              "      <td>2016.0</td>\n",
              "      <td>50.9097</td>\n",
              "      <td>-180.0</td>\n",
              "      <td>-23.030845</td>\n",
              "      <td>0.0</td>\n",
              "      <td>0</td>\n",
              "      <td>42.382182</td>\n",
              "      <td>90.5000</td>\n",
              "    </tr>\n",
              "    <tr>\n",
              "      <th>104</th>\n",
              "      <td>106</td>\n",
              "      <td>0</td>\n",
              "      <td>0.318163</td>\n",
              "      <td>1</td>\n",
              "      <td>0</td>\n",
              "      <td>8.589514</td>\n",
              "      <td>3.912618</td>\n",
              "      <td>3.800781</td>\n",
              "      <td>0.0</td>\n",
              "      <td>2.400391</td>\n",
              "      <td>0.00000</td>\n",
              "      <td>0.0</td>\n",
              "      <td>4.0</td>\n",
              "      <td>1.0</td>\n",
              "      <td>1.0</td>\n",
              "      <td>1.0</td>\n",
              "      <td>2016.0</td>\n",
              "      <td>50.9097</td>\n",
              "      <td>-180.0</td>\n",
              "      <td>-23.030845</td>\n",
              "      <td>0.0</td>\n",
              "      <td>0</td>\n",
              "      <td>33.607483</td>\n",
              "      <td>90.5000</td>\n",
              "    </tr>\n",
              "  </tbody>\n",
              "</table>\n",
              "</div>"
            ],
            "text/plain": [
              "     building_id  meter  ...  square_footage  relative_humidity\n",
              "45            46      0  ...       35.644251            73.8125\n",
              "72            74      0  ...       50.346897            73.8125\n",
              "91            93      0  ...       40.751643            73.8125\n",
              "103          105      0  ...       42.382182            90.5000\n",
              "104          106      0  ...       33.607483            90.5000\n",
              "\n",
              "[5 rows x 24 columns]"
            ]
          },
          "metadata": {
            "tags": []
          },
          "execution_count": 85
        }
      ]
    },
    {
      "cell_type": "markdown",
      "metadata": {
        "id": "CJk3g0YCgW6e"
      },
      "source": [
        "why not directley call the feature_engineering function for test dataframe because one fetaure takes all ram and my colab notebook is gonna crashed so for this i tried to run it by one by one now and this help me to check which one feature i take the whole ram the answer is the horizonatl solar feature that crashed my session but with the help of reduce memory function it is wroking fine "
      ]
    },
    {
      "cell_type": "code",
      "metadata": {
        "id": "CJTeALmTeTyf"
      },
      "source": [
        "test_df = test_df.sort_values(\"timestamp\")\n",
        "test_df = test_df.reset_index(drop=True)"
      ],
      "execution_count": null,
      "outputs": []
    },
    {
      "cell_type": "code",
      "metadata": {
        "id": "9n3Nwt_FeT2b"
      },
      "source": [
        "latitude_dict = {0 :28.5383,\n",
        "                    1 :50.9097,\n",
        "                    2 :33.4255,\n",
        "                    3 :38.9072,\n",
        "                    4 :37.8715,\n",
        "                    5 :50.9097,\n",
        "                    6 :40.7128,\n",
        "                    7 :45.4215,\n",
        "                    8 :28.5383,\n",
        "                    9 :30.2672,\n",
        "                    10 :40.10677,\n",
        "                    11 :45.4215,\n",
        "                    12 :53.3498,\n",
        "                    13 :44.9375,\n",
        "                    14 :38.0293,\n",
        "                    15: 40.7128}\n",
        "\n",
        "   "
      ],
      "execution_count": null,
      "outputs": []
    },
    {
      "cell_type": "code",
      "metadata": {
        "id": "mjgiADdXeT5O"
      },
      "source": [
        "test_df['latitude'] = test_df['site_id'].map(latitude_dict)"
      ],
      "execution_count": null,
      "outputs": []
    },
    {
      "cell_type": "code",
      "metadata": {
        "id": "jlc66BVueT8L"
      },
      "source": [
        "test_df['solarHour'] = (test_df['hour']-12)*15 # to be removed\n",
        "   "
      ],
      "execution_count": null,
      "outputs": []
    },
    {
      "cell_type": "code",
      "metadata": {
        "id": "QT9v0ovGeT_2"
      },
      "source": [
        "test_df['solarDec'] = -23.45*np.cos(np.deg2rad(360*(test_df['day']+10)/365)) # to be removed\n",
        "    "
      ],
      "execution_count": null,
      "outputs": []
    },
    {
      "cell_type": "code",
      "metadata": {
        "id": "j47bBdjlex0r"
      },
      "source": [
        "test_df['horizsolar'] = np.cos(np.deg2rad(test_df['solarHour']))*np.cos(np.deg2rad(test_df['solarDec']))*np.cos(np.deg2rad(test_df['latitude'])) + np.sin(np.deg2rad(test_df['solarDec']))*np.sin(np.deg2rad(test_df['latitude']))\n",
        "test_df['horizsolar'] = test_df['horizsolar'].apply(lambda x: 0 if x <0 else x)"
      ],
      "execution_count": null,
      "outputs": []
    },
    {
      "cell_type": "code",
      "metadata": {
        "colab": {
          "base_uri": "https://localhost:8080/"
        },
        "id": "k8gqZGb6ex7O",
        "outputId": "25a7b699-dd4f-42af-ff32-00c7f87a6a45"
      },
      "source": [
        "train_df= reduce_mem_usage(train_df, use_float16=True)\n",
        "test_df= reduce_mem_usage(test_df, use_float16=True)"
      ],
      "execution_count": null,
      "outputs": [
        {
          "output_type": "stream",
          "text": [
            "Memory usage of dataframe is 1677.66 MB\n",
            "Memory usage after optimization is: 873.78 MB\n",
            "Decreased by 47.9%\n",
            "Memory usage of dataframe is 2983.20 MB\n",
            "Memory usage after optimization is: 2028.82 MB\n",
            "Decreased by 32.0%\n"
          ],
          "name": "stdout"
        }
      ]
    },
    {
      "cell_type": "code",
      "metadata": {
        "id": "SnCM3yppex-m"
      },
      "source": [
        "\n",
        "def features_engineering(df):\n",
        "    \n",
        "   \n",
        "    \n",
        "    # Add more features\n",
        "    holidays = [\"2016-01-01\", \"2016-01-18\", \"2016-02-15\", \"2016-05-30\", \"2016-07-04\",\n",
        "                    \"2016-09-05\", \"2016-10-10\", \"2016-11-11\", \"2016-11-24\", \"2016-12-26\",\n",
        "                    \"2017-01-02\", \"2017-01-16\", \"2017-02-20\", \"2017-05-29\", \"2017-07-04\",\n",
        "                    \"2017-09-04\", \"2017-10-09\", \"2017-11-10\", \"2017-11-23\", \"2017-12-25\",\n",
        "                    \"2018-01-01\", \"2018-01-15\", \"2018-02-19\", \"2018-05-28\", \"2018-07-04\",\n",
        "                    \"2018-09-03\", \"2018-10-08\", \"2018-11-12\", \"2018-11-22\", \"2018-12-25\",\n",
        "                    \"2019-01-01\"]\n",
        "    df[\"is_holiday\"] = (df.timestamp.isin(holidays)).astype(int)\n",
        "    df['square_feet'] =  np.log1p(df['square_feet'])\n",
        "    df[\"sqaure_footage\"] = df.square_feet * df.floor_count\n",
        "\n",
        "    df['relative_humidity']= 100*((np.exp((17.67*df['dew_temperature'])/\n",
        "                                            (243.5+df['dew_temperature'])))/(np.exp((17.67*df['air_temperature'])/\n",
        "                                                                                          (243.5+df['air_temperature']))))\n",
        "    \n",
        "    # Remove Unused Columns\n",
        "    drop = [\"timestamp\",\"sea_level_pressure\", \"wind_direction\", \"wind_speed\"]\n",
        "    df = df.drop(drop, axis=1)\n",
        "    gc.collect()\n",
        "    \n",
        "    # Encode Categorical Data\n",
        "    le = LabelEncoder()\n",
        "    df[\"primary_use\"] = le.fit_transform(df[\"primary_use\"])\n",
        "    \n",
        "    return df"
      ],
      "execution_count": null,
      "outputs": []
    },
    {
      "cell_type": "code",
      "metadata": {
        "id": "N4dAeopuZb_i"
      },
      "source": [
        "test_df = features_engineering(test_df)"
      ],
      "execution_count": null,
      "outputs": []
    },
    {
      "cell_type": "code",
      "metadata": {
        "colab": {
          "base_uri": "https://localhost:8080/"
        },
        "id": "iQNRtWQ2gRyg",
        "outputId": "c2fdc3be-d248-485c-b4cd-37b353f4f67f"
      },
      "source": [
        "test_df= reduce_mem_usage(test_df, use_float16=True)"
      ],
      "execution_count": null,
      "outputs": [
        {
          "output_type": "stream",
          "text": [
            "Memory usage of dataframe is 2545.02 MB\n",
            "Memory usage after optimization is: 1749.70 MB\n",
            "Decreased by 31.2%\n"
          ],
          "name": "stdout"
        }
      ]
    },
    {
      "cell_type": "code",
      "metadata": {
        "id": "8E4FPivDj1tA"
      },
      "source": [
        "train_df.to_feather('/gdrive/My Drive/case_study_data/train_df_dash.ftr')"
      ],
      "execution_count": null,
      "outputs": []
    },
    {
      "cell_type": "code",
      "metadata": {
        "id": "-XffvsgbkNNn"
      },
      "source": [
        "test_df.to_feather('/gdrive/My Drive/case_study_data/test_df_dash.ftr')"
      ],
      "execution_count": null,
      "outputs": []
    },
    {
      "cell_type": "code",
      "metadata": {
        "id": "it-GUy1wkTzc"
      },
      "source": [
        "train_df = pd.read_feather('/gdrive/My Drive/case_study_data/train_df_dash.ftr')\n",
        "test_df = pd.read_feather('/gdrive/My Drive/case_study_data/test_df_dash.ftr')"
      ],
      "execution_count": null,
      "outputs": []
    },
    {
      "cell_type": "code",
      "metadata": {
        "colab": {
          "base_uri": "https://localhost:8080/"
        },
        "id": "jDAGKRpska89",
        "outputId": "1a9280fc-a6b2-4b35-8798-a687a441add4"
      },
      "source": [
        "len(train_df.columns)"
      ],
      "execution_count": null,
      "outputs": [
        {
          "output_type": "execute_result",
          "data": {
            "text/plain": [
              "24"
            ]
          },
          "metadata": {
            "tags": []
          },
          "execution_count": 19
        }
      ]
    },
    {
      "cell_type": "code",
      "metadata": {
        "colab": {
          "base_uri": "https://localhost:8080/"
        },
        "id": "LLEhEp0ykd-9",
        "outputId": "71b7af78-ba73-46f3-b787-90ac096764d1"
      },
      "source": [
        "len(test_df.columns)"
      ],
      "execution_count": null,
      "outputs": [
        {
          "output_type": "execute_result",
          "data": {
            "text/plain": [
              "24"
            ]
          },
          "metadata": {
            "tags": []
          },
          "execution_count": 20
        }
      ]
    },
    {
      "cell_type": "markdown",
      "metadata": {
        "id": "UbezwBo_ng1W"
      },
      "source": [
        "### Summary \n",
        "\n",
        "1. Impute weather data for both train and test with transform mean and median\n",
        "2. Impute the floor count feature with model based imputation using linear regression\n",
        "3. Remove outliers for building id and zero meter reading\n",
        "4. Drop year_built feature  \n",
        "5.Feature Engineering\n",
        "* 5.1 \n",
        "I came up with the feature of relative humidity that combine from the dew temperature and the air temperature feature there is strong positive correlation between them \n",
        "   \n",
        "* 5.2 \n",
        "I also want to come up with the new feature that is square footage that used the square feet * floor count because there is also very strong positive correlation between them sqaure_feet  and floor_count which tells me that square feet is most likely the ground floor area of the building not he total square footage of the building. I came up with the feature of square_footage = sqaure_feet*floor_count \n",
        "\n",
        "6. I add is_hoilday feature, relative humidity,latitude, solar hour, horizontal solar\n",
        "7. After Feature engineering I have 24 fetraures both for train and test data\n",
        "\n",
        "     "
      ]
    },
    {
      "cell_type": "markdown",
      "metadata": {
        "id": "kfXjjR6KSx5O"
      },
      "source": [
        "### Refrences\n",
        "1. https://www.kaggle.com/aitude/ashrae-missing-weather-data-handling\n",
        "2. https://www.kaggle.com/c/ashrae-energy-prediction/discussion/124984\n",
        "3. https://www.kaggle.com/c/ashrae-energy-prediction/discussion/116401"
      ]
    },
    {
      "cell_type": "code",
      "metadata": {
        "id": "PJ0gceAZoHVO"
      },
      "source": [
        ""
      ],
      "execution_count": null,
      "outputs": []
    }
  ]
}