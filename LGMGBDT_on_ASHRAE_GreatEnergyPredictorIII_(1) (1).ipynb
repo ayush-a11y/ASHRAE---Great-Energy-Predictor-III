{
  "nbformat": 4,
  "nbformat_minor": 0,
  "metadata": {
    "colab": {
      "name": "LGMGBDT_on_ASHRAE_GreatEnergyPredictorIII (1).ipynb",
      "provenance": [],
      "collapsed_sections": []
    },
    "kernelspec": {
      "name": "python3",
      "display_name": "Python 3"
    },
    "language_info": {
      "name": "python"
    },
    "widgets": {
      "application/vnd.jupyter.widget-state+json": {
        "90b6919217914ce7a6d07a44eaa1f822": {
          "model_module": "@jupyter-widgets/controls",
          "model_name": "HBoxModel",
          "model_module_version": "1.5.0",
          "state": {
            "_view_name": "HBoxView",
            "_dom_classes": [],
            "_model_name": "HBoxModel",
            "_view_module": "@jupyter-widgets/controls",
            "_model_module_version": "1.5.0",
            "_view_count": null,
            "_view_module_version": "1.5.0",
            "box_style": "",
            "layout": "IPY_MODEL_839d7cd1da6e4914ac8675fd3942fe36",
            "_model_module": "@jupyter-widgets/controls",
            "children": [
              "IPY_MODEL_4c39d7e80fd542e08e33495a8c585751",
              "IPY_MODEL_cd9f256e82e74acbbb507f0238cc87a8"
            ]
          }
        },
        "839d7cd1da6e4914ac8675fd3942fe36": {
          "model_module": "@jupyter-widgets/base",
          "model_name": "LayoutModel",
          "model_module_version": "1.2.0",
          "state": {
            "_view_name": "LayoutView",
            "grid_template_rows": null,
            "right": null,
            "justify_content": null,
            "_view_module": "@jupyter-widgets/base",
            "overflow": null,
            "_model_module_version": "1.2.0",
            "_view_count": null,
            "flex_flow": null,
            "width": null,
            "min_width": null,
            "border": null,
            "align_items": null,
            "bottom": null,
            "_model_module": "@jupyter-widgets/base",
            "top": null,
            "grid_column": null,
            "overflow_y": null,
            "overflow_x": null,
            "grid_auto_flow": null,
            "grid_area": null,
            "grid_template_columns": null,
            "flex": null,
            "_model_name": "LayoutModel",
            "justify_items": null,
            "grid_row": null,
            "max_height": null,
            "align_content": null,
            "visibility": null,
            "align_self": null,
            "height": null,
            "min_height": null,
            "padding": null,
            "grid_auto_rows": null,
            "grid_gap": null,
            "max_width": null,
            "order": null,
            "_view_module_version": "1.2.0",
            "grid_template_areas": null,
            "object_position": null,
            "object_fit": null,
            "grid_auto_columns": null,
            "margin": null,
            "display": null,
            "left": null
          }
        },
        "4c39d7e80fd542e08e33495a8c585751": {
          "model_module": "@jupyter-widgets/controls",
          "model_name": "FloatProgressModel",
          "model_module_version": "1.5.0",
          "state": {
            "_view_name": "ProgressView",
            "style": "IPY_MODEL_1c987a25ee7e4f94922406db552c0337",
            "_dom_classes": [],
            "description": "100%",
            "_model_name": "FloatProgressModel",
            "bar_style": "success",
            "max": 42,
            "_view_module": "@jupyter-widgets/controls",
            "_model_module_version": "1.5.0",
            "value": 42,
            "_view_count": null,
            "_view_module_version": "1.5.0",
            "orientation": "horizontal",
            "min": 0,
            "description_tooltip": null,
            "_model_module": "@jupyter-widgets/controls",
            "layout": "IPY_MODEL_3af0acbcb8d448de8e4863bbc9c4f97e"
          }
        },
        "cd9f256e82e74acbbb507f0238cc87a8": {
          "model_module": "@jupyter-widgets/controls",
          "model_name": "HTMLModel",
          "model_module_version": "1.5.0",
          "state": {
            "_view_name": "HTMLView",
            "style": "IPY_MODEL_82c6448e8b9c437390004e195318c17b",
            "_dom_classes": [],
            "description": "",
            "_model_name": "HTMLModel",
            "placeholder": "​",
            "_view_module": "@jupyter-widgets/controls",
            "_model_module_version": "1.5.0",
            "value": " 42/42 [1:26:27&lt;00:00, 123.52s/it]",
            "_view_count": null,
            "_view_module_version": "1.5.0",
            "description_tooltip": null,
            "_model_module": "@jupyter-widgets/controls",
            "layout": "IPY_MODEL_5f5e98004c594a6d8b3faba6341b4a3f"
          }
        },
        "1c987a25ee7e4f94922406db552c0337": {
          "model_module": "@jupyter-widgets/controls",
          "model_name": "ProgressStyleModel",
          "model_module_version": "1.5.0",
          "state": {
            "_view_name": "StyleView",
            "_model_name": "ProgressStyleModel",
            "description_width": "initial",
            "_view_module": "@jupyter-widgets/base",
            "_model_module_version": "1.5.0",
            "_view_count": null,
            "_view_module_version": "1.2.0",
            "bar_color": null,
            "_model_module": "@jupyter-widgets/controls"
          }
        },
        "3af0acbcb8d448de8e4863bbc9c4f97e": {
          "model_module": "@jupyter-widgets/base",
          "model_name": "LayoutModel",
          "model_module_version": "1.2.0",
          "state": {
            "_view_name": "LayoutView",
            "grid_template_rows": null,
            "right": null,
            "justify_content": null,
            "_view_module": "@jupyter-widgets/base",
            "overflow": null,
            "_model_module_version": "1.2.0",
            "_view_count": null,
            "flex_flow": null,
            "width": null,
            "min_width": null,
            "border": null,
            "align_items": null,
            "bottom": null,
            "_model_module": "@jupyter-widgets/base",
            "top": null,
            "grid_column": null,
            "overflow_y": null,
            "overflow_x": null,
            "grid_auto_flow": null,
            "grid_area": null,
            "grid_template_columns": null,
            "flex": null,
            "_model_name": "LayoutModel",
            "justify_items": null,
            "grid_row": null,
            "max_height": null,
            "align_content": null,
            "visibility": null,
            "align_self": null,
            "height": null,
            "min_height": null,
            "padding": null,
            "grid_auto_rows": null,
            "grid_gap": null,
            "max_width": null,
            "order": null,
            "_view_module_version": "1.2.0",
            "grid_template_areas": null,
            "object_position": null,
            "object_fit": null,
            "grid_auto_columns": null,
            "margin": null,
            "display": null,
            "left": null
          }
        },
        "82c6448e8b9c437390004e195318c17b": {
          "model_module": "@jupyter-widgets/controls",
          "model_name": "DescriptionStyleModel",
          "model_module_version": "1.5.0",
          "state": {
            "_view_name": "StyleView",
            "_model_name": "DescriptionStyleModel",
            "description_width": "",
            "_view_module": "@jupyter-widgets/base",
            "_model_module_version": "1.5.0",
            "_view_count": null,
            "_view_module_version": "1.2.0",
            "_model_module": "@jupyter-widgets/controls"
          }
        },
        "5f5e98004c594a6d8b3faba6341b4a3f": {
          "model_module": "@jupyter-widgets/base",
          "model_name": "LayoutModel",
          "model_module_version": "1.2.0",
          "state": {
            "_view_name": "LayoutView",
            "grid_template_rows": null,
            "right": null,
            "justify_content": null,
            "_view_module": "@jupyter-widgets/base",
            "overflow": null,
            "_model_module_version": "1.2.0",
            "_view_count": null,
            "flex_flow": null,
            "width": null,
            "min_width": null,
            "border": null,
            "align_items": null,
            "bottom": null,
            "_model_module": "@jupyter-widgets/base",
            "top": null,
            "grid_column": null,
            "overflow_y": null,
            "overflow_x": null,
            "grid_auto_flow": null,
            "grid_area": null,
            "grid_template_columns": null,
            "flex": null,
            "_model_name": "LayoutModel",
            "justify_items": null,
            "grid_row": null,
            "max_height": null,
            "align_content": null,
            "visibility": null,
            "align_self": null,
            "height": null,
            "min_height": null,
            "padding": null,
            "grid_auto_rows": null,
            "grid_gap": null,
            "max_width": null,
            "order": null,
            "_view_module_version": "1.2.0",
            "grid_template_areas": null,
            "object_position": null,
            "object_fit": null,
            "grid_auto_columns": null,
            "margin": null,
            "display": null,
            "left": null
          }
        },
        "33f757933f094e278214b73e6d91298b": {
          "model_module": "@jupyter-widgets/controls",
          "model_name": "HBoxModel",
          "model_module_version": "1.5.0",
          "state": {
            "_view_name": "HBoxView",
            "_dom_classes": [],
            "_model_name": "HBoxModel",
            "_view_module": "@jupyter-widgets/controls",
            "_model_module_version": "1.5.0",
            "_view_count": null,
            "_view_module_version": "1.5.0",
            "box_style": "",
            "layout": "IPY_MODEL_c8dcdb2881f04028bf0d6321566645e9",
            "_model_module": "@jupyter-widgets/controls",
            "children": [
              "IPY_MODEL_0bb5e55da5fe4a34bccf384ed80e4532",
              "IPY_MODEL_27f9489cb5574fbfa530c35d437fd4fa"
            ]
          }
        },
        "c8dcdb2881f04028bf0d6321566645e9": {
          "model_module": "@jupyter-widgets/base",
          "model_name": "LayoutModel",
          "model_module_version": "1.2.0",
          "state": {
            "_view_name": "LayoutView",
            "grid_template_rows": null,
            "right": null,
            "justify_content": null,
            "_view_module": "@jupyter-widgets/base",
            "overflow": null,
            "_model_module_version": "1.2.0",
            "_view_count": null,
            "flex_flow": null,
            "width": null,
            "min_width": null,
            "border": null,
            "align_items": null,
            "bottom": null,
            "_model_module": "@jupyter-widgets/base",
            "top": null,
            "grid_column": null,
            "overflow_y": null,
            "overflow_x": null,
            "grid_auto_flow": null,
            "grid_area": null,
            "grid_template_columns": null,
            "flex": null,
            "_model_name": "LayoutModel",
            "justify_items": null,
            "grid_row": null,
            "max_height": null,
            "align_content": null,
            "visibility": null,
            "align_self": null,
            "height": null,
            "min_height": null,
            "padding": null,
            "grid_auto_rows": null,
            "grid_gap": null,
            "max_width": null,
            "order": null,
            "_view_module_version": "1.2.0",
            "grid_template_areas": null,
            "object_position": null,
            "object_fit": null,
            "grid_auto_columns": null,
            "margin": null,
            "display": null,
            "left": null
          }
        },
        "0bb5e55da5fe4a34bccf384ed80e4532": {
          "model_module": "@jupyter-widgets/controls",
          "model_name": "FloatProgressModel",
          "model_module_version": "1.5.0",
          "state": {
            "_view_name": "ProgressView",
            "style": "IPY_MODEL_436bfa01e5f945a1a378e8f02b3a0843",
            "_dom_classes": [],
            "description": "100%",
            "_model_name": "FloatProgressModel",
            "bar_style": "success",
            "max": 42,
            "_view_module": "@jupyter-widgets/controls",
            "_model_module_version": "1.5.0",
            "value": 42,
            "_view_count": null,
            "_view_module_version": "1.5.0",
            "orientation": "horizontal",
            "min": 0,
            "description_tooltip": null,
            "_model_module": "@jupyter-widgets/controls",
            "layout": "IPY_MODEL_2e1f5d344aa140f886442c98866069f7"
          }
        },
        "27f9489cb5574fbfa530c35d437fd4fa": {
          "model_module": "@jupyter-widgets/controls",
          "model_name": "HTMLModel",
          "model_module_version": "1.5.0",
          "state": {
            "_view_name": "HTMLView",
            "style": "IPY_MODEL_7ef4205384d641a1944485d011155d7d",
            "_dom_classes": [],
            "description": "",
            "_model_name": "HTMLModel",
            "placeholder": "​",
            "_view_module": "@jupyter-widgets/controls",
            "_model_module_version": "1.5.0",
            "value": " 42/42 [57:17&lt;00:00, 81.86s/it]",
            "_view_count": null,
            "_view_module_version": "1.5.0",
            "description_tooltip": null,
            "_model_module": "@jupyter-widgets/controls",
            "layout": "IPY_MODEL_0e05bb893947481cbb3dacf85819edf7"
          }
        },
        "436bfa01e5f945a1a378e8f02b3a0843": {
          "model_module": "@jupyter-widgets/controls",
          "model_name": "ProgressStyleModel",
          "model_module_version": "1.5.0",
          "state": {
            "_view_name": "StyleView",
            "_model_name": "ProgressStyleModel",
            "description_width": "initial",
            "_view_module": "@jupyter-widgets/base",
            "_model_module_version": "1.5.0",
            "_view_count": null,
            "_view_module_version": "1.2.0",
            "bar_color": null,
            "_model_module": "@jupyter-widgets/controls"
          }
        },
        "2e1f5d344aa140f886442c98866069f7": {
          "model_module": "@jupyter-widgets/base",
          "model_name": "LayoutModel",
          "model_module_version": "1.2.0",
          "state": {
            "_view_name": "LayoutView",
            "grid_template_rows": null,
            "right": null,
            "justify_content": null,
            "_view_module": "@jupyter-widgets/base",
            "overflow": null,
            "_model_module_version": "1.2.0",
            "_view_count": null,
            "flex_flow": null,
            "width": null,
            "min_width": null,
            "border": null,
            "align_items": null,
            "bottom": null,
            "_model_module": "@jupyter-widgets/base",
            "top": null,
            "grid_column": null,
            "overflow_y": null,
            "overflow_x": null,
            "grid_auto_flow": null,
            "grid_area": null,
            "grid_template_columns": null,
            "flex": null,
            "_model_name": "LayoutModel",
            "justify_items": null,
            "grid_row": null,
            "max_height": null,
            "align_content": null,
            "visibility": null,
            "align_self": null,
            "height": null,
            "min_height": null,
            "padding": null,
            "grid_auto_rows": null,
            "grid_gap": null,
            "max_width": null,
            "order": null,
            "_view_module_version": "1.2.0",
            "grid_template_areas": null,
            "object_position": null,
            "object_fit": null,
            "grid_auto_columns": null,
            "margin": null,
            "display": null,
            "left": null
          }
        },
        "7ef4205384d641a1944485d011155d7d": {
          "model_module": "@jupyter-widgets/controls",
          "model_name": "DescriptionStyleModel",
          "model_module_version": "1.5.0",
          "state": {
            "_view_name": "StyleView",
            "_model_name": "DescriptionStyleModel",
            "description_width": "",
            "_view_module": "@jupyter-widgets/base",
            "_model_module_version": "1.5.0",
            "_view_count": null,
            "_view_module_version": "1.2.0",
            "_model_module": "@jupyter-widgets/controls"
          }
        },
        "0e05bb893947481cbb3dacf85819edf7": {
          "model_module": "@jupyter-widgets/base",
          "model_name": "LayoutModel",
          "model_module_version": "1.2.0",
          "state": {
            "_view_name": "LayoutView",
            "grid_template_rows": null,
            "right": null,
            "justify_content": null,
            "_view_module": "@jupyter-widgets/base",
            "overflow": null,
            "_model_module_version": "1.2.0",
            "_view_count": null,
            "flex_flow": null,
            "width": null,
            "min_width": null,
            "border": null,
            "align_items": null,
            "bottom": null,
            "_model_module": "@jupyter-widgets/base",
            "top": null,
            "grid_column": null,
            "overflow_y": null,
            "overflow_x": null,
            "grid_auto_flow": null,
            "grid_area": null,
            "grid_template_columns": null,
            "flex": null,
            "_model_name": "LayoutModel",
            "justify_items": null,
            "grid_row": null,
            "max_height": null,
            "align_content": null,
            "visibility": null,
            "align_self": null,
            "height": null,
            "min_height": null,
            "padding": null,
            "grid_auto_rows": null,
            "grid_gap": null,
            "max_width": null,
            "order": null,
            "_view_module_version": "1.2.0",
            "grid_template_areas": null,
            "object_position": null,
            "object_fit": null,
            "grid_auto_columns": null,
            "margin": null,
            "display": null,
            "left": null
          }
        },
        "c7123253e9c34311976574f2c1624b6f": {
          "model_module": "@jupyter-widgets/controls",
          "model_name": "HBoxModel",
          "model_module_version": "1.5.0",
          "state": {
            "_view_name": "HBoxView",
            "_dom_classes": [],
            "_model_name": "HBoxModel",
            "_view_module": "@jupyter-widgets/controls",
            "_model_module_version": "1.5.0",
            "_view_count": null,
            "_view_module_version": "1.5.0",
            "box_style": "",
            "layout": "IPY_MODEL_5527995f19134537a5aa32f9dc3281dc",
            "_model_module": "@jupyter-widgets/controls",
            "children": [
              "IPY_MODEL_59656b0312624047b3dbc6e3088956a4",
              "IPY_MODEL_1f4d81704384472b90e4f5e1d73d9024"
            ]
          }
        },
        "5527995f19134537a5aa32f9dc3281dc": {
          "model_module": "@jupyter-widgets/base",
          "model_name": "LayoutModel",
          "model_module_version": "1.2.0",
          "state": {
            "_view_name": "LayoutView",
            "grid_template_rows": null,
            "right": null,
            "justify_content": null,
            "_view_module": "@jupyter-widgets/base",
            "overflow": null,
            "_model_module_version": "1.2.0",
            "_view_count": null,
            "flex_flow": null,
            "width": null,
            "min_width": null,
            "border": null,
            "align_items": null,
            "bottom": null,
            "_model_module": "@jupyter-widgets/base",
            "top": null,
            "grid_column": null,
            "overflow_y": null,
            "overflow_x": null,
            "grid_auto_flow": null,
            "grid_area": null,
            "grid_template_columns": null,
            "flex": null,
            "_model_name": "LayoutModel",
            "justify_items": null,
            "grid_row": null,
            "max_height": null,
            "align_content": null,
            "visibility": null,
            "align_self": null,
            "height": null,
            "min_height": null,
            "padding": null,
            "grid_auto_rows": null,
            "grid_gap": null,
            "max_width": null,
            "order": null,
            "_view_module_version": "1.2.0",
            "grid_template_areas": null,
            "object_position": null,
            "object_fit": null,
            "grid_auto_columns": null,
            "margin": null,
            "display": null,
            "left": null
          }
        },
        "59656b0312624047b3dbc6e3088956a4": {
          "model_module": "@jupyter-widgets/controls",
          "model_name": "FloatProgressModel",
          "model_module_version": "1.5.0",
          "state": {
            "_view_name": "ProgressView",
            "style": "IPY_MODEL_8602e4e2aa14492ab77e5b96cc0feafe",
            "_dom_classes": [],
            "description": "100%",
            "_model_name": "FloatProgressModel",
            "bar_style": "success",
            "max": 42,
            "_view_module": "@jupyter-widgets/controls",
            "_model_module_version": "1.5.0",
            "value": 42,
            "_view_count": null,
            "_view_module_version": "1.5.0",
            "orientation": "horizontal",
            "min": 0,
            "description_tooltip": null,
            "_model_module": "@jupyter-widgets/controls",
            "layout": "IPY_MODEL_070c79154ab04ddd982d4b6c5700ff70"
          }
        },
        "1f4d81704384472b90e4f5e1d73d9024": {
          "model_module": "@jupyter-widgets/controls",
          "model_name": "HTMLModel",
          "model_module_version": "1.5.0",
          "state": {
            "_view_name": "HTMLView",
            "style": "IPY_MODEL_5d52cd3203b54c568172af50c095be25",
            "_dom_classes": [],
            "description": "",
            "_model_name": "HTMLModel",
            "placeholder": "​",
            "_view_module": "@jupyter-widgets/controls",
            "_model_module_version": "1.5.0",
            "value": " 42/42 [29:08&lt;00:00, 41.64s/it]",
            "_view_count": null,
            "_view_module_version": "1.5.0",
            "description_tooltip": null,
            "_model_module": "@jupyter-widgets/controls",
            "layout": "IPY_MODEL_b724d27936a747b49f62f543cfecf73d"
          }
        },
        "8602e4e2aa14492ab77e5b96cc0feafe": {
          "model_module": "@jupyter-widgets/controls",
          "model_name": "ProgressStyleModel",
          "model_module_version": "1.5.0",
          "state": {
            "_view_name": "StyleView",
            "_model_name": "ProgressStyleModel",
            "description_width": "initial",
            "_view_module": "@jupyter-widgets/base",
            "_model_module_version": "1.5.0",
            "_view_count": null,
            "_view_module_version": "1.2.0",
            "bar_color": null,
            "_model_module": "@jupyter-widgets/controls"
          }
        },
        "070c79154ab04ddd982d4b6c5700ff70": {
          "model_module": "@jupyter-widgets/base",
          "model_name": "LayoutModel",
          "model_module_version": "1.2.0",
          "state": {
            "_view_name": "LayoutView",
            "grid_template_rows": null,
            "right": null,
            "justify_content": null,
            "_view_module": "@jupyter-widgets/base",
            "overflow": null,
            "_model_module_version": "1.2.0",
            "_view_count": null,
            "flex_flow": null,
            "width": null,
            "min_width": null,
            "border": null,
            "align_items": null,
            "bottom": null,
            "_model_module": "@jupyter-widgets/base",
            "top": null,
            "grid_column": null,
            "overflow_y": null,
            "overflow_x": null,
            "grid_auto_flow": null,
            "grid_area": null,
            "grid_template_columns": null,
            "flex": null,
            "_model_name": "LayoutModel",
            "justify_items": null,
            "grid_row": null,
            "max_height": null,
            "align_content": null,
            "visibility": null,
            "align_self": null,
            "height": null,
            "min_height": null,
            "padding": null,
            "grid_auto_rows": null,
            "grid_gap": null,
            "max_width": null,
            "order": null,
            "_view_module_version": "1.2.0",
            "grid_template_areas": null,
            "object_position": null,
            "object_fit": null,
            "grid_auto_columns": null,
            "margin": null,
            "display": null,
            "left": null
          }
        },
        "5d52cd3203b54c568172af50c095be25": {
          "model_module": "@jupyter-widgets/controls",
          "model_name": "DescriptionStyleModel",
          "model_module_version": "1.5.0",
          "state": {
            "_view_name": "StyleView",
            "_model_name": "DescriptionStyleModel",
            "description_width": "",
            "_view_module": "@jupyter-widgets/base",
            "_model_module_version": "1.5.0",
            "_view_count": null,
            "_view_module_version": "1.2.0",
            "_model_module": "@jupyter-widgets/controls"
          }
        },
        "b724d27936a747b49f62f543cfecf73d": {
          "model_module": "@jupyter-widgets/base",
          "model_name": "LayoutModel",
          "model_module_version": "1.2.0",
          "state": {
            "_view_name": "LayoutView",
            "grid_template_rows": null,
            "right": null,
            "justify_content": null,
            "_view_module": "@jupyter-widgets/base",
            "overflow": null,
            "_model_module_version": "1.2.0",
            "_view_count": null,
            "flex_flow": null,
            "width": null,
            "min_width": null,
            "border": null,
            "align_items": null,
            "bottom": null,
            "_model_module": "@jupyter-widgets/base",
            "top": null,
            "grid_column": null,
            "overflow_y": null,
            "overflow_x": null,
            "grid_auto_flow": null,
            "grid_area": null,
            "grid_template_columns": null,
            "flex": null,
            "_model_name": "LayoutModel",
            "justify_items": null,
            "grid_row": null,
            "max_height": null,
            "align_content": null,
            "visibility": null,
            "align_self": null,
            "height": null,
            "min_height": null,
            "padding": null,
            "grid_auto_rows": null,
            "grid_gap": null,
            "max_width": null,
            "order": null,
            "_view_module_version": "1.2.0",
            "grid_template_areas": null,
            "object_position": null,
            "object_fit": null,
            "grid_auto_columns": null,
            "margin": null,
            "display": null,
            "left": null
          }
        }
      }
    }
  },
  "cells": [
    {
      "cell_type": "markdown",
      "metadata": {
        "id": "yu58C-ljU2uw"
      },
      "source": [
        "# **ASHRAE-Great Energy Predictor III**"
      ]
    },
    {
      "cell_type": "markdown",
      "metadata": {
        "id": "vSpx_J6VVB_c"
      },
      "source": [
        "### Mount The Google Drive"
      ]
    },
    {
      "cell_type": "code",
      "metadata": {
        "id": "OGYk_iqsvRPf",
        "colab": {
          "base_uri": "https://localhost:8080/"
        },
        "outputId": "0cbb5e4c-e405-4df0-c246-f8e878812fb8"
      },
      "source": [
        "from google.colab import drive\n",
        "drive.mount('/gdrive')\n",
        "%cd /gdrive"
      ],
      "execution_count": null,
      "outputs": [
        {
          "output_type": "stream",
          "text": [
            "Drive already mounted at /gdrive; to attempt to forcibly remount, call drive.mount(\"/gdrive\", force_remount=True).\n",
            "/gdrive\n"
          ],
          "name": "stdout"
        }
      ]
    },
    {
      "cell_type": "markdown",
      "metadata": {
        "id": "ZZKOTLanVGT0"
      },
      "source": [
        "### Importing Libraries"
      ]
    },
    {
      "cell_type": "code",
      "metadata": {
        "id": "c8NZNBVrcd7e"
      },
      "source": [
        "import pandas as pd\n",
        "import numpy as np\n",
        "import matplotlib.pyplot as plt\n",
        "import seaborn as sns\n",
        "import math\n",
        "import timeit\n",
        "from sklearn.model_selection import train_test_split\n",
        "from sklearn.preprocessing import normalize\n",
        "from sklearn.metrics import confusion_matrix, f1_score\n",
        "from sklearn.tree import DecisionTreeClassifier\n",
        "from sklearn.model_selection import RandomizedSearchCV\n",
        "from sklearn.ensemble import RandomForestClassifier\n",
        "from sklearn.calibration import CalibratedClassifierCV\n",
        "from xgboost import XGBClassifier\n",
        "from sklearn.tree import DecisionTreeRegressor\n",
        "from sklearn.ensemble import RandomForestRegressor\n",
        "from xgboost import XGBRegressor\n",
        "import pickle\n",
        "import joblib\n",
        "from tqdm import tqdm\n",
        "from sklearn.metrics import mean_squared_error\n",
        "from sklearn.ensemble import AdaBoostRegressor\n",
        "import lightgbm as lgb\n",
        "from sklearn.preprocessing import LabelEncoder\n",
        "from sklearn.model_selection import KFold\n",
        "import datetime\n",
        "import gc"
      ],
      "execution_count": null,
      "outputs": []
    },
    {
      "cell_type": "markdown",
      "metadata": {
        "id": "sbkocnusVKdF"
      },
      "source": [
        "### Load The data"
      ]
    },
    {
      "cell_type": "code",
      "metadata": {
        "id": "udvZnJaicd7e"
      },
      "source": [
        "train_df = pd.read_feather('/gdrive/My Drive/case_study_data/train_df_dash.ftr')\n",
        "test_df = pd.read_feather('/gdrive/My Drive/case_study_data/test_df_dash.ftr')"
      ],
      "execution_count": null,
      "outputs": []
    },
    {
      "cell_type": "code",
      "metadata": {
        "colab": {
          "base_uri": "https://localhost:8080/",
          "height": 224
        },
        "id": "TJwcXDu3cd7f",
        "outputId": "ef8f3521-6689-455e-a65d-caaeeddb59c7"
      },
      "source": [
        "train_df.head()"
      ],
      "execution_count": null,
      "outputs": [
        {
          "output_type": "execute_result",
          "data": {
            "text/html": [
              "<div>\n",
              "<style scoped>\n",
              "    .dataframe tbody tr th:only-of-type {\n",
              "        vertical-align: middle;\n",
              "    }\n",
              "\n",
              "    .dataframe tbody tr th {\n",
              "        vertical-align: top;\n",
              "    }\n",
              "\n",
              "    .dataframe thead th {\n",
              "        text-align: right;\n",
              "    }\n",
              "</style>\n",
              "<table border=\"1\" class=\"dataframe\">\n",
              "  <thead>\n",
              "    <tr style=\"text-align: right;\">\n",
              "      <th></th>\n",
              "      <th>building_id</th>\n",
              "      <th>meter</th>\n",
              "      <th>meter_reading</th>\n",
              "      <th>site_id</th>\n",
              "      <th>primary_use</th>\n",
              "      <th>square_feet</th>\n",
              "      <th>floor_count</th>\n",
              "      <th>air_temperature</th>\n",
              "      <th>cloud_coverage</th>\n",
              "      <th>dew_temperature</th>\n",
              "      <th>precip_depth_1_hr</th>\n",
              "      <th>hour</th>\n",
              "      <th>dayofweek</th>\n",
              "      <th>month</th>\n",
              "      <th>dayofyear</th>\n",
              "      <th>day</th>\n",
              "      <th>year</th>\n",
              "      <th>latitude</th>\n",
              "      <th>solarHour</th>\n",
              "      <th>solarDec</th>\n",
              "      <th>horizsolar</th>\n",
              "      <th>is_holiday</th>\n",
              "      <th>relative_humidity</th>\n",
              "      <th>sqaure_footage</th>\n",
              "    </tr>\n",
              "  </thead>\n",
              "  <tbody>\n",
              "    <tr>\n",
              "      <th>0</th>\n",
              "      <td>46</td>\n",
              "      <td>0</td>\n",
              "      <td>3.994141</td>\n",
              "      <td>0</td>\n",
              "      <td>11</td>\n",
              "      <td>9.109375</td>\n",
              "      <td>3.912109</td>\n",
              "      <td>25.000000</td>\n",
              "      <td>6.0</td>\n",
              "      <td>20.000000</td>\n",
              "      <td>-0.17395</td>\n",
              "      <td>0.0</td>\n",
              "      <td>4.0</td>\n",
              "      <td>1.0</td>\n",
              "      <td>1.0</td>\n",
              "      <td>1.0</td>\n",
              "      <td>2016.0</td>\n",
              "      <td>28.53125</td>\n",
              "      <td>-180.0</td>\n",
              "      <td>-23.03125</td>\n",
              "      <td>0.0</td>\n",
              "      <td>0</td>\n",
              "      <td>73.8125</td>\n",
              "      <td>35.62500</td>\n",
              "    </tr>\n",
              "    <tr>\n",
              "      <th>1</th>\n",
              "      <td>74</td>\n",
              "      <td>0</td>\n",
              "      <td>3.785156</td>\n",
              "      <td>0</td>\n",
              "      <td>8</td>\n",
              "      <td>12.867188</td>\n",
              "      <td>3.912109</td>\n",
              "      <td>25.000000</td>\n",
              "      <td>6.0</td>\n",
              "      <td>20.000000</td>\n",
              "      <td>-0.17395</td>\n",
              "      <td>0.0</td>\n",
              "      <td>4.0</td>\n",
              "      <td>1.0</td>\n",
              "      <td>1.0</td>\n",
              "      <td>1.0</td>\n",
              "      <td>2016.0</td>\n",
              "      <td>28.53125</td>\n",
              "      <td>-180.0</td>\n",
              "      <td>-23.03125</td>\n",
              "      <td>0.0</td>\n",
              "      <td>0</td>\n",
              "      <td>73.8125</td>\n",
              "      <td>50.34375</td>\n",
              "    </tr>\n",
              "    <tr>\n",
              "      <th>2</th>\n",
              "      <td>93</td>\n",
              "      <td>0</td>\n",
              "      <td>3.978516</td>\n",
              "      <td>0</td>\n",
              "      <td>6</td>\n",
              "      <td>10.414062</td>\n",
              "      <td>3.912109</td>\n",
              "      <td>25.000000</td>\n",
              "      <td>6.0</td>\n",
              "      <td>20.000000</td>\n",
              "      <td>-0.17395</td>\n",
              "      <td>0.0</td>\n",
              "      <td>4.0</td>\n",
              "      <td>1.0</td>\n",
              "      <td>1.0</td>\n",
              "      <td>1.0</td>\n",
              "      <td>2016.0</td>\n",
              "      <td>28.53125</td>\n",
              "      <td>-180.0</td>\n",
              "      <td>-23.03125</td>\n",
              "      <td>0.0</td>\n",
              "      <td>0</td>\n",
              "      <td>73.8125</td>\n",
              "      <td>40.75000</td>\n",
              "    </tr>\n",
              "    <tr>\n",
              "      <th>3</th>\n",
              "      <td>105</td>\n",
              "      <td>0</td>\n",
              "      <td>3.191406</td>\n",
              "      <td>1</td>\n",
              "      <td>0</td>\n",
              "      <td>10.835938</td>\n",
              "      <td>3.912109</td>\n",
              "      <td>3.800781</td>\n",
              "      <td>0.0</td>\n",
              "      <td>2.400391</td>\n",
              "      <td>0.00000</td>\n",
              "      <td>0.0</td>\n",
              "      <td>4.0</td>\n",
              "      <td>1.0</td>\n",
              "      <td>1.0</td>\n",
              "      <td>1.0</td>\n",
              "      <td>2016.0</td>\n",
              "      <td>50.90625</td>\n",
              "      <td>-180.0</td>\n",
              "      <td>-23.03125</td>\n",
              "      <td>0.0</td>\n",
              "      <td>0</td>\n",
              "      <td>90.5000</td>\n",
              "      <td>42.40625</td>\n",
              "    </tr>\n",
              "    <tr>\n",
              "      <th>4</th>\n",
              "      <td>106</td>\n",
              "      <td>0</td>\n",
              "      <td>0.318115</td>\n",
              "      <td>1</td>\n",
              "      <td>0</td>\n",
              "      <td>8.585938</td>\n",
              "      <td>3.912109</td>\n",
              "      <td>3.800781</td>\n",
              "      <td>0.0</td>\n",
              "      <td>2.400391</td>\n",
              "      <td>0.00000</td>\n",
              "      <td>0.0</td>\n",
              "      <td>4.0</td>\n",
              "      <td>1.0</td>\n",
              "      <td>1.0</td>\n",
              "      <td>1.0</td>\n",
              "      <td>2016.0</td>\n",
              "      <td>50.90625</td>\n",
              "      <td>-180.0</td>\n",
              "      <td>-23.03125</td>\n",
              "      <td>0.0</td>\n",
              "      <td>0</td>\n",
              "      <td>90.5000</td>\n",
              "      <td>33.59375</td>\n",
              "    </tr>\n",
              "  </tbody>\n",
              "</table>\n",
              "</div>"
            ],
            "text/plain": [
              "   building_id  meter  ...  relative_humidity  sqaure_footage\n",
              "0           46      0  ...            73.8125        35.62500\n",
              "1           74      0  ...            73.8125        50.34375\n",
              "2           93      0  ...            73.8125        40.75000\n",
              "3          105      0  ...            90.5000        42.40625\n",
              "4          106      0  ...            90.5000        33.59375\n",
              "\n",
              "[5 rows x 24 columns]"
            ]
          },
          "metadata": {
            "tags": []
          },
          "execution_count": 4
        }
      ]
    },
    {
      "cell_type": "code",
      "metadata": {
        "colab": {
          "base_uri": "https://localhost:8080/",
          "height": 224
        },
        "id": "uvel9HQMcd7f",
        "outputId": "3e8419f1-071a-422d-ec5e-76258966ddb5"
      },
      "source": [
        "test_df.head()"
      ],
      "execution_count": null,
      "outputs": [
        {
          "output_type": "execute_result",
          "data": {
            "text/html": [
              "<div>\n",
              "<style scoped>\n",
              "    .dataframe tbody tr th:only-of-type {\n",
              "        vertical-align: middle;\n",
              "    }\n",
              "\n",
              "    .dataframe tbody tr th {\n",
              "        vertical-align: top;\n",
              "    }\n",
              "\n",
              "    .dataframe thead th {\n",
              "        text-align: right;\n",
              "    }\n",
              "</style>\n",
              "<table border=\"1\" class=\"dataframe\">\n",
              "  <thead>\n",
              "    <tr style=\"text-align: right;\">\n",
              "      <th></th>\n",
              "      <th>row_id</th>\n",
              "      <th>building_id</th>\n",
              "      <th>meter</th>\n",
              "      <th>site_id</th>\n",
              "      <th>primary_use</th>\n",
              "      <th>square_feet</th>\n",
              "      <th>floor_count</th>\n",
              "      <th>air_temperature</th>\n",
              "      <th>cloud_coverage</th>\n",
              "      <th>dew_temperature</th>\n",
              "      <th>precip_depth_1_hr</th>\n",
              "      <th>hour</th>\n",
              "      <th>dayofweek</th>\n",
              "      <th>month</th>\n",
              "      <th>dayofyear</th>\n",
              "      <th>day</th>\n",
              "      <th>year</th>\n",
              "      <th>latitude</th>\n",
              "      <th>solarHour</th>\n",
              "      <th>solarDec</th>\n",
              "      <th>horizsolar</th>\n",
              "      <th>is_holiday</th>\n",
              "      <th>relative_humidity</th>\n",
              "      <th>sqaure_footage</th>\n",
              "    </tr>\n",
              "  </thead>\n",
              "  <tbody>\n",
              "    <tr>\n",
              "      <th>0</th>\n",
              "      <td>0</td>\n",
              "      <td>0</td>\n",
              "      <td>0</td>\n",
              "      <td>0</td>\n",
              "      <td>0</td>\n",
              "      <td>8.914062</td>\n",
              "      <td>3.849609</td>\n",
              "      <td>17.796875</td>\n",
              "      <td>4.000000</td>\n",
              "      <td>11.703125</td>\n",
              "      <td>0.282715</td>\n",
              "      <td>0.0</td>\n",
              "      <td>6.0</td>\n",
              "      <td>1.0</td>\n",
              "      <td>1.0</td>\n",
              "      <td>1.0</td>\n",
              "      <td>2017.0</td>\n",
              "      <td>28.53125</td>\n",
              "      <td>-180.0</td>\n",
              "      <td>-23.03125</td>\n",
              "      <td>0.0</td>\n",
              "      <td>0</td>\n",
              "      <td>67.50</td>\n",
              "      <td>34.31250</td>\n",
              "    </tr>\n",
              "    <tr>\n",
              "      <th>1</th>\n",
              "      <td>41614356</td>\n",
              "      <td>1393</td>\n",
              "      <td>0</td>\n",
              "      <td>15</td>\n",
              "      <td>1</td>\n",
              "      <td>11.929688</td>\n",
              "      <td>3.849609</td>\n",
              "      <td>-6.480469</td>\n",
              "      <td>2.132812</td>\n",
              "      <td>-11.085938</td>\n",
              "      <td>-1.000000</td>\n",
              "      <td>0.0</td>\n",
              "      <td>6.0</td>\n",
              "      <td>1.0</td>\n",
              "      <td>1.0</td>\n",
              "      <td>1.0</td>\n",
              "      <td>2017.0</td>\n",
              "      <td>40.71875</td>\n",
              "      <td>-180.0</td>\n",
              "      <td>-23.03125</td>\n",
              "      <td>0.0</td>\n",
              "      <td>0</td>\n",
              "      <td>69.75</td>\n",
              "      <td>45.93750</td>\n",
              "    </tr>\n",
              "    <tr>\n",
              "      <th>2</th>\n",
              "      <td>41614355</td>\n",
              "      <td>1392</td>\n",
              "      <td>2</td>\n",
              "      <td>15</td>\n",
              "      <td>1</td>\n",
              "      <td>11.242188</td>\n",
              "      <td>3.849609</td>\n",
              "      <td>-6.480469</td>\n",
              "      <td>2.132812</td>\n",
              "      <td>-11.085938</td>\n",
              "      <td>-1.000000</td>\n",
              "      <td>0.0</td>\n",
              "      <td>6.0</td>\n",
              "      <td>1.0</td>\n",
              "      <td>1.0</td>\n",
              "      <td>1.0</td>\n",
              "      <td>2017.0</td>\n",
              "      <td>40.71875</td>\n",
              "      <td>-180.0</td>\n",
              "      <td>-23.03125</td>\n",
              "      <td>0.0</td>\n",
              "      <td>0</td>\n",
              "      <td>69.75</td>\n",
              "      <td>43.28125</td>\n",
              "    </tr>\n",
              "    <tr>\n",
              "      <th>3</th>\n",
              "      <td>41614354</td>\n",
              "      <td>1392</td>\n",
              "      <td>0</td>\n",
              "      <td>15</td>\n",
              "      <td>1</td>\n",
              "      <td>11.242188</td>\n",
              "      <td>3.849609</td>\n",
              "      <td>-6.480469</td>\n",
              "      <td>2.132812</td>\n",
              "      <td>-11.085938</td>\n",
              "      <td>-1.000000</td>\n",
              "      <td>0.0</td>\n",
              "      <td>6.0</td>\n",
              "      <td>1.0</td>\n",
              "      <td>1.0</td>\n",
              "      <td>1.0</td>\n",
              "      <td>2017.0</td>\n",
              "      <td>40.71875</td>\n",
              "      <td>-180.0</td>\n",
              "      <td>-23.03125</td>\n",
              "      <td>0.0</td>\n",
              "      <td>0</td>\n",
              "      <td>69.75</td>\n",
              "      <td>43.28125</td>\n",
              "    </tr>\n",
              "    <tr>\n",
              "      <th>4</th>\n",
              "      <td>41614353</td>\n",
              "      <td>1391</td>\n",
              "      <td>2</td>\n",
              "      <td>15</td>\n",
              "      <td>1</td>\n",
              "      <td>11.140625</td>\n",
              "      <td>3.849609</td>\n",
              "      <td>-6.480469</td>\n",
              "      <td>2.132812</td>\n",
              "      <td>-11.085938</td>\n",
              "      <td>-1.000000</td>\n",
              "      <td>0.0</td>\n",
              "      <td>6.0</td>\n",
              "      <td>1.0</td>\n",
              "      <td>1.0</td>\n",
              "      <td>1.0</td>\n",
              "      <td>2017.0</td>\n",
              "      <td>40.71875</td>\n",
              "      <td>-180.0</td>\n",
              "      <td>-23.03125</td>\n",
              "      <td>0.0</td>\n",
              "      <td>0</td>\n",
              "      <td>69.75</td>\n",
              "      <td>42.87500</td>\n",
              "    </tr>\n",
              "  </tbody>\n",
              "</table>\n",
              "</div>"
            ],
            "text/plain": [
              "     row_id  building_id  meter  ...  is_holiday  relative_humidity  sqaure_footage\n",
              "0         0            0      0  ...           0              67.50        34.31250\n",
              "1  41614356         1393      0  ...           0              69.75        45.93750\n",
              "2  41614355         1392      2  ...           0              69.75        43.28125\n",
              "3  41614354         1392      0  ...           0              69.75        43.28125\n",
              "4  41614353         1391      2  ...           0              69.75        42.87500\n",
              "\n",
              "[5 rows x 24 columns]"
            ]
          },
          "metadata": {
            "tags": []
          },
          "execution_count": 5
        }
      ]
    },
    {
      "cell_type": "code",
      "metadata": {
        "colab": {
          "base_uri": "https://localhost:8080/"
        },
        "id": "yeZPaQgmcd7g",
        "outputId": "299e93cc-e2b4-4178-8f2c-676ccd244ec7"
      },
      "source": [
        "train_df.columns"
      ],
      "execution_count": null,
      "outputs": [
        {
          "output_type": "execute_result",
          "data": {
            "text/plain": [
              "Index(['building_id', 'meter', 'meter_reading', 'site_id', 'primary_use',\n",
              "       'square_feet', 'floor_count', 'air_temperature', 'cloud_coverage',\n",
              "       'dew_temperature', 'precip_depth_1_hr', 'hour', 'dayofweek', 'month',\n",
              "       'dayofyear', 'day', 'year', 'latitude', 'solarHour', 'solarDec',\n",
              "       'horizsolar', 'is_holiday', 'relative_humidity', 'sqaure_footage'],\n",
              "      dtype='object')"
            ]
          },
          "metadata": {
            "tags": []
          },
          "execution_count": 6
        }
      ]
    },
    {
      "cell_type": "markdown",
      "metadata": {
        "id": "SM3yUGo_Cfg7"
      },
      "source": [
        "KFOLD LightGBM"
      ]
    },
    {
      "cell_type": "code",
      "metadata": {
        "id": "QwlFxgYUcd7g"
      },
      "source": [
        "#https://www.kaggle.com/aitude/ashrae-kfold-lightgbm-without-leak-1-08\n",
        "categorical_features = [\"building_id\",\n",
        "     \"site_id\",\n",
        "     \"meter\",\n",
        "     \"primary_use\",\n",
        "     \"hour\",\n",
        "     'dayofyear',\n",
        "     'day',\n",
        "     'hour',\n",
        "     'month',\n",
        "     'is_holiday',\n",
        "     'dayofweek']"
      ],
      "execution_count": null,
      "outputs": []
    },
    {
      "cell_type": "code",
      "metadata": {
        "colab": {
          "base_uri": "https://localhost:8080/"
        },
        "id": "A0SR-Sf0cd7g",
        "outputId": "91e9e08a-8bfe-4970-df5f-444e12f09ed2"
      },
      "source": [
        "\n",
        "params = {\n",
        "    \"objective\": \"regression\",\n",
        "    \"boosting\": \"gbdt\",\n",
        "    \"num_leaves\": 16,\n",
        "    \"learning_rate\": 0.05,\n",
        "    \"feature_fraction\": 0.85,\n",
        "    \"reg_lambda\": 2,\n",
        "    \"metric\": \"rmse\",\n",
        "    'min_data_in_leaf' : 6000,\n",
        "}\n",
        "\n",
        "y = train_df.meter_reading\n",
        "X = train_df.drop(\"meter_reading\", axis=1)\n",
        "\n",
        "kf = KFold(n_splits=3)\n",
        "models = []\n",
        "for train_index,test_index in kf.split(X):\n",
        "    train_features = X.loc[train_index]\n",
        "    train_target = y.loc[train_index]\n",
        "    \n",
        "    test_features = X.loc[test_index]\n",
        "    test_target = y.loc[test_index]\n",
        "    \n",
        "    d_training = lgb.Dataset(train_features, label=train_target,categorical_feature=categorical_features, free_raw_data=False)\n",
        "    d_test = lgb.Dataset(test_features, label=test_target,categorical_feature=categorical_features, free_raw_data=False)\n",
        "    \n",
        "    model = lgb.train(params, train_set=d_training, num_boost_round=1000, valid_sets=[d_training,d_test], verbose_eval=25, early_stopping_rounds=50)\n",
        "    models.append(model)\n",
        "    del train_features, train_target, test_features, test_target, d_training, d_test\n",
        "    gc.collect()"
      ],
      "execution_count": null,
      "outputs": [
        {
          "output_type": "stream",
          "text": [
            "/usr/local/lib/python3.7/dist-packages/lightgbm/basic.py:1205: UserWarning: Using categorical_feature in Dataset.\n",
            "  warnings.warn('Using categorical_feature in Dataset.')\n",
            "/usr/local/lib/python3.7/dist-packages/lightgbm/basic.py:762: UserWarning: categorical_feature in param dict is overridden.\n",
            "  warnings.warn('categorical_feature in param dict is overridden.')\n"
          ],
          "name": "stderr"
        },
        {
          "output_type": "stream",
          "text": [
            "Training until validation scores don't improve for 50 rounds.\n",
            "[25]\ttraining's rmse: 1.13823\tvalid_1's rmse: 1.17834\n",
            "[50]\ttraining's rmse: 0.929178\tvalid_1's rmse: 0.997681\n",
            "[75]\ttraining's rmse: 0.811032\tvalid_1's rmse: 0.887296\n",
            "[100]\ttraining's rmse: 0.736821\tvalid_1's rmse: 0.822694\n",
            "[125]\ttraining's rmse: 0.694075\tvalid_1's rmse: 0.78227\n",
            "[150]\ttraining's rmse: 0.660069\tvalid_1's rmse: 0.755445\n",
            "[175]\ttraining's rmse: 0.638188\tvalid_1's rmse: 0.735989\n",
            "[200]\ttraining's rmse: 0.620155\tvalid_1's rmse: 0.719604\n",
            "[225]\ttraining's rmse: 0.608258\tvalid_1's rmse: 0.708741\n",
            "[250]\ttraining's rmse: 0.596526\tvalid_1's rmse: 0.703345\n",
            "[275]\ttraining's rmse: 0.587979\tvalid_1's rmse: 0.692646\n",
            "[300]\ttraining's rmse: 0.580163\tvalid_1's rmse: 0.692384\n",
            "[325]\ttraining's rmse: 0.57131\tvalid_1's rmse: 0.687138\n",
            "[350]\ttraining's rmse: 0.566088\tvalid_1's rmse: 0.684258\n",
            "[375]\ttraining's rmse: 0.559003\tvalid_1's rmse: 0.680253\n",
            "[400]\ttraining's rmse: 0.553402\tvalid_1's rmse: 0.676177\n",
            "[425]\ttraining's rmse: 0.548913\tvalid_1's rmse: 0.674157\n",
            "[450]\ttraining's rmse: 0.546061\tvalid_1's rmse: 0.672512\n",
            "[475]\ttraining's rmse: 0.542557\tvalid_1's rmse: 0.670814\n",
            "[500]\ttraining's rmse: 0.538677\tvalid_1's rmse: 0.668928\n",
            "[525]\ttraining's rmse: 0.536046\tvalid_1's rmse: 0.667471\n",
            "[550]\ttraining's rmse: 0.533234\tvalid_1's rmse: 0.66683\n",
            "[575]\ttraining's rmse: 0.531311\tvalid_1's rmse: 0.665994\n",
            "[600]\ttraining's rmse: 0.5293\tvalid_1's rmse: 0.664825\n",
            "[625]\ttraining's rmse: 0.5275\tvalid_1's rmse: 0.664227\n",
            "[650]\ttraining's rmse: 0.52587\tvalid_1's rmse: 0.663152\n",
            "[675]\ttraining's rmse: 0.522455\tvalid_1's rmse: 0.66235\n",
            "[700]\ttraining's rmse: 0.520309\tvalid_1's rmse: 0.661735\n",
            "[725]\ttraining's rmse: 0.518056\tvalid_1's rmse: 0.65967\n",
            "[750]\ttraining's rmse: 0.513382\tvalid_1's rmse: 0.657165\n",
            "[775]\ttraining's rmse: 0.511253\tvalid_1's rmse: 0.655059\n",
            "[800]\ttraining's rmse: 0.509857\tvalid_1's rmse: 0.654216\n",
            "[825]\ttraining's rmse: 0.508107\tvalid_1's rmse: 0.653051\n",
            "[850]\ttraining's rmse: 0.506072\tvalid_1's rmse: 0.65202\n",
            "[875]\ttraining's rmse: 0.504847\tvalid_1's rmse: 0.651513\n",
            "[900]\ttraining's rmse: 0.503694\tvalid_1's rmse: 0.651532\n",
            "[925]\ttraining's rmse: 0.502536\tvalid_1's rmse: 0.651363\n",
            "[950]\ttraining's rmse: 0.50123\tvalid_1's rmse: 0.651076\n",
            "[975]\ttraining's rmse: 0.500092\tvalid_1's rmse: 0.651024\n",
            "[1000]\ttraining's rmse: 0.499135\tvalid_1's rmse: 0.650624\n",
            "Did not meet early stopping. Best iteration is:\n",
            "[1000]\ttraining's rmse: 0.499135\tvalid_1's rmse: 0.650624\n",
            "Training until validation scores don't improve for 50 rounds.\n",
            "[25]\ttraining's rmse: 1.10562\tvalid_1's rmse: 1.17359\n",
            "[50]\ttraining's rmse: 0.883263\tvalid_1's rmse: 0.99782\n",
            "[75]\ttraining's rmse: 0.788066\tvalid_1's rmse: 0.920686\n",
            "[100]\ttraining's rmse: 0.729891\tvalid_1's rmse: 0.866885\n",
            "[125]\ttraining's rmse: 0.690819\tvalid_1's rmse: 0.824407\n",
            "[150]\ttraining's rmse: 0.662032\tvalid_1's rmse: 0.791901\n",
            "[175]\ttraining's rmse: 0.645756\tvalid_1's rmse: 0.769827\n",
            "[200]\ttraining's rmse: 0.631337\tvalid_1's rmse: 0.753196\n",
            "[225]\ttraining's rmse: 0.617083\tvalid_1's rmse: 0.733875\n",
            "[250]\ttraining's rmse: 0.605724\tvalid_1's rmse: 0.723535\n",
            "[275]\ttraining's rmse: 0.59874\tvalid_1's rmse: 0.716694\n",
            "[300]\ttraining's rmse: 0.591049\tvalid_1's rmse: 0.708211\n",
            "[325]\ttraining's rmse: 0.584623\tvalid_1's rmse: 0.70264\n",
            "[350]\ttraining's rmse: 0.578438\tvalid_1's rmse: 0.696144\n",
            "[375]\ttraining's rmse: 0.573038\tvalid_1's rmse: 0.692019\n",
            "[400]\ttraining's rmse: 0.566205\tvalid_1's rmse: 0.686112\n",
            "[425]\ttraining's rmse: 0.562289\tvalid_1's rmse: 0.682309\n",
            "[450]\ttraining's rmse: 0.557995\tvalid_1's rmse: 0.678543\n",
            "[475]\ttraining's rmse: 0.553401\tvalid_1's rmse: 0.675239\n",
            "[500]\ttraining's rmse: 0.549889\tvalid_1's rmse: 0.672795\n",
            "[525]\ttraining's rmse: 0.546703\tvalid_1's rmse: 0.670377\n",
            "[550]\ttraining's rmse: 0.54415\tvalid_1's rmse: 0.66812\n",
            "[575]\ttraining's rmse: 0.541327\tvalid_1's rmse: 0.666738\n",
            "[600]\ttraining's rmse: 0.538337\tvalid_1's rmse: 0.663764\n",
            "[625]\ttraining's rmse: 0.53673\tvalid_1's rmse: 0.66299\n",
            "[650]\ttraining's rmse: 0.535108\tvalid_1's rmse: 0.661696\n",
            "[675]\ttraining's rmse: 0.533133\tvalid_1's rmse: 0.660643\n",
            "[700]\ttraining's rmse: 0.531648\tvalid_1's rmse: 0.660049\n",
            "[725]\ttraining's rmse: 0.530365\tvalid_1's rmse: 0.659215\n",
            "[750]\ttraining's rmse: 0.528729\tvalid_1's rmse: 0.658269\n",
            "[775]\ttraining's rmse: 0.52693\tvalid_1's rmse: 0.656354\n",
            "[800]\ttraining's rmse: 0.523173\tvalid_1's rmse: 0.65165\n",
            "[825]\ttraining's rmse: 0.517271\tvalid_1's rmse: 0.645333\n",
            "[850]\ttraining's rmse: 0.515619\tvalid_1's rmse: 0.644615\n",
            "[875]\ttraining's rmse: 0.513652\tvalid_1's rmse: 0.642901\n",
            "[900]\ttraining's rmse: 0.511418\tvalid_1's rmse: 0.641735\n",
            "[925]\ttraining's rmse: 0.510025\tvalid_1's rmse: 0.640637\n",
            "[950]\ttraining's rmse: 0.50881\tvalid_1's rmse: 0.640023\n",
            "[975]\ttraining's rmse: 0.50771\tvalid_1's rmse: 0.638966\n",
            "[1000]\ttraining's rmse: 0.506948\tvalid_1's rmse: 0.638562\n",
            "Did not meet early stopping. Best iteration is:\n",
            "[1000]\ttraining's rmse: 0.506948\tvalid_1's rmse: 0.638562\n",
            "Training until validation scores don't improve for 50 rounds.\n",
            "[25]\ttraining's rmse: 1.12931\tvalid_1's rmse: 1.15282\n",
            "[50]\ttraining's rmse: 0.903599\tvalid_1's rmse: 0.951493\n",
            "[75]\ttraining's rmse: 0.791762\tvalid_1's rmse: 0.855727\n",
            "[100]\ttraining's rmse: 0.725166\tvalid_1's rmse: 0.799683\n",
            "[125]\ttraining's rmse: 0.682606\tvalid_1's rmse: 0.762679\n",
            "[150]\ttraining's rmse: 0.651981\tvalid_1's rmse: 0.737944\n",
            "[175]\ttraining's rmse: 0.631715\tvalid_1's rmse: 0.723681\n",
            "[200]\ttraining's rmse: 0.611645\tvalid_1's rmse: 0.708153\n",
            "[225]\ttraining's rmse: 0.601085\tvalid_1's rmse: 0.70079\n",
            "[250]\ttraining's rmse: 0.587462\tvalid_1's rmse: 0.69155\n",
            "[275]\ttraining's rmse: 0.580189\tvalid_1's rmse: 0.687826\n",
            "[300]\ttraining's rmse: 0.571959\tvalid_1's rmse: 0.682577\n",
            "[325]\ttraining's rmse: 0.563787\tvalid_1's rmse: 0.676948\n",
            "[350]\ttraining's rmse: 0.558787\tvalid_1's rmse: 0.674453\n",
            "[375]\ttraining's rmse: 0.551737\tvalid_1's rmse: 0.671028\n",
            "[400]\ttraining's rmse: 0.548451\tvalid_1's rmse: 0.669534\n",
            "[425]\ttraining's rmse: 0.544699\tvalid_1's rmse: 0.668136\n",
            "[450]\ttraining's rmse: 0.542318\tvalid_1's rmse: 0.666845\n",
            "[475]\ttraining's rmse: 0.537463\tvalid_1's rmse: 0.665611\n",
            "[500]\ttraining's rmse: 0.534096\tvalid_1's rmse: 0.663171\n",
            "[525]\ttraining's rmse: 0.530214\tvalid_1's rmse: 0.66135\n",
            "[550]\ttraining's rmse: 0.528609\tvalid_1's rmse: 0.661179\n",
            "[575]\ttraining's rmse: 0.526332\tvalid_1's rmse: 0.659918\n",
            "[600]\ttraining's rmse: 0.524401\tvalid_1's rmse: 0.659093\n",
            "[625]\ttraining's rmse: 0.52264\tvalid_1's rmse: 0.658508\n",
            "[650]\ttraining's rmse: 0.520701\tvalid_1's rmse: 0.657779\n",
            "[675]\ttraining's rmse: 0.517972\tvalid_1's rmse: 0.656404\n",
            "[700]\ttraining's rmse: 0.516537\tvalid_1's rmse: 0.656122\n",
            "[725]\ttraining's rmse: 0.51498\tvalid_1's rmse: 0.655375\n",
            "[750]\ttraining's rmse: 0.512481\tvalid_1's rmse: 0.653695\n",
            "[775]\ttraining's rmse: 0.509263\tvalid_1's rmse: 0.651868\n",
            "[800]\ttraining's rmse: 0.507283\tvalid_1's rmse: 0.650834\n",
            "[825]\ttraining's rmse: 0.506183\tvalid_1's rmse: 0.650514\n",
            "[850]\ttraining's rmse: 0.505076\tvalid_1's rmse: 0.65035\n",
            "[875]\ttraining's rmse: 0.503684\tvalid_1's rmse: 0.6493\n",
            "[900]\ttraining's rmse: 0.5026\tvalid_1's rmse: 0.64887\n",
            "[925]\ttraining's rmse: 0.50147\tvalid_1's rmse: 0.648207\n",
            "[950]\ttraining's rmse: 0.500012\tvalid_1's rmse: 0.647498\n",
            "[975]\ttraining's rmse: 0.499123\tvalid_1's rmse: 0.647202\n",
            "[1000]\ttraining's rmse: 0.496827\tvalid_1's rmse: 0.646105\n",
            "Did not meet early stopping. Best iteration is:\n",
            "[1000]\ttraining's rmse: 0.496827\tvalid_1's rmse: 0.646105\n"
          ],
          "name": "stdout"
        }
      ]
    },
    {
      "cell_type": "code",
      "metadata": {
        "colab": {
          "base_uri": "https://localhost:8080/"
        },
        "id": "6gwI4cw4cd7g",
        "outputId": "1b7a69f1-deb3-42e6-b836-a51efd10720f"
      },
      "source": [
        "fimp_df = pd.DataFrame()\n",
        "fimp_df[\"feature\"] = X.columns.values\n",
        "fimp_df[\"importance\"] = models[0].feature_importance()\n",
        "fimp_df[\"half\"] = 1\n",
        "fimp_df.sort_values(by='importance', ascending=False)\n",
        "fimp_df.sort_values(by='importance', ascending=False).feature[:-10].values"
      ],
      "execution_count": null,
      "outputs": [
        {
          "output_type": "execute_result",
          "data": {
            "text/plain": [
              "array(['building_id', 'meter', 'dayofyear', 'hour', 'square_feet',\n",
              "       'month', 'site_id', 'air_temperature', 'primary_use',\n",
              "       'dew_temperature', 'latitude', 'sqaure_footage', 'solarHour'],\n",
              "      dtype=object)"
            ]
          },
          "metadata": {
            "tags": []
          },
          "execution_count": 8
        }
      ]
    },
    {
      "cell_type": "code",
      "metadata": {
        "colab": {
          "base_uri": "https://localhost:8080/",
          "height": 851
        },
        "id": "rweE-ZrMcd7h",
        "outputId": "6034badc-77b2-42bd-d7e6-fdde8b1cc2de"
      },
      "source": [
        "for model in models:\n",
        "    lgb.plot_importance(model)\n",
        "    plt.show()"
      ],
      "execution_count": null,
      "outputs": [
        {
          "output_type": "display_data",
          "data": {
            "image/png": "[encoded data removed]",
            "text/plain": [
              "<Figure size 432x288 with 1 Axes>"
            ]
          },
          "metadata": {
            "tags": [],
            "needs_background": "light"
          }
        },
        {
          "output_type": "display_data",
          "data": {
            "image/png": "[encoded data removed]",
            "text/plain": [
              "<Figure size 432x288 with 1 Axes>"
            ]
          },
          "metadata": {
            "tags": [],
            "needs_background": "light"
          }
        },
        {
          "output_type": "display_data",
          "data": {
            "image/png": "[encoded data removed]",
            "text/plain": [
              "<Figure size 432x288 with 1 Axes>"
            ]
          },
          "metadata": {
            "tags": [],
            "needs_background": "light"
          }
        }
      ]
    },
    {
      "cell_type": "markdown",
      "metadata": {
        "id": "a61Ybcpj8rzc"
      },
      "source": [
        "both of my features squared_footage and relative_humidity features are come in the features importnaces that is really good and i also think is_holiday feature is important but it is not  and also seen from the above plots the raw features are the most important features "
      ]
    },
    {
      "cell_type": "code",
      "metadata": {
        "id": "P6WeDjsicd7h"
      },
      "source": [
        ""
      ],
      "execution_count": null,
      "outputs": []
    },
    {
      "cell_type": "code",
      "metadata": {
        "id": "BT33zLWjcd7h"
      },
      "source": [
        "from tqdm import tqdm_notebook as tqdm\n",
        "\n",
        "def pred(X_test, models, batch_size=1000000):\n",
        "    iterations = (X_test.shape[0] + batch_size -1) // batch_size\n",
        "    print('iterations', iterations)\n",
        "\n",
        "    y_test_pred_total = np.zeros(X_test.shape[0])\n",
        "    for i, model in enumerate(models):\n",
        "        print(f'predicting {i}-th model')\n",
        "        for k in tqdm(range(iterations)):\n",
        "            y_pred_test = model.predict(X_test[k*batch_size:(k+1)*batch_size], num_iteration=model.best_iteration)\n",
        "            y_test_pred_total[k*batch_size:(k+1)*batch_size] += y_pred_test\n",
        "\n",
        "    y_test_pred_total /= len(models)\n",
        "    return y_test_pred_total"
      ],
      "execution_count": null,
      "outputs": []
    },
    {
      "cell_type": "code",
      "metadata": {
        "colab": {
          "base_uri": "https://localhost:8080/",
          "height": 602,
          "referenced_widgets": [
            "90b6919217914ce7a6d07a44eaa1f822",
            "839d7cd1da6e4914ac8675fd3942fe36",
            "4c39d7e80fd542e08e33495a8c585751",
            "cd9f256e82e74acbbb507f0238cc87a8",
            "1c987a25ee7e4f94922406db552c0337",
            "3af0acbcb8d448de8e4863bbc9c4f97e",
            "82c6448e8b9c437390004e195318c17b",
            "5f5e98004c594a6d8b3faba6341b4a3f",
            "33f757933f094e278214b73e6d91298b",
            "c8dcdb2881f04028bf0d6321566645e9",
            "0bb5e55da5fe4a34bccf384ed80e4532",
            "27f9489cb5574fbfa530c35d437fd4fa",
            "436bfa01e5f945a1a378e8f02b3a0843",
            "2e1f5d344aa140f886442c98866069f7",
            "7ef4205384d641a1944485d011155d7d",
            "0e05bb893947481cbb3dacf85819edf7",
            "c7123253e9c34311976574f2c1624b6f",
            "5527995f19134537a5aa32f9dc3281dc",
            "59656b0312624047b3dbc6e3088956a4",
            "1f4d81704384472b90e4f5e1d73d9024",
            "8602e4e2aa14492ab77e5b96cc0feafe",
            "070c79154ab04ddd982d4b6c5700ff70",
            "5d52cd3203b54c568172af50c095be25",
            "b724d27936a747b49f62f543cfecf73d"
          ]
        },
        "id": "Y-ncAjzscd7h",
        "outputId": "9675a444-a005-409e-d451-c36858383099"
      },
      "source": [
        "gc.collect()\n",
        "\n",
        "y_test = pred(test_df, models)\n",
        "\n",
        "sns.distplot(y_test)\n",
        "\n",
        "gc.collect()"
      ],
      "execution_count": null,
      "outputs": [
        {
          "output_type": "stream",
          "text": [
            "iterations 42\n",
            "predicting 0-th model\n"
          ],
          "name": "stdout"
        },
        {
          "output_type": "stream",
          "text": [
            "/usr/local/lib/python3.7/dist-packages/ipykernel_launcher.py:10: TqdmDeprecationWarning: This function will be removed in tqdm==5.0.0\n",
            "Please use `tqdm.notebook.tqdm` instead of `tqdm.tqdm_notebook`\n",
            "  # Remove the CWD from sys.path while we load stuff.\n"
          ],
          "name": "stderr"
        },
        {
          "output_type": "display_data",
          "data": {
            "application/vnd.jupyter.widget-view+json": {
              "model_id": "90b6919217914ce7a6d07a44eaa1f822",
              "version_minor": 0,
              "version_major": 2
            },
            "text/plain": [
              "HBox(children=(FloatProgress(value=0.0, max=42.0), HTML(value='')))"
            ]
          },
          "metadata": {
            "tags": []
          }
        },
        {
          "output_type": "stream",
          "text": [
            "\n",
            "predicting 1-th model\n"
          ],
          "name": "stdout"
        },
        {
          "output_type": "display_data",
          "data": {
            "application/vnd.jupyter.widget-view+json": {
              "model_id": "33f757933f094e278214b73e6d91298b",
              "version_minor": 0,
              "version_major": 2
            },
            "text/plain": [
              "HBox(children=(FloatProgress(value=0.0, max=42.0), HTML(value='')))"
            ]
          },
          "metadata": {
            "tags": []
          }
        },
        {
          "output_type": "stream",
          "text": [
            "\n",
            "predicting 2-th model\n"
          ],
          "name": "stdout"
        },
        {
          "output_type": "display_data",
          "data": {
            "application/vnd.jupyter.widget-view+json": {
              "model_id": "c7123253e9c34311976574f2c1624b6f",
              "version_minor": 0,
              "version_major": 2
            },
            "text/plain": [
              "HBox(children=(FloatProgress(value=0.0, max=42.0), HTML(value='')))"
            ]
          },
          "metadata": {
            "tags": []
          }
        },
        {
          "output_type": "stream",
          "text": [
            "\n"
          ],
          "name": "stdout"
        },
        {
          "output_type": "stream",
          "text": [
            "/usr/local/lib/python3.7/dist-packages/seaborn/distributions.py:2557: FutureWarning: `distplot` is a deprecated function and will be removed in a future version. Please adapt your code to use either `displot` (a figure-level function with similar flexibility) or `histplot` (an axes-level function for histograms).\n",
            "  warnings.warn(msg, FutureWarning)\n"
          ],
          "name": "stderr"
        },
        {
          "output_type": "execute_result",
          "data": {
            "text/plain": [
              "100"
            ]
          },
          "metadata": {
            "tags": []
          },
          "execution_count": 11
        },
        {
          "output_type": "display_data",
          "data": {
            "image/png": "[encoded data removed]",
            "text/plain": [
              "<Figure size 432x288 with 1 Axes>"
            ]
          },
          "metadata": {
            "tags": [],
            "needs_background": "light"
          }
        }
      ]
    },
    {
      "cell_type": "code",
      "metadata": {
        "colab": {
          "base_uri": "https://localhost:8080/"
        },
        "id": "uAY0U47Xcd7i",
        "outputId": "ad40fc93-2310-4092-cee6-f989d2ef5170"
      },
      "source": [
        "y_test"
      ],
      "execution_count": null,
      "outputs": [
        {
          "output_type": "execute_result",
          "data": {
            "text/plain": [
              "array([4.43669771, 3.41433041, 2.95688871, ..., 3.08288128, 3.61483897,\n",
              "       3.04478546])"
            ]
          },
          "metadata": {
            "tags": []
          },
          "execution_count": 48
        }
      ]
    },
    {
      "cell_type": "code",
      "metadata": {
        "id": "Jw5pARjNcd7i"
      },
      "source": [
        "submission = pd.read_csv('/gdrive/My Drive/case_study_data/sample_submission.csv')"
      ],
      "execution_count": null,
      "outputs": []
    },
    {
      "cell_type": "code",
      "metadata": {
        "colab": {
          "base_uri": "https://localhost:8080/",
          "height": 204
        },
        "id": "xvzTlhMtcd7j",
        "outputId": "5437e711-a575-4674-b5bd-7cb7c082286a"
      },
      "source": [
        "submission.head()"
      ],
      "execution_count": null,
      "outputs": [
        {
          "output_type": "execute_result",
          "data": {
            "text/html": [
              "<div>\n",
              "<style scoped>\n",
              "    .dataframe tbody tr th:only-of-type {\n",
              "        vertical-align: middle;\n",
              "    }\n",
              "\n",
              "    .dataframe tbody tr th {\n",
              "        vertical-align: top;\n",
              "    }\n",
              "\n",
              "    .dataframe thead th {\n",
              "        text-align: right;\n",
              "    }\n",
              "</style>\n",
              "<table border=\"1\" class=\"dataframe\">\n",
              "  <thead>\n",
              "    <tr style=\"text-align: right;\">\n",
              "      <th></th>\n",
              "      <th>row_id</th>\n",
              "      <th>meter_reading</th>\n",
              "    </tr>\n",
              "  </thead>\n",
              "  <tbody>\n",
              "    <tr>\n",
              "      <th>0</th>\n",
              "      <td>0</td>\n",
              "      <td>0</td>\n",
              "    </tr>\n",
              "    <tr>\n",
              "      <th>1</th>\n",
              "      <td>1</td>\n",
              "      <td>0</td>\n",
              "    </tr>\n",
              "    <tr>\n",
              "      <th>2</th>\n",
              "      <td>2</td>\n",
              "      <td>0</td>\n",
              "    </tr>\n",
              "    <tr>\n",
              "      <th>3</th>\n",
              "      <td>3</td>\n",
              "      <td>0</td>\n",
              "    </tr>\n",
              "    <tr>\n",
              "      <th>4</th>\n",
              "      <td>4</td>\n",
              "      <td>0</td>\n",
              "    </tr>\n",
              "  </tbody>\n",
              "</table>\n",
              "</div>"
            ],
            "text/plain": [
              "   row_id  meter_reading\n",
              "0       0              0\n",
              "1       1              0\n",
              "2       2              0\n",
              "3       3              0\n",
              "4       4              0"
            ]
          },
          "metadata": {
            "tags": []
          },
          "execution_count": 13
        }
      ]
    },
    {
      "cell_type": "code",
      "metadata": {
        "colab": {
          "base_uri": "https://localhost:8080/"
        },
        "id": "aPVjd5lZcd7j",
        "outputId": "2aaa153a-2322-4c08-dc49-a2841c5499cb"
      },
      "source": [
        "submission.shape"
      ],
      "execution_count": null,
      "outputs": [
        {
          "output_type": "execute_result",
          "data": {
            "text/plain": [
              "(41697600, 2)"
            ]
          },
          "metadata": {
            "tags": []
          },
          "execution_count": 14
        }
      ]
    },
    {
      "cell_type": "code",
      "metadata": {
        "id": "0lXovHbsK_WE"
      },
      "source": [
        "submission[\"meter_reading\"] = np.expm1(y_test)"
      ],
      "execution_count": null,
      "outputs": []
    },
    {
      "cell_type": "code",
      "metadata": {
        "colab": {
          "base_uri": "https://localhost:8080/",
          "height": 204
        },
        "id": "6age79Wrcd7j",
        "outputId": "a099c92e-35e4-4392-dcad-5586f06ee088"
      },
      "source": [
        "submission.head()"
      ],
      "execution_count": null,
      "outputs": [
        {
          "output_type": "execute_result",
          "data": {
            "text/html": [
              "<div>\n",
              "<style scoped>\n",
              "    .dataframe tbody tr th:only-of-type {\n",
              "        vertical-align: middle;\n",
              "    }\n",
              "\n",
              "    .dataframe tbody tr th {\n",
              "        vertical-align: top;\n",
              "    }\n",
              "\n",
              "    .dataframe thead th {\n",
              "        text-align: right;\n",
              "    }\n",
              "</style>\n",
              "<table border=\"1\" class=\"dataframe\">\n",
              "  <thead>\n",
              "    <tr style=\"text-align: right;\">\n",
              "      <th></th>\n",
              "      <th>row_id</th>\n",
              "      <th>meter_reading</th>\n",
              "    </tr>\n",
              "  </thead>\n",
              "  <tbody>\n",
              "    <tr>\n",
              "      <th>0</th>\n",
              "      <td>0</td>\n",
              "      <td>82.988248</td>\n",
              "    </tr>\n",
              "    <tr>\n",
              "      <th>1</th>\n",
              "      <td>1</td>\n",
              "      <td>26.272448</td>\n",
              "    </tr>\n",
              "    <tr>\n",
              "      <th>2</th>\n",
              "      <td>2</td>\n",
              "      <td>13.977656</td>\n",
              "    </tr>\n",
              "    <tr>\n",
              "      <th>3</th>\n",
              "      <td>3</td>\n",
              "      <td>26.272448</td>\n",
              "    </tr>\n",
              "    <tr>\n",
              "      <th>4</th>\n",
              "      <td>4</td>\n",
              "      <td>13.977656</td>\n",
              "    </tr>\n",
              "  </tbody>\n",
              "</table>\n",
              "</div>"
            ],
            "text/plain": [
              "   row_id  meter_reading\n",
              "0       0      82.988248\n",
              "1       1      26.272448\n",
              "2       2      13.977656\n",
              "3       3      26.272448\n",
              "4       4      13.977656"
            ]
          },
          "metadata": {
            "tags": []
          },
          "execution_count": 16
        }
      ]
    },
    {
      "cell_type": "code",
      "metadata": {
        "id": "kYPk8pqi8fH0"
      },
      "source": [
        "submission.to_csv('/gdrive/My Drive/case_study_data/submission_lgbm_gbdt.csv', index=False)"
      ],
      "execution_count": null,
      "outputs": []
    },
    {
      "cell_type": "code",
      "metadata": {
        "id": "WvkDNFth8wns"
      },
      "source": [
        "sample_submission = pd.read_csv('/gdrive/My Drive/case_study_data/submission_lgbm_gbdt.csv')"
      ],
      "execution_count": null,
      "outputs": []
    },
    {
      "cell_type": "code",
      "metadata": {
        "colab": {
          "base_uri": "https://localhost:8080/"
        },
        "id": "gxWaqsyh85bv",
        "outputId": "d14445f3-f2f2-4c7d-93fa-251cd0da8858"
      },
      "source": [
        "sample_submission.shape"
      ],
      "execution_count": null,
      "outputs": [
        {
          "output_type": "execute_result",
          "data": {
            "text/plain": [
              "(41697600, 2)"
            ]
          },
          "metadata": {
            "tags": []
          },
          "execution_count": 19
        }
      ]
    },
    {
      "cell_type": "code",
      "metadata": {
        "colab": {
          "base_uri": "https://localhost:8080/",
          "height": 204
        },
        "id": "32EiMaJk9Pr-",
        "outputId": "25bda027-ae95-4383-8abe-2da5c192d90a"
      },
      "source": [
        "sample_submission.head()"
      ],
      "execution_count": null,
      "outputs": [
        {
          "output_type": "execute_result",
          "data": {
            "text/html": [
              "<div>\n",
              "<style scoped>\n",
              "    .dataframe tbody tr th:only-of-type {\n",
              "        vertical-align: middle;\n",
              "    }\n",
              "\n",
              "    .dataframe tbody tr th {\n",
              "        vertical-align: top;\n",
              "    }\n",
              "\n",
              "    .dataframe thead th {\n",
              "        text-align: right;\n",
              "    }\n",
              "</style>\n",
              "<table border=\"1\" class=\"dataframe\">\n",
              "  <thead>\n",
              "    <tr style=\"text-align: right;\">\n",
              "      <th></th>\n",
              "      <th>row_id</th>\n",
              "      <th>meter_reading</th>\n",
              "    </tr>\n",
              "  </thead>\n",
              "  <tbody>\n",
              "    <tr>\n",
              "      <th>0</th>\n",
              "      <td>0</td>\n",
              "      <td>82.988248</td>\n",
              "    </tr>\n",
              "    <tr>\n",
              "      <th>1</th>\n",
              "      <td>1</td>\n",
              "      <td>26.272448</td>\n",
              "    </tr>\n",
              "    <tr>\n",
              "      <th>2</th>\n",
              "      <td>2</td>\n",
              "      <td>13.977656</td>\n",
              "    </tr>\n",
              "    <tr>\n",
              "      <th>3</th>\n",
              "      <td>3</td>\n",
              "      <td>26.272448</td>\n",
              "    </tr>\n",
              "    <tr>\n",
              "      <th>4</th>\n",
              "      <td>4</td>\n",
              "      <td>13.977656</td>\n",
              "    </tr>\n",
              "  </tbody>\n",
              "</table>\n",
              "</div>"
            ],
            "text/plain": [
              "   row_id  meter_reading\n",
              "0       0      82.988248\n",
              "1       1      26.272448\n",
              "2       2      13.977656\n",
              "3       3      26.272448\n",
              "4       4      13.977656"
            ]
          },
          "metadata": {
            "tags": []
          },
          "execution_count": 20
        }
      ]
    },
    {
      "cell_type": "markdown",
      "metadata": {
        "id": "d6-gv9CZVkFU"
      },
      "source": [
        "### Summary\n",
        "Both of my features squared_footage and relative_humidity features are come in the features importnaces that is really good and i also think is_holiday feature is important but it is not  and also seen from the above plots the raw features are the most important features "
      ]
    },
    {
      "cell_type": "markdown",
      "metadata": {
        "id": "TD46DsRcVSAN"
      },
      "source": [
        "### Refrences\n",
        "1. https://www.kaggle.com/aitude/ashrae-kfold-lightgbm-without-leak-1-08\n",
        "2. why light gbm is the first choice https://papers.nips.cc/paper/2017/file/6449f44a102fde848669bdd9eb6b76fa-Paper.pdf"
      ]
    },
    {
      "cell_type": "code",
      "metadata": {
        "id": "S-KTNlZ2TXrM"
      },
      "source": [
        ""
      ],
      "execution_count": null,
      "outputs": []
    },
    {
      "cell_type": "code",
      "metadata": {
        "colab": {
          "base_uri": "https://localhost:8080/"
        },
        "id": "BzQ-TSjHXdeG",
        "outputId": "910dc97e-f62e-4e77-88ed-a23c6e3f36ea"
      },
      "source": [
        "from prettytable import PrettyTable\n",
        "summary = PrettyTable()\n",
        "\n",
        "\n",
        "summary.field_names = [\"Model\", \"RMSE\"]\n",
        "summary.add_row([\"LightGBM GBDT\",.646105])\n",
        "print(summary)"
      ],
      "execution_count": null,
      "outputs": [
        {
          "output_type": "stream",
          "text": [
            "+---------------+----------+\n",
            "|     Model     |   RMSE   |\n",
            "+---------------+----------+\n",
            "| LightGBM GBDT | 0.646105 |\n",
            "+---------------+----------+\n"
          ],
          "name": "stdout"
        }
      ]
    },
    {
      "cell_type": "code",
      "metadata": {
        "id": "4TtU03_ldElu",
        "colab": {
          "base_uri": "https://localhost:8080/",
          "height": 183
        },
        "outputId": "652589e5-96c0-4e2d-9c97-79fe4f5b39b5"
      },
      "source": [
        "from IPython.display import Image\n",
        "Image(filename='LGBM1.PNG')"
      ],
      "execution_count": null,
      "outputs": [
        {
          "output_type": "execute_result",
          "data": {
            "image/png": "[encoded data removed]",
            "text/plain": [
              "<IPython.core.display.Image object>"
            ]
          },
          "metadata": {
            "tags": []
          },
          "execution_count": 2
        }
      ]
    },
    {
      "cell_type": "code",
      "metadata": {
        "id": "HaVafDDPYqJX"
      },
      "source": [
        ""
      ],
      "execution_count": null,
      "outputs": []
    }
  ]
}